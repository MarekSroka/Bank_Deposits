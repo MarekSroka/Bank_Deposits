{
  "cells": [
    {
      "cell_type": "markdown",
      "metadata": {
        "id": "view-in-github",
        "colab_type": "text"
      },
      "source": [
        "<a href=\"https://colab.research.google.com/github/MarekSroka/Bank_Deposits/blob/main/working_copy_orig__Bank_deposit.ipynb\" target=\"_parent\"><img src=\"https://colab.research.google.com/assets/colab-badge.svg\" alt=\"Open In Colab\"/></a>"
      ]
    },
    {
      "cell_type": "markdown",
      "metadata": {
        "id": "fRN2Rqxxx8OE"
      },
      "source": [
        "# **TREŚĆ ZADANIA**\n",
        "\n",
        "W pliku Bank Marketing data.csv znajdują się dane charakteryzujące klientów pewnego banku oraz kampanie marketingowe skierowane do tych klientów. Dołączone są ponadto wskaźniki społeczne i ekonomiczne. Na podstawie tych danych należy zbudować model prognozujący szansę, że klient w wyniku prowadzonej kampanii założy lokatę terminową. Szczegółowy opis danych znajduje się w pliku Description.txt (opis jest w języku angielskim). Proszę się z nim zapoznać, gdyż zawiera ważne z punktu widzenia modelowania informacje.\n",
        "Proszę o przesłanie raportu w którym opisana zostanie budowa modelu. Proszę zawrzeć w raporcie opis poszczególnych kroków prowadzących do powstania modelu.\n",
        "Format pliku: pdf, word\n",
        "Język raportu: polski lub angielski (nie ma to znaczenia dla oceny)"
      ]
    },
    {
      "cell_type": "markdown",
      "metadata": {
        "id": "7HbTcZ0jy_ww"
      },
      "source": [
        "Title: Bank Marketing data (with social/economic context)\n",
        "\n",
        "3. Time range: from May 3008 to November 2010\n",
        "\n",
        "3. Attribute information:\n",
        "\n",
        "   Input variables:\n",
        "   # Bank client data:\n",
        "\n",
        "   1 - age (numeric)\n",
        "\n",
        "   2 - job : type of job (categorical: \"admin.\",\"blue-collar\",\"entrepreneur\",\"housemaid\",\"management\",\"retired\",\"self-employed\",\"services\",\"student\",\"technician\",\"unemployed\",\"unknown\")\n",
        "\n",
        "   3 - marital : marital status (categorical: \"divorced\",\"married\",\"single\",\"unknown\"; note: \"divorced\" means divorced or widowed)\n",
        "\n",
        "   4 - education (categorical: \"basic.4y\",\"basic.6y\",\"basic.9y\",\"high.school\",\"illiterate\",\"professional.course\",\"university.degree\",\"unknown\")\n",
        "\n",
        "   5 - default: has credit in default? (categorical: \"no\",\"yes\",\"unknown\")\n",
        "\n",
        "   6 - housing: has housing loan? (categorical: \"no\",\"yes\",\"unknown\")\n",
        "\n",
        "   7 - loan: has personal loan? (categorical: \"no\",\"yes\",\"unknown\")\n",
        "\n",
        "   # Related with the last contact of the current campaign:\n",
        "\n",
        "   8 - contact: contact communication type (categorical: \"cellular\",\"telephone\")\n",
        "\n",
        "   9 - month: last contact month of year (categorical: \"jan\", \"feb\", \"mar\", ..., \"nov\", \"dec\")\n",
        "\n",
        "  10 - day_of_week: last contact day of the week (categorical: \"mon\",\"tue\",\"wed\",\"thu\",\"fri\")\n",
        "\n",
        "  11 - duration: last contact duration, in seconds (numeric). Important note:  this attribute highly affects the output target (e.g., if duration=0 then y=\"no\"). Yet, the duration is not known before a call is performed. Also, after the end of the call y is obviously known. Thus, this input should only be included for benchmark purposes and should be discarded if the intention is to have a realistic predictive model.\n",
        "\n",
        "   # Other attributes:\n",
        "  12 - campaign: number of contacts performed during this campaign and for this client (numeric, includes last contact)\n",
        "\n",
        "  13 - pdays: number of days that passed by after the client was last contacted from a previous campaign (numeric; 999 means client was not previously contacted)\n",
        "\n",
        "  14 - previous: number of contacts performed before this campaign and for this client (numeric)\n",
        "\n",
        "  15 - poutcome: outcome of the previous marketing campaign (categorical: \"failure\",\"nonexistent\",\"success\")\n",
        "\n",
        "   # Social and economic context attributes\n",
        "\n",
        "  16 - emp.var.rate: employment variation rate - quarterly indicator (numeric)\n",
        "\n",
        "  17 - cons.price.idx: consumer price index - monthly indicator (numeric)\n",
        "     \n",
        "  18 - cons.conf.idx: consumer confidence index - monthly indicator (numeric)\n",
        "     \n",
        "  19 - euribor3m: euribor 3 month rate - daily indicator (numeric)\n",
        "\n",
        "  20 - nr.employed: number of employees - quarterly indicator (numeric)\n",
        "\n",
        "  Output variable (desired target):\n",
        "  21 - y - has the client subscribed a term deposit? (binary: \"yes\",\"no\")\n",
        "\n",
        "\n",
        "4. Missing Attribute Values: There are several missing values in some categorical attributes, all coded with the \"unknown\" label.\n",
        "\n",
        "\n",
        "5. The goal is to assess the probability that the client will subscribe a bank term deposit (variable y)."
      ]
    },
    {
      "cell_type": "markdown",
      "metadata": {
        "id": "ck08kgowRwVE"
      },
      "source": [
        "# Import and install libraries \\ notebook settings"
      ]
    },
    {
      "cell_type": "code",
      "execution_count": 259,
      "metadata": {
        "colab": {
          "base_uri": "https://localhost:8080/"
        },
        "id": "6JX2qbaYSCif",
        "outputId": "d8d09830-fd9f-4e98-c11c-0a1dc6e73ed5"
      },
      "outputs": [
        {
          "output_type": "stream",
          "name": "stdout",
          "text": [
            "Drive already mounted at /content/gdrive; to attempt to forcibly remount, call drive.mount(\"/content/gdrive\", force_remount=True).\n"
          ]
        }
      ],
      "source": [
        "from google.colab import drive\n",
        "drive.mount(\"/content/gdrive\")"
      ]
    },
    {
      "cell_type": "code",
      "execution_count": 260,
      "metadata": {
        "colab": {
          "base_uri": "https://localhost:8080/"
        },
        "id": "Hfrnb8U33EAN",
        "outputId": "6b5f31ac-27b7-40dd-cbf8-9305f327d949"
      },
      "outputs": [
        {
          "output_type": "stream",
          "name": "stdout",
          "text": [
            "Requirement already satisfied: sweetviz in /usr/local/lib/python3.10/dist-packages (2.2.1)\n",
            "Requirement already satisfied: pandas!=1.0.0,!=1.0.1,!=1.0.2,>=0.25.3 in /usr/local/lib/python3.10/dist-packages (from sweetviz) (1.5.3)\n",
            "Requirement already satisfied: numpy>=1.16.0 in /usr/local/lib/python3.10/dist-packages (from sweetviz) (1.23.5)\n",
            "Requirement already satisfied: matplotlib>=3.1.3 in /usr/local/lib/python3.10/dist-packages (from sweetviz) (3.7.1)\n",
            "Requirement already satisfied: tqdm>=4.43.0 in /usr/local/lib/python3.10/dist-packages (from sweetviz) (4.66.1)\n",
            "Requirement already satisfied: scipy>=1.3.2 in /usr/local/lib/python3.10/dist-packages (from sweetviz) (1.11.3)\n",
            "Requirement already satisfied: jinja2>=2.11.1 in /usr/local/lib/python3.10/dist-packages (from sweetviz) (3.1.2)\n",
            "Requirement already satisfied: importlib-resources>=1.2.0 in /usr/local/lib/python3.10/dist-packages (from sweetviz) (6.1.0)\n",
            "Requirement already satisfied: MarkupSafe>=2.0 in /usr/local/lib/python3.10/dist-packages (from jinja2>=2.11.1->sweetviz) (2.1.3)\n",
            "Requirement already satisfied: contourpy>=1.0.1 in /usr/local/lib/python3.10/dist-packages (from matplotlib>=3.1.3->sweetviz) (1.1.1)\n",
            "Requirement already satisfied: cycler>=0.10 in /usr/local/lib/python3.10/dist-packages (from matplotlib>=3.1.3->sweetviz) (0.12.1)\n",
            "Requirement already satisfied: fonttools>=4.22.0 in /usr/local/lib/python3.10/dist-packages (from matplotlib>=3.1.3->sweetviz) (4.43.1)\n",
            "Requirement already satisfied: kiwisolver>=1.0.1 in /usr/local/lib/python3.10/dist-packages (from matplotlib>=3.1.3->sweetviz) (1.4.5)\n",
            "Requirement already satisfied: packaging>=20.0 in /usr/local/lib/python3.10/dist-packages (from matplotlib>=3.1.3->sweetviz) (23.2)\n",
            "Requirement already satisfied: pillow>=6.2.0 in /usr/local/lib/python3.10/dist-packages (from matplotlib>=3.1.3->sweetviz) (9.4.0)\n",
            "Requirement already satisfied: pyparsing>=2.3.1 in /usr/local/lib/python3.10/dist-packages (from matplotlib>=3.1.3->sweetviz) (3.1.1)\n",
            "Requirement already satisfied: python-dateutil>=2.7 in /usr/local/lib/python3.10/dist-packages (from matplotlib>=3.1.3->sweetviz) (2.8.2)\n",
            "Requirement already satisfied: pytz>=2020.1 in /usr/local/lib/python3.10/dist-packages (from pandas!=1.0.0,!=1.0.1,!=1.0.2,>=0.25.3->sweetviz) (2023.3.post1)\n",
            "Requirement already satisfied: six>=1.5 in /usr/local/lib/python3.10/dist-packages (from python-dateutil>=2.7->matplotlib>=3.1.3->sweetviz) (1.16.0)\n",
            "Requirement already satisfied: dtale in /usr/local/lib/python3.10/dist-packages (3.7.0)\n",
            "Requirement already satisfied: dash-colorscales in /usr/local/lib/python3.10/dist-packages (from dtale) (0.0.4)\n",
            "Requirement already satisfied: dash-daq in /usr/local/lib/python3.10/dist-packages (from dtale) (0.5.0)\n",
            "Requirement already satisfied: Flask-Compress in /usr/local/lib/python3.10/dist-packages (from dtale) (1.14)\n",
            "Requirement already satisfied: future>=0.14.0 in /usr/local/lib/python3.10/dist-packages (from dtale) (0.18.3)\n",
            "Requirement already satisfied: kaleido in /usr/local/lib/python3.10/dist-packages (from dtale) (0.2.1)\n",
            "Requirement already satisfied: missingno in /usr/local/lib/python3.10/dist-packages (from dtale) (0.5.2)\n",
            "Requirement already satisfied: pandas in /usr/local/lib/python3.10/dist-packages (from dtale) (1.5.3)\n",
            "Requirement already satisfied: squarify in /usr/local/lib/python3.10/dist-packages (from dtale) (0.4.3)\n",
            "Requirement already satisfied: strsimpy in /usr/local/lib/python3.10/dist-packages (from dtale) (0.2.1)\n",
            "Requirement already satisfied: six in /usr/local/lib/python3.10/dist-packages (from dtale) (1.16.0)\n",
            "Requirement already satisfied: xlrd in /usr/local/lib/python3.10/dist-packages (from dtale) (2.0.1)\n",
            "Requirement already satisfied: beautifulsoup4 in /usr/local/lib/python3.10/dist-packages (from dtale) (4.11.2)\n",
            "Requirement already satisfied: certifi in /usr/local/lib/python3.10/dist-packages (from dtale) (2023.7.22)\n",
            "Requirement already satisfied: flask-ngrok in /usr/local/lib/python3.10/dist-packages (from dtale) (0.0.25)\n",
            "Requirement already satisfied: lz4 in /usr/local/lib/python3.10/dist-packages (from dtale) (4.3.2)\n",
            "Requirement already satisfied: cycler in /usr/local/lib/python3.10/dist-packages (from dtale) (0.12.1)\n",
            "Requirement already satisfied: dash-bootstrap-components<=1.3.1 in /usr/local/lib/python3.10/dist-packages (from dtale) (1.3.1)\n",
            "Requirement already satisfied: networkx in /usr/local/lib/python3.10/dist-packages (from dtale) (3.2)\n",
            "Requirement already satisfied: scikit-learn in /usr/local/lib/python3.10/dist-packages (from dtale) (1.2.2)\n",
            "Requirement already satisfied: seaborn in /usr/local/lib/python3.10/dist-packages (from dtale) (0.12.2)\n",
            "Requirement already satisfied: statsmodels in /usr/local/lib/python3.10/dist-packages (from dtale) (0.14.0)\n",
            "Requirement already satisfied: numpy in /usr/local/lib/python3.10/dist-packages (from dtale) (1.23.5)\n",
            "Requirement already satisfied: openpyxl!=3.2.0b1 in /usr/local/lib/python3.10/dist-packages (from dtale) (3.1.2)\n",
            "Requirement already satisfied: xarray in /usr/local/lib/python3.10/dist-packages (from dtale) (2023.7.0)\n",
            "Requirement already satisfied: dash in /usr/local/lib/python3.10/dist-packages (from dtale) (2.14.0)\n",
            "Requirement already satisfied: et-xmlfile in /usr/local/lib/python3.10/dist-packages (from dtale) (1.1.0)\n",
            "Requirement already satisfied: plotly in /usr/local/lib/python3.10/dist-packages (from dtale) (5.15.0)\n",
            "Requirement already satisfied: Flask<2.3 in /usr/local/lib/python3.10/dist-packages (from dtale) (2.2.5)\n",
            "Requirement already satisfied: itsdangerous in /usr/local/lib/python3.10/dist-packages (from dtale) (2.1.2)\n",
            "Requirement already satisfied: requests in /usr/local/lib/python3.10/dist-packages (from dtale) (2.31.0)\n",
            "Requirement already satisfied: werkzeug<2.3 in /usr/local/lib/python3.10/dist-packages (from dtale) (2.2.3)\n",
            "Requirement already satisfied: matplotlib in /usr/local/lib/python3.10/dist-packages (from dtale) (3.7.1)\n",
            "Requirement already satisfied: scipy in /usr/local/lib/python3.10/dist-packages (from dtale) (1.11.3)\n",
            "Requirement already satisfied: dash-html-components==2.0.0 in /usr/local/lib/python3.10/dist-packages (from dash->dtale) (2.0.0)\n",
            "Requirement already satisfied: dash-core-components==2.0.0 in /usr/local/lib/python3.10/dist-packages (from dash->dtale) (2.0.0)\n",
            "Requirement already satisfied: dash-table==5.0.0 in /usr/local/lib/python3.10/dist-packages (from dash->dtale) (5.0.0)\n",
            "Requirement already satisfied: typing-extensions>=4.1.1 in /usr/local/lib/python3.10/dist-packages (from dash->dtale) (4.5.0)\n",
            "Requirement already satisfied: retrying in /usr/local/lib/python3.10/dist-packages (from dash->dtale) (1.3.4)\n",
            "Requirement already satisfied: ansi2html in /usr/local/lib/python3.10/dist-packages (from dash->dtale) (1.8.0)\n",
            "Requirement already satisfied: nest-asyncio in /usr/local/lib/python3.10/dist-packages (from dash->dtale) (1.5.8)\n",
            "Requirement already satisfied: setuptools in /usr/local/lib/python3.10/dist-packages (from dash->dtale) (67.7.2)\n",
            "Requirement already satisfied: importlib-metadata in /usr/local/lib/python3.10/dist-packages (from dash->dtale) (6.8.0)\n",
            "Requirement already satisfied: Jinja2>=3.0 in /usr/local/lib/python3.10/dist-packages (from Flask<2.3->dtale) (3.1.2)\n",
            "Requirement already satisfied: click>=8.0 in /usr/local/lib/python3.10/dist-packages (from Flask<2.3->dtale) (8.1.7)\n",
            "Requirement already satisfied: tenacity>=6.2.0 in /usr/local/lib/python3.10/dist-packages (from plotly->dtale) (8.2.3)\n",
            "Requirement already satisfied: packaging in /usr/local/lib/python3.10/dist-packages (from plotly->dtale) (23.2)\n",
            "Requirement already satisfied: MarkupSafe>=2.1.1 in /usr/local/lib/python3.10/dist-packages (from werkzeug<2.3->dtale) (2.1.3)\n",
            "Requirement already satisfied: soupsieve>1.2 in /usr/local/lib/python3.10/dist-packages (from beautifulsoup4->dtale) (2.5)\n",
            "Requirement already satisfied: brotli in /usr/local/lib/python3.10/dist-packages (from Flask-Compress->dtale) (1.1.0)\n",
            "Requirement already satisfied: contourpy>=1.0.1 in /usr/local/lib/python3.10/dist-packages (from matplotlib->dtale) (1.1.1)\n",
            "Requirement already satisfied: fonttools>=4.22.0 in /usr/local/lib/python3.10/dist-packages (from matplotlib->dtale) (4.43.1)\n",
            "Requirement already satisfied: kiwisolver>=1.0.1 in /usr/local/lib/python3.10/dist-packages (from matplotlib->dtale) (1.4.5)\n",
            "Requirement already satisfied: pillow>=6.2.0 in /usr/local/lib/python3.10/dist-packages (from matplotlib->dtale) (9.4.0)\n",
            "Requirement already satisfied: pyparsing>=2.3.1 in /usr/local/lib/python3.10/dist-packages (from matplotlib->dtale) (3.1.1)\n",
            "Requirement already satisfied: python-dateutil>=2.7 in /usr/local/lib/python3.10/dist-packages (from matplotlib->dtale) (2.8.2)\n",
            "Requirement already satisfied: pytz>=2020.1 in /usr/local/lib/python3.10/dist-packages (from pandas->dtale) (2023.3.post1)\n",
            "Requirement already satisfied: charset-normalizer<4,>=2 in /usr/local/lib/python3.10/dist-packages (from requests->dtale) (3.3.0)\n",
            "Requirement already satisfied: idna<4,>=2.5 in /usr/local/lib/python3.10/dist-packages (from requests->dtale) (3.4)\n",
            "Requirement already satisfied: urllib3<3,>=1.21.1 in /usr/local/lib/python3.10/dist-packages (from requests->dtale) (2.0.7)\n",
            "Requirement already satisfied: joblib>=1.1.1 in /usr/local/lib/python3.10/dist-packages (from scikit-learn->dtale) (1.3.2)\n",
            "Requirement already satisfied: threadpoolctl>=2.0.0 in /usr/local/lib/python3.10/dist-packages (from scikit-learn->dtale) (3.2.0)\n",
            "Requirement already satisfied: patsy>=0.5.2 in /usr/local/lib/python3.10/dist-packages (from statsmodels->dtale) (0.5.3)\n",
            "Requirement already satisfied: zipp>=0.5 in /usr/local/lib/python3.10/dist-packages (from importlib-metadata->dash->dtale) (3.17.0)\n",
            "Requirement already satisfied: plotly in /usr/local/lib/python3.10/dist-packages (5.15.0)\n",
            "Requirement already satisfied: tenacity>=6.2.0 in /usr/local/lib/python3.10/dist-packages (from plotly) (8.2.3)\n",
            "Requirement already satisfied: packaging in /usr/local/lib/python3.10/dist-packages (from plotly) (23.2)\n",
            "Requirement already satisfied: ppscore in /usr/local/lib/python3.10/dist-packages (1.3.0)\n",
            "Requirement already satisfied: pandas<2.0.0,>=1.0.0 in /usr/local/lib/python3.10/dist-packages (from ppscore) (1.5.3)\n",
            "Requirement already satisfied: scikit-learn<2.0.0,>=0.20.2 in /usr/local/lib/python3.10/dist-packages (from ppscore) (1.2.2)\n",
            "Requirement already satisfied: python-dateutil>=2.8.1 in /usr/local/lib/python3.10/dist-packages (from pandas<2.0.0,>=1.0.0->ppscore) (2.8.2)\n",
            "Requirement already satisfied: pytz>=2020.1 in /usr/local/lib/python3.10/dist-packages (from pandas<2.0.0,>=1.0.0->ppscore) (2023.3.post1)\n",
            "Requirement already satisfied: numpy>=1.21.0 in /usr/local/lib/python3.10/dist-packages (from pandas<2.0.0,>=1.0.0->ppscore) (1.23.5)\n",
            "Requirement already satisfied: scipy>=1.3.2 in /usr/local/lib/python3.10/dist-packages (from scikit-learn<2.0.0,>=0.20.2->ppscore) (1.11.3)\n",
            "Requirement already satisfied: joblib>=1.1.1 in /usr/local/lib/python3.10/dist-packages (from scikit-learn<2.0.0,>=0.20.2->ppscore) (1.3.2)\n",
            "Requirement already satisfied: threadpoolctl>=2.0.0 in /usr/local/lib/python3.10/dist-packages (from scikit-learn<2.0.0,>=0.20.2->ppscore) (3.2.0)\n",
            "Requirement already satisfied: six>=1.5 in /usr/local/lib/python3.10/dist-packages (from python-dateutil>=2.8.1->pandas<2.0.0,>=1.0.0->ppscore) (1.16.0)\n",
            "Requirement already satisfied: eli5 in /usr/local/lib/python3.10/dist-packages (0.13.0)\n",
            "Requirement already satisfied: attrs>17.1.0 in /usr/local/lib/python3.10/dist-packages (from eli5) (23.1.0)\n",
            "Requirement already satisfied: jinja2>=3.0.0 in /usr/local/lib/python3.10/dist-packages (from eli5) (3.1.2)\n",
            "Requirement already satisfied: numpy>=1.9.0 in /usr/local/lib/python3.10/dist-packages (from eli5) (1.23.5)\n",
            "Requirement already satisfied: scipy in /usr/local/lib/python3.10/dist-packages (from eli5) (1.11.3)\n",
            "Requirement already satisfied: six in /usr/local/lib/python3.10/dist-packages (from eli5) (1.16.0)\n",
            "Requirement already satisfied: scikit-learn>=0.20 in /usr/local/lib/python3.10/dist-packages (from eli5) (1.2.2)\n",
            "Requirement already satisfied: graphviz in /usr/local/lib/python3.10/dist-packages (from eli5) (0.20.1)\n",
            "Requirement already satisfied: tabulate>=0.7.7 in /usr/local/lib/python3.10/dist-packages (from eli5) (0.9.0)\n",
            "Requirement already satisfied: MarkupSafe>=2.0 in /usr/local/lib/python3.10/dist-packages (from jinja2>=3.0.0->eli5) (2.1.3)\n",
            "Requirement already satisfied: joblib>=1.1.1 in /usr/local/lib/python3.10/dist-packages (from scikit-learn>=0.20->eli5) (1.3.2)\n",
            "Requirement already satisfied: threadpoolctl>=2.0.0 in /usr/local/lib/python3.10/dist-packages (from scikit-learn>=0.20->eli5) (3.2.0)\n"
          ]
        }
      ],
      "source": [
        "# pip install --upgrade pip\n",
        "!pip install sweetviz\n",
        "!pip install dtale\n",
        "!pip install plotly\n",
        "!pip install ppscore\n",
        "!pip install eli5"
      ]
    },
    {
      "cell_type": "code",
      "execution_count": 284,
      "metadata": {
        "id": "5v2FtYifyWZH"
      },
      "outputs": [],
      "source": [
        "import pandas as pd\n",
        "import numpy as np\n",
        "import seaborn as sns\n",
        "import matplotlib.pyplot as plt\n",
        "import scipy.stats as sts\n",
        "\n",
        "\n",
        "from google.colab import data_table\n",
        "from datetime import datetime\n",
        "import warnings\n",
        "warnings.filterwarnings(\"ignore\")\n",
        "\n",
        "from sklearn.preprocessing import OneHotEncoder\n",
        "from sklearn.compose import ColumnTransformer\n",
        "from sklearn.pipeline import Pipeline\n",
        "from sklearn import preprocessing\n",
        "from sklearn.model_selection import ParameterGrid\n",
        "\n",
        "from sklearn.model_selection import train_test_split\n",
        "from sklearn.tree import DecisionTreeClassifier\n",
        "from sklearn.preprocessing import LabelEncoder\n",
        "from sklearn.ensemble import RandomForestClassifier\n",
        "from sklearn.preprocessing import StandardScaler\n",
        "from sklearn.linear_model import LogisticRegression\n",
        "from imblearn.over_sampling import SMOTE\n",
        "from sklearn.experimental import enable_halving_search_cv\n",
        "from sklearn.model_selection import HalvingGridSearchCV\n",
        "from imblearn.pipeline import Pipeline as Pipeline_imb\n",
        "from sklearn import svm\n",
        "from imblearn.over_sampling import RandomOverSampler\n",
        "\n",
        "from sklearn.base import is_classifier\n",
        "from sklearn.metrics import roc_auc_score\n",
        "from sklearn.metrics import roc_curve, auc\n",
        "from sklearn.metrics import confusion_matrix\n",
        "from sklearn. metrics import classification_report\n",
        "from sklearn.metrics import accuracy_score, precision_score, recall_score, f1_score\n",
        "from xgboost import XGBClassifier\n",
        "import xgboost as xgb\n",
        "from scipy import stats\n",
        "\n",
        "import eli5\n",
        "from eli5.sklearn import PermutationImportance\n",
        "\n",
        "#installed libraries\n",
        "import sweetviz as sw\n",
        "import dtale\n",
        "import dtale.app as dtale_app\n",
        "import plotly.graph_objs as go\n",
        "# import plotly.graph_objects as go\n",
        "import ppscore as pps\n"
      ]
    },
    {
      "cell_type": "code",
      "execution_count": 285,
      "metadata": {
        "id": "bVKwiDDC1YHJ"
      },
      "outputs": [],
      "source": [
        "pd.set_option('display.max_columns', None)\n",
        "data_table.enable_dataframe_formatter()"
      ]
    },
    {
      "cell_type": "markdown",
      "metadata": {
        "id": "YU5Nyj3iSOCt"
      },
      "source": [
        "# Functions"
      ]
    },
    {
      "cell_type": "code",
      "execution_count": 286,
      "metadata": {
        "id": "6xXnoTWSYvBZ"
      },
      "outputs": [],
      "source": [
        "# funkcja sprawedzjąca feature importance - dla modeli, dla których jest dostęp do klasyfikatora\n",
        "\n",
        "def calculate_and_print_feature_importance(model, feature_names):\n",
        "    if isinstance(model, Pipeline_imb):\n",
        "        # Find the classifier step in the pipeline\n",
        "        classifier_step = None\n",
        "        for step_name, step in model.named_steps.items():\n",
        "            if is_classifier(step):\n",
        "                classifier_step = step\n",
        "                break\n",
        "\n",
        "        if classifier_step is not None:\n",
        "            # Extract the coefficients from the classifier\n",
        "            coefficients = classifier_step.coef_[0] if hasattr(classifier_step, 'coef_') else None\n",
        "\n",
        "            if coefficients is not None:\n",
        "                # Calculate the absolute values of the coefficients as feature importances\n",
        "                feature_importances = np.abs(coefficients)\n",
        "\n",
        "                # Combine feature names with their importances\n",
        "                feature_importance_dict = dict(zip(feature_names, feature_importances))\n",
        "\n",
        "                # Sort features by importance in descending order\n",
        "                sorted_feature_importance = sorted(feature_importance_dict.items(), key=lambda x: x[1], reverse=True)\n",
        "\n",
        "                # Print or analyze the feature importances\n",
        "                for feature, importance in sorted_feature_importance:\n",
        "                    print(f\"Feature: {feature}, Importance: {importance}\")\n",
        "            else:\n",
        "                print(\"Coefficient information not available for the classifier.\")\n",
        "        else:\n",
        "            print(\"Classifier not found in the pipeline.\")\n",
        "    elif hasattr(model, 'coef_'):\n",
        "        # Extract the coefficients from the LogisticRegression model\n",
        "        coefficients = model.coef_[0]\n",
        "\n",
        "        # Calculate the absolute values of the coefficients as feature importances\n",
        "        feature_importances = np.abs(coefficients)\n",
        "\n",
        "        # Combine feature names with their importances\n",
        "        feature_importance_dict = dict(zip(feature_names, feature_importances))\n",
        "\n",
        "        # Sort features by importance in descending order\n",
        "        sorted_feature_importance = sorted(feature_importance_dict.items(), key=lambda x: x[1], reverse=True)\n",
        "\n",
        "        # Print or analyze the feature importances\n",
        "        for feature, importance in sorted_feature_importance:\n",
        "            print(f\"Feature: {feature}, Importance: {importance}\")\n",
        "    else:\n",
        "        print(\"Coefficient information not available for the model.\")"
      ]
    },
    {
      "cell_type": "code",
      "execution_count": 287,
      "metadata": {
        "id": "r5-6436KZFzk"
      },
      "outputs": [],
      "source": [
        "# funkcja sprawedzjąca feature importance - dla modeli, dla nie ma dostępu do klasyfikatora\n",
        "\n",
        "def calculate_and_print_feature_importance_2(model, X, y):\n",
        "    # Utwórz obiekt PermutationImportance\n",
        "    perm = PermutationImportance(model, random_state=seed)\n",
        "    # Dopasuj model do danych\n",
        "    perm.fit(X, y)\n",
        "\n",
        "    # Wyświetl znaczenie cech\n",
        "    feature_importance = eli5.explain_weights(perm, feature_names=X.columns.tolist(), top=None, target_names=[\"Outcome\"])\n",
        "    print(eli5.format_as_text(feature_importance))"
      ]
    },
    {
      "cell_type": "code",
      "execution_count": 288,
      "metadata": {
        "id": "UXGvAi-FHLNq"
      },
      "outputs": [],
      "source": [
        "# support functions for Using Label Encoder in the Pipeline\n",
        "\n",
        "class LabelEncoderTransformer:\n",
        "    def fit(self, X, y=None):\n",
        "        return self\n",
        "\n",
        "    def transform(self, X):\n",
        "        X_copy = X.copy()\n",
        "        for column in X_copy.columns:\n",
        "            le = LabelEncoder()\n",
        "            X_copy[column] = le.fit_transform(X_copy[column])\n",
        "        return X_copy"
      ]
    },
    {
      "cell_type": "code",
      "execution_count": 289,
      "metadata": {
        "id": "bfmKENrvTMzX"
      },
      "outputs": [],
      "source": [
        "# bez plotowania AUC roc na 1 wykresie\n",
        "\n",
        "metrics_dataframe = pd.DataFrame(columns=['Model', 'F1_score', 'AUC'])\n",
        "\n",
        "models = []\n",
        "\n",
        "def calculation_metrics(model, model_name):\n",
        "    global metrics_dataframe\n",
        "\n",
        "    predictions = model.predict(X_test_data)\n",
        "    predictions_proba = model.predict_proba(X_test_data)\n",
        "\n",
        "    # Precision, Recall, F1\n",
        "    print(classification_report(y_test_data, predictions))\n",
        "\n",
        "    # ROC curve\n",
        "    plt.plot([0, 1], [0, 1], 'k--')\n",
        "    fpr, tpr, thresholds = roc_curve(y_test_data, predictions_proba[:, 1])\n",
        "    plt.plot(fpr, tpr, label=model_name)\n",
        "\n",
        "    plt.xlabel('False Positive Rate')\n",
        "    plt.ylabel('True Positive Rate')\n",
        "\n",
        "    plt.title('ROC Curve')\n",
        "    plt.legend()\n",
        "    plt.show()\n",
        "\n",
        "    print('======' * 20)\n",
        "\n",
        "    # Confusion matrix\n",
        "    plt.figure()\n",
        "    cm = confusion_matrix(y_test_data, predictions)\n",
        "    ax = sns.heatmap(cm, annot=True, cmap='Blues', fmt='.0f')\n",
        "    plt.xlabel('Predicted values')\n",
        "    plt.ylabel('Actual values')\n",
        "    plt.title(f'\\nConfusion matrix for {model_name}\\n')\n",
        "    plt.show()\n",
        "\n",
        "    # AUC and F1 score\n",
        "\n",
        "    f1score = f1_score(y_test_data, predictions)\n",
        "    auc = roc_auc_score(y_test_data, predictions_proba[:, 1])\n",
        "\n",
        "    metrics_dataframe = metrics_dataframe.append({'Model': model_name, 'F1_score': f1score, 'AUC': auc},\n",
        "                                                 ignore_index=True)\n",
        "\n",
        "    return metrics_dataframe\n",
        "\n",
        "\n",
        "\n",
        "# Now, metrics_dataframe contains the metrics for all the models.\n"
      ]
    },
    {
      "cell_type": "markdown",
      "metadata": {
        "id": "NP9C-n6mSFZ3"
      },
      "source": [
        "# Loading data"
      ]
    },
    {
      "cell_type": "code",
      "execution_count": 290,
      "metadata": {
        "id": "LFAbPHCXyWb4"
      },
      "outputs": [],
      "source": [
        "df = pd.read_csv('/content/gdrive/MyDrive/000.Projekt_KRD/Bank Marketing data.csv', delimiter=';', na_values=['unknown'])"
      ]
    },
    {
      "cell_type": "markdown",
      "metadata": {
        "id": "1K-39z2r4mRp"
      },
      "source": [
        "# EDA\n"
      ]
    },
    {
      "cell_type": "markdown",
      "metadata": {
        "id": "m2xuV1ZR4VEf"
      },
      "source": [
        "### Sweetviz library for EDA"
      ]
    },
    {
      "cell_type": "code",
      "execution_count": 291,
      "metadata": {
        "id": "joA-updswq7U"
      },
      "outputs": [],
      "source": [
        "# analyse_report = sw.analyze(df)"
      ]
    },
    {
      "cell_type": "code",
      "execution_count": 292,
      "metadata": {
        "id": "Kl0lK-gh4bdG"
      },
      "outputs": [],
      "source": [
        "# analyse_report.show_html('df_start.html', open_browser=True)"
      ]
    },
    {
      "cell_type": "code",
      "execution_count": 293,
      "metadata": {
        "id": "YLOp9qW5wu5F"
      },
      "outputs": [],
      "source": [
        "# current_datetime = str(datetime.now().strftime(\"%Y_%m_%d_%H%M\"))\n",
        "# raport = analyse_report.show_html('total_df_' + current_datetime +'.html', open_browser=True)"
      ]
    },
    {
      "cell_type": "markdown",
      "metadata": {
        "id": "h3UMAVCI5MZE"
      },
      "source": [
        "### dtale library for EDA"
      ]
    },
    {
      "cell_type": "code",
      "execution_count": 294,
      "metadata": {
        "id": "9ki_7a0R5Hve"
      },
      "outputs": [],
      "source": [
        "# dtale_app.USE_COLAB = True\n",
        "\n",
        "# dtale.show(df_oversampled)"
      ]
    },
    {
      "cell_type": "code",
      "execution_count": 295,
      "metadata": {
        "id": "kXtMK4rikgFZ"
      },
      "outputs": [],
      "source": [
        "# dtale.instances()"
      ]
    },
    {
      "cell_type": "code",
      "execution_count": 296,
      "metadata": {
        "id": "d3TZHjWmxDK4"
      },
      "outputs": [],
      "source": [
        "# dtale.get_instance(1).kill()"
      ]
    },
    {
      "cell_type": "markdown",
      "metadata": {
        "id": "M_6q1Y2oWCPP"
      },
      "source": [
        "## Basic information and statistics"
      ]
    },
    {
      "cell_type": "code",
      "execution_count": 297,
      "metadata": {
        "colab": {
          "base_uri": "https://localhost:8080/"
        },
        "id": "p0yaDKiUyTho",
        "outputId": "2bb4d363-def9-45d6-d6d0-efb42b72845e"
      },
      "outputs": [
        {
          "output_type": "stream",
          "name": "stdout",
          "text": [
            "<class 'pandas.core.frame.DataFrame'>\n",
            "RangeIndex: 4119 entries, 0 to 4118\n",
            "Data columns (total 21 columns):\n",
            " #   Column          Non-Null Count  Dtype  \n",
            "---  ------          --------------  -----  \n",
            " 0   age             4119 non-null   int64  \n",
            " 1   job             4080 non-null   object \n",
            " 2   marital         4108 non-null   object \n",
            " 3   education       3952 non-null   object \n",
            " 4   default         3316 non-null   object \n",
            " 5   housing         4014 non-null   object \n",
            " 6   loan            4014 non-null   object \n",
            " 7   contact         4119 non-null   object \n",
            " 8   month           4119 non-null   object \n",
            " 9   day_of_week     4119 non-null   object \n",
            " 10  duration        4119 non-null   int64  \n",
            " 11  campaign        4119 non-null   int64  \n",
            " 12  pdays           4119 non-null   int64  \n",
            " 13  previous        4119 non-null   int64  \n",
            " 14  poutcome        4119 non-null   object \n",
            " 15  emp.var.rate    4119 non-null   float64\n",
            " 16  cons.price.idx  4119 non-null   float64\n",
            " 17  cons.conf.idx   4119 non-null   float64\n",
            " 18  euribor3m       4119 non-null   float64\n",
            " 19  nr.employed     4119 non-null   float64\n",
            " 20  y               4119 non-null   object \n",
            "dtypes: float64(5), int64(5), object(11)\n",
            "memory usage: 675.9+ KB\n"
          ]
        }
      ],
      "source": [
        "df.info()"
      ]
    },
    {
      "cell_type": "code",
      "execution_count": 298,
      "metadata": {
        "colab": {
          "base_uri": "https://localhost:8080/",
          "height": 311
        },
        "id": "xxe-h0uYhZWR",
        "outputId": "4b8c2ac7-689a-4625-984e-1c17183164bf"
      },
      "outputs": [
        {
          "output_type": "execute_result",
          "data": {
            "text/plain": [
              "               age     duration     campaign        pdays     previous  \\\n",
              "count  4119.000000  4119.000000  4119.000000  4119.000000  4119.000000   \n",
              "mean     40.113620   256.788055     2.537266   960.422190     0.190337   \n",
              "std      10.313362   254.703736     2.568159   191.922786     0.541788   \n",
              "min      18.000000     0.000000     1.000000     0.000000     0.000000   \n",
              "25%      32.000000   103.000000     1.000000   999.000000     0.000000   \n",
              "50%      38.000000   181.000000     2.000000   999.000000     0.000000   \n",
              "75%      47.000000   317.000000     3.000000   999.000000     0.000000   \n",
              "max      88.000000  3643.000000    35.000000   999.000000     6.000000   \n",
              "\n",
              "       emp.var.rate  cons.price.idx  cons.conf.idx    euribor3m  nr.employed  \n",
              "count   4119.000000     4119.000000    4119.000000  4119.000000  4119.000000  \n",
              "mean       0.084972       93.579704     -40.499102     3.621356  5166.481695  \n",
              "std        1.563114        0.579349       4.594578     1.733591    73.667904  \n",
              "min       -3.400000       92.201000     -50.800000     0.635000  4963.600000  \n",
              "25%       -1.800000       93.075000     -42.700000     1.334000  5099.100000  \n",
              "50%        1.100000       93.749000     -41.800000     4.857000  5191.000000  \n",
              "75%        1.400000       93.994000     -36.400000     4.961000  5228.100000  \n",
              "max        1.400000       94.767000     -26.900000     5.045000  5228.100000  "
            ],
            "text/html": [
              "\n",
              "  <div id=\"df-d9078489-2999-4dde-88ac-37d4f6429117\" class=\"colab-df-container\">\n",
              "    <div>\n",
              "<style scoped>\n",
              "    .dataframe tbody tr th:only-of-type {\n",
              "        vertical-align: middle;\n",
              "    }\n",
              "\n",
              "    .dataframe tbody tr th {\n",
              "        vertical-align: top;\n",
              "    }\n",
              "\n",
              "    .dataframe thead th {\n",
              "        text-align: right;\n",
              "    }\n",
              "</style>\n",
              "<table border=\"1\" class=\"dataframe\">\n",
              "  <thead>\n",
              "    <tr style=\"text-align: right;\">\n",
              "      <th></th>\n",
              "      <th>age</th>\n",
              "      <th>duration</th>\n",
              "      <th>campaign</th>\n",
              "      <th>pdays</th>\n",
              "      <th>previous</th>\n",
              "      <th>emp.var.rate</th>\n",
              "      <th>cons.price.idx</th>\n",
              "      <th>cons.conf.idx</th>\n",
              "      <th>euribor3m</th>\n",
              "      <th>nr.employed</th>\n",
              "    </tr>\n",
              "  </thead>\n",
              "  <tbody>\n",
              "    <tr>\n",
              "      <th>count</th>\n",
              "      <td>4119.000000</td>\n",
              "      <td>4119.000000</td>\n",
              "      <td>4119.000000</td>\n",
              "      <td>4119.000000</td>\n",
              "      <td>4119.000000</td>\n",
              "      <td>4119.000000</td>\n",
              "      <td>4119.000000</td>\n",
              "      <td>4119.000000</td>\n",
              "      <td>4119.000000</td>\n",
              "      <td>4119.000000</td>\n",
              "    </tr>\n",
              "    <tr>\n",
              "      <th>mean</th>\n",
              "      <td>40.113620</td>\n",
              "      <td>256.788055</td>\n",
              "      <td>2.537266</td>\n",
              "      <td>960.422190</td>\n",
              "      <td>0.190337</td>\n",
              "      <td>0.084972</td>\n",
              "      <td>93.579704</td>\n",
              "      <td>-40.499102</td>\n",
              "      <td>3.621356</td>\n",
              "      <td>5166.481695</td>\n",
              "    </tr>\n",
              "    <tr>\n",
              "      <th>std</th>\n",
              "      <td>10.313362</td>\n",
              "      <td>254.703736</td>\n",
              "      <td>2.568159</td>\n",
              "      <td>191.922786</td>\n",
              "      <td>0.541788</td>\n",
              "      <td>1.563114</td>\n",
              "      <td>0.579349</td>\n",
              "      <td>4.594578</td>\n",
              "      <td>1.733591</td>\n",
              "      <td>73.667904</td>\n",
              "    </tr>\n",
              "    <tr>\n",
              "      <th>min</th>\n",
              "      <td>18.000000</td>\n",
              "      <td>0.000000</td>\n",
              "      <td>1.000000</td>\n",
              "      <td>0.000000</td>\n",
              "      <td>0.000000</td>\n",
              "      <td>-3.400000</td>\n",
              "      <td>92.201000</td>\n",
              "      <td>-50.800000</td>\n",
              "      <td>0.635000</td>\n",
              "      <td>4963.600000</td>\n",
              "    </tr>\n",
              "    <tr>\n",
              "      <th>25%</th>\n",
              "      <td>32.000000</td>\n",
              "      <td>103.000000</td>\n",
              "      <td>1.000000</td>\n",
              "      <td>999.000000</td>\n",
              "      <td>0.000000</td>\n",
              "      <td>-1.800000</td>\n",
              "      <td>93.075000</td>\n",
              "      <td>-42.700000</td>\n",
              "      <td>1.334000</td>\n",
              "      <td>5099.100000</td>\n",
              "    </tr>\n",
              "    <tr>\n",
              "      <th>50%</th>\n",
              "      <td>38.000000</td>\n",
              "      <td>181.000000</td>\n",
              "      <td>2.000000</td>\n",
              "      <td>999.000000</td>\n",
              "      <td>0.000000</td>\n",
              "      <td>1.100000</td>\n",
              "      <td>93.749000</td>\n",
              "      <td>-41.800000</td>\n",
              "      <td>4.857000</td>\n",
              "      <td>5191.000000</td>\n",
              "    </tr>\n",
              "    <tr>\n",
              "      <th>75%</th>\n",
              "      <td>47.000000</td>\n",
              "      <td>317.000000</td>\n",
              "      <td>3.000000</td>\n",
              "      <td>999.000000</td>\n",
              "      <td>0.000000</td>\n",
              "      <td>1.400000</td>\n",
              "      <td>93.994000</td>\n",
              "      <td>-36.400000</td>\n",
              "      <td>4.961000</td>\n",
              "      <td>5228.100000</td>\n",
              "    </tr>\n",
              "    <tr>\n",
              "      <th>max</th>\n",
              "      <td>88.000000</td>\n",
              "      <td>3643.000000</td>\n",
              "      <td>35.000000</td>\n",
              "      <td>999.000000</td>\n",
              "      <td>6.000000</td>\n",
              "      <td>1.400000</td>\n",
              "      <td>94.767000</td>\n",
              "      <td>-26.900000</td>\n",
              "      <td>5.045000</td>\n",
              "      <td>5228.100000</td>\n",
              "    </tr>\n",
              "  </tbody>\n",
              "</table>\n",
              "</div>\n",
              "    <div class=\"colab-df-buttons\">\n",
              "\n",
              "  <div class=\"colab-df-container\">\n",
              "    <button class=\"colab-df-convert\" onclick=\"convertToInteractive('df-d9078489-2999-4dde-88ac-37d4f6429117')\"\n",
              "            title=\"Convert this dataframe to an interactive table.\"\n",
              "            style=\"display:none;\">\n",
              "\n",
              "  <svg xmlns=\"http://www.w3.org/2000/svg\" height=\"24px\" viewBox=\"0 -960 960 960\">\n",
              "    <path d=\"M120-120v-720h720v720H120Zm60-500h600v-160H180v160Zm220 220h160v-160H400v160Zm0 220h160v-160H400v160ZM180-400h160v-160H180v160Zm440 0h160v-160H620v160ZM180-180h160v-160H180v160Zm440 0h160v-160H620v160Z\"/>\n",
              "  </svg>\n",
              "    </button>\n",
              "\n",
              "  <style>\n",
              "    .colab-df-container {\n",
              "      display:flex;\n",
              "      gap: 12px;\n",
              "    }\n",
              "\n",
              "    .colab-df-convert {\n",
              "      background-color: #E8F0FE;\n",
              "      border: none;\n",
              "      border-radius: 50%;\n",
              "      cursor: pointer;\n",
              "      display: none;\n",
              "      fill: #1967D2;\n",
              "      height: 32px;\n",
              "      padding: 0 0 0 0;\n",
              "      width: 32px;\n",
              "    }\n",
              "\n",
              "    .colab-df-convert:hover {\n",
              "      background-color: #E2EBFA;\n",
              "      box-shadow: 0px 1px 2px rgba(60, 64, 67, 0.3), 0px 1px 3px 1px rgba(60, 64, 67, 0.15);\n",
              "      fill: #174EA6;\n",
              "    }\n",
              "\n",
              "    .colab-df-buttons div {\n",
              "      margin-bottom: 4px;\n",
              "    }\n",
              "\n",
              "    [theme=dark] .colab-df-convert {\n",
              "      background-color: #3B4455;\n",
              "      fill: #D2E3FC;\n",
              "    }\n",
              "\n",
              "    [theme=dark] .colab-df-convert:hover {\n",
              "      background-color: #434B5C;\n",
              "      box-shadow: 0px 1px 3px 1px rgba(0, 0, 0, 0.15);\n",
              "      filter: drop-shadow(0px 1px 2px rgba(0, 0, 0, 0.3));\n",
              "      fill: #FFFFFF;\n",
              "    }\n",
              "  </style>\n",
              "\n",
              "    <script>\n",
              "      const buttonEl =\n",
              "        document.querySelector('#df-d9078489-2999-4dde-88ac-37d4f6429117 button.colab-df-convert');\n",
              "      buttonEl.style.display =\n",
              "        google.colab.kernel.accessAllowed ? 'block' : 'none';\n",
              "\n",
              "      async function convertToInteractive(key) {\n",
              "        const element = document.querySelector('#df-d9078489-2999-4dde-88ac-37d4f6429117');\n",
              "        const dataTable =\n",
              "          await google.colab.kernel.invokeFunction('convertToInteractive',\n",
              "                                                    [key], {});\n",
              "        if (!dataTable) return;\n",
              "\n",
              "        const docLinkHtml = 'Like what you see? Visit the ' +\n",
              "          '<a target=\"_blank\" href=https://colab.research.google.com/notebooks/data_table.ipynb>data table notebook</a>'\n",
              "          + ' to learn more about interactive tables.';\n",
              "        element.innerHTML = '';\n",
              "        dataTable['output_type'] = 'display_data';\n",
              "        await google.colab.output.renderOutput(dataTable, element);\n",
              "        const docLink = document.createElement('div');\n",
              "        docLink.innerHTML = docLinkHtml;\n",
              "        element.appendChild(docLink);\n",
              "      }\n",
              "    </script>\n",
              "  </div>\n",
              "\n",
              "\n",
              "<div id=\"df-29e56d61-04f0-4e83-8ce2-b65b45adae50\">\n",
              "  <button class=\"colab-df-quickchart\" onclick=\"quickchart('df-29e56d61-04f0-4e83-8ce2-b65b45adae50')\"\n",
              "            title=\"Suggest charts.\"\n",
              "            style=\"display:none;\">\n",
              "\n",
              "<svg xmlns=\"http://www.w3.org/2000/svg\" height=\"24px\"viewBox=\"0 0 24 24\"\n",
              "     width=\"24px\">\n",
              "    <g>\n",
              "        <path d=\"M19 3H5c-1.1 0-2 .9-2 2v14c0 1.1.9 2 2 2h14c1.1 0 2-.9 2-2V5c0-1.1-.9-2-2-2zM9 17H7v-7h2v7zm4 0h-2V7h2v10zm4 0h-2v-4h2v4z\"/>\n",
              "    </g>\n",
              "</svg>\n",
              "  </button>\n",
              "\n",
              "<style>\n",
              "  .colab-df-quickchart {\n",
              "      --bg-color: #E8F0FE;\n",
              "      --fill-color: #1967D2;\n",
              "      --hover-bg-color: #E2EBFA;\n",
              "      --hover-fill-color: #174EA6;\n",
              "      --disabled-fill-color: #AAA;\n",
              "      --disabled-bg-color: #DDD;\n",
              "  }\n",
              "\n",
              "  [theme=dark] .colab-df-quickchart {\n",
              "      --bg-color: #3B4455;\n",
              "      --fill-color: #D2E3FC;\n",
              "      --hover-bg-color: #434B5C;\n",
              "      --hover-fill-color: #FFFFFF;\n",
              "      --disabled-bg-color: #3B4455;\n",
              "      --disabled-fill-color: #666;\n",
              "  }\n",
              "\n",
              "  .colab-df-quickchart {\n",
              "    background-color: var(--bg-color);\n",
              "    border: none;\n",
              "    border-radius: 50%;\n",
              "    cursor: pointer;\n",
              "    display: none;\n",
              "    fill: var(--fill-color);\n",
              "    height: 32px;\n",
              "    padding: 0;\n",
              "    width: 32px;\n",
              "  }\n",
              "\n",
              "  .colab-df-quickchart:hover {\n",
              "    background-color: var(--hover-bg-color);\n",
              "    box-shadow: 0 1px 2px rgba(60, 64, 67, 0.3), 0 1px 3px 1px rgba(60, 64, 67, 0.15);\n",
              "    fill: var(--button-hover-fill-color);\n",
              "  }\n",
              "\n",
              "  .colab-df-quickchart-complete:disabled,\n",
              "  .colab-df-quickchart-complete:disabled:hover {\n",
              "    background-color: var(--disabled-bg-color);\n",
              "    fill: var(--disabled-fill-color);\n",
              "    box-shadow: none;\n",
              "  }\n",
              "\n",
              "  .colab-df-spinner {\n",
              "    border: 2px solid var(--fill-color);\n",
              "    border-color: transparent;\n",
              "    border-bottom-color: var(--fill-color);\n",
              "    animation:\n",
              "      spin 1s steps(1) infinite;\n",
              "  }\n",
              "\n",
              "  @keyframes spin {\n",
              "    0% {\n",
              "      border-color: transparent;\n",
              "      border-bottom-color: var(--fill-color);\n",
              "      border-left-color: var(--fill-color);\n",
              "    }\n",
              "    20% {\n",
              "      border-color: transparent;\n",
              "      border-left-color: var(--fill-color);\n",
              "      border-top-color: var(--fill-color);\n",
              "    }\n",
              "    30% {\n",
              "      border-color: transparent;\n",
              "      border-left-color: var(--fill-color);\n",
              "      border-top-color: var(--fill-color);\n",
              "      border-right-color: var(--fill-color);\n",
              "    }\n",
              "    40% {\n",
              "      border-color: transparent;\n",
              "      border-right-color: var(--fill-color);\n",
              "      border-top-color: var(--fill-color);\n",
              "    }\n",
              "    60% {\n",
              "      border-color: transparent;\n",
              "      border-right-color: var(--fill-color);\n",
              "    }\n",
              "    80% {\n",
              "      border-color: transparent;\n",
              "      border-right-color: var(--fill-color);\n",
              "      border-bottom-color: var(--fill-color);\n",
              "    }\n",
              "    90% {\n",
              "      border-color: transparent;\n",
              "      border-bottom-color: var(--fill-color);\n",
              "    }\n",
              "  }\n",
              "</style>\n",
              "\n",
              "  <script>\n",
              "    async function quickchart(key) {\n",
              "      const quickchartButtonEl =\n",
              "        document.querySelector('#' + key + ' button');\n",
              "      quickchartButtonEl.disabled = true;  // To prevent multiple clicks.\n",
              "      quickchartButtonEl.classList.add('colab-df-spinner');\n",
              "      try {\n",
              "        const charts = await google.colab.kernel.invokeFunction(\n",
              "            'suggestCharts', [key], {});\n",
              "      } catch (error) {\n",
              "        console.error('Error during call to suggestCharts:', error);\n",
              "      }\n",
              "      quickchartButtonEl.classList.remove('colab-df-spinner');\n",
              "      quickchartButtonEl.classList.add('colab-df-quickchart-complete');\n",
              "    }\n",
              "    (() => {\n",
              "      let quickchartButtonEl =\n",
              "        document.querySelector('#df-29e56d61-04f0-4e83-8ce2-b65b45adae50 button');\n",
              "      quickchartButtonEl.style.display =\n",
              "        google.colab.kernel.accessAllowed ? 'block' : 'none';\n",
              "    })();\n",
              "  </script>\n",
              "</div>\n",
              "    </div>\n",
              "  </div>\n"
            ],
            "application/vnd.google.colaboratory.module+javascript": "\n      import \"https://ssl.gstatic.com/colaboratory/data_table/881c4a0d49046431/data_table.js\";\n\n      const table = window.createDataTable({\n        data: [[\"count\",\n{\n            'v': 4119.0,\n            'f': \"4119.0\",\n        },\n{\n            'v': 4119.0,\n            'f': \"4119.0\",\n        },\n{\n            'v': 4119.0,\n            'f': \"4119.0\",\n        },\n{\n            'v': 4119.0,\n            'f': \"4119.0\",\n        },\n{\n            'v': 4119.0,\n            'f': \"4119.0\",\n        },\n{\n            'v': 4119.0,\n            'f': \"4119.0\",\n        },\n{\n            'v': 4119.0,\n            'f': \"4119.0\",\n        },\n{\n            'v': 4119.0,\n            'f': \"4119.0\",\n        },\n{\n            'v': 4119.0,\n            'f': \"4119.0\",\n        },\n{\n            'v': 4119.0,\n            'f': \"4119.0\",\n        }],\n [\"mean\",\n{\n            'v': 40.11361981063365,\n            'f': \"40.11361981063365\",\n        },\n{\n            'v': 256.7880553532411,\n            'f': \"256.7880553532411\",\n        },\n{\n            'v': 2.537266326778344,\n            'f': \"2.537266326778344\",\n        },\n{\n            'v': 960.4221898519058,\n            'f': \"960.4221898519058\",\n        },\n{\n            'v': 0.19033746054867687,\n            'f': \"0.19033746054867687\",\n        },\n{\n            'v': 0.08497208060208788,\n            'f': \"0.08497208060208788\",\n        },\n{\n            'v': 93.57970429715951,\n            'f': \"93.57970429715951\",\n        },\n{\n            'v': -40.49910172371935,\n            'f': \"-40.49910172371935\",\n        },\n{\n            'v': 3.621355668851663,\n            'f': \"3.621355668851663\",\n        },\n{\n            'v': 5166.481694586065,\n            'f': \"5166.481694586065\",\n        }],\n [\"std\",\n{\n            'v': 10.313361547199813,\n            'f': \"10.313361547199813\",\n        },\n{\n            'v': 254.70373612073678,\n            'f': \"254.70373612073678\",\n        },\n{\n            'v': 2.568159237578138,\n            'f': \"2.568159237578138\",\n        },\n{\n            'v': 191.92278580077644,\n            'f': \"191.92278580077644\",\n        },\n{\n            'v': 0.5417883234290308,\n            'f': \"0.5417883234290308\",\n        },\n{\n            'v': 1.5631144559116763,\n            'f': \"1.5631144559116763\",\n        },\n{\n            'v': 0.5793488049889662,\n            'f': \"0.5793488049889662\",\n        },\n{\n            'v': 4.594577506837543,\n            'f': \"4.594577506837543\",\n        },\n{\n            'v': 1.7335912227013557,\n            'f': \"1.7335912227013557\",\n        },\n{\n            'v': 73.66790355721253,\n            'f': \"73.66790355721253\",\n        }],\n [\"min\",\n{\n            'v': 18.0,\n            'f': \"18.0\",\n        },\n{\n            'v': 0.0,\n            'f': \"0.0\",\n        },\n{\n            'v': 1.0,\n            'f': \"1.0\",\n        },\n{\n            'v': 0.0,\n            'f': \"0.0\",\n        },\n{\n            'v': 0.0,\n            'f': \"0.0\",\n        },\n{\n            'v': -3.4,\n            'f': \"-3.4\",\n        },\n{\n            'v': 92.201,\n            'f': \"92.201\",\n        },\n{\n            'v': -50.8,\n            'f': \"-50.8\",\n        },\n{\n            'v': 0.635,\n            'f': \"0.635\",\n        },\n{\n            'v': 4963.6,\n            'f': \"4963.6\",\n        }],\n [\"25%\",\n{\n            'v': 32.0,\n            'f': \"32.0\",\n        },\n{\n            'v': 103.0,\n            'f': \"103.0\",\n        },\n{\n            'v': 1.0,\n            'f': \"1.0\",\n        },\n{\n            'v': 999.0,\n            'f': \"999.0\",\n        },\n{\n            'v': 0.0,\n            'f': \"0.0\",\n        },\n{\n            'v': -1.8,\n            'f': \"-1.8\",\n        },\n{\n            'v': 93.075,\n            'f': \"93.075\",\n        },\n{\n            'v': -42.7,\n            'f': \"-42.7\",\n        },\n{\n            'v': 1.334,\n            'f': \"1.334\",\n        },\n{\n            'v': 5099.1,\n            'f': \"5099.1\",\n        }],\n [\"50%\",\n{\n            'v': 38.0,\n            'f': \"38.0\",\n        },\n{\n            'v': 181.0,\n            'f': \"181.0\",\n        },\n{\n            'v': 2.0,\n            'f': \"2.0\",\n        },\n{\n            'v': 999.0,\n            'f': \"999.0\",\n        },\n{\n            'v': 0.0,\n            'f': \"0.0\",\n        },\n{\n            'v': 1.1,\n            'f': \"1.1\",\n        },\n{\n            'v': 93.749,\n            'f': \"93.749\",\n        },\n{\n            'v': -41.8,\n            'f': \"-41.8\",\n        },\n{\n            'v': 4.857,\n            'f': \"4.857\",\n        },\n{\n            'v': 5191.0,\n            'f': \"5191.0\",\n        }],\n [\"75%\",\n{\n            'v': 47.0,\n            'f': \"47.0\",\n        },\n{\n            'v': 317.0,\n            'f': \"317.0\",\n        },\n{\n            'v': 3.0,\n            'f': \"3.0\",\n        },\n{\n            'v': 999.0,\n            'f': \"999.0\",\n        },\n{\n            'v': 0.0,\n            'f': \"0.0\",\n        },\n{\n            'v': 1.4,\n            'f': \"1.4\",\n        },\n{\n            'v': 93.994,\n            'f': \"93.994\",\n        },\n{\n            'v': -36.4,\n            'f': \"-36.4\",\n        },\n{\n            'v': 4.961,\n            'f': \"4.961\",\n        },\n{\n            'v': 5228.1,\n            'f': \"5228.1\",\n        }],\n [\"max\",\n{\n            'v': 88.0,\n            'f': \"88.0\",\n        },\n{\n            'v': 3643.0,\n            'f': \"3643.0\",\n        },\n{\n            'v': 35.0,\n            'f': \"35.0\",\n        },\n{\n            'v': 999.0,\n            'f': \"999.0\",\n        },\n{\n            'v': 6.0,\n            'f': \"6.0\",\n        },\n{\n            'v': 1.4,\n            'f': \"1.4\",\n        },\n{\n            'v': 94.767,\n            'f': \"94.767\",\n        },\n{\n            'v': -26.9,\n            'f': \"-26.9\",\n        },\n{\n            'v': 5.045,\n            'f': \"5.045\",\n        },\n{\n            'v': 5228.1,\n            'f': \"5228.1\",\n        }]],\n        columns: [[\"string\", \"index\"], [\"number\", \"age\"], [\"number\", \"duration\"], [\"number\", \"campaign\"], [\"number\", \"pdays\"], [\"number\", \"previous\"], [\"number\", \"emp.var.rate\"], [\"number\", \"cons.price.idx\"], [\"number\", \"cons.conf.idx\"], [\"number\", \"euribor3m\"], [\"number\", \"nr.employed\"]],\n        columnOptions: [{\"width\": \"1px\", \"className\": \"index_column\"}],\n        rowsPerPage: 25,\n        helpUrl: \"https://colab.research.google.com/notebooks/data_table.ipynb\",\n        suppressOutputScrolling: true,\n        minimumWidth: undefined,\n      });\n\n      function appendQuickchartButton(parentElement) {\n        let quickchartButtonContainerElement = document.createElement('div');\n        quickchartButtonContainerElement.innerHTML = `\n<div id=\"df-30349f37-d130-4611-aef0-83db394d62bc\">\n  <button class=\"colab-df-quickchart\" onclick=\"quickchart('df-30349f37-d130-4611-aef0-83db394d62bc')\"\n            title=\"Suggest charts.\"\n            style=\"display:none;\">\n    \n<svg xmlns=\"http://www.w3.org/2000/svg\" height=\"24px\"viewBox=\"0 0 24 24\"\n     width=\"24px\">\n    <g>\n        <path d=\"M19 3H5c-1.1 0-2 .9-2 2v14c0 1.1.9 2 2 2h14c1.1 0 2-.9 2-2V5c0-1.1-.9-2-2-2zM9 17H7v-7h2v7zm4 0h-2V7h2v10zm4 0h-2v-4h2v4z\"/>\n    </g>\n</svg>\n  </button>\n  \n<style>\n  .colab-df-quickchart {\n      --bg-color: #E8F0FE;\n      --fill-color: #1967D2;\n      --hover-bg-color: #E2EBFA;\n      --hover-fill-color: #174EA6;\n      --disabled-fill-color: #AAA;\n      --disabled-bg-color: #DDD;\n  }\n\n  [theme=dark] .colab-df-quickchart {\n      --bg-color: #3B4455;\n      --fill-color: #D2E3FC;\n      --hover-bg-color: #434B5C;\n      --hover-fill-color: #FFFFFF;\n      --disabled-bg-color: #3B4455;\n      --disabled-fill-color: #666;\n  }\n\n  .colab-df-quickchart {\n    background-color: var(--bg-color);\n    border: none;\n    border-radius: 50%;\n    cursor: pointer;\n    display: none;\n    fill: var(--fill-color);\n    height: 32px;\n    padding: 0;\n    width: 32px;\n  }\n\n  .colab-df-quickchart:hover {\n    background-color: var(--hover-bg-color);\n    box-shadow: 0 1px 2px rgba(60, 64, 67, 0.3), 0 1px 3px 1px rgba(60, 64, 67, 0.15);\n    fill: var(--button-hover-fill-color);\n  }\n\n  .colab-df-quickchart-complete:disabled,\n  .colab-df-quickchart-complete:disabled:hover {\n    background-color: var(--disabled-bg-color);\n    fill: var(--disabled-fill-color);\n    box-shadow: none;\n  }\n\n  .colab-df-spinner {\n    border: 2px solid var(--fill-color);\n    border-color: transparent;\n    border-bottom-color: var(--fill-color);\n    animation:\n      spin 1s steps(1) infinite;\n  }\n\n  @keyframes spin {\n    0% {\n      border-color: transparent;\n      border-bottom-color: var(--fill-color);\n      border-left-color: var(--fill-color);\n    }\n    20% {\n      border-color: transparent;\n      border-left-color: var(--fill-color);\n      border-top-color: var(--fill-color);\n    }\n    30% {\n      border-color: transparent;\n      border-left-color: var(--fill-color);\n      border-top-color: var(--fill-color);\n      border-right-color: var(--fill-color);\n    }\n    40% {\n      border-color: transparent;\n      border-right-color: var(--fill-color);\n      border-top-color: var(--fill-color);\n    }\n    60% {\n      border-color: transparent;\n      border-right-color: var(--fill-color);\n    }\n    80% {\n      border-color: transparent;\n      border-right-color: var(--fill-color);\n      border-bottom-color: var(--fill-color);\n    }\n    90% {\n      border-color: transparent;\n      border-bottom-color: var(--fill-color);\n    }\n  }\n</style>\n\n  <script>\n    async function quickchart(key) {\n      const quickchartButtonEl =\n        document.querySelector('#' + key + ' button');\n      quickchartButtonEl.disabled = true;  // To prevent multiple clicks.\n      quickchartButtonEl.classList.add('colab-df-spinner');\n      try {\n        const charts = await google.colab.kernel.invokeFunction(\n            'suggestCharts', [key], {});\n      } catch (error) {\n        console.error('Error during call to suggestCharts:', error);\n      }\n      quickchartButtonEl.classList.remove('colab-df-spinner');\n      quickchartButtonEl.classList.add('colab-df-quickchart-complete');\n    }\n    (() => {\n      let quickchartButtonEl =\n        document.querySelector('#df-30349f37-d130-4611-aef0-83db394d62bc button');\n      quickchartButtonEl.style.display =\n        google.colab.kernel.accessAllowed ? 'block' : 'none';\n    })();\n  </script>\n</div>`;\n        parentElement.appendChild(quickchartButtonContainerElement);\n      }\n\n      appendQuickchartButton(table);\n    "
          },
          "metadata": {},
          "execution_count": 298
        }
      ],
      "source": [
        "df.describe()"
      ]
    },
    {
      "cell_type": "code",
      "execution_count": 299,
      "metadata": {
        "colab": {
          "base_uri": "https://localhost:8080/"
        },
        "id": "F6b1VqEc9XG5",
        "outputId": "2a1066bd-0dee-450f-d018-ef44eb3d8aeb"
      },
      "outputs": [
        {
          "output_type": "execute_result",
          "data": {
            "text/plain": [
              "age                 0\n",
              "job                39\n",
              "marital            11\n",
              "education         167\n",
              "default           803\n",
              "housing           105\n",
              "loan              105\n",
              "contact             0\n",
              "month               0\n",
              "day_of_week         0\n",
              "duration            0\n",
              "campaign            0\n",
              "pdays               0\n",
              "previous            0\n",
              "poutcome            0\n",
              "emp.var.rate        0\n",
              "cons.price.idx      0\n",
              "cons.conf.idx       0\n",
              "euribor3m           0\n",
              "nr.employed         0\n",
              "y                   0\n",
              "dtype: int64"
            ]
          },
          "metadata": {},
          "execution_count": 299
        }
      ],
      "source": [
        "#ilość wierszy z wartością null w DF\n",
        "df.isnull().sum()"
      ]
    },
    {
      "cell_type": "markdown",
      "metadata": {
        "id": "zguKoJXDruMl"
      },
      "source": [
        "##Columns Review"
      ]
    },
    {
      "cell_type": "markdown",
      "source": [
        "Age column"
      ],
      "metadata": {
        "id": "TzWJOX9cn361"
      }
    },
    {
      "cell_type": "code",
      "source": [
        "if isinstance(df, (pd.DatetimeIndex, pd.MultiIndex)):\n",
        "    df = df.to_frame(index=False)\n",
        "\n",
        "# remove any pre-existing indices for ease of use in the D-Tale code, but this is not required\n",
        "df = df.reset_index().drop('index', axis=1, errors='ignore')\n",
        "df.columns = [str(c) for c in df.columns]  # update columns to strings in case they are numbers\n",
        "\n",
        "s = df[~pd.isnull(df['age'])][['age']]\n",
        "chart, labels = np.histogram(s['age'], bins=15)\n",
        "\n",
        "# main statistics\n",
        "stats = df['age'].describe().to_frame().T\n",
        "charts = [\n",
        "    go.Bar(x=labels[1:], y=chart, name='Histogram')\n",
        "]\n",
        "\n",
        "figure = go.Figure(data=charts, layout=go.Layout({\n",
        "    'barmode': 'group',\n",
        "    'legend': {'orientation': 'h'},\n",
        "    'title': {'text': 'age Histogram (bins: 15)'},\n",
        "    'yaxis': {'side': 'left', 'title': {'text': 'Frequency'}}\n",
        "}))\n",
        "\n",
        "figure.show()"
      ],
      "metadata": {
        "colab": {
          "base_uri": "https://localhost:8080/",
          "height": 542
        },
        "id": "_Ma-hyA4nz_q",
        "outputId": "fa3f23ce-eb42-441a-9073-de5cd366aab8"
      },
      "execution_count": 300,
      "outputs": [
        {
          "output_type": "display_data",
          "data": {
            "text/html": [
              "<html>\n",
              "<head><meta charset=\"utf-8\" /></head>\n",
              "<body>\n",
              "    <div>            <script src=\"https://cdnjs.cloudflare.com/ajax/libs/mathjax/2.7.5/MathJax.js?config=TeX-AMS-MML_SVG\"></script><script type=\"text/javascript\">if (window.MathJax && window.MathJax.Hub && window.MathJax.Hub.Config) {window.MathJax.Hub.Config({SVG: {font: \"STIX-Web\"}});}</script>                <script type=\"text/javascript\">window.PlotlyConfig = {MathJaxConfig: 'local'};</script>\n",
              "        <script charset=\"utf-8\" src=\"https://cdn.plot.ly/plotly-2.24.1.min.js\"></script>                <div id=\"a8cc735e-2523-45df-ae81-b775dc9f9b4c\" class=\"plotly-graph-div\" style=\"height:525px; width:100%;\"></div>            <script type=\"text/javascript\">                                    window.PLOTLYENV=window.PLOTLYENV || {};                                    if (document.getElementById(\"a8cc735e-2523-45df-ae81-b775dc9f9b4c\")) {                    Plotly.newPlot(                        \"a8cc735e-2523-45df-ae81-b775dc9f9b4c\",                        [{\"name\":\"Histogram\",\"x\":[22.666666666666668,27.333333333333336,32.0,36.66666666666667,41.333333333333336,46.0,50.66666666666667,55.333333333333336,60.0,64.66666666666667,69.33333333333334,74.0,78.66666666666667,83.33333333333334,88.0],\"y\":[25,279,615,900,670,421,462,388,249,52,19,12,14,9,4],\"type\":\"bar\"}],                        {\"barmode\":\"group\",\"legend\":{\"orientation\":\"h\"},\"title\":{\"text\":\"age Histogram (bins: 15)\"},\"yaxis\":{\"side\":\"left\",\"title\":{\"text\":\"Frequency\"}},\"template\":{\"data\":{\"histogram2dcontour\":[{\"type\":\"histogram2dcontour\",\"colorbar\":{\"outlinewidth\":0,\"ticks\":\"\"},\"colorscale\":[[0.0,\"#0d0887\"],[0.1111111111111111,\"#46039f\"],[0.2222222222222222,\"#7201a8\"],[0.3333333333333333,\"#9c179e\"],[0.4444444444444444,\"#bd3786\"],[0.5555555555555556,\"#d8576b\"],[0.6666666666666666,\"#ed7953\"],[0.7777777777777778,\"#fb9f3a\"],[0.8888888888888888,\"#fdca26\"],[1.0,\"#f0f921\"]]}],\"choropleth\":[{\"type\":\"choropleth\",\"colorbar\":{\"outlinewidth\":0,\"ticks\":\"\"}}],\"histogram2d\":[{\"type\":\"histogram2d\",\"colorbar\":{\"outlinewidth\":0,\"ticks\":\"\"},\"colorscale\":[[0.0,\"#0d0887\"],[0.1111111111111111,\"#46039f\"],[0.2222222222222222,\"#7201a8\"],[0.3333333333333333,\"#9c179e\"],[0.4444444444444444,\"#bd3786\"],[0.5555555555555556,\"#d8576b\"],[0.6666666666666666,\"#ed7953\"],[0.7777777777777778,\"#fb9f3a\"],[0.8888888888888888,\"#fdca26\"],[1.0,\"#f0f921\"]]}],\"heatmap\":[{\"type\":\"heatmap\",\"colorbar\":{\"outlinewidth\":0,\"ticks\":\"\"},\"colorscale\":[[0.0,\"#0d0887\"],[0.1111111111111111,\"#46039f\"],[0.2222222222222222,\"#7201a8\"],[0.3333333333333333,\"#9c179e\"],[0.4444444444444444,\"#bd3786\"],[0.5555555555555556,\"#d8576b\"],[0.6666666666666666,\"#ed7953\"],[0.7777777777777778,\"#fb9f3a\"],[0.8888888888888888,\"#fdca26\"],[1.0,\"#f0f921\"]]}],\"heatmapgl\":[{\"type\":\"heatmapgl\",\"colorbar\":{\"outlinewidth\":0,\"ticks\":\"\"},\"colorscale\":[[0.0,\"#0d0887\"],[0.1111111111111111,\"#46039f\"],[0.2222222222222222,\"#7201a8\"],[0.3333333333333333,\"#9c179e\"],[0.4444444444444444,\"#bd3786\"],[0.5555555555555556,\"#d8576b\"],[0.6666666666666666,\"#ed7953\"],[0.7777777777777778,\"#fb9f3a\"],[0.8888888888888888,\"#fdca26\"],[1.0,\"#f0f921\"]]}],\"contourcarpet\":[{\"type\":\"contourcarpet\",\"colorbar\":{\"outlinewidth\":0,\"ticks\":\"\"}}],\"contour\":[{\"type\":\"contour\",\"colorbar\":{\"outlinewidth\":0,\"ticks\":\"\"},\"colorscale\":[[0.0,\"#0d0887\"],[0.1111111111111111,\"#46039f\"],[0.2222222222222222,\"#7201a8\"],[0.3333333333333333,\"#9c179e\"],[0.4444444444444444,\"#bd3786\"],[0.5555555555555556,\"#d8576b\"],[0.6666666666666666,\"#ed7953\"],[0.7777777777777778,\"#fb9f3a\"],[0.8888888888888888,\"#fdca26\"],[1.0,\"#f0f921\"]]}],\"surface\":[{\"type\":\"surface\",\"colorbar\":{\"outlinewidth\":0,\"ticks\":\"\"},\"colorscale\":[[0.0,\"#0d0887\"],[0.1111111111111111,\"#46039f\"],[0.2222222222222222,\"#7201a8\"],[0.3333333333333333,\"#9c179e\"],[0.4444444444444444,\"#bd3786\"],[0.5555555555555556,\"#d8576b\"],[0.6666666666666666,\"#ed7953\"],[0.7777777777777778,\"#fb9f3a\"],[0.8888888888888888,\"#fdca26\"],[1.0,\"#f0f921\"]]}],\"mesh3d\":[{\"type\":\"mesh3d\",\"colorbar\":{\"outlinewidth\":0,\"ticks\":\"\"}}],\"scatter\":[{\"fillpattern\":{\"fillmode\":\"overlay\",\"size\":10,\"solidity\":0.2},\"type\":\"scatter\"}],\"parcoords\":[{\"type\":\"parcoords\",\"line\":{\"colorbar\":{\"outlinewidth\":0,\"ticks\":\"\"}}}],\"scatterpolargl\":[{\"type\":\"scatterpolargl\",\"marker\":{\"colorbar\":{\"outlinewidth\":0,\"ticks\":\"\"}}}],\"bar\":[{\"error_x\":{\"color\":\"#2a3f5f\"},\"error_y\":{\"color\":\"#2a3f5f\"},\"marker\":{\"line\":{\"color\":\"#E5ECF6\",\"width\":0.5},\"pattern\":{\"fillmode\":\"overlay\",\"size\":10,\"solidity\":0.2}},\"type\":\"bar\"}],\"scattergeo\":[{\"type\":\"scattergeo\",\"marker\":{\"colorbar\":{\"outlinewidth\":0,\"ticks\":\"\"}}}],\"scatterpolar\":[{\"type\":\"scatterpolar\",\"marker\":{\"colorbar\":{\"outlinewidth\":0,\"ticks\":\"\"}}}],\"histogram\":[{\"marker\":{\"pattern\":{\"fillmode\":\"overlay\",\"size\":10,\"solidity\":0.2}},\"type\":\"histogram\"}],\"scattergl\":[{\"type\":\"scattergl\",\"marker\":{\"colorbar\":{\"outlinewidth\":0,\"ticks\":\"\"}}}],\"scatter3d\":[{\"type\":\"scatter3d\",\"line\":{\"colorbar\":{\"outlinewidth\":0,\"ticks\":\"\"}},\"marker\":{\"colorbar\":{\"outlinewidth\":0,\"ticks\":\"\"}}}],\"scattermapbox\":[{\"type\":\"scattermapbox\",\"marker\":{\"colorbar\":{\"outlinewidth\":0,\"ticks\":\"\"}}}],\"scatterternary\":[{\"type\":\"scatterternary\",\"marker\":{\"colorbar\":{\"outlinewidth\":0,\"ticks\":\"\"}}}],\"scattercarpet\":[{\"type\":\"scattercarpet\",\"marker\":{\"colorbar\":{\"outlinewidth\":0,\"ticks\":\"\"}}}],\"carpet\":[{\"aaxis\":{\"endlinecolor\":\"#2a3f5f\",\"gridcolor\":\"white\",\"linecolor\":\"white\",\"minorgridcolor\":\"white\",\"startlinecolor\":\"#2a3f5f\"},\"baxis\":{\"endlinecolor\":\"#2a3f5f\",\"gridcolor\":\"white\",\"linecolor\":\"white\",\"minorgridcolor\":\"white\",\"startlinecolor\":\"#2a3f5f\"},\"type\":\"carpet\"}],\"table\":[{\"cells\":{\"fill\":{\"color\":\"#EBF0F8\"},\"line\":{\"color\":\"white\"}},\"header\":{\"fill\":{\"color\":\"#C8D4E3\"},\"line\":{\"color\":\"white\"}},\"type\":\"table\"}],\"barpolar\":[{\"marker\":{\"line\":{\"color\":\"#E5ECF6\",\"width\":0.5},\"pattern\":{\"fillmode\":\"overlay\",\"size\":10,\"solidity\":0.2}},\"type\":\"barpolar\"}],\"pie\":[{\"automargin\":true,\"type\":\"pie\"}]},\"layout\":{\"autotypenumbers\":\"strict\",\"colorway\":[\"#636efa\",\"#EF553B\",\"#00cc96\",\"#ab63fa\",\"#FFA15A\",\"#19d3f3\",\"#FF6692\",\"#B6E880\",\"#FF97FF\",\"#FECB52\"],\"font\":{\"color\":\"#2a3f5f\"},\"hovermode\":\"closest\",\"hoverlabel\":{\"align\":\"left\"},\"paper_bgcolor\":\"white\",\"plot_bgcolor\":\"#E5ECF6\",\"polar\":{\"bgcolor\":\"#E5ECF6\",\"angularaxis\":{\"gridcolor\":\"white\",\"linecolor\":\"white\",\"ticks\":\"\"},\"radialaxis\":{\"gridcolor\":\"white\",\"linecolor\":\"white\",\"ticks\":\"\"}},\"ternary\":{\"bgcolor\":\"#E5ECF6\",\"aaxis\":{\"gridcolor\":\"white\",\"linecolor\":\"white\",\"ticks\":\"\"},\"baxis\":{\"gridcolor\":\"white\",\"linecolor\":\"white\",\"ticks\":\"\"},\"caxis\":{\"gridcolor\":\"white\",\"linecolor\":\"white\",\"ticks\":\"\"}},\"coloraxis\":{\"colorbar\":{\"outlinewidth\":0,\"ticks\":\"\"}},\"colorscale\":{\"sequential\":[[0.0,\"#0d0887\"],[0.1111111111111111,\"#46039f\"],[0.2222222222222222,\"#7201a8\"],[0.3333333333333333,\"#9c179e\"],[0.4444444444444444,\"#bd3786\"],[0.5555555555555556,\"#d8576b\"],[0.6666666666666666,\"#ed7953\"],[0.7777777777777778,\"#fb9f3a\"],[0.8888888888888888,\"#fdca26\"],[1.0,\"#f0f921\"]],\"sequentialminus\":[[0.0,\"#0d0887\"],[0.1111111111111111,\"#46039f\"],[0.2222222222222222,\"#7201a8\"],[0.3333333333333333,\"#9c179e\"],[0.4444444444444444,\"#bd3786\"],[0.5555555555555556,\"#d8576b\"],[0.6666666666666666,\"#ed7953\"],[0.7777777777777778,\"#fb9f3a\"],[0.8888888888888888,\"#fdca26\"],[1.0,\"#f0f921\"]],\"diverging\":[[0,\"#8e0152\"],[0.1,\"#c51b7d\"],[0.2,\"#de77ae\"],[0.3,\"#f1b6da\"],[0.4,\"#fde0ef\"],[0.5,\"#f7f7f7\"],[0.6,\"#e6f5d0\"],[0.7,\"#b8e186\"],[0.8,\"#7fbc41\"],[0.9,\"#4d9221\"],[1,\"#276419\"]]},\"xaxis\":{\"gridcolor\":\"white\",\"linecolor\":\"white\",\"ticks\":\"\",\"title\":{\"standoff\":15},\"zerolinecolor\":\"white\",\"automargin\":true,\"zerolinewidth\":2},\"yaxis\":{\"gridcolor\":\"white\",\"linecolor\":\"white\",\"ticks\":\"\",\"title\":{\"standoff\":15},\"zerolinecolor\":\"white\",\"automargin\":true,\"zerolinewidth\":2},\"scene\":{\"xaxis\":{\"backgroundcolor\":\"#E5ECF6\",\"gridcolor\":\"white\",\"linecolor\":\"white\",\"showbackground\":true,\"ticks\":\"\",\"zerolinecolor\":\"white\",\"gridwidth\":2},\"yaxis\":{\"backgroundcolor\":\"#E5ECF6\",\"gridcolor\":\"white\",\"linecolor\":\"white\",\"showbackground\":true,\"ticks\":\"\",\"zerolinecolor\":\"white\",\"gridwidth\":2},\"zaxis\":{\"backgroundcolor\":\"#E5ECF6\",\"gridcolor\":\"white\",\"linecolor\":\"white\",\"showbackground\":true,\"ticks\":\"\",\"zerolinecolor\":\"white\",\"gridwidth\":2}},\"shapedefaults\":{\"line\":{\"color\":\"#2a3f5f\"}},\"annotationdefaults\":{\"arrowcolor\":\"#2a3f5f\",\"arrowhead\":0,\"arrowwidth\":1},\"geo\":{\"bgcolor\":\"white\",\"landcolor\":\"#E5ECF6\",\"subunitcolor\":\"white\",\"showland\":true,\"showlakes\":true,\"lakecolor\":\"white\"},\"title\":{\"x\":0.05},\"mapbox\":{\"style\":\"light\"}}}},                        {\"responsive\": true}                    ).then(function(){\n",
              "                            \n",
              "var gd = document.getElementById('a8cc735e-2523-45df-ae81-b775dc9f9b4c');\n",
              "var x = new MutationObserver(function (mutations, observer) {{\n",
              "        var display = window.getComputedStyle(gd).display;\n",
              "        if (!display || display === 'none') {{\n",
              "            console.log([gd, 'removed!']);\n",
              "            Plotly.purge(gd);\n",
              "            observer.disconnect();\n",
              "        }}\n",
              "}});\n",
              "\n",
              "// Listen for the removal of the full notebook cells\n",
              "var notebookContainer = gd.closest('#notebook-container');\n",
              "if (notebookContainer) {{\n",
              "    x.observe(notebookContainer, {childList: true});\n",
              "}}\n",
              "\n",
              "// Listen for the clearing of the current output cell\n",
              "var outputEl = gd.closest('.output');\n",
              "if (outputEl) {{\n",
              "    x.observe(outputEl, {childList: true});\n",
              "}}\n",
              "\n",
              "                        })                };                            </script>        </div>\n",
              "</body>\n",
              "</html>"
            ]
          },
          "metadata": {}
        }
      ]
    },
    {
      "cell_type": "code",
      "execution_count": 301,
      "metadata": {
        "id": "NLF0cNZ6yxj-"
      },
      "outputs": [],
      "source": [
        "#transform month and day of week into categorical data\n",
        "\n",
        "month_order = ['jan', 'feb', 'mar', \"apr\", \"may\", \"jun\", \"jul\", \"aug\", \"sep\", \"oct\", \"nov\", \"dec\"]\n",
        "\n",
        "df['month'] = pd.Categorical(df['month'], categories=month_order, ordered=True)\n",
        "\n",
        "day_order = [\"mon\",\"tue\",\"wed\",\"thu\",\"fri\"]\n",
        "\n",
        "df['day_of_week'] = pd.Categorical(df['day_of_week'], categories=day_order, ordered=True)"
      ]
    },
    {
      "cell_type": "code",
      "execution_count": 302,
      "metadata": {
        "colab": {
          "base_uri": "https://localhost:8080/",
          "height": 401
        },
        "id": "wmuqX_e_iTuZ",
        "outputId": "d9c9f1d6-6d5e-4439-c11b-8e803a3dd159"
      },
      "outputs": [
        {
          "output_type": "display_data",
          "data": {
            "text/plain": [
              "<Figure size 1200x400 with 2 Axes>"
            ],
            "image/png": "[encoded data removed]"
          },
          "metadata": {}
        }
      ],
      "source": [
        "plt.figure(figsize=(12, 4))\n",
        "plt.subplot(1, 2, 1)\n",
        "\n",
        "sns.countplot(x='month', hue='y', data=df)\n",
        "plt.title('month by Target')\n",
        "\n",
        "plt.subplot(1, 2, 2)\n",
        "sns.countplot(x='day_of_week', hue='y', data=df)\n",
        "plt.title('day of week by Target')\n",
        "\n",
        "plt.tight_layout()\n",
        "plt.show()"
      ]
    },
    {
      "cell_type": "code",
      "execution_count": 303,
      "metadata": {
        "id": "IuFUhgegiU60"
      },
      "outputs": [],
      "source": [
        "# groupby month, day of week with target variable\n",
        "\n",
        "df_agg = df.groupby(['month', 'day_of_week', 'y']).size().reset_index(name='count')"
      ]
    },
    {
      "cell_type": "code",
      "execution_count": 304,
      "metadata": {
        "colab": {
          "base_uri": "https://localhost:8080/",
          "height": 228
        },
        "id": "1X869i5IKcqa",
        "outputId": "c7a19b20-ef35-4b7d-e344-b665f78c59b3"
      },
      "outputs": [
        {
          "output_type": "execute_result",
          "data": {
            "text/plain": [
              "  month day_of_week    y  count\n",
              "0   jan         mon   no      0\n",
              "1   jan         mon  yes      0\n",
              "2   jan         tue   no      0\n",
              "3   jan         tue  yes      0\n",
              "4   jan         wed   no      0"
            ],
            "text/html": [
              "\n",
              "  <div id=\"df-d7a933a5-5668-4768-b5f6-500354b263a2\" class=\"colab-df-container\">\n",
              "    <div>\n",
              "<style scoped>\n",
              "    .dataframe tbody tr th:only-of-type {\n",
              "        vertical-align: middle;\n",
              "    }\n",
              "\n",
              "    .dataframe tbody tr th {\n",
              "        vertical-align: top;\n",
              "    }\n",
              "\n",
              "    .dataframe thead th {\n",
              "        text-align: right;\n",
              "    }\n",
              "</style>\n",
              "<table border=\"1\" class=\"dataframe\">\n",
              "  <thead>\n",
              "    <tr style=\"text-align: right;\">\n",
              "      <th></th>\n",
              "      <th>month</th>\n",
              "      <th>day_of_week</th>\n",
              "      <th>y</th>\n",
              "      <th>count</th>\n",
              "    </tr>\n",
              "  </thead>\n",
              "  <tbody>\n",
              "    <tr>\n",
              "      <th>0</th>\n",
              "      <td>jan</td>\n",
              "      <td>mon</td>\n",
              "      <td>no</td>\n",
              "      <td>0</td>\n",
              "    </tr>\n",
              "    <tr>\n",
              "      <th>1</th>\n",
              "      <td>jan</td>\n",
              "      <td>mon</td>\n",
              "      <td>yes</td>\n",
              "      <td>0</td>\n",
              "    </tr>\n",
              "    <tr>\n",
              "      <th>2</th>\n",
              "      <td>jan</td>\n",
              "      <td>tue</td>\n",
              "      <td>no</td>\n",
              "      <td>0</td>\n",
              "    </tr>\n",
              "    <tr>\n",
              "      <th>3</th>\n",
              "      <td>jan</td>\n",
              "      <td>tue</td>\n",
              "      <td>yes</td>\n",
              "      <td>0</td>\n",
              "    </tr>\n",
              "    <tr>\n",
              "      <th>4</th>\n",
              "      <td>jan</td>\n",
              "      <td>wed</td>\n",
              "      <td>no</td>\n",
              "      <td>0</td>\n",
              "    </tr>\n",
              "  </tbody>\n",
              "</table>\n",
              "</div>\n",
              "    <div class=\"colab-df-buttons\">\n",
              "\n",
              "  <div class=\"colab-df-container\">\n",
              "    <button class=\"colab-df-convert\" onclick=\"convertToInteractive('df-d7a933a5-5668-4768-b5f6-500354b263a2')\"\n",
              "            title=\"Convert this dataframe to an interactive table.\"\n",
              "            style=\"display:none;\">\n",
              "\n",
              "  <svg xmlns=\"http://www.w3.org/2000/svg\" height=\"24px\" viewBox=\"0 -960 960 960\">\n",
              "    <path d=\"M120-120v-720h720v720H120Zm60-500h600v-160H180v160Zm220 220h160v-160H400v160Zm0 220h160v-160H400v160ZM180-400h160v-160H180v160Zm440 0h160v-160H620v160ZM180-180h160v-160H180v160Zm440 0h160v-160H620v160Z\"/>\n",
              "  </svg>\n",
              "    </button>\n",
              "\n",
              "  <style>\n",
              "    .colab-df-container {\n",
              "      display:flex;\n",
              "      gap: 12px;\n",
              "    }\n",
              "\n",
              "    .colab-df-convert {\n",
              "      background-color: #E8F0FE;\n",
              "      border: none;\n",
              "      border-radius: 50%;\n",
              "      cursor: pointer;\n",
              "      display: none;\n",
              "      fill: #1967D2;\n",
              "      height: 32px;\n",
              "      padding: 0 0 0 0;\n",
              "      width: 32px;\n",
              "    }\n",
              "\n",
              "    .colab-df-convert:hover {\n",
              "      background-color: #E2EBFA;\n",
              "      box-shadow: 0px 1px 2px rgba(60, 64, 67, 0.3), 0px 1px 3px 1px rgba(60, 64, 67, 0.15);\n",
              "      fill: #174EA6;\n",
              "    }\n",
              "\n",
              "    .colab-df-buttons div {\n",
              "      margin-bottom: 4px;\n",
              "    }\n",
              "\n",
              "    [theme=dark] .colab-df-convert {\n",
              "      background-color: #3B4455;\n",
              "      fill: #D2E3FC;\n",
              "    }\n",
              "\n",
              "    [theme=dark] .colab-df-convert:hover {\n",
              "      background-color: #434B5C;\n",
              "      box-shadow: 0px 1px 3px 1px rgba(0, 0, 0, 0.15);\n",
              "      filter: drop-shadow(0px 1px 2px rgba(0, 0, 0, 0.3));\n",
              "      fill: #FFFFFF;\n",
              "    }\n",
              "  </style>\n",
              "\n",
              "    <script>\n",
              "      const buttonEl =\n",
              "        document.querySelector('#df-d7a933a5-5668-4768-b5f6-500354b263a2 button.colab-df-convert');\n",
              "      buttonEl.style.display =\n",
              "        google.colab.kernel.accessAllowed ? 'block' : 'none';\n",
              "\n",
              "      async function convertToInteractive(key) {\n",
              "        const element = document.querySelector('#df-d7a933a5-5668-4768-b5f6-500354b263a2');\n",
              "        const dataTable =\n",
              "          await google.colab.kernel.invokeFunction('convertToInteractive',\n",
              "                                                    [key], {});\n",
              "        if (!dataTable) return;\n",
              "\n",
              "        const docLinkHtml = 'Like what you see? Visit the ' +\n",
              "          '<a target=\"_blank\" href=https://colab.research.google.com/notebooks/data_table.ipynb>data table notebook</a>'\n",
              "          + ' to learn more about interactive tables.';\n",
              "        element.innerHTML = '';\n",
              "        dataTable['output_type'] = 'display_data';\n",
              "        await google.colab.output.renderOutput(dataTable, element);\n",
              "        const docLink = document.createElement('div');\n",
              "        docLink.innerHTML = docLinkHtml;\n",
              "        element.appendChild(docLink);\n",
              "      }\n",
              "    </script>\n",
              "  </div>\n",
              "\n",
              "\n",
              "<div id=\"df-0dd21b88-c666-4273-a22a-5ab1e3966ba4\">\n",
              "  <button class=\"colab-df-quickchart\" onclick=\"quickchart('df-0dd21b88-c666-4273-a22a-5ab1e3966ba4')\"\n",
              "            title=\"Suggest charts.\"\n",
              "            style=\"display:none;\">\n",
              "\n",
              "<svg xmlns=\"http://www.w3.org/2000/svg\" height=\"24px\"viewBox=\"0 0 24 24\"\n",
              "     width=\"24px\">\n",
              "    <g>\n",
              "        <path d=\"M19 3H5c-1.1 0-2 .9-2 2v14c0 1.1.9 2 2 2h14c1.1 0 2-.9 2-2V5c0-1.1-.9-2-2-2zM9 17H7v-7h2v7zm4 0h-2V7h2v10zm4 0h-2v-4h2v4z\"/>\n",
              "    </g>\n",
              "</svg>\n",
              "  </button>\n",
              "\n",
              "<style>\n",
              "  .colab-df-quickchart {\n",
              "      --bg-color: #E8F0FE;\n",
              "      --fill-color: #1967D2;\n",
              "      --hover-bg-color: #E2EBFA;\n",
              "      --hover-fill-color: #174EA6;\n",
              "      --disabled-fill-color: #AAA;\n",
              "      --disabled-bg-color: #DDD;\n",
              "  }\n",
              "\n",
              "  [theme=dark] .colab-df-quickchart {\n",
              "      --bg-color: #3B4455;\n",
              "      --fill-color: #D2E3FC;\n",
              "      --hover-bg-color: #434B5C;\n",
              "      --hover-fill-color: #FFFFFF;\n",
              "      --disabled-bg-color: #3B4455;\n",
              "      --disabled-fill-color: #666;\n",
              "  }\n",
              "\n",
              "  .colab-df-quickchart {\n",
              "    background-color: var(--bg-color);\n",
              "    border: none;\n",
              "    border-radius: 50%;\n",
              "    cursor: pointer;\n",
              "    display: none;\n",
              "    fill: var(--fill-color);\n",
              "    height: 32px;\n",
              "    padding: 0;\n",
              "    width: 32px;\n",
              "  }\n",
              "\n",
              "  .colab-df-quickchart:hover {\n",
              "    background-color: var(--hover-bg-color);\n",
              "    box-shadow: 0 1px 2px rgba(60, 64, 67, 0.3), 0 1px 3px 1px rgba(60, 64, 67, 0.15);\n",
              "    fill: var(--button-hover-fill-color);\n",
              "  }\n",
              "\n",
              "  .colab-df-quickchart-complete:disabled,\n",
              "  .colab-df-quickchart-complete:disabled:hover {\n",
              "    background-color: var(--disabled-bg-color);\n",
              "    fill: var(--disabled-fill-color);\n",
              "    box-shadow: none;\n",
              "  }\n",
              "\n",
              "  .colab-df-spinner {\n",
              "    border: 2px solid var(--fill-color);\n",
              "    border-color: transparent;\n",
              "    border-bottom-color: var(--fill-color);\n",
              "    animation:\n",
              "      spin 1s steps(1) infinite;\n",
              "  }\n",
              "\n",
              "  @keyframes spin {\n",
              "    0% {\n",
              "      border-color: transparent;\n",
              "      border-bottom-color: var(--fill-color);\n",
              "      border-left-color: var(--fill-color);\n",
              "    }\n",
              "    20% {\n",
              "      border-color: transparent;\n",
              "      border-left-color: var(--fill-color);\n",
              "      border-top-color: var(--fill-color);\n",
              "    }\n",
              "    30% {\n",
              "      border-color: transparent;\n",
              "      border-left-color: var(--fill-color);\n",
              "      border-top-color: var(--fill-color);\n",
              "      border-right-color: var(--fill-color);\n",
              "    }\n",
              "    40% {\n",
              "      border-color: transparent;\n",
              "      border-right-color: var(--fill-color);\n",
              "      border-top-color: var(--fill-color);\n",
              "    }\n",
              "    60% {\n",
              "      border-color: transparent;\n",
              "      border-right-color: var(--fill-color);\n",
              "    }\n",
              "    80% {\n",
              "      border-color: transparent;\n",
              "      border-right-color: var(--fill-color);\n",
              "      border-bottom-color: var(--fill-color);\n",
              "    }\n",
              "    90% {\n",
              "      border-color: transparent;\n",
              "      border-bottom-color: var(--fill-color);\n",
              "    }\n",
              "  }\n",
              "</style>\n",
              "\n",
              "  <script>\n",
              "    async function quickchart(key) {\n",
              "      const quickchartButtonEl =\n",
              "        document.querySelector('#' + key + ' button');\n",
              "      quickchartButtonEl.disabled = true;  // To prevent multiple clicks.\n",
              "      quickchartButtonEl.classList.add('colab-df-spinner');\n",
              "      try {\n",
              "        const charts = await google.colab.kernel.invokeFunction(\n",
              "            'suggestCharts', [key], {});\n",
              "      } catch (error) {\n",
              "        console.error('Error during call to suggestCharts:', error);\n",
              "      }\n",
              "      quickchartButtonEl.classList.remove('colab-df-spinner');\n",
              "      quickchartButtonEl.classList.add('colab-df-quickchart-complete');\n",
              "    }\n",
              "    (() => {\n",
              "      let quickchartButtonEl =\n",
              "        document.querySelector('#df-0dd21b88-c666-4273-a22a-5ab1e3966ba4 button');\n",
              "      quickchartButtonEl.style.display =\n",
              "        google.colab.kernel.accessAllowed ? 'block' : 'none';\n",
              "    })();\n",
              "  </script>\n",
              "</div>\n",
              "    </div>\n",
              "  </div>\n"
            ],
            "application/vnd.google.colaboratory.module+javascript": "\n      import \"https://ssl.gstatic.com/colaboratory/data_table/881c4a0d49046431/data_table.js\";\n\n      const table = window.createDataTable({\n        data: [[{\n            'v': 0,\n            'f': \"0\",\n        },\n\"jan\",\n\"mon\",\n\"no\",\n{\n            'v': 0,\n            'f': \"0\",\n        }],\n [{\n            'v': 1,\n            'f': \"1\",\n        },\n\"jan\",\n\"mon\",\n\"yes\",\n{\n            'v': 0,\n            'f': \"0\",\n        }],\n [{\n            'v': 2,\n            'f': \"2\",\n        },\n\"jan\",\n\"tue\",\n\"no\",\n{\n            'v': 0,\n            'f': \"0\",\n        }],\n [{\n            'v': 3,\n            'f': \"3\",\n        },\n\"jan\",\n\"tue\",\n\"yes\",\n{\n            'v': 0,\n            'f': \"0\",\n        }],\n [{\n            'v': 4,\n            'f': \"4\",\n        },\n\"jan\",\n\"wed\",\n\"no\",\n{\n            'v': 0,\n            'f': \"0\",\n        }]],\n        columns: [[\"number\", \"index\"], [\"string\", \"month\"], [\"string\", \"day_of_week\"], [\"string\", \"y\"], [\"number\", \"count\"]],\n        columnOptions: [{\"width\": \"1px\", \"className\": \"index_column\"}],\n        rowsPerPage: 25,\n        helpUrl: \"https://colab.research.google.com/notebooks/data_table.ipynb\",\n        suppressOutputScrolling: true,\n        minimumWidth: undefined,\n      });\n\n      function appendQuickchartButton(parentElement) {\n        let quickchartButtonContainerElement = document.createElement('div');\n        quickchartButtonContainerElement.innerHTML = `\n<div id=\"df-57f363db-4ab0-4d7f-9b83-fdcac1a72543\">\n  <button class=\"colab-df-quickchart\" onclick=\"quickchart('df-57f363db-4ab0-4d7f-9b83-fdcac1a72543')\"\n            title=\"Suggest charts.\"\n            style=\"display:none;\">\n    \n<svg xmlns=\"http://www.w3.org/2000/svg\" height=\"24px\"viewBox=\"0 0 24 24\"\n     width=\"24px\">\n    <g>\n        <path d=\"M19 3H5c-1.1 0-2 .9-2 2v14c0 1.1.9 2 2 2h14c1.1 0 2-.9 2-2V5c0-1.1-.9-2-2-2zM9 17H7v-7h2v7zm4 0h-2V7h2v10zm4 0h-2v-4h2v4z\"/>\n    </g>\n</svg>\n  </button>\n  \n<style>\n  .colab-df-quickchart {\n      --bg-color: #E8F0FE;\n      --fill-color: #1967D2;\n      --hover-bg-color: #E2EBFA;\n      --hover-fill-color: #174EA6;\n      --disabled-fill-color: #AAA;\n      --disabled-bg-color: #DDD;\n  }\n\n  [theme=dark] .colab-df-quickchart {\n      --bg-color: #3B4455;\n      --fill-color: #D2E3FC;\n      --hover-bg-color: #434B5C;\n      --hover-fill-color: #FFFFFF;\n      --disabled-bg-color: #3B4455;\n      --disabled-fill-color: #666;\n  }\n\n  .colab-df-quickchart {\n    background-color: var(--bg-color);\n    border: none;\n    border-radius: 50%;\n    cursor: pointer;\n    display: none;\n    fill: var(--fill-color);\n    height: 32px;\n    padding: 0;\n    width: 32px;\n  }\n\n  .colab-df-quickchart:hover {\n    background-color: var(--hover-bg-color);\n    box-shadow: 0 1px 2px rgba(60, 64, 67, 0.3), 0 1px 3px 1px rgba(60, 64, 67, 0.15);\n    fill: var(--button-hover-fill-color);\n  }\n\n  .colab-df-quickchart-complete:disabled,\n  .colab-df-quickchart-complete:disabled:hover {\n    background-color: var(--disabled-bg-color);\n    fill: var(--disabled-fill-color);\n    box-shadow: none;\n  }\n\n  .colab-df-spinner {\n    border: 2px solid var(--fill-color);\n    border-color: transparent;\n    border-bottom-color: var(--fill-color);\n    animation:\n      spin 1s steps(1) infinite;\n  }\n\n  @keyframes spin {\n    0% {\n      border-color: transparent;\n      border-bottom-color: var(--fill-color);\n      border-left-color: var(--fill-color);\n    }\n    20% {\n      border-color: transparent;\n      border-left-color: var(--fill-color);\n      border-top-color: var(--fill-color);\n    }\n    30% {\n      border-color: transparent;\n      border-left-color: var(--fill-color);\n      border-top-color: var(--fill-color);\n      border-right-color: var(--fill-color);\n    }\n    40% {\n      border-color: transparent;\n      border-right-color: var(--fill-color);\n      border-top-color: var(--fill-color);\n    }\n    60% {\n      border-color: transparent;\n      border-right-color: var(--fill-color);\n    }\n    80% {\n      border-color: transparent;\n      border-right-color: var(--fill-color);\n      border-bottom-color: var(--fill-color);\n    }\n    90% {\n      border-color: transparent;\n      border-bottom-color: var(--fill-color);\n    }\n  }\n</style>\n\n  <script>\n    async function quickchart(key) {\n      const quickchartButtonEl =\n        document.querySelector('#' + key + ' button');\n      quickchartButtonEl.disabled = true;  // To prevent multiple clicks.\n      quickchartButtonEl.classList.add('colab-df-spinner');\n      try {\n        const charts = await google.colab.kernel.invokeFunction(\n            'suggestCharts', [key], {});\n      } catch (error) {\n        console.error('Error during call to suggestCharts:', error);\n      }\n      quickchartButtonEl.classList.remove('colab-df-spinner');\n      quickchartButtonEl.classList.add('colab-df-quickchart-complete');\n    }\n    (() => {\n      let quickchartButtonEl =\n        document.querySelector('#df-57f363db-4ab0-4d7f-9b83-fdcac1a72543 button');\n      quickchartButtonEl.style.display =\n        google.colab.kernel.accessAllowed ? 'block' : 'none';\n    })();\n  </script>\n</div>`;\n        parentElement.appendChild(quickchartButtonContainerElement);\n      }\n\n      appendQuickchartButton(table);\n    "
          },
          "metadata": {},
          "execution_count": 304
        }
      ],
      "source": [
        "df_agg.head()"
      ]
    },
    {
      "cell_type": "markdown",
      "source": [],
      "metadata": {
        "id": "FMsaOq0FilHu"
      }
    },
    {
      "cell_type": "code",
      "execution_count": 313,
      "metadata": {
        "colab": {
          "base_uri": "https://localhost:8080/",
          "height": 1000
        },
        "id": "nPksv1n77hF4",
        "outputId": "d74618aa-d44c-4b6f-9ae8-31aacb470e93"
      },
      "outputs": [
        {
          "output_type": "display_data",
          "data": {
            "text/html": [
              "<html>\n",
              "<head><meta charset=\"utf-8\" /></head>\n",
              "<body>\n",
              "    <div>            <script src=\"https://cdnjs.cloudflare.com/ajax/libs/mathjax/2.7.5/MathJax.js?config=TeX-AMS-MML_SVG\"></script><script type=\"text/javascript\">if (window.MathJax && window.MathJax.Hub && window.MathJax.Hub.Config) {window.MathJax.Hub.Config({SVG: {font: \"STIX-Web\"}});}</script>                <script type=\"text/javascript\">window.PlotlyConfig = {MathJaxConfig: 'local'};</script>\n",
              "        <script charset=\"utf-8\" src=\"https://cdn.plot.ly/plotly-2.24.1.min.js\"></script>                <div id=\"0de72dae-0b0f-4fff-a690-e4a7e00e0435\" class=\"plotly-graph-div\" style=\"height:525px; width:100%;\"></div>            <script type=\"text/javascript\">                                    window.PLOTLYENV=window.PLOTLYENV || {};                                    if (document.getElementById(\"0de72dae-0b0f-4fff-a690-e4a7e00e0435\")) {                    Plotly.newPlot(                        \"0de72dae-0b0f-4fff-a690-e4a7e00e0435\",                        [{\"name\":\"mon\",\"x\":[\"jan\",\"jan\",\"feb\",\"feb\",\"mar\",\"mar\",\"apr\",\"apr\",\"may\",\"may\",\"jun\",\"jun\",\"jul\",\"jul\",\"aug\",\"aug\",\"sep\",\"sep\",\"oct\",\"oct\",\"nov\",\"nov\",\"dec\",\"dec\"],\"y\":[0,0,0,0,5,8,55,2,240,23,116,15,128,14,106,12,7,5,15,4,82,10,3,5],\"type\":\"bar\"},{\"name\":\"tue\",\"x\":[\"jan\",\"jan\",\"feb\",\"feb\",\"mar\",\"mar\",\"apr\",\"apr\",\"may\",\"may\",\"jun\",\"jun\",\"jul\",\"jul\",\"aug\",\"aug\",\"sep\",\"sep\",\"oct\",\"oct\",\"nov\",\"nov\",\"dec\",\"dec\"],\"y\":[0,0,0,0,5,10,13,8,281,14,87,13,138,7,137,19,11,6,9,3,69,11,0,0],\"type\":\"bar\"},{\"name\":\"wed\",\"x\":[\"jan\",\"jan\",\"feb\",\"feb\",\"mar\",\"mar\",\"apr\",\"apr\",\"may\",\"may\",\"jun\",\"jun\",\"jul\",\"jul\",\"aug\",\"aug\",\"sep\",\"sep\",\"oct\",\"oct\",\"nov\",\"nov\",\"dec\",\"dec\"],\"y\":[0,0,0,0,1,3,12,5,285,20,71,15,140,13,102,10,5,2,5,5,90,5,1,5],\"type\":\"bar\"},{\"name\":\"thu\",\"x\":[\"jan\",\"jan\",\"feb\",\"feb\",\"mar\",\"mar\",\"apr\",\"apr\",\"may\",\"may\",\"jun\",\"jun\",\"jul\",\"jul\",\"aug\",\"aug\",\"sep\",\"sep\",\"oct\",\"oct\",\"nov\",\"nov\",\"dec\",\"dec\"],\"y\":[0,0,0,0,5,3,45,14,231,14,81,13,153,16,129,13,8,7,7,7,101,7,4,2],\"type\":\"bar\"},{\"name\":\"fri\",\"x\":[\"jan\",\"jan\",\"feb\",\"feb\",\"mar\",\"mar\",\"apr\",\"apr\",\"may\",\"may\",\"jun\",\"jun\",\"jul\",\"jul\",\"aug\",\"aug\",\"sep\",\"sep\",\"oct\",\"oct\",\"nov\",\"nov\",\"dec\",\"dec\"],\"y\":[0,0,0,0,4,4,54,7,251,19,107,12,93,9,98,10,7,6,8,6,61,10,2,0],\"type\":\"bar\"}],                        {\"template\":{\"data\":{\"histogram2dcontour\":[{\"type\":\"histogram2dcontour\",\"colorbar\":{\"outlinewidth\":0,\"ticks\":\"\"},\"colorscale\":[[0.0,\"#0d0887\"],[0.1111111111111111,\"#46039f\"],[0.2222222222222222,\"#7201a8\"],[0.3333333333333333,\"#9c179e\"],[0.4444444444444444,\"#bd3786\"],[0.5555555555555556,\"#d8576b\"],[0.6666666666666666,\"#ed7953\"],[0.7777777777777778,\"#fb9f3a\"],[0.8888888888888888,\"#fdca26\"],[1.0,\"#f0f921\"]]}],\"choropleth\":[{\"type\":\"choropleth\",\"colorbar\":{\"outlinewidth\":0,\"ticks\":\"\"}}],\"histogram2d\":[{\"type\":\"histogram2d\",\"colorbar\":{\"outlinewidth\":0,\"ticks\":\"\"},\"colorscale\":[[0.0,\"#0d0887\"],[0.1111111111111111,\"#46039f\"],[0.2222222222222222,\"#7201a8\"],[0.3333333333333333,\"#9c179e\"],[0.4444444444444444,\"#bd3786\"],[0.5555555555555556,\"#d8576b\"],[0.6666666666666666,\"#ed7953\"],[0.7777777777777778,\"#fb9f3a\"],[0.8888888888888888,\"#fdca26\"],[1.0,\"#f0f921\"]]}],\"heatmap\":[{\"type\":\"heatmap\",\"colorbar\":{\"outlinewidth\":0,\"ticks\":\"\"},\"colorscale\":[[0.0,\"#0d0887\"],[0.1111111111111111,\"#46039f\"],[0.2222222222222222,\"#7201a8\"],[0.3333333333333333,\"#9c179e\"],[0.4444444444444444,\"#bd3786\"],[0.5555555555555556,\"#d8576b\"],[0.6666666666666666,\"#ed7953\"],[0.7777777777777778,\"#fb9f3a\"],[0.8888888888888888,\"#fdca26\"],[1.0,\"#f0f921\"]]}],\"heatmapgl\":[{\"type\":\"heatmapgl\",\"colorbar\":{\"outlinewidth\":0,\"ticks\":\"\"},\"colorscale\":[[0.0,\"#0d0887\"],[0.1111111111111111,\"#46039f\"],[0.2222222222222222,\"#7201a8\"],[0.3333333333333333,\"#9c179e\"],[0.4444444444444444,\"#bd3786\"],[0.5555555555555556,\"#d8576b\"],[0.6666666666666666,\"#ed7953\"],[0.7777777777777778,\"#fb9f3a\"],[0.8888888888888888,\"#fdca26\"],[1.0,\"#f0f921\"]]}],\"contourcarpet\":[{\"type\":\"contourcarpet\",\"colorbar\":{\"outlinewidth\":0,\"ticks\":\"\"}}],\"contour\":[{\"type\":\"contour\",\"colorbar\":{\"outlinewidth\":0,\"ticks\":\"\"},\"colorscale\":[[0.0,\"#0d0887\"],[0.1111111111111111,\"#46039f\"],[0.2222222222222222,\"#7201a8\"],[0.3333333333333333,\"#9c179e\"],[0.4444444444444444,\"#bd3786\"],[0.5555555555555556,\"#d8576b\"],[0.6666666666666666,\"#ed7953\"],[0.7777777777777778,\"#fb9f3a\"],[0.8888888888888888,\"#fdca26\"],[1.0,\"#f0f921\"]]}],\"surface\":[{\"type\":\"surface\",\"colorbar\":{\"outlinewidth\":0,\"ticks\":\"\"},\"colorscale\":[[0.0,\"#0d0887\"],[0.1111111111111111,\"#46039f\"],[0.2222222222222222,\"#7201a8\"],[0.3333333333333333,\"#9c179e\"],[0.4444444444444444,\"#bd3786\"],[0.5555555555555556,\"#d8576b\"],[0.6666666666666666,\"#ed7953\"],[0.7777777777777778,\"#fb9f3a\"],[0.8888888888888888,\"#fdca26\"],[1.0,\"#f0f921\"]]}],\"mesh3d\":[{\"type\":\"mesh3d\",\"colorbar\":{\"outlinewidth\":0,\"ticks\":\"\"}}],\"scatter\":[{\"fillpattern\":{\"fillmode\":\"overlay\",\"size\":10,\"solidity\":0.2},\"type\":\"scatter\"}],\"parcoords\":[{\"type\":\"parcoords\",\"line\":{\"colorbar\":{\"outlinewidth\":0,\"ticks\":\"\"}}}],\"scatterpolargl\":[{\"type\":\"scatterpolargl\",\"marker\":{\"colorbar\":{\"outlinewidth\":0,\"ticks\":\"\"}}}],\"bar\":[{\"error_x\":{\"color\":\"#2a3f5f\"},\"error_y\":{\"color\":\"#2a3f5f\"},\"marker\":{\"line\":{\"color\":\"#E5ECF6\",\"width\":0.5},\"pattern\":{\"fillmode\":\"overlay\",\"size\":10,\"solidity\":0.2}},\"type\":\"bar\"}],\"scattergeo\":[{\"type\":\"scattergeo\",\"marker\":{\"colorbar\":{\"outlinewidth\":0,\"ticks\":\"\"}}}],\"scatterpolar\":[{\"type\":\"scatterpolar\",\"marker\":{\"colorbar\":{\"outlinewidth\":0,\"ticks\":\"\"}}}],\"histogram\":[{\"marker\":{\"pattern\":{\"fillmode\":\"overlay\",\"size\":10,\"solidity\":0.2}},\"type\":\"histogram\"}],\"scattergl\":[{\"type\":\"scattergl\",\"marker\":{\"colorbar\":{\"outlinewidth\":0,\"ticks\":\"\"}}}],\"scatter3d\":[{\"type\":\"scatter3d\",\"line\":{\"colorbar\":{\"outlinewidth\":0,\"ticks\":\"\"}},\"marker\":{\"colorbar\":{\"outlinewidth\":0,\"ticks\":\"\"}}}],\"scattermapbox\":[{\"type\":\"scattermapbox\",\"marker\":{\"colorbar\":{\"outlinewidth\":0,\"ticks\":\"\"}}}],\"scatterternary\":[{\"type\":\"scatterternary\",\"marker\":{\"colorbar\":{\"outlinewidth\":0,\"ticks\":\"\"}}}],\"scattercarpet\":[{\"type\":\"scattercarpet\",\"marker\":{\"colorbar\":{\"outlinewidth\":0,\"ticks\":\"\"}}}],\"carpet\":[{\"aaxis\":{\"endlinecolor\":\"#2a3f5f\",\"gridcolor\":\"white\",\"linecolor\":\"white\",\"minorgridcolor\":\"white\",\"startlinecolor\":\"#2a3f5f\"},\"baxis\":{\"endlinecolor\":\"#2a3f5f\",\"gridcolor\":\"white\",\"linecolor\":\"white\",\"minorgridcolor\":\"white\",\"startlinecolor\":\"#2a3f5f\"},\"type\":\"carpet\"}],\"table\":[{\"cells\":{\"fill\":{\"color\":\"#EBF0F8\"},\"line\":{\"color\":\"white\"}},\"header\":{\"fill\":{\"color\":\"#C8D4E3\"},\"line\":{\"color\":\"white\"}},\"type\":\"table\"}],\"barpolar\":[{\"marker\":{\"line\":{\"color\":\"#E5ECF6\",\"width\":0.5},\"pattern\":{\"fillmode\":\"overlay\",\"size\":10,\"solidity\":0.2}},\"type\":\"barpolar\"}],\"pie\":[{\"automargin\":true,\"type\":\"pie\"}]},\"layout\":{\"autotypenumbers\":\"strict\",\"colorway\":[\"#636efa\",\"#EF553B\",\"#00cc96\",\"#ab63fa\",\"#FFA15A\",\"#19d3f3\",\"#FF6692\",\"#B6E880\",\"#FF97FF\",\"#FECB52\"],\"font\":{\"color\":\"#2a3f5f\"},\"hovermode\":\"closest\",\"hoverlabel\":{\"align\":\"left\"},\"paper_bgcolor\":\"white\",\"plot_bgcolor\":\"#E5ECF6\",\"polar\":{\"bgcolor\":\"#E5ECF6\",\"angularaxis\":{\"gridcolor\":\"white\",\"linecolor\":\"white\",\"ticks\":\"\"},\"radialaxis\":{\"gridcolor\":\"white\",\"linecolor\":\"white\",\"ticks\":\"\"}},\"ternary\":{\"bgcolor\":\"#E5ECF6\",\"aaxis\":{\"gridcolor\":\"white\",\"linecolor\":\"white\",\"ticks\":\"\"},\"baxis\":{\"gridcolor\":\"white\",\"linecolor\":\"white\",\"ticks\":\"\"},\"caxis\":{\"gridcolor\":\"white\",\"linecolor\":\"white\",\"ticks\":\"\"}},\"coloraxis\":{\"colorbar\":{\"outlinewidth\":0,\"ticks\":\"\"}},\"colorscale\":{\"sequential\":[[0.0,\"#0d0887\"],[0.1111111111111111,\"#46039f\"],[0.2222222222222222,\"#7201a8\"],[0.3333333333333333,\"#9c179e\"],[0.4444444444444444,\"#bd3786\"],[0.5555555555555556,\"#d8576b\"],[0.6666666666666666,\"#ed7953\"],[0.7777777777777778,\"#fb9f3a\"],[0.8888888888888888,\"#fdca26\"],[1.0,\"#f0f921\"]],\"sequentialminus\":[[0.0,\"#0d0887\"],[0.1111111111111111,\"#46039f\"],[0.2222222222222222,\"#7201a8\"],[0.3333333333333333,\"#9c179e\"],[0.4444444444444444,\"#bd3786\"],[0.5555555555555556,\"#d8576b\"],[0.6666666666666666,\"#ed7953\"],[0.7777777777777778,\"#fb9f3a\"],[0.8888888888888888,\"#fdca26\"],[1.0,\"#f0f921\"]],\"diverging\":[[0,\"#8e0152\"],[0.1,\"#c51b7d\"],[0.2,\"#de77ae\"],[0.3,\"#f1b6da\"],[0.4,\"#fde0ef\"],[0.5,\"#f7f7f7\"],[0.6,\"#e6f5d0\"],[0.7,\"#b8e186\"],[0.8,\"#7fbc41\"],[0.9,\"#4d9221\"],[1,\"#276419\"]]},\"xaxis\":{\"gridcolor\":\"white\",\"linecolor\":\"white\",\"ticks\":\"\",\"title\":{\"standoff\":15},\"zerolinecolor\":\"white\",\"automargin\":true,\"zerolinewidth\":2},\"yaxis\":{\"gridcolor\":\"white\",\"linecolor\":\"white\",\"ticks\":\"\",\"title\":{\"standoff\":15},\"zerolinecolor\":\"white\",\"automargin\":true,\"zerolinewidth\":2},\"scene\":{\"xaxis\":{\"backgroundcolor\":\"#E5ECF6\",\"gridcolor\":\"white\",\"linecolor\":\"white\",\"showbackground\":true,\"ticks\":\"\",\"zerolinecolor\":\"white\",\"gridwidth\":2},\"yaxis\":{\"backgroundcolor\":\"#E5ECF6\",\"gridcolor\":\"white\",\"linecolor\":\"white\",\"showbackground\":true,\"ticks\":\"\",\"zerolinecolor\":\"white\",\"gridwidth\":2},\"zaxis\":{\"backgroundcolor\":\"#E5ECF6\",\"gridcolor\":\"white\",\"linecolor\":\"white\",\"showbackground\":true,\"ticks\":\"\",\"zerolinecolor\":\"white\",\"gridwidth\":2}},\"shapedefaults\":{\"line\":{\"color\":\"#2a3f5f\"}},\"annotationdefaults\":{\"arrowcolor\":\"#2a3f5f\",\"arrowhead\":0,\"arrowwidth\":1},\"geo\":{\"bgcolor\":\"white\",\"landcolor\":\"#E5ECF6\",\"subunitcolor\":\"white\",\"showland\":true,\"showlakes\":true,\"lakecolor\":\"white\"},\"title\":{\"x\":0.05},\"mapbox\":{\"style\":\"light\"}}},\"barmode\":\"group\",\"xaxis\":{\"title\":{\"text\":\"Month\"}},\"yaxis\":{\"title\":{\"text\":\"Count\"}},\"title\":{\"text\":\"Grouped Bar Chart of Month and Day of Week vs. Target (y)\"}},                        {\"responsive\": true}                    ).then(function(){\n",
              "                            \n",
              "var gd = document.getElementById('0de72dae-0b0f-4fff-a690-e4a7e00e0435');\n",
              "var x = new MutationObserver(function (mutations, observer) {{\n",
              "        var display = window.getComputedStyle(gd).display;\n",
              "        if (!display || display === 'none') {{\n",
              "            console.log([gd, 'removed!']);\n",
              "            Plotly.purge(gd);\n",
              "            observer.disconnect();\n",
              "        }}\n",
              "}});\n",
              "\n",
              "// Listen for the removal of the full notebook cells\n",
              "var notebookContainer = gd.closest('#notebook-container');\n",
              "if (notebookContainer) {{\n",
              "    x.observe(notebookContainer, {childList: true});\n",
              "}}\n",
              "\n",
              "// Listen for the clearing of the current output cell\n",
              "var outputEl = gd.closest('.output');\n",
              "if (outputEl) {{\n",
              "    x.observe(outputEl, {childList: true});\n",
              "}}\n",
              "\n",
              "                        })                };                            </script>        </div>\n",
              "</body>\n",
              "</html>"
            ]
          },
          "metadata": {}
        },
        {
          "output_type": "stream",
          "name": "stdout",
          "text": [
            "\n"
          ]
        },
        {
          "output_type": "display_data",
          "data": {
            "image/png": "[encoded data removed]"
          },
          "metadata": {}
        }
      ],
      "source": [
        "fig = go.Figure()\n",
        "\n",
        "for day in df_agg['day_of_week'].unique():\n",
        "    data = df_agg[df_agg['day_of_week'] == day]\n",
        "    fig.add_trace(go.Bar(x=data['month'], y=data['count'], name=day))\n",
        "\n",
        "fig.update_layout(\n",
        "    barmode='group',\n",
        "    xaxis=dict(title='Month'),\n",
        "    yaxis=dict(title='Count'),\n",
        "    title='Grouped Bar Chart of Month and Day of Week vs. Target (y)'\n",
        ")\n",
        "\n",
        "fig.show()\n",
        "print()\n",
        "fig.show('png') # werjsa do zapisania w GitHub"
      ]
    },
    {
      "cell_type": "code",
      "source": [
        "!pip install -q kaleido"
      ],
      "metadata": {
        "id": "INrtZeHyielh"
      },
      "execution_count": 307,
      "outputs": []
    },
    {
      "cell_type": "code",
      "source": [
        "fig = go.Figure()\n",
        "\n",
        "for day in df_agg['day_of_week'].unique():\n",
        "    data = df_agg[df_agg['day_of_week'] == day]\n",
        "    fig.add_trace(go.Bar(x=data['month'], y=data['count'], name=day))\n",
        "\n",
        "fig.update_layout(\n",
        "    barmode='group',\n",
        "    xaxis=dict(title='Month'),\n",
        "    yaxis=dict(title='Count'),\n",
        "    title='Grouped Bar Chart of Month and Day of Week vs. Target (y)'\n",
        ")\n",
        "\n",
        "# Zapisz wykres do pliku PNG\n",
        "fig.write_image(\"chart.png\")"
      ],
      "metadata": {
        "id": "dT-2k1n3im6l"
      },
      "execution_count": 309,
      "outputs": []
    },
    {
      "cell_type": "code",
      "source": [
        "stop"
      ],
      "metadata": {
        "colab": {
          "base_uri": "https://localhost:8080/",
          "height": 181
        },
        "id": "dKfKUWK3hAyG",
        "outputId": "8d159dc9-005f-440b-8b15-cf7b46ddffbf"
      },
      "execution_count": 306,
      "outputs": [
        {
          "output_type": "error",
          "ename": "NameError",
          "evalue": "ignored",
          "traceback": [
            "\u001b[0;31m---------------------------------------------------------------------------\u001b[0m",
            "\u001b[0;31mNameError\u001b[0m                                 Traceback (most recent call last)",
            "\u001b[0;32m<ipython-input-306-4f76a9dad686>\u001b[0m in \u001b[0;36m<cell line: 1>\u001b[0;34m()\u001b[0m\n\u001b[0;32m----> 1\u001b[0;31m \u001b[0mstop\u001b[0m\u001b[0;34m\u001b[0m\u001b[0;34m\u001b[0m\u001b[0m\n\u001b[0m",
            "\u001b[0;31mNameError\u001b[0m: name 'stop' is not defined"
          ]
        }
      ]
    },
    {
      "cell_type": "markdown",
      "metadata": {
        "id": "gXqFhEM4Bx8U"
      },
      "source": [
        "Duration column -"
      ]
    },
    {
      "cell_type": "code",
      "execution_count": null,
      "metadata": {
        "id": "d3QKZbb2BxVk"
      },
      "outputs": [],
      "source": [
        "print(df.groupby('y')['duration'].describe())"
      ]
    },
    {
      "cell_type": "code",
      "execution_count": null,
      "metadata": {
        "id": "K3vvPT_2FtFl"
      },
      "outputs": [],
      "source": [
        "plt.figure(figsize=(8, 6))\n",
        "sns.boxplot(x='y', y='duration', data=df)\n",
        "plt.title('Duration by Target')\n",
        "plt.xlabel('Target')\n",
        "plt.ylabel('Duration (seconds)')\n",
        "plt.show()"
      ]
    },
    {
      "cell_type": "code",
      "execution_count": null,
      "metadata": {
        "id": "YIW1FWsX4pPD"
      },
      "outputs": [],
      "source": [
        "from scipy import stats\n",
        "\n",
        "duration_yes = df[df['y'] == 'yes']['duration']\n",
        "duration_no = df[df['y'] == 'no']['duration']\n",
        "t_stat, p_value = stats.ttest_ind(duration_yes, duration_no)\n",
        "\n",
        "print(f'T-test statistic: {t_stat}')\n",
        "print(f'P-value: {p_value}')\n",
        "\n",
        "# Check the significance level (usually 0.05)\n",
        "alpha = 0.05\n",
        "print(\"There is a significant difference between 'yes' and ' no' groups.\") if p_value < alpha else print(\"There is no significant difference between 'yes' and 'no' groups.\")"
      ]
    },
    {
      "cell_type": "code",
      "execution_count": null,
      "metadata": {
        "id": "5aH_XI8L91Mk"
      },
      "outputs": [],
      "source": [
        "num_bins = 15 # You can adjust the number of bins as needed\n",
        "df['duration_category'] = pd.qcut(df['duration'], q=num_bins, labels=False)\n",
        "\n",
        "# contingency_table = pd.crosstab(df['y'], df['duration_category'])\n",
        "# chi2, p, _, _= chi2_contingency(contingency_table)\n",
        "\n",
        "# print(f'Chi-squared statistic: {chi2}')\n",
        "# print(f'P-value: {p}')\n",
        "\n",
        "# alpha = 0.05\n",
        "# print(\"There is a significant relationship between 'y' and 'duration_category'.\") if p < alpha else print(\"There is no significant relationship between 'y' and 'duration_category'.\")"
      ]
    },
    {
      "cell_type": "code",
      "execution_count": null,
      "metadata": {
        "id": "A_kCjpt579f7"
      },
      "outputs": [],
      "source": [
        "# cancel the duration column after benchmarking !!!"
      ]
    },
    {
      "cell_type": "code",
      "execution_count": null,
      "metadata": {
        "id": "YiRR5OmqSEz4"
      },
      "outputs": [],
      "source": [
        "df['duration_category']"
      ]
    },
    {
      "cell_type": "markdown",
      "metadata": {
        "id": "ZLVouiAwUvuR"
      },
      "source": [
        "Campaign column"
      ]
    },
    {
      "cell_type": "code",
      "execution_count": null,
      "metadata": {
        "id": "gAibVD7iNqRp"
      },
      "outputs": [],
      "source": [
        "plt.figure(figsize=(6, 4))\n",
        "sns.boxplot(x='y', y='campaign', data=df)\n",
        "plt.title(f'campaign by Target')\n",
        "plt.xlabel('Target (y)')\n",
        "plt.ylabel('Number of contacts')\n",
        "plt.show()"
      ]
    },
    {
      "cell_type": "code",
      "execution_count": null,
      "metadata": {
        "id": "gXlYJ1WiN-wS"
      },
      "outputs": [],
      "source": [
        "num_feat_01 = ['pdays', 'previous']\n",
        "\n",
        "for f in num_feat_01:\n",
        "  plt.figure(figsize=(6, 4))\n",
        "  sns.boxplot(x=df['y'], y=df[f])\n",
        "  plt.show()"
      ]
    },
    {
      "cell_type": "code",
      "execution_count": null,
      "metadata": {
        "id": "MukS9s57ilDr"
      },
      "outputs": [],
      "source": [
        "df.month.value_counts()"
      ]
    },
    {
      "cell_type": "code",
      "execution_count": null,
      "metadata": {
        "id": "7WsyfwRXG__Z"
      },
      "outputs": [],
      "source": [
        "df['y_numeric'] = df['y'].map({'yes': 1, 'no': 0}).astype('int')\n",
        "df['month_numeric'] = df['month'].map({'jan': 1, 'feb': 2, 'mar': 3, 'apr': 4, 'may': 5, 'jun': 6, 'jul': 7, 'aug': 8, 'sep': 9, 'oct': 10, 'nov':11, 'dec': 12 }).astype('int')"
      ]
    },
    {
      "cell_type": "code",
      "execution_count": null,
      "metadata": {
        "id": "sRhgN0SdnPj0"
      },
      "outputs": [],
      "source": [
        "df['month_numeric']"
      ]
    },
    {
      "cell_type": "markdown",
      "metadata": {
        "id": "mXPtdrkf598_"
      },
      "source": [
        "## Pairplot - financial coeff"
      ]
    },
    {
      "cell_type": "code",
      "execution_count": null,
      "metadata": {
        "id": "ae1HSzyTQX_s"
      },
      "outputs": [],
      "source": [
        "# sns.set(rc={\"figure.figsize\":(32, 12)})\n",
        "\n",
        "# data_coeffs = ['month_numeric', 'emp.var.rate', 'cons.price.idx',  'cons.conf.idx', 'euribor3m', 'nr.employed', 'y']\n",
        "\n",
        "# sns.pairplot(df[data_coeffs], hue=\"y\")\n",
        "\n",
        "# plt.show()"
      ]
    },
    {
      "cell_type": "markdown",
      "metadata": {
        "id": "jizRliN8eKyG"
      },
      "source": [
        "## Relacje pomiędzy zmiennymi w Data Frame"
      ]
    },
    {
      "cell_type": "markdown",
      "metadata": {
        "id": "7H1ruYZ5CRd1"
      },
      "source": [
        "### Wartości numeryczne między sobą"
      ]
    },
    {
      "cell_type": "code",
      "execution_count": null,
      "metadata": {
        "id": "JHNZbtzLelve"
      },
      "outputs": [],
      "source": [
        "numerical_features=[col for col in df.select_dtypes(include=['integer', 'float']).columns if col != 'y_numeric']\n",
        "print(numerical_features)\n",
        "print(len(numerical_features))\n",
        "print(type(numerical_features))"
      ]
    },
    {
      "cell_type": "code",
      "execution_count": null,
      "metadata": {
        "id": "x4Axk2UpeJcn"
      },
      "outputs": [],
      "source": [
        "correlations=df[numerical_features].corr()\n",
        "plt.figure(figsize=(10,8))\n",
        "\n",
        "sns.heatmap(data=correlations,square=True,annot = True, cmap=\"YlGnBu\")\n",
        "\n",
        "plt.yticks(rotation=0)\n",
        "plt.xticks(rotation=90)"
      ]
    },
    {
      "cell_type": "code",
      "execution_count": null,
      "metadata": {
        "id": "75Bp_GvkmIux"
      },
      "outputs": [],
      "source": [
        "# Calculate and display PPS scores for all pairs of numeric variables\n",
        "for var1 in numerical_features:\n",
        "    for var2 in numerical_features:\n",
        "        if var1 != var2:\n",
        "            pps_score = pps.score(df, var1, var2)['ppscore']\n",
        "            print(f'PPS Score between {var1} and {var2}: {pps_score:.2f}')"
      ]
    },
    {
      "cell_type": "markdown",
      "metadata": {
        "id": "5dbVp495CWLt"
      },
      "source": [
        "### Wartości numeryczne vs target column"
      ]
    },
    {
      "cell_type": "code",
      "execution_count": null,
      "metadata": {
        "id": "3GYOR1bsgNoo"
      },
      "outputs": [],
      "source": [
        "df_copy = df.copy()"
      ]
    },
    {
      "cell_type": "code",
      "execution_count": null,
      "metadata": {
        "id": "xtr_85Zv67Ug"
      },
      "outputs": [],
      "source": [
        "df_copy.head()"
      ]
    },
    {
      "cell_type": "code",
      "execution_count": null,
      "metadata": {
        "id": "kq-078r4DYXQ"
      },
      "outputs": [],
      "source": [
        "y_numeric = df_copy.pop('y_numeric')"
      ]
    },
    {
      "cell_type": "code",
      "execution_count": null,
      "metadata": {
        "id": "wYy70XvqAO1x"
      },
      "outputs": [],
      "source": [
        "X = df_copy\n",
        "X.head()"
      ]
    },
    {
      "cell_type": "code",
      "execution_count": null,
      "metadata": {
        "id": "UvHKPoAdA7DR"
      },
      "outputs": [],
      "source": [
        "X[numerical_features].info()"
      ]
    },
    {
      "cell_type": "code",
      "execution_count": null,
      "metadata": {
        "id": "latUvmODEVRH"
      },
      "outputs": [],
      "source": [
        "y_numeric.info()"
      ]
    },
    {
      "cell_type": "code",
      "execution_count": null,
      "metadata": {
        "id": "RRkbtgeyRwVR"
      },
      "outputs": [],
      "source": [
        "X"
      ]
    },
    {
      "cell_type": "code",
      "execution_count": null,
      "metadata": {
        "id": "K1aoyxBOa0HD"
      },
      "outputs": [],
      "source": [
        "# sprawdzenie korelacji między zmiennymi numerycznymi a targetem ('y_numeric')\n",
        "for f in numerical_features:\n",
        "  print(f'\\nFeature: {f}')\n",
        "  print(stats.pointbiserialr(X[f], y_numeric))"
      ]
    },
    {
      "cell_type": "markdown",
      "metadata": {
        "id": "EBbXftsfKn-K"
      },
      "source": [
        "Wszsytkie zmienne mają wpływ (o róznym stopniu)  na z,ienna objaśnianą i jest onstatystycznie istotny."
      ]
    },
    {
      "cell_type": "markdown",
      "metadata": {
        "id": "Wkd7zDT5lgoK"
      },
      "source": [
        "## Wizualizacja danych kategorycznych"
      ]
    },
    {
      "cell_type": "code",
      "execution_count": null,
      "metadata": {
        "id": "tHV_3ot4ETet"
      },
      "outputs": [],
      "source": [
        "categorical_features = [col for col in df.select_dtypes(include=['object', 'category']).columns if col != 'y']\n",
        "print(categorical_features)\n",
        "print(len(categorical_features))\n",
        "print(type(categorical_features))"
      ]
    },
    {
      "cell_type": "code",
      "execution_count": null,
      "metadata": {
        "id": "2UPDw6RWF7EX"
      },
      "outputs": [],
      "source": [
        "\n",
        "\n",
        "\n",
        "plt.figure(figsize=(8, 30), facecolor='white')\n",
        "\n",
        "rows = len(categorical_features)\n",
        "cols = 1\n",
        "\n",
        "for i, categorical_feature in enumerate(categorical_features, start=1):\n",
        "    ax = plt.subplot(rows, cols, i)\n",
        "    sns.countplot(y=categorical_feature, data=df)\n",
        "    # plt.xlabel(categorical_feature)\n",
        "    # plt.title(categorical_feature)\n",
        "\n",
        "plt.tight_layout()\n",
        "\n",
        "plt.show()"
      ]
    },
    {
      "cell_type": "markdown",
      "metadata": {
        "id": "-LD9lyN0zbzH"
      },
      "source": [
        "### Sprawdzenie relacji między zmiennymi kategorycznymi oraz targetem za pomconą Information gain w decision tree"
      ]
    },
    {
      "cell_type": "code",
      "execution_count": null,
      "metadata": {
        "id": "b_zlHQW-hq70"
      },
      "outputs": [],
      "source": [
        "from sklearn.tree import DecisionTreeClassifier\n",
        "from sklearn.model_selection import train_test_split\n",
        "\n",
        "target_col = 'y'\n",
        "target = df[target_col]\n",
        "\n",
        "df_cat_feat = df[categorical_features]\n",
        "\n",
        "df_encoded = pd.get_dummies(df_cat_feat, columns=categorical_features, drop_first=True)\n",
        "\n",
        "X_train, X_test, y_train, y_test = train_test_split(df_encoded, target, test_size=0.3, random_state=42)\n",
        "\n",
        "clf = DecisionTreeClassifier(criterion='entropy')  # Information Gain criterion\n",
        "clf.fit(X_train, y_train)\n",
        "\n",
        "# Get feature importances (information gain)\n",
        "feature_importance = clf.feature_importances_\n",
        "\n",
        "# Create a dictionary mapping features to their importance\n",
        "feature_importance_dict = dict(zip(df_encoded.columns, feature_importance))\n",
        "\n",
        "# Sort the feature-importance dictionary by information gain\n",
        "sorted_feature_importance = dict(sorted(feature_importance_dict.items(), key=lambda x: x[1], reverse=True))\n",
        "\n",
        "# Print the sorted feature-importance pairs\n",
        "for feature, info_gain in sorted_feature_importance.items():\n",
        "    print(f\"Feature: {feature}, Information Gain: {info_gain:.4f}\")"
      ]
    },
    {
      "cell_type": "markdown",
      "metadata": {
        "id": "IMzUUGA_610E"
      },
      "source": [
        "In summary, the results suggest that 'poutcome_success',  certain day-of-the-week, housing-related, loan features are the most influential in predicting the target variable 'y'.It is possible to use this information to prioritize feature selection or further investigate the relationships between these features and the target variable in your dataset."
      ]
    },
    {
      "cell_type": "code",
      "execution_count": null,
      "metadata": {
        "id": "tUm_WzsO5C-T"
      },
      "outputs": [],
      "source": [
        "cat_features_vis = ['default', 'poutcome', 'housing', 'loan', 'day_of_week']\n",
        "\n",
        "for f in cat_features_vis:\n",
        "  plt.figure(figsize=(6, 4), facecolor='white')\n",
        "  sns.countplot(x=f, hue='y', data=df)\n",
        "  print()\n",
        "  plt.title(f'{f} by target')"
      ]
    },
    {
      "cell_type": "markdown",
      "metadata": {
        "id": "Z1eG1N8rk_my"
      },
      "source": [
        "## analiza współczynników społecznych / ekonomicznych emp.var.rate', 'cons.price.idx',  'cons.conf.idx', 'euribor3m', 'nr.employed' - dodanie zmiennej year"
      ]
    },
    {
      "cell_type": "markdown",
      "metadata": {
        "id": "6Lizz2g2zwM4"
      },
      "source": [
        "zmiana wartości euribor na koszyki"
      ]
    },
    {
      "cell_type": "code",
      "execution_count": null,
      "metadata": {
        "id": "eM-NCOo7zSlh"
      },
      "outputs": [],
      "source": [
        "# Calculate the minimum and maximum values from the DataFrame\n",
        "min_value_eur = df['euribor3m'].min()\n",
        "max_value_eur = df['euribor3m'].max()\n",
        "\n",
        "# Define the bin width\n",
        "bin_width = 0.5\n",
        "\n",
        "# # Create a list of bin edges (start, stop, and step)\n",
        "# bins = [x for x in range(int(min_value_eur), int(max_value_eur) + 1, int(bin_width))]\n",
        "\n",
        "# # Create a new column with the bin labels\n",
        "# df['euribor3m_binned'] = pd.cut(df['euribor3m'], bins=bins, labels=bins[:-1])\n",
        "\n",
        "# Create a list of bin edges (start, stop, and step) using numpy.arange\n",
        "bins = np.arange(int(min_value_eur), int(max_value_eur) + bin_width, bin_width)\n",
        "\n",
        "bins = np.linspace(int(min_value_eur), max_value_eur, num_bins + 1)\n",
        "\n",
        "# Create a new column with the bin labels\n",
        "df['euribor3m_binned'] = pd.cut(df['euribor3m'], bins=bins, labels=bins[:-1])"
      ]
    },
    {
      "cell_type": "code",
      "execution_count": null,
      "metadata": {
        "id": "NyCRRHGH2ZKa"
      },
      "outputs": [],
      "source": [
        "print(df['euribor3m_binned'])\n",
        "print(df['euribor3m'])"
      ]
    },
    {
      "cell_type": "code",
      "execution_count": null,
      "metadata": {
        "id": "fhvv0l-73TAT"
      },
      "outputs": [],
      "source": [
        "len(df['euribor3m_binned'].unique())"
      ]
    },
    {
      "cell_type": "code",
      "execution_count": null,
      "metadata": {
        "id": "tSlRXuvH3lUY"
      },
      "outputs": [],
      "source": [
        "numerical_features.append('euribor3m_binned')"
      ]
    },
    {
      "cell_type": "markdown",
      "metadata": {
        "id": "uuRApDCjQRVT"
      },
      "source": []
    },
    {
      "cell_type": "code",
      "execution_count": null,
      "metadata": {
        "id": "ao9N91sbrRc5"
      },
      "outputs": [],
      "source": [
        "for column in df[numerical_features]:\n",
        "    unique_values = df[column].unique()\n",
        "    print(f\"Unique values in column {column}: {', '.join(map(str, unique_values))}\")"
      ]
    },
    {
      "cell_type": "code",
      "execution_count": null,
      "metadata": {
        "id": "_2oihpKiuQFF"
      },
      "outputs": [],
      "source": [
        "columns_coeff = ['emp.var.rate', 'cons.price.idx',  'cons.conf.idx', 'euribor3m', 'nr.employed', 'euribor3m_binned']\n",
        "\n",
        "value_mappings = {}\n",
        "\n",
        "for column in df[columns_coeff]:\n",
        "    unique_values = df[column].unique()\n",
        "    value_mapping = {value: i + 1 for i, value in enumerate(unique_values)}\n",
        "    value_mappings[column] = value_mapping\n",
        "\n",
        "for column in df[columns_coeff]:\n",
        "    new_column_name = f\"{column}_updated\"\n",
        "    df[new_column_name] = df[column].map(value_mappings[column])\n",
        "\n",
        "print(df)"
      ]
    },
    {
      "cell_type": "code",
      "execution_count": null,
      "metadata": {
        "id": "eTIob1nyAqMi"
      },
      "outputs": [],
      "source": [
        "# przyporządkowanie roku wierszom na bazie innych danych - 'euribor3m' oraz kolumny 'month' i reszty istniejących kolumn"
      ]
    },
    {
      "cell_type": "code",
      "execution_count": null,
      "metadata": {
        "id": "YgNKFizJH8-a"
      },
      "outputs": [],
      "source": [
        "df['year'] = pd.np.where(df['euribor3m'] > 2.892, '2008', pd.np.where(df['euribor3m'] > 1.05, '2009' , 'others'))"
      ]
    },
    {
      "cell_type": "code",
      "execution_count": null,
      "metadata": {
        "id": "Z5Ak0aEmMkiG"
      },
      "outputs": [],
      "source": [
        "conditions = [\n",
        "    (df['euribor3m'] > 2.892),\n",
        "    (df['euribor3m'] > 1.05),\n",
        "    (df['month_numeric'] == 12),\n",
        "    ((df['month_numeric'] >= 3) & (df['month_numeric'] <= 6)),\n",
        "    ((df['month_numeric'] == 7) & (df['nr.employed_updated'] == 7)), # wybieramy lipiec 2009 z wszystkich danych lipcowych\n",
        "    ((df['month_numeric'] == 8) & (df['nr.employed_updated'] == 7)),\n",
        "    ((df['month_numeric'] == 9) & (df['nr.employed_updated'] == 9)),\n",
        "    ((df['month_numeric'] == 10) & (df['nr.employed_updated'] == 9)),\n",
        "    ((df['month_numeric'] == 11) & (df['nr.employed_updated'] == 9))\n",
        "]\n",
        "choices = ['2008', '2009', '2009', '2010', '2009', '2009','2009', '2009', '2009']\n",
        "\n",
        "df['year'] = pd.np.select(conditions, choices, default='2010')"
      ]
    },
    {
      "cell_type": "code",
      "execution_count": null,
      "metadata": {
        "id": "WRkrt42kM7-K"
      },
      "outputs": [],
      "source": [
        "# dtale.show(df)"
      ]
    },
    {
      "cell_type": "markdown",
      "metadata": {
        "id": "JpR4GiEp9Ug8"
      },
      "source": [
        "### visualization column results for variable 'y' (0/1 binary column) with distribution in month (feature) and year (feature) on 1 chart."
      ]
    },
    {
      "cell_type": "code",
      "execution_count": null,
      "metadata": {
        "id": "bRMQgv22-9VI"
      },
      "outputs": [],
      "source": [
        "df.groupby(['year', 'month_numeric'])['y_numeric'].count().unstack()"
      ]
    },
    {
      "cell_type": "code",
      "execution_count": null,
      "metadata": {
        "id": "anDor12T9um_"
      },
      "outputs": [],
      "source": [
        "result = df.groupby(['year', 'month_numeric'])['y'].count().unstack(fill_value=0)\n",
        "\n",
        "# Plot the results as a bar chart\n",
        "result.plot(kind='bar', figsize=(12, 6))\n",
        "plt.title('Distribution of y by Month and Year')\n",
        "plt.xlabel('Year-Month')\n",
        "plt.ylabel('Count of y')\n",
        "plt.legend(title='month_numeric')\n",
        "plt.xticks(rotation=0)\n",
        "plt.show()\n"
      ]
    },
    {
      "cell_type": "code",
      "execution_count": null,
      "metadata": {
        "id": "zY07XQoSBn3x"
      },
      "outputs": [],
      "source": [
        "result = df.groupby(['year', 'y'])['y'].count().unstack(fill_value=0)\n",
        "result"
      ]
    },
    {
      "cell_type": "code",
      "execution_count": null,
      "metadata": {
        "id": "8JwrRuV3obnq"
      },
      "outputs": [],
      "source": [
        "result = df.groupby(['year', 'y'])['y'].count().unstack(fill_value=0)\n",
        "\n",
        "# Create a list of labels with year below each group of months\n",
        "x_labels = [f\"{year}\" for (year) in result.index]\n",
        "\n",
        "# Plot the results as a bar chart\n",
        "fig, ax = plt.subplots(figsize=(8, 5))  # Extend the width of the chart\n",
        "result.plot(kind='bar', ax=ax)\n",
        "\n",
        "# Set x-axis labels (grouping months by year)\n",
        "ax.set_xticks(range(len(x_labels)))\n",
        "ax.set_xticklabels(x_labels)\n",
        "\n",
        "plt.title('Distribution of y by Year')\n",
        "plt.xlabel('Year')\n",
        "plt.ylabel('Count of y')\n",
        "plt.legend(title='y')\n",
        "plt.xticks(rotation=45)\n",
        "plt.show()"
      ]
    },
    {
      "cell_type": "markdown",
      "metadata": {
        "id": "nUgScfjgovo-"
      },
      "source": []
    },
    {
      "cell_type": "code",
      "execution_count": null,
      "metadata": {
        "id": "CNSdjlyQDqtX"
      },
      "outputs": [],
      "source": [
        "result = df.groupby(['year', 'month_numeric', 'y'])['y'].count().unstack(fill_value=0)\n",
        "\n",
        "# Create a list of labels with year below each group of months\n",
        "x_labels = [f\"{month}-{year}\" for (year, month) in result.index]\n",
        "\n",
        "# Plot the results as a bar chart\n",
        "fig, ax = plt.subplots(figsize=(16, 6))  # Extend the width of the chart\n",
        "result.plot(kind='bar', ax=ax)\n",
        "\n",
        "# Set x-axis labels (grouping months by year)\n",
        "ax.set_xticks(range(len(x_labels)))\n",
        "ax.set_xticklabels(x_labels)\n",
        "\n",
        "plt.title('Distribution of y by Month and Year')\n",
        "plt.xlabel('Year-Month')\n",
        "plt.ylabel('Count of y')\n",
        "plt.legend(title='y')\n",
        "plt.xticks(rotation=45)\n",
        "plt.show()"
      ]
    },
    {
      "cell_type": "markdown",
      "metadata": {
        "id": "zZfU2COOowV5"
      },
      "source": [
        "Widzimy, że zmienna y jest zupełnie odmniennie rozłożona w poszczególnych latach przy różnej ilości próbek w każdym z lat."
      ]
    },
    {
      "cell_type": "code",
      "execution_count": null,
      "metadata": {
        "id": "O2xRouVBQiDO"
      },
      "outputs": [],
      "source": [
        "df['month_object'] = df['month'].astype(str)"
      ]
    },
    {
      "cell_type": "code",
      "execution_count": null,
      "metadata": {
        "id": "HHKlXESYYErh"
      },
      "outputs": [],
      "source": [
        "df.head()"
      ]
    },
    {
      "cell_type": "code",
      "execution_count": null,
      "metadata": {
        "id": "hr_p4k6GOSh5"
      },
      "outputs": [],
      "source": [
        "# łączenie kolumn month and w jedną kolumnę\n",
        "df['month_year'] = df['month_object'] + '_' + df['year'].astype('str')\n",
        "df['month_year'] = df['month_year'].astype('category')"
      ]
    },
    {
      "cell_type": "code",
      "execution_count": null,
      "metadata": {
        "id": "I1lD2IEJYVdP"
      },
      "outputs": [],
      "source": [
        "df.head()"
      ]
    },
    {
      "cell_type": "markdown",
      "metadata": {
        "id": "H695cTI1nu9k"
      },
      "source": [
        "# Data Preprocessing"
      ]
    },
    {
      "cell_type": "markdown",
      "metadata": {
        "id": "pYvykJlSn4dv"
      },
      "source": [
        "## Wartości null"
      ]
    },
    {
      "cell_type": "code",
      "execution_count": null,
      "metadata": {
        "id": "0LSwEmfmoJDY"
      },
      "outputs": [],
      "source": [
        "# Łącznie mamy 1029 wierszy z wartościami null (niektóre w kilku kolumnach)\n",
        "# Dla 5 kolumn kategorycznych  wartości nulls są zdecydowaną mniejszością (od 1% od 4% wierszy) - dla nich uzupełnię nulle wartością najczęście spotykaną\n",
        "# dla Kolumny 'default' aż 803 rekordy (19%) stanowią wartości null - z uwagi na to, przekształcę nulls jako odrębną wartość ('unknown'), kolumna ze względu na strukturę"
      ]
    },
    {
      "cell_type": "code",
      "execution_count": null,
      "metadata": {
        "id": "PQ3AFjCCoeNw"
      },
      "outputs": [],
      "source": [
        "df['job'].fillna(df['job'].mode()[0], inplace=True)\n",
        "df['marital'].fillna(df['marital'].mode()[0], inplace=True)\n",
        "df['education'].fillna(df['education'].mode()[0], inplace=True)\n",
        "df['housing'].fillna(df['housing'].mode()[0], inplace=True)\n",
        "df['loan'].fillna(df['loan'].mode()[0], inplace=True)"
      ]
    },
    {
      "cell_type": "code",
      "execution_count": null,
      "metadata": {
        "id": "fwUYRPT4odgG"
      },
      "outputs": [],
      "source": [
        "df.isnull().sum()"
      ]
    },
    {
      "cell_type": "markdown",
      "metadata": {
        "id": "3y5njbz_FG12"
      },
      "source": [
        "Strukura kolumny 'default', nie pozwala jej wziąć do modelowania"
      ]
    },
    {
      "cell_type": "code",
      "execution_count": null,
      "metadata": {
        "id": "DHJBmHrWrJhQ"
      },
      "outputs": [],
      "source": [
        "df['default'].value_counts()"
      ]
    },
    {
      "cell_type": "code",
      "execution_count": null,
      "metadata": {
        "id": "93VHL4OJ6GHo"
      },
      "outputs": [],
      "source": [
        "df.info()"
      ]
    },
    {
      "cell_type": "markdown",
      "metadata": {
        "id": "7kGPSE7RDtym"
      },
      "source": [
        "## Podział danych na zbiór treningowy i testowy"
      ]
    },
    {
      "cell_type": "code",
      "execution_count": null,
      "metadata": {
        "id": "YsbT7vCpEQ06"
      },
      "outputs": [],
      "source": [
        "df.head()"
      ]
    },
    {
      "cell_type": "code",
      "execution_count": null,
      "metadata": {
        "id": "N-L6_wbbDZa8"
      },
      "outputs": [],
      "source": [
        "# # kopia zestawu danych\n",
        "# data = df.copy()\n",
        "# data.head()"
      ]
    },
    {
      "cell_type": "markdown",
      "metadata": {
        "id": "ZMeaOwJuhUAO"
      },
      "source": [
        "* bez kolumny 'default',\n",
        "* w liście zapisane zmienne zmienne do modelowania"
      ]
    },
    {
      "cell_type": "markdown",
      "metadata": {
        "id": "BRvYPJiJGFJW"
      },
      "source": [
        "## Zestaw danych nr 1"
      ]
    },
    {
      "cell_type": "markdown",
      "metadata": {
        "id": "lF6P8JnNxjei"
      },
      "source": [
        "Wszystkie zmienne początkowe\n"
      ]
    },
    {
      "cell_type": "code",
      "execution_count": null,
      "metadata": {
        "id": "vZA3mX9iHC9j"
      },
      "outputs": [],
      "source": [
        "model_columns = ['age', 'job', 'marital', 'education', 'housing', 'loan',\n",
        "       'contact', 'month', 'day_of_week', 'campaign', 'pdays',\n",
        "       'previous', 'poutcome',\n",
        "       'emp.var.rate', 'cons.price.idx', 'cons.conf.idx', 'euribor3m', 'nr.employed',\n",
        "      'y_numeric']\n",
        "\n",
        "print(len(model_columns))\n",
        "print(model_columns)"
      ]
    },
    {
      "cell_type": "code",
      "execution_count": null,
      "metadata": {
        "id": "TFaKbbn7H_7J"
      },
      "outputs": [],
      "source": [
        "data = df[model_columns]\n",
        "y = data.pop('y_numeric')\n",
        "y"
      ]
    },
    {
      "cell_type": "code",
      "execution_count": null,
      "metadata": {
        "id": "-Tw7CyXRIMk0"
      },
      "outputs": [],
      "source": [
        "X = data\n",
        "X.head()"
      ]
    },
    {
      "cell_type": "code",
      "execution_count": null,
      "metadata": {
        "id": "ptuDwAW6LYdk"
      },
      "outputs": [],
      "source": [
        "X.info()"
      ]
    },
    {
      "cell_type": "markdown",
      "metadata": {
        "id": "isq0adPZ2QBk"
      },
      "source": [
        "Przy liście zmiennych pomijamy zmienną 'duration' - specyfika tej zmiennej jest taka, nie będziemy wiedzieli przed wykonaniem konaktu, jak długo potrwa (nie będzie dostępna w danych produkcyjnych)"
      ]
    },
    {
      "cell_type": "code",
      "execution_count": null,
      "metadata": {
        "id": "NZ_wkoxnLVjJ"
      },
      "outputs": [],
      "source": [
        "num_feat = [col for col in df[model_columns].select_dtypes(include=['integer', 'float']).columns if col != 'y_numeric']\n",
        "\n",
        "cat_feat = [col for col in df[model_columns].select_dtypes(include=['object']).columns if col != 'y']\n",
        "\n",
        "ord_feat = [col for col in df[model_columns].select_dtypes(include=['category']).columns if col != 'y']\n",
        "\n",
        "print(f'No. of numerical features: {len(num_feat)}')\n",
        "print(num_feat)\n",
        "print()\n",
        "print(f'No. of categorical features: {len(cat_feat)}')\n",
        "print(cat_feat)\n",
        "print()\n",
        "print(f'No. of ordinal features: {len(ord_feat)}')\n",
        "print(ord_feat)"
      ]
    },
    {
      "cell_type": "code",
      "execution_count": null,
      "metadata": {
        "id": "XjGBBLRrCvEc"
      },
      "outputs": [],
      "source": [
        "seed = 23"
      ]
    },
    {
      "cell_type": "code",
      "execution_count": null,
      "metadata": {
        "id": "5oSEQh3_AHSC"
      },
      "outputs": [],
      "source": [
        "X_train, X_test, y_train, y_test = train_test_split(X, y, test_size=0.2, random_state=seed, stratify=y)"
      ]
    },
    {
      "cell_type": "code",
      "execution_count": null,
      "metadata": {
        "id": "NIkL-fONITAx"
      },
      "outputs": [],
      "source": [
        "X_train.shape, y_train.shape, X_test.shape, y_test.shape"
      ]
    },
    {
      "cell_type": "code",
      "execution_count": null,
      "metadata": {
        "id": "zSf07V-Q4rZS"
      },
      "outputs": [],
      "source": [
        "y_train.value_counts()"
      ]
    },
    {
      "cell_type": "code",
      "execution_count": null,
      "metadata": {
        "id": "q9s-AU4SC4r1"
      },
      "outputs": [],
      "source": [
        "361 / (2934+361)"
      ]
    },
    {
      "cell_type": "code",
      "execution_count": null,
      "metadata": {
        "id": "SMXscD-kORls"
      },
      "outputs": [],
      "source": [
        "y_test.value_counts()"
      ]
    },
    {
      "cell_type": "markdown",
      "metadata": {
        "id": "YRiyaoNLJjH6"
      },
      "source": [
        "### Feature Importance - RandomForestClassifier() - Zestaw danych nr 1"
      ]
    },
    {
      "cell_type": "code",
      "execution_count": null,
      "metadata": {
        "id": "v8A-fftuJY36"
      },
      "outputs": [],
      "source": [
        "categorical_transformer = Pipeline(steps=[\n",
        "    ('ohe', preprocessing.OneHotEncoder())\n",
        "])\n",
        "\n",
        "ordinal_transformer = Pipeline(steps=[\n",
        "    ('label_encoder', LabelEncoderTransformer())\n",
        "])\n",
        "\n",
        "preprocessor = ColumnTransformer(\n",
        "    transformers=[\n",
        "        ('categorical', categorical_transformer, cat_feat),\n",
        "        ('ordinal', ordinal_transformer, ord_feat)\n",
        "    ]\n",
        ")\n",
        "\n",
        "rfc_pipeline = Pipeline(steps=[('preprocessor', preprocessor),\n",
        "                              ('rfc_model', RandomForestClassifier(random_state=seed))])"
      ]
    },
    {
      "cell_type": "code",
      "execution_count": null,
      "metadata": {
        "id": "UCuF6FLyIHM1"
      },
      "outputs": [],
      "source": [
        "rfc_pipeline.fit(X_train, y_train)"
      ]
    },
    {
      "cell_type": "code",
      "execution_count": null,
      "metadata": {
        "id": "TUOE8EVkbH30"
      },
      "outputs": [],
      "source": [
        "feature_importance = rfc_pipeline.steps[-1][1].feature_importances_\n",
        "all_column_names = X_train.columns\n",
        "\n",
        "importance_tuples = [(col, imp) for col, imp in zip(all_column_names, feature_importance)]\n",
        "\n",
        "# Sort the list by feature importance in descending order\n",
        "rfc_pre_sorted_importance = sorted(importance_tuples, key=lambda x: x[1], reverse=True)\n",
        "\n",
        "# Print feature importance values for each column in descending order\n",
        "print('Random Forest Feature Importance: \\n')\n",
        "for column, importance in rfc_pre_sorted_importance:\n",
        "    print(f\" {column}: {importance}\")"
      ]
    },
    {
      "cell_type": "markdown",
      "metadata": {
        "id": "SG28rpPs1y42"
      },
      "source": [
        "## Zestaw danych nr 2"
      ]
    },
    {
      "cell_type": "markdown",
      "metadata": {
        "id": "XMdB0IFI_qiy"
      },
      "source": [
        "z nowo stworzoną zmienną month_year oraz wybranym 1 z 5 wskaźników finansowych  wuagi na ich wysoką kolerację i wspólne zależności (ppsscore) )"
      ]
    },
    {
      "cell_type": "code",
      "execution_count": null,
      "metadata": {
        "id": "sQpzX5D-F11V"
      },
      "outputs": [],
      "source": [
        "model_columns_2 = ['age', 'job', 'marital', 'education', 'housing', 'loan',\n",
        "       'contact', 'day_of_week', 'campaign', 'pdays', 'previous', 'poutcome',\n",
        "        'emp.var.rate', 'month_year',\n",
        "        'y_numeric']\n",
        "\n",
        "print(len(model_columns_2))\n",
        "print(model_columns_2)"
      ]
    },
    {
      "cell_type": "code",
      "execution_count": null,
      "metadata": {
        "id": "dy2x8K87JbO4"
      },
      "outputs": [],
      "source": [
        "data_2 = df[model_columns_2]"
      ]
    },
    {
      "cell_type": "code",
      "execution_count": null,
      "metadata": {
        "id": "fVp0mFyFJYrL"
      },
      "outputs": [],
      "source": [
        "y_2 = data_2.pop('y_numeric')\n",
        "y_2"
      ]
    },
    {
      "cell_type": "code",
      "execution_count": null,
      "metadata": {
        "id": "TyH3dtrBI0aF"
      },
      "outputs": [],
      "source": [
        "X_2 = data_2\n",
        "X_2.head()"
      ]
    },
    {
      "cell_type": "code",
      "execution_count": null,
      "metadata": {
        "id": "64a5NyXNJCT7"
      },
      "outputs": [],
      "source": [
        "num_feat_2 = [col for col in df[model_columns_2].select_dtypes(include=['integer', 'float']).columns if col != 'y_numeric']\n",
        "cat_feat_2 = [col for col in df[model_columns_2].select_dtypes(include=['object']).columns if col != 'y']\n",
        "ord_feat_2 = [col for col in df[model_columns_2].select_dtypes(include=['category']).columns if col != 'y']\n",
        "print(f'No. of numerical features: {len(num_feat_2)}')\n",
        "print(num_feat_2)\n",
        "print()\n",
        "print(f'No. of categorical features: {len(cat_feat_2)}')\n",
        "print(cat_feat_2)\n",
        "print()\n",
        "print(f'No. of ordinal features: {len(ord_feat_2)}')\n",
        "print(ord_feat_2)"
      ]
    },
    {
      "cell_type": "code",
      "execution_count": null,
      "metadata": {
        "id": "w_rMRf69Jwvn"
      },
      "outputs": [],
      "source": [
        "X_train_2, X_test_2, y_train_2, y_test_2 = train_test_split(X_2, y_2, test_size=0.2, random_state=seed, stratify=y)"
      ]
    },
    {
      "cell_type": "code",
      "execution_count": null,
      "metadata": {
        "id": "XeY-16GCJ4Ae"
      },
      "outputs": [],
      "source": [
        "X_train_2.shape, y_train_2.shape, X_test_2.shape, y_test_2.shape"
      ]
    },
    {
      "cell_type": "code",
      "execution_count": null,
      "metadata": {
        "id": "4W-C4fhzJ6Ox"
      },
      "outputs": [],
      "source": [
        "y_train_2.value_counts()"
      ]
    },
    {
      "cell_type": "code",
      "execution_count": null,
      "metadata": {
        "id": "WvLqS-pGN7KD"
      },
      "outputs": [],
      "source": [
        "361 / (2934+361)"
      ]
    },
    {
      "cell_type": "code",
      "execution_count": null,
      "metadata": {
        "id": "nk9BedpTKHak"
      },
      "outputs": [],
      "source": [
        "y_test_2.value_counts()"
      ]
    },
    {
      "cell_type": "code",
      "execution_count": null,
      "metadata": {
        "id": "JAOmWwHBN6nf"
      },
      "outputs": [],
      "source": [
        "90 / (734+90)"
      ]
    },
    {
      "cell_type": "markdown",
      "metadata": {
        "id": "b964BdcpRlox"
      },
      "source": [
        "### Feature Importance - RandomForestClassifier() - Zestaw danych nr 2"
      ]
    },
    {
      "cell_type": "code",
      "execution_count": null,
      "metadata": {
        "id": "EzTE8ungSHcd"
      },
      "outputs": [],
      "source": [
        "categorical_transformer = Pipeline(steps=[\n",
        "    ('ohe', preprocessing.OneHotEncoder())\n",
        "])\n",
        "\n",
        "ordinal_transformer = Pipeline(steps=[\n",
        "    ('label_encoder', LabelEncoderTransformer())\n",
        "])\n",
        "\n",
        "preprocessor = ColumnTransformer(\n",
        "    transformers=[\n",
        "        ('categorical', categorical_transformer, cat_feat_2),\n",
        "        ('ordinal', ordinal_transformer, ord_feat_2)\n",
        "    ]\n",
        ")\n",
        "\n",
        "rfc_pipeline_2 = Pipeline(steps=[('preprocessor', preprocessor),\n",
        "                              ('rfc_model_2', RandomForestClassifier(random_state=seed))])"
      ]
    },
    {
      "cell_type": "code",
      "execution_count": null,
      "metadata": {
        "id": "DQA03pbjSOvb"
      },
      "outputs": [],
      "source": [
        "rfc_pipeline_2.fit(X_train_2, y_train_2)"
      ]
    },
    {
      "cell_type": "code",
      "execution_count": null,
      "metadata": {
        "id": "UE0fFBLCSjyc"
      },
      "outputs": [],
      "source": [
        "feature_importance = rfc_pipeline_2.steps[-1][1].feature_importances_\n",
        "all_column_names = X_train_2.columns\n",
        "\n",
        "importance_tuples = [(col, imp) for col, imp in zip(all_column_names, feature_importance)]\n",
        "\n",
        "# Sort the list by feature importance in descending order\n",
        "rfc_pre_sorted_importance = sorted(importance_tuples, key=lambda x: x[1], reverse=True)\n",
        "\n",
        "# Print feature importance values for each column in descending order\n",
        "print('Random Forest Feature Importance - zestaw danych 2: \\n')\n",
        "for column, importance in rfc_pre_sorted_importance:\n",
        "    print(f\" {column}: {importance}\")"
      ]
    },
    {
      "cell_type": "code",
      "execution_count": null,
      "metadata": {
        "id": "Bpooy_Bv5JDR"
      },
      "outputs": [],
      "source": [
        "# stop"
      ]
    },
    {
      "cell_type": "markdown",
      "metadata": {
        "id": "ra6bWTjEO4LZ"
      },
      "source": [
        "## Zestaw danych 3"
      ]
    },
    {
      "cell_type": "markdown",
      "metadata": {
        "id": "49SGJG9Im9vG"
      },
      "source": [
        "-  pozostawiono 2 zmienne społeczono - ekonomiczne wybrane ze względu na ich istotnoś"
      ]
    },
    {
      "cell_type": "code",
      "execution_count": null,
      "metadata": {
        "id": "5M4YKQoCGZYL"
      },
      "outputs": [],
      "source": [
        "df.head()"
      ]
    },
    {
      "cell_type": "code",
      "execution_count": null,
      "metadata": {
        "id": "Cu7W4ATLP_Ls"
      },
      "outputs": [],
      "source": [
        "model_columns_3 = ['age', 'job', 'marital', 'education', 'housing', 'loan',\n",
        "       'contact', 'day_of_week', 'campaign', 'pdays','previous', 'poutcome',\n",
        "        'month','cons.price.idx', 'emp.var.rate',\n",
        "        'y_numeric']\n",
        "\n",
        "print(len(model_columns_3))\n",
        "print(model_columns_3)"
      ]
    },
    {
      "cell_type": "code",
      "execution_count": null,
      "metadata": {
        "id": "2BNuE4X6QlsP"
      },
      "outputs": [],
      "source": [
        "data_3 = df[model_columns_3]\n",
        "\n",
        "y_3 = data_3.pop('y_numeric')\n",
        "y_3"
      ]
    },
    {
      "cell_type": "code",
      "execution_count": null,
      "metadata": {
        "id": "H4xLyIfuQrDR"
      },
      "outputs": [],
      "source": [
        "X_3 = data_3\n",
        "X_3.head()"
      ]
    },
    {
      "cell_type": "code",
      "execution_count": null,
      "metadata": {
        "id": "GcMQP7QtQsvt"
      },
      "outputs": [],
      "source": [
        "num_feat_3 = [col for col in df[model_columns_3].select_dtypes(include=['integer', 'float']).columns if col != 'y_numeric']\n",
        "cat_feat_3 = [col for col in df[model_columns_3].select_dtypes(include=['object']).columns if col != 'y']\n",
        "ord_feat_3 = [col for col in df[model_columns_3].select_dtypes(include=['category']).columns if col != 'y']\n",
        "print(f'No. of numerical features: {len(num_feat_3)}')\n",
        "print(num_feat_3)\n",
        "print()\n",
        "print(f'No. of categorical features: {len(cat_feat_3)}')\n",
        "print(cat_feat_3)\n",
        "print()\n",
        "print(f'No. of ordinal features: {len(ord_feat_3)}')\n",
        "print(ord_feat_3)"
      ]
    },
    {
      "cell_type": "code",
      "execution_count": null,
      "metadata": {
        "id": "C5ATJsN4Qu1f"
      },
      "outputs": [],
      "source": [
        "X_train_3, X_test_3, y_train_3, y_test_3 = train_test_split(X_3, y_3, test_size=0.2, random_state=seed, stratify=y)\n",
        "\n",
        "X_train_3.shape, y_train_3.shape, X_test_3.shape, y_test_3.shape"
      ]
    },
    {
      "cell_type": "code",
      "execution_count": null,
      "metadata": {
        "id": "Bbnmw4NSQ5Lc"
      },
      "outputs": [],
      "source": [
        "print(y_train_3.value_counts())"
      ]
    },
    {
      "cell_type": "code",
      "execution_count": null,
      "metadata": {
        "id": "co6YUbUBRBDt"
      },
      "outputs": [],
      "source": [
        "print(y_test_3.value_counts())"
      ]
    },
    {
      "cell_type": "markdown",
      "metadata": {
        "id": "mZ6I5AnYS5de"
      },
      "source": [
        "### Feature Importance - RandomForestClassifier() - Zestaw danych nr 3"
      ]
    },
    {
      "cell_type": "code",
      "execution_count": null,
      "metadata": {
        "id": "yaLdSf4eTHqM"
      },
      "outputs": [],
      "source": [
        "categorical_transformer = Pipeline(steps=[\n",
        "    ('ohe', preprocessing.OneHotEncoder())\n",
        "])\n",
        "\n",
        "ordinal_transformer = Pipeline(steps=[\n",
        "    ('label_encoder', LabelEncoderTransformer())\n",
        "])\n",
        "\n",
        "preprocessor = ColumnTransformer(\n",
        "    transformers=[\n",
        "        ('categorical', categorical_transformer, cat_feat_3),\n",
        "        ('ordinal', ordinal_transformer, ord_feat_3)\n",
        "    ]\n",
        ")\n",
        "\n",
        "rfc_pipeline_3 = Pipeline(steps=[('preprocessor', preprocessor),\n",
        "                              ('rfc_model_3', RandomForestClassifier(random_state=seed))])"
      ]
    },
    {
      "cell_type": "code",
      "execution_count": null,
      "metadata": {
        "id": "5iTcaP9STOZ-"
      },
      "outputs": [],
      "source": [
        "rfc_pipeline_3.fit(X_train_3, y_train_3)"
      ]
    },
    {
      "cell_type": "code",
      "execution_count": null,
      "metadata": {
        "id": "SGHyLCPzTTUa"
      },
      "outputs": [],
      "source": [
        "feature_importance = rfc_pipeline_3.steps[-1][1].feature_importances_\n",
        "all_column_names = X_train_3.columns\n",
        "\n",
        "importance_tuples = [(col, imp) for col, imp in zip(all_column_names, feature_importance)]\n",
        "\n",
        "# Sort the list by feature importance in descending order\n",
        "rfc_pre_sorted_importance = sorted(importance_tuples, key=lambda x: x[1], reverse=True)\n",
        "\n",
        "# Print feature importance values for each column in descending order\n",
        "print('Random Forest Feature Importance - zestaw danych 3: \\n')\n",
        "for column, importance in rfc_pre_sorted_importance:\n",
        "    print(f\" {column}: {importance}\")"
      ]
    },
    {
      "cell_type": "markdown",
      "metadata": {
        "id": "ytFmKmswmswg"
      },
      "source": [
        "## Zestaw danych 4"
      ]
    },
    {
      "cell_type": "markdown",
      "metadata": {
        "id": "MxGVkbJBnA8T"
      },
      "source": [
        "- mix 2 i 3 zestawu - month_year zostawiony +  pozostawiono 2 zmienne społeczono - ekonomiczne wybrane ze względu na ich istotność"
      ]
    },
    {
      "cell_type": "code",
      "execution_count": null,
      "metadata": {
        "id": "jiHm1cMynBtw"
      },
      "outputs": [],
      "source": [
        "model_columns_4 = ['age', 'job', 'marital', 'education', 'housing', 'loan',\n",
        "       'contact', 'day_of_week', 'campaign', 'pdays', 'previous', 'poutcome',\n",
        "       'cons.price.idx', 'emp.var.rate', 'month_year',\n",
        "        'y_numeric']\n",
        "\n",
        "print(len(model_columns_4))\n",
        "print(model_columns_4)"
      ]
    },
    {
      "cell_type": "code",
      "execution_count": null,
      "metadata": {
        "id": "Q_yRn9W60udj"
      },
      "outputs": [],
      "source": [
        "data_4 = df[model_columns_4]\n"
      ]
    },
    {
      "cell_type": "code",
      "execution_count": null,
      "metadata": {
        "id": "zNpZBSKp0vgp"
      },
      "outputs": [],
      "source": [
        "y_4 = data_4.pop('y_numeric')"
      ]
    },
    {
      "cell_type": "code",
      "execution_count": null,
      "metadata": {
        "id": "NW44Wm_w0wvF"
      },
      "outputs": [],
      "source": [
        "X_4 = data_4"
      ]
    },
    {
      "cell_type": "code",
      "execution_count": null,
      "metadata": {
        "id": "5Qtx_Rnz0tVJ"
      },
      "outputs": [],
      "source": [
        "num_feat_4 = [col for col in df[model_columns_4].select_dtypes(include=['integer', 'float']).columns if col != 'y_numeric']\n",
        "cat_feat_4 = [col for col in df[model_columns_4].select_dtypes(include=['object']).columns if col != 'y']\n",
        "ord_feat_4 = [col for col in df[model_columns_4].select_dtypes(include=['category']).columns if col != 'y']\n",
        "\n",
        "print(f'No. of numerical features: {len(num_feat_4)}')\n",
        "print(num_feat_4)\n",
        "print()\n",
        "print(f'No. of categorical features: {len(cat_feat_4)}')\n",
        "print(cat_feat_4)\n",
        "print()\n",
        "print(f'No. of ordinal features: {len(ord_feat_4)}')\n",
        "print(ord_feat_4)"
      ]
    },
    {
      "cell_type": "code",
      "execution_count": null,
      "metadata": {
        "id": "uZfzvmHw00Pz"
      },
      "outputs": [],
      "source": [
        "X_train_4, X_test_4, y_train_4, y_test_4 = train_test_split(X_4, y_4, test_size=0.2, random_state=seed, stratify=y)"
      ]
    },
    {
      "cell_type": "code",
      "execution_count": null,
      "metadata": {
        "id": "upg0hLqL01ca"
      },
      "outputs": [],
      "source": [
        "print()\n",
        "\n",
        "print(X_train_4.shape, y_train_4.shape, X_test_4.shape, y_test_4.shape)\n",
        "\n",
        "y_train_4.value_counts()\n",
        "\n",
        "y_test_4.value_counts()"
      ]
    },
    {
      "cell_type": "markdown",
      "metadata": {
        "id": "SyMVeDBep8dY"
      },
      "source": [
        "### Feature Importance - RandomForestClassifier() - Zestaw danych nr 4"
      ]
    },
    {
      "cell_type": "code",
      "execution_count": null,
      "metadata": {
        "id": "KYWJG0rqqAcE"
      },
      "outputs": [],
      "source": [
        "categorical_transformer = Pipeline(steps=[\n",
        "    ('ohe', preprocessing.OneHotEncoder())\n",
        "])\n",
        "\n",
        "ordinal_transformer = Pipeline(steps=[\n",
        "    ('label_encoder', LabelEncoderTransformer())\n",
        "])\n",
        "\n",
        "preprocessor = ColumnTransformer(\n",
        "    transformers=[\n",
        "        ('categorical', categorical_transformer, cat_feat_4),\n",
        "        ('ordinal', ordinal_transformer, ord_feat_4)\n",
        "    ]\n",
        ")\n",
        "\n",
        "rfc_pipeline_4 = Pipeline(steps=[('preprocessor', preprocessor),\n",
        "                              ('rfc_model_4', RandomForestClassifier(random_state=seed))])"
      ]
    },
    {
      "cell_type": "code",
      "execution_count": null,
      "metadata": {
        "id": "T2edppXAqED9"
      },
      "outputs": [],
      "source": [
        "rfc_pipeline_4.fit(X_train_4, y_train_4)"
      ]
    },
    {
      "cell_type": "code",
      "execution_count": null,
      "metadata": {
        "id": "BwrtSLG_qIPy"
      },
      "outputs": [],
      "source": [
        "feature_importance = rfc_pipeline_4.steps[-1][1].feature_importances_\n",
        "all_column_names = X_train_4.columns\n",
        "\n",
        "importance_tuples = [(col, imp) for col, imp in zip(all_column_names, feature_importance)]\n",
        "\n",
        "# Sort the list by feature importance in descending order\n",
        "rfc_pre_sorted_importance = sorted(importance_tuples, key=lambda x: x[1], reverse=True)\n",
        "\n",
        "# Print feature importance values for each column in descending order\n",
        "print('Random Forest Feature Importance - zestaw danych 4: \\n')\n",
        "for column, importance in rfc_pre_sorted_importance:\n",
        "    print(f\" {column}: {importance}\")"
      ]
    },
    {
      "cell_type": "code",
      "execution_count": null,
      "metadata": {
        "id": "rg4_JK74-K-T"
      },
      "outputs": [],
      "source": [
        "# stop"
      ]
    },
    {
      "cell_type": "markdown",
      "metadata": {
        "id": "JZ3MrtslrFbY"
      },
      "source": [
        "## Zestaw danych 5 - oversampling\n",
        "\n",
        "*   na bazie podziału na nowo utworzonej kolumnie 'year', zrobimy oversampling dla danych z 2009 i 2010r. (2008 bez zmian) dal wszsytkich danych zaliczonych do datatype (poza 'year')\n",
        "\n",
        "\n"
      ]
    },
    {
      "cell_type": "code",
      "execution_count": null,
      "metadata": {
        "id": "Edvii-q8AmmO"
      },
      "outputs": [],
      "source": [
        "model_columns_sampling = ['age', 'job', 'marital', 'education', 'housing', 'loan',\n",
        "       'contact', 'day_of_week', 'campaign', 'pdays', 'previous', 'poutcome',\n",
        "       'cons.conf.idx', 'emp.var.rate', 'month', 'year',\n",
        "      'y_numeric']\n",
        "\n",
        "print(len(model_columns_sampling))\n",
        "print(model_columns_sampling)"
      ]
    },
    {
      "cell_type": "code",
      "execution_count": null,
      "metadata": {
        "id": "CGx9iOx6-Fy9"
      },
      "outputs": [],
      "source": [
        "df_sampling = df[model_columns_sampling]\n",
        "df_sampling.shape"
      ]
    },
    {
      "cell_type": "code",
      "execution_count": null,
      "metadata": {
        "id": "nLssBx7DV9U2"
      },
      "outputs": [],
      "source": [
        "df_sampling['year'] = df_sampling['year'].astype('int')"
      ]
    },
    {
      "cell_type": "code",
      "execution_count": null,
      "metadata": {
        "id": "vn2BkoRsWF8b"
      },
      "outputs": [],
      "source": [
        "df_sampling.info()"
      ]
    },
    {
      "cell_type": "code",
      "execution_count": null,
      "metadata": {
        "id": "uERGSleU734D"
      },
      "outputs": [],
      "source": [
        "cat_feat_sampling = [col for col in df_sampling.select_dtypes(include=['object', 'category']).columns]\n",
        "cat_feat_sampling"
      ]
    },
    {
      "cell_type": "code",
      "execution_count": null,
      "metadata": {
        "id": "vKmPwTv68E5I"
      },
      "outputs": [],
      "source": [
        "df_encoded = pd.get_dummies(df_sampling, columns=cat_feat_sampling)\n",
        "\n",
        "df_encoded.shape"
      ]
    },
    {
      "cell_type": "code",
      "execution_count": null,
      "metadata": {
        "id": "mz_ivIv3g7DD"
      },
      "outputs": [],
      "source": [
        "df_encoded.info()"
      ]
    },
    {
      "cell_type": "code",
      "execution_count": null,
      "metadata": {
        "id": "EOMKzVxFLRHD"
      },
      "outputs": [],
      "source": [
        "df_2008 = df_encoded[df_sampling['year'] == 2008]\n",
        "print(df_2008.shape)\n",
        "df_2009_2010 = df_encoded[df_sampling['year'].isin([2009, 2010])]\n",
        "print(df_2009_2010.shape)"
      ]
    },
    {
      "cell_type": "code",
      "execution_count": null,
      "metadata": {
        "id": "1ic1aFIgCYtz"
      },
      "outputs": [],
      "source": [
        "\n",
        "\n",
        "X_2009_2010 = df_2009_2010.drop(columns=['y_numeric'])\n",
        "y_2009_2010 = df_2009_2010['y_numeric']\n",
        "\n",
        "# Inicjalizacja RandomOverSampler\n",
        "ros = RandomOverSampler(sampling_strategy={0: 1025*2, 1: 317*2}, random_state=seed) # podniesienie ilości obserwacji dwurkotnie z zachowaniem proprocji między etykietami\n",
        "\n",
        "# Zastosowanie RandomOverSampler do X i y\n",
        "X_resampled, y_resampled = ros.fit_resample(X_2009_2010, y_2009_2010)\n",
        "\n",
        "df_resampled = pd.DataFrame(data=X_resampled, columns=X_2009_2010.columns)\n",
        "df_resampled['y_numeric'] = y_resampled\n",
        "\n",
        "df_oversampled = pd.concat([df_2008, df_resampled], ignore_index=True)"
      ]
    },
    {
      "cell_type": "code",
      "execution_count": null,
      "metadata": {
        "id": "UorKig2lTi9l"
      },
      "outputs": [],
      "source": [
        "df_2008.info()"
      ]
    },
    {
      "cell_type": "code",
      "execution_count": null,
      "metadata": {
        "id": "CN06GwhbSGnp"
      },
      "outputs": [],
      "source": [
        "df_resampled.info()"
      ]
    },
    {
      "cell_type": "code",
      "execution_count": null,
      "metadata": {
        "id": "TEpQCW84-YmV"
      },
      "outputs": [],
      "source": [
        "df_oversampled.info()"
      ]
    },
    {
      "cell_type": "code",
      "execution_count": null,
      "metadata": {
        "id": "H5Tc3ZiPHI5k"
      },
      "outputs": [],
      "source": [
        "df.groupby(['year', 'y_numeric'])['y_numeric'].count().unstack(fill_value=0)"
      ]
    },
    {
      "cell_type": "code",
      "execution_count": null,
      "metadata": {
        "id": "iQBFZvJjHD44"
      },
      "outputs": [],
      "source": [
        "df_resampled.groupby(['year', 'y_numeric'])['y_numeric'].count().unstack(fill_value=0)"
      ]
    },
    {
      "cell_type": "code",
      "execution_count": null,
      "metadata": {
        "id": "MQ2Z3UbBB7Yh"
      },
      "outputs": [],
      "source": [
        "df_oversampled.groupby(['year', 'y_numeric'])['y_numeric'].count().unstack(fill_value=0)"
      ]
    },
    {
      "cell_type": "code",
      "source": [
        "grouped_data = df_oversampled.groupby(['year', 'y_numeric'])['y_numeric'].count().unstack(fill_value=0)\n",
        "\n",
        "grouped_data.plot(kind='bar')\n",
        "plt.xlabel('Year')\n",
        "plt.ylabel('Count of y')\n",
        "plt.title('Count of y by Year')\n",
        "plt.legend(title='y_numeric', labels=['no', 'yes'])\n",
        "plt.show()"
      ],
      "metadata": {
        "id": "ObkYK-msXS19"
      },
      "execution_count": null,
      "outputs": []
    },
    {
      "cell_type": "code",
      "execution_count": null,
      "metadata": {
        "id": "uCdM2ZeGNaEH"
      },
      "outputs": [],
      "source": [
        "df_oversampled.info()"
      ]
    },
    {
      "cell_type": "code",
      "execution_count": null,
      "metadata": {
        "id": "p_iVIP5_aBAu"
      },
      "outputs": [],
      "source": [
        "categories = []\n",
        "\n",
        "for column in df_oversampled.columns:\n",
        "\n",
        "    patterns = [\"job_\", \"marital_\", \"housing_\", \"education_\", \"contact_\", \"loan_\", \"day_of_week_\", \"poutcome_\", \"month_\"]\n",
        "\n",
        "    for pattern in patterns:\n",
        "        if pattern in column:\n",
        "            categories.append(column)"
      ]
    },
    {
      "cell_type": "code",
      "execution_count": null,
      "metadata": {
        "id": "Gh-Fq-hdskTq"
      },
      "outputs": [],
      "source": [
        "patterns = [\"job_\", \"marital_\", \"housing_\", 'education_', 'contact_', 'loan_', 'day_of_week_', 'poutcome_', 'month_']"
      ]
    },
    {
      "cell_type": "code",
      "execution_count": null,
      "metadata": {
        "id": "ZlfzrXwsmrex"
      },
      "outputs": [],
      "source": [
        "categories"
      ]
    },
    {
      "cell_type": "code",
      "execution_count": null,
      "metadata": {
        "id": "dIxZoiEQsbvY"
      },
      "outputs": [],
      "source": [
        "job_categories = []\n",
        "marital_categories = []\n",
        "housing_categories = []\n",
        "education_categories = []\n",
        "contact_categories = []\n",
        "loan_categories = []\n",
        "day_of_week_categories = []\n",
        "poutcome_categories = []\n",
        "month_categories = []\n",
        "\n",
        "# Iteruj przez 'categories' i podziel na kategorie na podstawie wzorców\n",
        "for category in categories:\n",
        "    for pattern in patterns:\n",
        "        if category.startswith(pattern):\n",
        "            if pattern == \"job_\":\n",
        "                job_categories.append(category)\n",
        "            elif pattern == \"marital_\":\n",
        "                marital_categories.append(category)\n",
        "            elif pattern == \"housing_\":\n",
        "                housing_categories.append(category)\n",
        "            elif pattern == \"education_\":\n",
        "                education_categories.append(category)\n",
        "            elif pattern == \"contact_\":\n",
        "                contact_categories.append(category)\n",
        "            elif pattern == \"loan_\":\n",
        "                loan_categories.append(category)\n",
        "            elif pattern == \"day_of_week_\":\n",
        "                day_of_week_categories.append(category)\n",
        "            elif pattern == \"poutcome_\":\n",
        "                poutcome_categories.append(category)\n",
        "            elif pattern == \"month_\":\n",
        "                month_categories.append(category)\n"
      ]
    },
    {
      "cell_type": "code",
      "execution_count": null,
      "metadata": {
        "id": "t-SvSR28sn5j"
      },
      "outputs": [],
      "source": [
        "print(contact_categories)\n",
        "print(loan_categories)"
      ]
    },
    {
      "cell_type": "code",
      "execution_count": null,
      "metadata": {
        "id": "XYxRwCBYsn8i"
      },
      "outputs": [],
      "source": [
        "print(month_categories)"
      ]
    },
    {
      "cell_type": "code",
      "execution_count": null,
      "metadata": {
        "id": "e1grihYAaEmK"
      },
      "outputs": [],
      "source": [
        "# job_category_df_oversampled"
      ]
    },
    {
      "cell_type": "code",
      "execution_count": null,
      "metadata": {
        "id": "27SZ8Jq3YIpW"
      },
      "outputs": [],
      "source": [
        "# Odtwórz oryginalne kategorie na podstawie kolumn numerycznych\n",
        "df_oversampled['job'] = df_oversampled[job_categories].idxmax(axis=1)\n",
        "df_oversampled['marital'] = df_oversampled[marital_categories].idxmax(axis=1)\n",
        "df_oversampled['housing'] = df_oversampled[housing_categories].idxmax(axis=1)\n",
        "df_oversampled['education'] = df_oversampled[education_categories].idxmax(axis=1)\n",
        "df_oversampled['contact'] = df_oversampled[contact_categories].idxmax(axis=1)\n",
        "df_oversampled['loan'] = df_oversampled[loan_categories].idxmax(axis=1)\n",
        "df_oversampled['day_of_week'] = df_oversampled[day_of_week_categories].idxmax(axis=1)\n",
        "df_oversampled['poutcome'] = df_oversampled[poutcome_categories].idxmax(axis=1)\n",
        "df_oversampled['month'] = df_oversampled[month_categories].idxmax(axis=1)\n",
        "# Odtwórz pozostałe oryginalne kategorie\n",
        "\n",
        "\n",
        "df_oversampled['marital'] = df_oversampled[marital_categories].idxmax(axis=1)\n",
        "df_oversampled['housing'] = df_oversampled[housing_categories].idxmax(axis=1)\n",
        "df_oversampled['education'] = df_oversampled[education_categories].idxmax(axis=1)\n",
        "df_oversampled['contact'] = df_oversampled[contact_categories].idxmax(axis=1)\n",
        "df_oversampled['loan'] = df_oversampled[loan_categories].idxmax(axis=1)\n",
        "df_oversampled['day_of_week'] = df_oversampled[day_of_week_categories].idxmax(axis=1)\n",
        "df_oversampled['poutcome'] = df_oversampled[poutcome_categories].idxmax(axis=1)\n",
        "df_oversampled['month'] = df_oversampled[month_categories].idxmax(axis=1)\n",
        "\n",
        "# # Usuń kolumny numeryczne\n",
        "df_oversampled = df_oversampled.drop(columns=job_categories)\n",
        "df_oversampled = df_oversampled.drop(columns=marital_categories)\n",
        "df_oversampled = df_oversampled.drop(columns=housing_categories)\n",
        "df_oversampled = df_oversampled.drop(columns=education_categories)\n",
        "df_oversampled = df_oversampled.drop(columns=contact_categories)\n",
        "df_oversampled = df_oversampled.drop(columns=loan_categories)\n",
        "df_oversampled = df_oversampled.drop(columns=day_of_week_categories)\n",
        "df_oversampled = df_oversampled.drop(columns=poutcome_categories)\n",
        "df_oversampled = df_oversampled.drop(columns=month_categories)\n",
        "# Usuń pozostałe kolumny numeryczne\n",
        "\n",
        "# Teraz DataFrame df_oversampled ma oryginalne kategorie\n",
        "df_oversampled.info()"
      ]
    },
    {
      "cell_type": "code",
      "execution_count": null,
      "metadata": {
        "id": "FnQhafxXkzir"
      },
      "outputs": [],
      "source": [
        "df_oversampled[cat_feat_sampling]"
      ]
    },
    {
      "cell_type": "code",
      "execution_count": null,
      "metadata": {
        "id": "k-KqHolbky79"
      },
      "outputs": [],
      "source": [
        "df_oversampled['job'] = df_oversampled['job'].str.replace('job_', '')\n",
        "df_oversampled['job']"
      ]
    },
    {
      "cell_type": "code",
      "execution_count": null,
      "metadata": {
        "id": "NDzAbUr9j097"
      },
      "outputs": [],
      "source": [
        "df_oversampled['marital'] = df_oversampled['marital'].str.replace('marital_', '')\n",
        "df_oversampled['marital']"
      ]
    },
    {
      "cell_type": "code",
      "execution_count": null,
      "metadata": {
        "id": "YeKwsp3lj9h9"
      },
      "outputs": [],
      "source": [
        "df_oversampled['housing'] = df_oversampled['housing'].str.replace('housing_', '')\n",
        "df_oversampled['housing']"
      ]
    },
    {
      "cell_type": "code",
      "execution_count": null,
      "metadata": {
        "id": "hwX9X8YYlSZU"
      },
      "outputs": [],
      "source": [
        "df_oversampled['education'] = df_oversampled['education'].str.replace('education_', '')\n",
        "df_oversampled['education']"
      ]
    },
    {
      "cell_type": "code",
      "execution_count": null,
      "metadata": {
        "id": "1-JstYJ3lSe2"
      },
      "outputs": [],
      "source": [
        "df_oversampled['contact'] = df_oversampled['contact'].str.replace('contact_', '')\n",
        "df_oversampled['contact']\n"
      ]
    },
    {
      "cell_type": "code",
      "execution_count": null,
      "metadata": {
        "id": "UG_fnvnJlSib"
      },
      "outputs": [],
      "source": [
        "df_oversampled['loan'] = df_oversampled['loan'].str.replace('loan_', '')\n",
        "df_oversampled['loan']"
      ]
    },
    {
      "cell_type": "code",
      "execution_count": null,
      "metadata": {
        "id": "WIjJa5zTlSlt"
      },
      "outputs": [],
      "source": [
        "df_oversampled['month'] = df_oversampled['month'].str.replace('month_', '')\n",
        "df_oversampled['month']"
      ]
    },
    {
      "cell_type": "code",
      "execution_count": null,
      "metadata": {
        "id": "UMPBL227lSoW"
      },
      "outputs": [],
      "source": [
        "df_oversampled['day_of_week'] = df_oversampled['day_of_week'].str.replace('day_of_week_', '')\n",
        "df_oversampled['day_of_week']"
      ]
    },
    {
      "cell_type": "code",
      "execution_count": null,
      "metadata": {
        "id": "UeFswqZSuC1j"
      },
      "outputs": [],
      "source": [
        "df_oversampled['month_year'] = df_oversampled['month'] + '_' + df_oversampled['year'].astype('str')"
      ]
    },
    {
      "cell_type": "code",
      "execution_count": null,
      "metadata": {
        "id": "5Of-8ZLh75hF"
      },
      "outputs": [],
      "source": [
        "df_oversampled.info()"
      ]
    },
    {
      "cell_type": "code",
      "execution_count": null,
      "metadata": {
        "id": "7CRgPoBX79rE"
      },
      "outputs": [],
      "source": [
        "df_oversampled.drop(columns='month', inplace=True)"
      ]
    },
    {
      "cell_type": "code",
      "execution_count": null,
      "metadata": {
        "id": "y_Gz9AmybldO"
      },
      "outputs": [],
      "source": [
        "df_oversampled['month_year'] = df_oversampled['month_year'].astype('category')\n",
        "df_oversampled['day_of_week'] = df_oversampled['day_of_week'].astype('category')"
      ]
    },
    {
      "cell_type": "code",
      "execution_count": null,
      "metadata": {
        "id": "mMd_3WcybQjB"
      },
      "outputs": [],
      "source": [
        "df_oversampled.info()"
      ]
    },
    {
      "cell_type": "markdown",
      "metadata": {
        "id": "QC6TvkMCzHxU"
      },
      "source": [
        "### Przygotowanie do modelowania"
      ]
    },
    {
      "cell_type": "code",
      "execution_count": null,
      "metadata": {
        "id": "Pnzi_GjK8bEk"
      },
      "outputs": [],
      "source": [
        "model_columns_5 = ['age', 'job', 'marital', 'education', 'housing', 'loan',\n",
        "       'contact', 'day_of_week', 'campaign', 'pdays', 'previous', 'poutcome',\n",
        "       'cons.conf.idx', 'emp.var.rate', 'month_year',\n",
        "      'y_numeric']\n",
        "\n",
        "print(len(model_columns_5))\n",
        "print(model_columns_5)"
      ]
    },
    {
      "cell_type": "code",
      "execution_count": null,
      "metadata": {
        "id": "BoIx4aNVaGnC"
      },
      "outputs": [],
      "source": [
        "data_5 = df_oversampled[model_columns_5]"
      ]
    },
    {
      "cell_type": "code",
      "execution_count": null,
      "metadata": {
        "id": "QwFDVkJzaa06"
      },
      "outputs": [],
      "source": [
        "y_5 = data_5.pop('y_numeric')\n",
        "X_5 = data_5"
      ]
    },
    {
      "cell_type": "code",
      "execution_count": null,
      "metadata": {
        "id": "6_GKJyIsWHRC"
      },
      "outputs": [],
      "source": [
        "y_5.shape"
      ]
    },
    {
      "cell_type": "code",
      "execution_count": null,
      "metadata": {
        "id": "zZIIscqIb8dK"
      },
      "outputs": [],
      "source": [
        "X_5.shape"
      ]
    },
    {
      "cell_type": "code",
      "execution_count": null,
      "metadata": {
        "id": "NqMQoxDcaeHJ"
      },
      "outputs": [],
      "source": [
        "num_feat_5 = [col for col in df_oversampled[model_columns_5].select_dtypes(include=['integer', 'float']).columns if col != 'y_numeric']\n",
        "cat_feat_5 = [col for col in df_oversampled[model_columns_5].select_dtypes(include=['object']).columns if col != 'y']\n",
        "ord_feat_5 = [col for col in df_oversampled[model_columns_5].select_dtypes(include=['category']).columns if col != 'y']\n",
        "\n",
        "print(f'No. of numerical features: {len(num_feat_5)}')\n",
        "print(num_feat_5)\n",
        "print()\n",
        "print(f'No. of categorical features: {len(cat_feat_5)}')\n",
        "print(cat_feat_5)\n",
        "print()\n",
        "print(f'No. of ordinal features: {len(ord_feat_5)}')\n",
        "print(ord_feat_5)"
      ]
    },
    {
      "cell_type": "code",
      "execution_count": null,
      "metadata": {
        "id": "JHwAaMssagQA"
      },
      "outputs": [],
      "source": [
        "X_train_5, X_test_5, y_train_5, y_test_5 = train_test_split(X_5, y_5, test_size=0.2, random_state=seed, stratify=y_5)"
      ]
    },
    {
      "cell_type": "code",
      "execution_count": null,
      "metadata": {
        "id": "1Qq4_n_DaklQ"
      },
      "outputs": [],
      "source": [
        "print(X_train_5.shape, y_train_5.shape, X_test_5.shape, y_test_5.shape)"
      ]
    },
    {
      "cell_type": "code",
      "execution_count": null,
      "metadata": {
        "id": "PsJOlTLdaluQ"
      },
      "outputs": [],
      "source": [
        "y_train_5.value_counts()"
      ]
    },
    {
      "cell_type": "code",
      "execution_count": null,
      "metadata": {
        "id": "-cSnMQO11h_K"
      },
      "outputs": [],
      "source": [
        "614 / (3754+614)"
      ]
    },
    {
      "cell_type": "code",
      "execution_count": null,
      "metadata": {
        "id": "hUay_4XKanog"
      },
      "outputs": [],
      "source": [
        "y_test_5.value_counts()"
      ]
    },
    {
      "cell_type": "code",
      "execution_count": null,
      "metadata": {
        "id": "lnhnzRkZ1olW"
      },
      "outputs": [],
      "source": [
        "154 / (939 + 154)"
      ]
    },
    {
      "cell_type": "markdown",
      "source": [
        "### Feature Importance - RandomForestClassifier() - Zestaw danych nr 5"
      ],
      "metadata": {
        "id": "pwTilCHw3IK6"
      }
    },
    {
      "cell_type": "code",
      "source": [
        "categorical_transformer = Pipeline(steps=[\n",
        "    ('ohe', preprocessing.OneHotEncoder())\n",
        "])\n",
        "\n",
        "ordinal_transformer = Pipeline(steps=[\n",
        "    ('label_encoder', LabelEncoderTransformer())\n",
        "])\n",
        "\n",
        "preprocessor = ColumnTransformer(\n",
        "    transformers=[\n",
        "        ('categorical', categorical_transformer, cat_feat_5),\n",
        "        ('ordinal', ordinal_transformer, ord_feat_5)\n",
        "    ]\n",
        ")\n",
        "\n",
        "rfc_pipeline_5 = Pipeline(steps=[('preprocessor', preprocessor),\n",
        "                              ('rfc_model_5', RandomForestClassifier(random_state=seed))])"
      ],
      "metadata": {
        "id": "qaQR9O1Z3MfC"
      },
      "execution_count": null,
      "outputs": []
    },
    {
      "cell_type": "code",
      "source": [
        "rfc_pipeline_5.fit(X_train_5, y_train_5)"
      ],
      "metadata": {
        "id": "6RPq_b-R3MiH"
      },
      "execution_count": null,
      "outputs": []
    },
    {
      "cell_type": "code",
      "source": [
        "feature_importance = rfc_pipeline_5.steps[-1][1].feature_importances_\n",
        "all_column_names = X_train_5.columns\n",
        "\n",
        "importance_tuples = [(col, imp) for col, imp in zip(all_column_names, feature_importance)]\n",
        "\n",
        "# Sort the list by feature importance in descending order\n",
        "rfc_pre_sorted_importance = sorted(importance_tuples, key=lambda x: x[1], reverse=True)\n",
        "\n",
        "# Print feature importance values for each column in descending order\n",
        "print('Random Forest Feature Importance - zestaw danych 4: \\n')\n",
        "for column, importance in rfc_pre_sorted_importance:\n",
        "    print(f\" {column}: {importance}\")"
      ],
      "metadata": {
        "id": "hdrwiexQ3l7D"
      },
      "execution_count": null,
      "outputs": []
    },
    {
      "cell_type": "code",
      "source": [
        "stop"
      ],
      "metadata": {
        "id": "KamWWW93xM5v"
      },
      "execution_count": null,
      "outputs": []
    },
    {
      "cell_type": "code",
      "source": [
        "s"
      ],
      "metadata": {
        "id": "L9bdeTefaAG1"
      },
      "execution_count": null,
      "outputs": []
    },
    {
      "cell_type": "markdown",
      "metadata": {
        "id": "3aWGpAPY56Xl"
      },
      "source": [
        "#Modelowanie"
      ]
    },
    {
      "cell_type": "markdown",
      "metadata": {
        "id": "c_vDk19NXniH"
      },
      "source": [
        "## Baseline Random Forest Classifier - zestaw 1"
      ]
    },
    {
      "cell_type": "markdown",
      "metadata": {
        "id": "-3RN9U5Sb5qc"
      },
      "source": [
        "Komentarz do baseline"
      ]
    },
    {
      "cell_type": "code",
      "execution_count": null,
      "metadata": {
        "id": "GxnU6eQOcD2h"
      },
      "outputs": [],
      "source": [
        "X_test_data = X_test\n",
        "y_test_data = y_test"
      ]
    },
    {
      "cell_type": "code",
      "execution_count": null,
      "metadata": {
        "id": "nsmXI8aaUsL3"
      },
      "outputs": [],
      "source": [
        "sns.set(rc={\"figure.figsize\":(8, 6)})\n",
        "calculation_metrics(rfc_pipeline, 'Model 0 - Baseline RFC')"
      ]
    },
    {
      "cell_type": "code",
      "execution_count": null,
      "metadata": {
        "id": "YHzYXebJoPPd"
      },
      "outputs": [],
      "source": [
        "# # test\n",
        "\n",
        "# model_names = metrics_dataframe['Model']w\n",
        "# auc_scores = metrics_dataframe['AUC']\n",
        "\n",
        "# # Create a plot for AUC ROC\n",
        "# plt.figure(figsize=(10, 6))\n",
        "# for model_name, auc_score in zip(model_names, auc_scores):\n",
        "#     # You need to replace the following lines with the actual data and models\n",
        "#     fpr, tpr, thresholds = roc_curve(y_test_data, predictions_proba)  # Replace with actual data\n",
        "#     plt.plot(fpr, tpr, label=f'{model_name} (AUC = {auc_score:.2f})')\n",
        "\n",
        "# plt.plot([0, 1], [0, 1], 'k--')\n",
        "# plt.xlabel('False Positive Rate')\n",
        "# plt.ylabel('True Positive Rate')\n",
        "# plt.title('ROC Curve')\n",
        "# plt.legend()\n",
        "# plt.show()"
      ]
    },
    {
      "cell_type": "code",
      "execution_count": null,
      "metadata": {
        "id": "OHFEYyCbkvRC"
      },
      "outputs": [],
      "source": [
        "# stop"
      ]
    },
    {
      "cell_type": "markdown",
      "metadata": {
        "id": "h9nsS87rb9MA"
      },
      "source": [
        "## Model 1 - Logistic Regression zestaw danych 1"
      ]
    },
    {
      "cell_type": "markdown",
      "metadata": {
        "id": "RLHj05V5coFq"
      },
      "source": [
        "\n",
        "* z użyciem zestawu danych nr 1 wraz SMOTE (oversampling danych - przeciwdziałanie niezbalansowaniu - widoczny słabe wyniki prognozy w mniej licznej klasie) - dodanie również StandardScaler() - celem jest sprawdzenie feature importance dla wskaźników finansowych\n"
      ]
    },
    {
      "cell_type": "code",
      "execution_count": null,
      "metadata": {
        "id": "fWbHG7oeb8DG"
      },
      "outputs": [],
      "source": [
        "categorical_transformer = Pipeline_imb(steps=[\n",
        "    ('ohe', preprocessing.OneHotEncoder())\n",
        "])\n",
        "\n",
        "ordinal_transformer = Pipeline_imb(steps=[\n",
        "    ('label_encoder', LabelEncoderTransformer())\n",
        "])\n",
        "\n",
        "numeric_transformer = Pipeline_imb(steps=[\n",
        "    ('scaler', StandardScaler())\n",
        "])\n",
        "\n",
        "preprocessor = ColumnTransformer(\n",
        "    transformers=[\n",
        "        ('categorical_transformer', categorical_transformer, cat_feat),\n",
        "        ('ordinal_transformer', ordinal_transformer, ord_feat),\n",
        "        ('numeric_transformer', numeric_transformer, num_feat)\n",
        "    ]\n",
        ")\n",
        "\n",
        "lr_pipeline = Pipeline_imb(steps=[('preprocessor', preprocessor),\n",
        "                              ('smote', SMOTE(random_state=seed)),\n",
        "                              ('lr_model', LogisticRegression(random_state=seed))])"
      ]
    },
    {
      "cell_type": "code",
      "execution_count": null,
      "metadata": {
        "id": "4OuyTJ58jwfn"
      },
      "outputs": [],
      "source": [
        "lr_param_grid = {\n",
        "    'smote__sampling_strategy': [0.3],\n",
        "    'smote__k_neighbors': [4],\n",
        "    'lr_model__C': [ 0.01],\n",
        "    'lr_model__penalty': ['l2'],\n",
        "    'lr_model__max_iter': [15],\n",
        "}"
      ]
    },
    {
      "cell_type": "code",
      "execution_count": null,
      "metadata": {
        "id": "ABACxCR0hZDx"
      },
      "outputs": [],
      "source": [
        "lr_model_gridsearch = HalvingGridSearchCV(estimator = lr_pipeline,\n",
        "                                       param_grid = lr_param_grid,\n",
        "                                       scoring='f1_weighted',\n",
        "                                      #  error_score='raise',\n",
        "                                       cv=10,\n",
        "                                       verbose=1,\n",
        "                                       n_jobs=-1,\n",
        "                                       random_state=seed,\n",
        "                                       refit=True)\n",
        "\n",
        "lr_model_gridsearch.fit(X_train, y_train)"
      ]
    },
    {
      "cell_type": "code",
      "execution_count": null,
      "metadata": {
        "id": "pEb2In24Clg0"
      },
      "outputs": [],
      "source": [
        "print('\\nBest hyperparameter:', lr_model_gridsearch.best_params_)"
      ]
    },
    {
      "cell_type": "code",
      "execution_count": null,
      "metadata": {
        "id": "4uAXJJ6_NKGG"
      },
      "outputs": [],
      "source": [
        "lr_model = lr_model_gridsearch.best_estimator_"
      ]
    },
    {
      "cell_type": "code",
      "execution_count": null,
      "metadata": {
        "id": "XcZmw88KKzCb"
      },
      "outputs": [],
      "source": [
        "X_test_data = X_test\n",
        "y_test_data = y_test"
      ]
    },
    {
      "cell_type": "code",
      "execution_count": null,
      "metadata": {
        "id": "gauYETgAB9M_"
      },
      "outputs": [],
      "source": [
        "sns.set(rc={\"figure.figsize\":(10, 5)})\n",
        "calculation_metrics(lr_model, 'Model 1 - Logistic Regression - dataset 1')"
      ]
    },
    {
      "cell_type": "code",
      "execution_count": null,
      "metadata": {
        "id": "daxkszgqbHNS"
      },
      "outputs": [],
      "source": [
        "# stop"
      ]
    },
    {
      "cell_type": "markdown",
      "metadata": {
        "id": "gn_eTKAmeZQU"
      },
      "source": [
        "### Sprawdzenie istotności cech na bazie Regresji Logistycznej - zestaw 1"
      ]
    },
    {
      "cell_type": "code",
      "execution_count": null,
      "metadata": {
        "id": "EawWqcdFV60Z"
      },
      "outputs": [],
      "source": [
        "training_features = list(model_columns)\n",
        "training_features.remove('y_numeric')"
      ]
    },
    {
      "cell_type": "code",
      "execution_count": null,
      "metadata": {
        "id": "dYe6kSa9W4s2"
      },
      "outputs": [],
      "source": [
        "training_features"
      ]
    },
    {
      "cell_type": "code",
      "execution_count": null,
      "metadata": {
        "id": "6EAnia1z33HQ"
      },
      "outputs": [],
      "source": [
        "calculate_and_print_feature_importance(lr_model, training_features)"
      ]
    },
    {
      "cell_type": "code",
      "execution_count": null,
      "metadata": {
        "id": "gz49O-O819WN"
      },
      "outputs": [],
      "source": [
        "# stop"
      ]
    },
    {
      "cell_type": "markdown",
      "metadata": {
        "id": "dZgrCWb5lLlv"
      },
      "source": [
        "## Model 1_b Logistic Regression zestaw 1 - bez SMOTE dla porównania"
      ]
    },
    {
      "cell_type": "code",
      "execution_count": null,
      "metadata": {
        "id": "aGbtxcDyllfz"
      },
      "outputs": [],
      "source": [
        "categorical_transformer = Pipeline_imb(steps=[\n",
        "    ('ohe', preprocessing.OneHotEncoder())\n",
        "])\n",
        "\n",
        "ordinal_transformer = Pipeline_imb(steps=[\n",
        "    ('label_encoder', LabelEncoderTransformer())\n",
        "])\n",
        "\n",
        "numeric_transformer = Pipeline_imb(steps=[\n",
        "    ('scaler', StandardScaler())\n",
        "])\n",
        "\n",
        "preprocessor = ColumnTransformer(\n",
        "    transformers=[\n",
        "        ('categorical_transformer', categorical_transformer, cat_feat),\n",
        "        ('ordinal_transformer', ordinal_transformer, ord_feat),\n",
        "        ('numeric_transformer', numeric_transformer, num_feat)\n",
        "    ]\n",
        ")\n",
        "\n",
        "lr_pipeline_1a = Pipeline_imb(steps=[('preprocessor', preprocessor),\n",
        "                              ('lr_model', LogisticRegression(random_state=seed))])"
      ]
    },
    {
      "cell_type": "code",
      "execution_count": null,
      "metadata": {
        "id": "Lh1Qc6zclnnO"
      },
      "outputs": [],
      "source": [
        "lr_param_grid_1a = {\n",
        "    'lr_model__C': [0.001, 0.01, 0.1],\n",
        "    'lr_model__penalty': ['l1', 'l2', 'none'],\n",
        "    'lr_model__max_iter': [15, 25, 50],\n",
        "}"
      ]
    },
    {
      "cell_type": "code",
      "execution_count": null,
      "metadata": {
        "id": "PvDEzBRslspR"
      },
      "outputs": [],
      "source": [
        "lr_model_gridsearch_1a = HalvingGridSearchCV(estimator = lr_pipeline_1a,\n",
        "                                       param_grid = lr_param_grid_1a,\n",
        "                                       scoring='f1_weighted',\n",
        "                                      #  error_score='raise',\n",
        "                                       cv=10,\n",
        "                                       verbose=1,\n",
        "                                       n_jobs=-1,\n",
        "                                       random_state=seed,\n",
        "                                       refit=True)\n",
        "\n",
        "lr_model_gridsearch_1a.fit(X_train, y_train)"
      ]
    },
    {
      "cell_type": "code",
      "execution_count": null,
      "metadata": {
        "id": "gKO2fZQ2lz-6"
      },
      "outputs": [],
      "source": [
        "print('\\nBest hyperparameter:', lr_model_gridsearch_1a.best_params_)"
      ]
    },
    {
      "cell_type": "code",
      "execution_count": null,
      "metadata": {
        "id": "e1__VIahl1sh"
      },
      "outputs": [],
      "source": [
        "lr_model_1a = lr_model_gridsearch_1a.best_estimator_"
      ]
    },
    {
      "cell_type": "code",
      "execution_count": null,
      "metadata": {
        "id": "Jlq_3uFpl278"
      },
      "outputs": [],
      "source": [
        "X_test_data = X_test\n",
        "y_test_data = y_test"
      ]
    },
    {
      "cell_type": "code",
      "execution_count": null,
      "metadata": {
        "id": "GN4h8Dxel4Zq"
      },
      "outputs": [],
      "source": [
        "sns.set(rc={\"figure.figsize\":(10, 5)})\n",
        "calculation_metrics(lr_model_1a, 'Model 1_A - Logistic Regression - dataset 1')"
      ]
    },
    {
      "cell_type": "markdown",
      "metadata": {
        "id": "L05oEelMmyW9"
      },
      "source": [
        "Widać, że predykcja jest o wiele słabsza dla mniejszej klasy w 'y_numeric' bez użycia SMOTE"
      ]
    },
    {
      "cell_type": "markdown",
      "metadata": {
        "id": "7P5cyL7HDA1B"
      },
      "source": []
    },
    {
      "cell_type": "code",
      "execution_count": null,
      "metadata": {
        "id": "fXQ6qLjkbJst"
      },
      "outputs": [],
      "source": [
        "# Model 2 - Logistic Regression zestaw 2\n",
        "\n",
        "# * z kolumną year oraz wybranym najważniejszym"
      ]
    },
    {
      "cell_type": "markdown",
      "metadata": {
        "id": "W6Amv5avZp8T"
      },
      "source": []
    },
    {
      "cell_type": "markdown",
      "metadata": {
        "id": "haCPhw4W0JaI"
      },
      "source": [
        "## Model 2 - Logistic Regression zestaw danych 2"
      ]
    },
    {
      "cell_type": "code",
      "execution_count": null,
      "metadata": {
        "id": "B11EbW6uPpw1"
      },
      "outputs": [],
      "source": [
        "categorical_transformer = Pipeline_imb(steps=[\n",
        "    ('ohe', preprocessing.OneHotEncoder())\n",
        "])\n",
        "\n",
        "ordinal_transformer = Pipeline_imb(steps=[\n",
        "    ('label_encoder', LabelEncoderTransformer())\n",
        "])\n",
        "\n",
        "numeric_transformer = Pipeline_imb(steps=[\n",
        "    ('scaler', StandardScaler())\n",
        "])\n",
        "\n",
        "preprocessor = ColumnTransformer(\n",
        "    transformers=[\n",
        "        ('categorical_transformer', categorical_transformer, cat_feat_2),\n",
        "        ('ordinal_transformer', ordinal_transformer, ord_feat_2),\n",
        "        ('numeric_transformer', numeric_transformer, num_feat_2)\n",
        "    ]\n",
        ")\n",
        "\n",
        "lr_pipeline_2 = Pipeline_imb(steps=[('preprocessor', preprocessor),\n",
        "                              ('smote', SMOTE(random_state=seed)),\n",
        "                              ('lr_model_2', LogisticRegression(random_state=seed))])"
      ]
    },
    {
      "cell_type": "code",
      "execution_count": null,
      "metadata": {
        "id": "qutfbWoRSRiY"
      },
      "outputs": [],
      "source": [
        "lr_param_grid_2 = {\n",
        "    'smote__sampling_strategy': [0.3,],\n",
        "    'smote__k_neighbors': [4],\n",
        "    'lr_model_2__C': [ 0.01,],\n",
        "    'lr_model_2__penalty': ['l2'],\n",
        "    'lr_model_2__max_iter': [15,],\n",
        "}"
      ]
    },
    {
      "cell_type": "code",
      "execution_count": null,
      "metadata": {
        "id": "3IOEkBcnROgH"
      },
      "outputs": [],
      "source": [
        "lr_model_2_gridsearch = HalvingGridSearchCV(estimator = lr_pipeline_2,\n",
        "                                       param_grid = lr_param_grid_2,\n",
        "                                       scoring='f1_weighted',\n",
        "                                       cv=10,\n",
        "                                       verbose=1,\n",
        "                                       n_jobs=-1,\n",
        "                                       random_state=seed,\n",
        "                                       refit=True)\n",
        "\n",
        "lr_model_2_gridsearch.fit(X_train_2, y_train_2)"
      ]
    },
    {
      "cell_type": "code",
      "execution_count": null,
      "metadata": {
        "id": "NBuvKCtETKmY"
      },
      "outputs": [],
      "source": [
        "print('\\nBest hyperparameter:', lr_model_2_gridsearch.best_params_)"
      ]
    },
    {
      "cell_type": "code",
      "execution_count": null,
      "metadata": {
        "id": "28--QekhTOiP"
      },
      "outputs": [],
      "source": [
        "lr_model_2 = lr_model_2_gridsearch.best_estimator_"
      ]
    },
    {
      "cell_type": "code",
      "execution_count": null,
      "metadata": {
        "id": "UZArDeegiVYl"
      },
      "outputs": [],
      "source": []
    },
    {
      "cell_type": "code",
      "execution_count": null,
      "metadata": {
        "id": "eCyXvOfGWuAc"
      },
      "outputs": [],
      "source": [
        "X_test_data = X_test_2\n",
        "y_test_data = y_test_2"
      ]
    },
    {
      "cell_type": "code",
      "execution_count": null,
      "metadata": {
        "id": "KVDh1P6PTQz_"
      },
      "outputs": [],
      "source": [
        "sns.set(rc={\"figure.figsize\":(10, 5)})\n",
        "calculation_metrics(lr_model_2, 'Model 2 - Logistic Regression - dataset 2')"
      ]
    },
    {
      "cell_type": "markdown",
      "metadata": {
        "id": "1bS6Jyr9b8yq"
      },
      "source": [
        "### Istotność cech Logistic Regression zestaw danych 2"
      ]
    },
    {
      "cell_type": "code",
      "execution_count": null,
      "metadata": {
        "id": "Q0qtu7hhcerK"
      },
      "outputs": [],
      "source": [
        "training_features_2 = list(model_columns_2)\n",
        "training_features_2.remove('y_numeric')\n",
        "training_features_2"
      ]
    },
    {
      "cell_type": "code",
      "execution_count": null,
      "metadata": {
        "id": "z7k-WvJQZcNI"
      },
      "outputs": [],
      "source": [
        "calculate_and_print_feature_importance(lr_model_2, training_features_2)"
      ]
    },
    {
      "cell_type": "code",
      "execution_count": null,
      "metadata": {
        "id": "H4VGQW2HBLcV"
      },
      "outputs": [],
      "source": [
        "# stop"
      ]
    },
    {
      "cell_type": "markdown",
      "metadata": {
        "id": "uSBKcd70XAtS"
      },
      "source": [
        "## Model 3 - Logistic Regression zestaw danych 3"
      ]
    },
    {
      "cell_type": "code",
      "execution_count": null,
      "metadata": {
        "id": "BpBMj_AoXAtj"
      },
      "outputs": [],
      "source": [
        "categorical_transformer = Pipeline_imb(steps=[\n",
        "    ('ohe', preprocessing.OneHotEncoder())\n",
        "])\n",
        "\n",
        "ordinal_transformer = Pipeline_imb(steps=[\n",
        "    ('label_encoder', LabelEncoderTransformer())\n",
        "])\n",
        "\n",
        "numeric_transformer = Pipeline_imb(steps=[\n",
        "    ('scaler', StandardScaler())\n",
        "])\n",
        "\n",
        "preprocessor = ColumnTransformer(\n",
        "    transformers=[\n",
        "        ('categorical_transformer', categorical_transformer, cat_feat_3),\n",
        "        ('ordinal_transformer', ordinal_transformer, ord_feat_3),\n",
        "        ('numeric_transformer', numeric_transformer, num_feat_3)\n",
        "    ]\n",
        ")\n",
        "\n",
        "lr_pipeline_3 = Pipeline_imb(steps=[('preprocessor', preprocessor),\n",
        "                              ('smote', SMOTE(random_state=seed)),\n",
        "                              ('lr_model_3', LogisticRegression(random_state=seed))])"
      ]
    },
    {
      "cell_type": "code",
      "execution_count": null,
      "metadata": {
        "id": "Uy3IKjhWXAtk"
      },
      "outputs": [],
      "source": [
        "lr_param_grid_3 = {\n",
        "    'smote__sampling_strategy': [0.8],\n",
        "    'smote__k_neighbors': [5],\n",
        "    # 'lr_model__solver': ['liblinear', 'lbfgs', 'newton-cholesky'], wynik był lepszy w wersji z automatycznym 'lbfgs'\n",
        "    'lr_model_3__C': [0.01],\n",
        "    'lr_model_3__penalty': [ 'l2'],\n",
        "    'lr_model_3__max_iter': [15],\n",
        "}"
      ]
    },
    {
      "cell_type": "code",
      "execution_count": null,
      "metadata": {
        "id": "ijLz7xZxXAtk"
      },
      "outputs": [],
      "source": [
        "lr_model_3_gridsearch = HalvingGridSearchCV(estimator = lr_pipeline_3,\n",
        "                                       param_grid = lr_param_grid_3,\n",
        "                                       scoring='f1_weighted',\n",
        "                                       cv=10,\n",
        "                                       verbose=1,\n",
        "                                       n_jobs=-1,\n",
        "                                       random_state=seed,\n",
        "                                       refit=True)\n",
        "\n",
        "lr_model_3_gridsearch.fit(X_train_3, y_train_3)"
      ]
    },
    {
      "cell_type": "code",
      "execution_count": null,
      "metadata": {
        "id": "37tnstoDXAtk"
      },
      "outputs": [],
      "source": [
        "print('\\nBest hyperparameter:', lr_model_3_gridsearch.best_params_)"
      ]
    },
    {
      "cell_type": "code",
      "execution_count": null,
      "metadata": {
        "id": "H5SjhxH2XAtk"
      },
      "outputs": [],
      "source": [
        "lr_model_3 = lr_model_3_gridsearch.best_estimator_"
      ]
    },
    {
      "cell_type": "code",
      "execution_count": null,
      "metadata": {
        "id": "Hg5oSyi0bWn1"
      },
      "outputs": [],
      "source": [
        "# X_test_data\n",
        "# y_test_data"
      ]
    },
    {
      "cell_type": "code",
      "execution_count": null,
      "metadata": {
        "id": "ST4wUhT5XAtk"
      },
      "outputs": [],
      "source": [
        "X_test_data = X_test_3\n",
        "y_test_data = y_test_3"
      ]
    },
    {
      "cell_type": "code",
      "execution_count": null,
      "metadata": {
        "id": "552M0DaJXAtk"
      },
      "outputs": [],
      "source": [
        "sns.set(rc={\"figure.figsize\":(10, 5)})\n",
        "calculation_metrics(lr_model_3, 'Model 3 - Logistic Regression - dataset 3')"
      ]
    },
    {
      "cell_type": "code",
      "execution_count": null,
      "metadata": {
        "id": "UVgyLZSmXAtk"
      },
      "outputs": [],
      "source": [
        "# stop"
      ]
    },
    {
      "cell_type": "markdown",
      "metadata": {
        "id": "KbwtVKuKXAtl"
      },
      "source": [
        "### Istotność cech Logistic Regression zestaw 3"
      ]
    },
    {
      "cell_type": "code",
      "execution_count": null,
      "metadata": {
        "id": "beZv4oH_XAtl"
      },
      "outputs": [],
      "source": [
        "training_features_3 = list(model_columns_3)\n",
        "training_features_3.remove('y_numeric')\n",
        "training_features_3"
      ]
    },
    {
      "cell_type": "code",
      "execution_count": null,
      "metadata": {
        "id": "TPZJaxlQ2sxR"
      },
      "outputs": [],
      "source": [
        "calculate_and_print_feature_importance(lr_model_3, training_features_3)"
      ]
    },
    {
      "cell_type": "markdown",
      "metadata": {
        "id": "604WLPRan7xF"
      },
      "source": [
        "## Model 4 - Support Vector Classifier () - zestaw 1"
      ]
    },
    {
      "cell_type": "code",
      "execution_count": null,
      "metadata": {
        "id": "ofRbeIfeBmNq"
      },
      "outputs": [],
      "source": [
        "data.head()"
      ]
    },
    {
      "cell_type": "code",
      "execution_count": null,
      "metadata": {
        "id": "llLEWp5XoDXj"
      },
      "outputs": [],
      "source": [
        "categorical_transformer = Pipeline_imb(steps=[\n",
        "    ('ohe', preprocessing.OneHotEncoder())\n",
        "])\n",
        "\n",
        "ordinal_transformer = Pipeline_imb(steps=[\n",
        "    ('label_encoder', LabelEncoderTransformer())\n",
        "])\n",
        "\n",
        "numeric_transformer = Pipeline_imb(steps=[\n",
        "    ('scaler', StandardScaler())\n",
        "])\n",
        "\n",
        "svm_pipeline = Pipeline_imb([\n",
        "    ('preprocessor', ColumnTransformer(transformers=[\n",
        "        ('categorical_transformer', categorical_transformer, cat_feat),\n",
        "        ('ordinal_transformer', ordinal_transformer, ord_feat),\n",
        "        ('numeric_transformer', numeric_transformer, num_feat)\n",
        "    ])),\n",
        "    ('smote', SMOTE(random_state=seed)),\n",
        "    ('svm_model', svm.SVC(probability=True))\n",
        "])\n",
        "\n"
      ]
    },
    {
      "cell_type": "code",
      "execution_count": null,
      "metadata": {
        "id": "KfHs1qB3p6v4"
      },
      "outputs": [],
      "source": [
        "svm_param_grid = {\n",
        "    'smote__sampling_strategy': [0.8],\n",
        "    'smote__k_neighbors': [5],\n",
        "    'svm_model__C': [0.1],\n",
        "    'svm_model__kernel': ['rbf'],\n",
        "    'svm_model__gamma':  [0.01]\n",
        "}"
      ]
    },
    {
      "cell_type": "code",
      "execution_count": null,
      "metadata": {
        "id": "zDB36y2rswSl"
      },
      "outputs": [],
      "source": [
        "# dobrane hiperamametry dla svm\n",
        "\n",
        "# svm_param_grid = {\n",
        "#     'smote__sampling_strategy': [0.8],\n",
        "#     'smote__k_neighbors': [5],\n",
        "#     'svm_model__C': [0.01, 0.1, 1, 10],\n",
        "#     'svm_model__kernel': ['linear', 'rbf', 'poly'],\n",
        "#     'svm_model__gamma': ['scale', 'auto', 0.001, 0.01, 0.1, 1]\n",
        "# }"
      ]
    },
    {
      "cell_type": "code",
      "execution_count": null,
      "metadata": {
        "id": "thLc3PE-p6IG"
      },
      "outputs": [],
      "source": [
        "svm_search = HalvingGridSearchCV(svm_pipeline,\n",
        "                                 svm_param_grid,\n",
        "                                 scoring='precision',\n",
        "                                 cv=10,\n",
        "                                 verbose=1,\n",
        "                                 n_jobs=-1,\n",
        "                                 random_state=seed)\n",
        "\n",
        "svm_search.fit(X_train, y_train)"
      ]
    },
    {
      "cell_type": "code",
      "execution_count": null,
      "metadata": {
        "id": "JzNfe9XUoG-0"
      },
      "outputs": [],
      "source": [
        "print('\\nBest hyperparameter:', svm_search.best_params_)"
      ]
    },
    {
      "cell_type": "code",
      "execution_count": null,
      "metadata": {
        "id": "RqECJ6IstLNH"
      },
      "outputs": [],
      "source": [
        "svm_model = svm_search.best_estimator_"
      ]
    },
    {
      "cell_type": "code",
      "execution_count": null,
      "metadata": {
        "id": "BHulRGwKtW2B"
      },
      "outputs": [],
      "source": [
        "X_test_data = X_test\n",
        "y_test_data = y_test"
      ]
    },
    {
      "cell_type": "code",
      "execution_count": null,
      "metadata": {
        "id": "1n7Duyx_tYgj"
      },
      "outputs": [],
      "source": [
        "sns.set(rc={\"figure.figsize\":(10, 5)})\n",
        "calculation_metrics(svm_model, 'Model 4 - Support Vector Classiffier - dataset 1')"
      ]
    },
    {
      "cell_type": "code",
      "execution_count": null,
      "metadata": {
        "id": "HOg9rjVKbkpp"
      },
      "outputs": [],
      "source": [
        "feature_importance = calculate_and_print_feature_importance_2(svm_model, X_test, y_test)\n",
        "print(feature_importance)"
      ]
    },
    {
      "cell_type": "code",
      "execution_count": null,
      "metadata": {
        "id": "SjoJ9yGsYPZU"
      },
      "outputs": [],
      "source": [
        "# stop"
      ]
    },
    {
      "cell_type": "markdown",
      "metadata": {
        "id": "n3dWTRXteaeX"
      },
      "source": [
        "## Model 5 - Support Vector Classifier ()- zestaw 2"
      ]
    },
    {
      "cell_type": "code",
      "execution_count": null,
      "metadata": {
        "id": "PmvBLE0ABu0v"
      },
      "outputs": [],
      "source": [
        "data_2.head()"
      ]
    },
    {
      "cell_type": "code",
      "execution_count": null,
      "metadata": {
        "id": "19euAqOLfS_o"
      },
      "outputs": [],
      "source": [
        "categorical_transformer = Pipeline_imb(steps=[\n",
        "    ('ohe', preprocessing.OneHotEncoder())\n",
        "])\n",
        "\n",
        "ordinal_transformer = Pipeline_imb(steps=[\n",
        "    ('label_encoder', LabelEncoderTransformer())\n",
        "])\n",
        "\n",
        "numeric_transformer = Pipeline_imb(steps=[\n",
        "    ('scaler', StandardScaler())\n",
        "])\n",
        "\n",
        "svm_pipeline_2 = Pipeline_imb([\n",
        "    ('preprocessor', ColumnTransformer(transformers=[\n",
        "        ('categorical_transformer', categorical_transformer, cat_feat_2),\n",
        "        ('ordinal_transformer', ordinal_transformer, ord_feat_2),\n",
        "        ('numeric_transformer', numeric_transformer, num_feat_2)\n",
        "    ])),\n",
        "    ('smote', SMOTE(random_state=seed)),\n",
        "    ('svm_model_2', svm.SVC(probability=True))\n",
        "])"
      ]
    },
    {
      "cell_type": "code",
      "execution_count": null,
      "metadata": {
        "id": "9oBaYcdVfbis"
      },
      "outputs": [],
      "source": [
        "svm_param_grid_2 = {\n",
        "    'smote__sampling_strategy':\n",
        "     [0.3,],\n",
        "    'smote__k_neighbors':\n",
        "     [5],\n",
        "    'svm_model_2__C':\n",
        "     [0.01],\n",
        "    'svm_model_2__kernel':\n",
        "     ['rbf'],\n",
        "    'svm_model_2__gamma':\n",
        "     [ 0.1]\n",
        "}"
      ]
    },
    {
      "cell_type": "code",
      "execution_count": null,
      "metadata": {
        "id": "2vC1o1XIffw7"
      },
      "outputs": [],
      "source": [
        "svm_search_2 = HalvingGridSearchCV(svm_pipeline_2,\n",
        "                                 svm_param_grid_2,\n",
        "                                 scoring='f1_weighted',\n",
        "                                 cv=10,\n",
        "                                 verbose=1,\n",
        "                                 n_jobs=-1,\n",
        "                                 random_state=seed)\n",
        "\n",
        "svm_search_2.fit(X_train_2, y_train_2)"
      ]
    },
    {
      "cell_type": "code",
      "execution_count": null,
      "metadata": {
        "id": "fUuRO57rfqKn"
      },
      "outputs": [],
      "source": [
        "print('\\nBest hyperparameter:', svm_search_2.best_params_)"
      ]
    },
    {
      "cell_type": "code",
      "execution_count": null,
      "metadata": {
        "id": "p6C5o7QrgBbI"
      },
      "outputs": [],
      "source": [
        "svm_model_2 = svm_search_2.best_estimator_"
      ]
    },
    {
      "cell_type": "code",
      "execution_count": null,
      "metadata": {
        "id": "KqHTVyp0gLy8"
      },
      "outputs": [],
      "source": [
        "X_test_data = X_test_2\n",
        "y_test_data = y_test_2"
      ]
    },
    {
      "cell_type": "code",
      "execution_count": null,
      "metadata": {
        "id": "3Q7ftwMlgWqF"
      },
      "outputs": [],
      "source": [
        "sns.set(rc={\"figure.figsize\":(10, 5)})\n",
        "calculation_metrics(svm_model_2, 'Model 5 - Support Vector Classiffier - dataset 2')"
      ]
    },
    {
      "cell_type": "code",
      "execution_count": null,
      "metadata": {
        "id": "i6KlP1V2iOQU"
      },
      "outputs": [],
      "source": [
        "feature_importance = calculate_and_print_feature_importance_2(svm_model_2, X_test_2, y_test_2)\n",
        "print(feature_importance)"
      ]
    },
    {
      "cell_type": "markdown",
      "metadata": {
        "id": "6B4MxVSLjfu4"
      },
      "source": [
        "## Model 6 - Support Vector Classifier () - zestaw 3"
      ]
    },
    {
      "cell_type": "code",
      "execution_count": null,
      "metadata": {
        "id": "RmbP-TQ4B2rs"
      },
      "outputs": [],
      "source": [
        "data_3.head()"
      ]
    },
    {
      "cell_type": "code",
      "execution_count": null,
      "metadata": {
        "id": "C7CyB2HtiSCZ"
      },
      "outputs": [],
      "source": [
        "categorical_transformer = Pipeline_imb(steps=[\n",
        "    ('ohe', preprocessing.OneHotEncoder())\n",
        "])\n",
        "\n",
        "ordinal_transformer = Pipeline_imb(steps=[\n",
        "    ('label_encoder', LabelEncoderTransformer())\n",
        "])\n",
        "\n",
        "numeric_transformer = Pipeline_imb(steps=[\n",
        "    ('scaler', StandardScaler())\n",
        "])\n",
        "\n",
        "svm_pipeline_3 = Pipeline_imb([\n",
        "    ('preprocessor', ColumnTransformer(transformers=[\n",
        "        ('categorical_transformer', categorical_transformer, cat_feat_3),\n",
        "        ('ordinal_transformer', ordinal_transformer, ord_feat_3),\n",
        "        ('numeric_transformer', numeric_transformer, num_feat_3)\n",
        "    ])),\n",
        "    ('smote', SMOTE(random_state=seed)),\n",
        "    ('svm_model_3', svm.SVC(probability=True))\n",
        "])"
      ]
    },
    {
      "cell_type": "code",
      "execution_count": null,
      "metadata": {
        "id": "pR2JGsGajpEC"
      },
      "outputs": [],
      "source": [
        "svm_param_grid_3 = {\n",
        "    'smote__sampling_strategy': [0.8],\n",
        "    'smote__k_neighbors': [5],\n",
        "    'svm_model_3__C': [0.1],\n",
        "    'svm_model_3__kernel': ['rbf'],\n",
        "    'svm_model_3__gamma':  [0.01]\n",
        "}"
      ]
    },
    {
      "cell_type": "code",
      "execution_count": null,
      "metadata": {
        "id": "_3vxb-5DkLxn"
      },
      "outputs": [],
      "source": [
        "svm_search_3 = HalvingGridSearchCV(svm_pipeline_3,\n",
        "                                 svm_param_grid_3,\n",
        "                                 scoring='f1_weighted',\n",
        "                                 cv=10,\n",
        "                                 verbose=1,\n",
        "                                 n_jobs=-1,\n",
        "                                 random_state=seed)\n",
        "\n",
        "svm_search_3.fit(X_train_3, y_train_3)"
      ]
    },
    {
      "cell_type": "code",
      "execution_count": null,
      "metadata": {
        "id": "GBS7IY_2kVuE"
      },
      "outputs": [],
      "source": [
        "print('\\nBest hyperparameter:', svm_search_3.best_params_)"
      ]
    },
    {
      "cell_type": "code",
      "execution_count": null,
      "metadata": {
        "id": "UQdltmOnkZUQ"
      },
      "outputs": [],
      "source": [
        "svm_model_3 = svm_search_3.best_estimator_"
      ]
    },
    {
      "cell_type": "code",
      "execution_count": null,
      "metadata": {
        "id": "3IHhXKfdkdrx"
      },
      "outputs": [],
      "source": [
        "X_test_data = X_test_3\n",
        "y_test_data = y_test_3"
      ]
    },
    {
      "cell_type": "code",
      "execution_count": null,
      "metadata": {
        "id": "bvQcrEgXkheT"
      },
      "outputs": [],
      "source": [
        "sns.set(rc={\"figure.figsize\":(10, 5)})\n",
        "calculation_metrics(svm_model_3, 'Model 6 - Support Vector Classiffier - dataset 3')"
      ]
    },
    {
      "cell_type": "code",
      "execution_count": null,
      "metadata": {
        "id": "dPR74UKWl9Uj"
      },
      "outputs": [],
      "source": [
        "feature_importance = calculate_and_print_feature_importance_2(svm_model_3, X_test_3, y_test_3)\n",
        "print(feature_importance)"
      ]
    },
    {
      "cell_type": "markdown",
      "metadata": {
        "id": "hrYO8poPnR6E"
      },
      "source": [
        "## Model 7 - Support Vector Classifier () - zestaw 4"
      ]
    },
    {
      "cell_type": "code",
      "execution_count": null,
      "metadata": {
        "id": "weM6Pu4xB58b"
      },
      "outputs": [],
      "source": [
        "data_4.head()"
      ]
    },
    {
      "cell_type": "code",
      "execution_count": null,
      "metadata": {
        "id": "9bE7wKRPnZwL"
      },
      "outputs": [],
      "source": [
        "categorical_transformer = Pipeline_imb(steps=[\n",
        "    ('ohe', preprocessing.OneHotEncoder())\n",
        "])\n",
        "\n",
        "ordinal_transformer = Pipeline_imb(steps=[\n",
        "    ('label_encoder', LabelEncoderTransformer())\n",
        "])\n",
        "\n",
        "numeric_transformer = Pipeline_imb(steps=[\n",
        "    ('scaler', StandardScaler())\n",
        "])\n",
        "\n",
        "svm_pipeline_4 = Pipeline_imb([\n",
        "    ('preprocessor', ColumnTransformer(transformers=[\n",
        "        ('categorical_transformer', categorical_transformer, cat_feat_4),\n",
        "        ('ordinal_transformer', ordinal_transformer, ord_feat_4),\n",
        "        ('numeric_transformer', numeric_transformer, num_feat_4)\n",
        "    ])),\n",
        "    ('smote', SMOTE(random_state=seed)),\n",
        "    ('svm_model_4', svm.SVC(probability=True))\n",
        "])\n",
        "\n",
        "svm_param_grid_4 = {\n",
        "    'smote__sampling_strategy': [0.8],\n",
        "    'smote__k_neighbors': [5],\n",
        "    'svm_model_4__C': [0.1],\n",
        "    'svm_model_4__kernel': ['rbf'],\n",
        "    'svm_model_4__gamma':  [0.01]\n",
        "}\n",
        "\n",
        "svm_search_4 = HalvingGridSearchCV(svm_pipeline_4,\n",
        "                                 svm_param_grid_4,\n",
        "                                 scoring='f1_weighted',\n",
        "                                 cv=10,\n",
        "                                 verbose=1,\n",
        "                                 n_jobs=-1,\n",
        "                                 random_state=seed)\n",
        "\n",
        "svm_search_4.fit(X_train_4, y_train_4)\n",
        "\n",
        "\n",
        "print('\\nBest hyperparameter:', svm_search_4.best_params_)\n",
        "\n",
        "svm_model_4 = svm_search_4.best_estimator_\n",
        "\n",
        "X_test_data = X_test_4\n",
        "y_test_data = y_test_4\n",
        "\n",
        "sns.set(rc={\"figure.figsize\":(10, 5)})\n",
        "calculation_metrics(svm_model_4, 'Model 7 - Support Vector Classiffier - dataset 4')"
      ]
    },
    {
      "cell_type": "code",
      "execution_count": null,
      "metadata": {
        "id": "06iXxceHqm5N"
      },
      "outputs": [],
      "source": [
        "feature_importance = calculate_and_print_feature_importance_2(svm_model_4, X_test_4, y_test_4)\n",
        "print(feature_importance)"
      ]
    },
    {
      "cell_type": "markdown",
      "metadata": {
        "id": "fmEm2EF9taR6"
      },
      "source": [
        "## Model 8 - XGBoost() - zestaw 1"
      ]
    },
    {
      "cell_type": "code",
      "execution_count": null,
      "metadata": {
        "id": "qUYyKtapCFDl"
      },
      "outputs": [],
      "source": [
        "data.head()"
      ]
    },
    {
      "cell_type": "code",
      "execution_count": null,
      "metadata": {
        "id": "YWk0HBwktb5o"
      },
      "outputs": [],
      "source": [
        "categorical_transformer = Pipeline_imb(steps=[\n",
        "    ('ohe', preprocessing.OneHotEncoder())\n",
        "])\n",
        "\n",
        "ordinal_transformer = Pipeline_imb(steps=[\n",
        "    ('label_encoder', LabelEncoderTransformer())\n",
        "])\n",
        "\n",
        "numeric_transformer = Pipeline_imb(steps=[\n",
        "    ('scaler', StandardScaler())\n",
        "])\n",
        "\n",
        "xgb_pipeline = Pipeline_imb([\n",
        "    ('preprocessor', ColumnTransformer(transformers=[\n",
        "        ('categorical_transformer', categorical_transformer, cat_feat),\n",
        "        ('ordinal_transformer', ordinal_transformer, ord_feat),\n",
        "        ('numeric_transformer', numeric_transformer, num_feat)\n",
        "    ])),\n",
        "    ('smote', SMOTE(random_state=seed)),\n",
        "    ('xgb_model', XGBClassifier(verbosity=0))\n",
        "])\n",
        "\n",
        "xgb_param_grid = {\n",
        "    'smote__sampling_strategy': [0.8],\n",
        "    'smote__k_neighbors': [5],\n",
        "    'xgb_model__n_estimators': [100],  # You can adjust the number of estimators\n",
        "    'xgb_model__max_depth': [12],  # You can configure the max depth\n",
        "    'xgb_model__learning_rate': [0.01],  # You can configure the learning rate\n",
        "    'xgb_model__gamma': [0.01]\n",
        "}\n",
        "\n",
        "xgb_search = HalvingGridSearchCV(xgb_pipeline,\n",
        "                                 xgb_param_grid,\n",
        "                                 scoring='f1_weighted',\n",
        "                                 cv=10,\n",
        "                                 verbose=1,\n",
        "                                 n_jobs=-1,\n",
        "                                 random_state=seed)\n",
        "\n",
        "xgb_search.fit(X_train, y_train)\n",
        "\n",
        "print('\\nBest hyperparameters:', xgb_search.best_params_)\n",
        "\n",
        "xgb_model = xgb_search.best_estimator_\n",
        "\n",
        "X_test_data = X_test\n",
        "y_test_data = y_test\n",
        "\n",
        "sns.set(rc={\"figure.figsize\":(10, 5)})\n",
        "calculation_metrics(xgb_model, 'Model 8 - XGBoost() - dataset 1')"
      ]
    },
    {
      "cell_type": "code",
      "execution_count": null,
      "metadata": {
        "id": "nSvSpQUGuMPK"
      },
      "outputs": [],
      "source": [
        "feature_importance = calculate_and_print_feature_importance_2(xgb_model, X_test , y_test )\n",
        "print(feature_importance)"
      ]
    },
    {
      "cell_type": "markdown",
      "metadata": {
        "id": "v2aTN4lnu7Bg"
      },
      "source": [
        "## Model 9 - XGBoost() - zestaw 2"
      ]
    },
    {
      "cell_type": "code",
      "execution_count": null,
      "metadata": {
        "id": "EJfX3kj4u6WZ"
      },
      "outputs": [],
      "source": [
        "import xgboost as xgb\n",
        "from xgboost import XGBClassifier\n",
        "\n",
        "categorical_transformer = Pipeline_imb(steps=[\n",
        "    ('ohe', preprocessing.OneHotEncoder())\n",
        "])\n",
        "\n",
        "ordinal_transformer = Pipeline_imb(steps=[\n",
        "    ('label_encoder', LabelEncoderTransformer())\n",
        "])\n",
        "\n",
        "numeric_transformer = Pipeline_imb(steps=[\n",
        "    ('scaler', StandardScaler())\n",
        "])\n",
        "\n",
        "xgb_pipeline_2 = Pipeline_imb([\n",
        "    ('preprocessor', ColumnTransformer(transformers=[\n",
        "        ('categorical_transformer', categorical_transformer, cat_feat_2),\n",
        "        ('ordinal_transformer', ordinal_transformer, ord_feat_2),\n",
        "        ('numeric_transformer', numeric_transformer, num_feat_2)\n",
        "    ])),\n",
        "    ('smote', SMOTE(random_state=seed)),\n",
        "    ('xgb_model_2', XGBClassifier(verbosity=0))\n",
        "])\n",
        "\n",
        "xgb_param_grid_2 = {\n",
        "    'smote__sampling_strategy': [0.8],\n",
        "    'smote__k_neighbors': [5],\n",
        "    'xgb_model_2__n_estimators': [100],\n",
        "    'xgb_model_2__max_depth': [6],\n",
        "    'xgb_model_2__learning_rate': [0.01],\n",
        "    'xgb_model_2__gamma': [0.01]\n",
        "}\n",
        "\n",
        "xgb_search_2 = HalvingGridSearchCV(xgb_pipeline_2,\n",
        "                                 xgb_param_grid_2,\n",
        "                                 scoring='f1_weighted',\n",
        "                                 cv=10,\n",
        "                                 verbose=1,\n",
        "                                 n_jobs=-1,\n",
        "                                 random_state=seed)\n",
        "\n",
        "xgb_search_2.fit(X_train_2, y_train_2)\n",
        "\n",
        "print('\\nBest hyperparameters:', xgb_search_2.best_params_)\n",
        "\n",
        "xgb_model_2 = xgb_search_2.best_estimator_\n",
        "\n",
        "X_test_data = X_test_2\n",
        "y_test_data = y_test_2\n",
        "\n",
        "sns.set(rc={\"figure.figsize\":(10, 5)})\n",
        "calculation_metrics(xgb_model_2, 'Model 9 - XGBoost() - dataset 2')"
      ]
    },
    {
      "cell_type": "code",
      "execution_count": null,
      "metadata": {
        "id": "lsKgZCAkxhvy"
      },
      "outputs": [],
      "source": [
        "feature_importance = calculate_and_print_feature_importance_2(xgb_model_2, X_test_2 , y_test_2 )\n",
        "print(feature_importance)"
      ]
    },
    {
      "cell_type": "markdown",
      "metadata": {
        "id": "XOTZyTyKxGON"
      },
      "source": [
        "## Model 10 - XGBoost() - zestaw 3"
      ]
    },
    {
      "cell_type": "code",
      "execution_count": null,
      "metadata": {
        "id": "ONMFXJY2CrTX"
      },
      "outputs": [],
      "source": [
        "data_3.head()"
      ]
    },
    {
      "cell_type": "code",
      "execution_count": null,
      "metadata": {
        "id": "kS4xJmP8xFhQ"
      },
      "outputs": [],
      "source": [
        "categorical_transformer = Pipeline_imb(steps=[\n",
        "    ('ohe', preprocessing.OneHotEncoder())\n",
        "])\n",
        "\n",
        "ordinal_transformer = Pipeline_imb(steps=[\n",
        "    ('label_encoder', LabelEncoderTransformer())\n",
        "])\n",
        "\n",
        "numeric_transformer = Pipeline_imb(steps=[\n",
        "    ('scaler', StandardScaler())\n",
        "])\n",
        "\n",
        "xgb_pipeline_3 = Pipeline_imb([\n",
        "    ('preprocessor', ColumnTransformer(transformers=[\n",
        "        ('categorical_transformer', categorical_transformer, cat_feat_3),\n",
        "        ('ordinal_transformer', ordinal_transformer, ord_feat_3),\n",
        "        ('numeric_transformer', numeric_transformer, num_feat_3)\n",
        "    ])),\n",
        "    ('smote', SMOTE(random_state=seed)),\n",
        "    ('xgb_model_3', XGBClassifier(verbosity=0))\n",
        "])\n",
        "\n",
        "xgb_param_grid_3 = {\n",
        "    'smote__sampling_strategy': [0.8],\n",
        "    'smote__k_neighbors': [5],\n",
        "    'xgb_model_3__n_estimators': [100],\n",
        "    'xgb_model_3__max_depth': [6],\n",
        "    'xgb_model_3__learning_rate': [0.1],\n",
        "    'xgb_model_3__gamma': [0.01]\n",
        "}\n",
        "\n",
        "xgb_search_3 = HalvingGridSearchCV(xgb_pipeline_3,\n",
        "                                 xgb_param_grid_3,\n",
        "                                 scoring='f1_weighted',\n",
        "                                 cv=10,\n",
        "                                 verbose=1,\n",
        "                                 n_jobs=-1,\n",
        "                                 random_state=seed)\n",
        "\n",
        "xgb_search_3.fit(X_train_3, y_train_3)\n",
        "\n",
        "print('\\nBest hyperparameters:', xgb_search_3.best_params_)\n",
        "\n",
        "xgb_model_3 = xgb_search_3.best_estimator_\n",
        "\n",
        "X_test_data = X_test_3\n",
        "y_test_data = y_test_3\n",
        "\n",
        "sns.set(rc={\"figure.figsize\":(10, 5)})\n",
        "calculation_metrics(xgb_model_3, 'Model 10 - XGBoost() - dataset 3')"
      ]
    },
    {
      "cell_type": "code",
      "execution_count": null,
      "metadata": {
        "id": "wMIa8QFIxFml"
      },
      "outputs": [],
      "source": [
        "feature_importance = calculate_and_print_feature_importance_2(xgb_model_3, X_test_3 , y_test_3)\n",
        "print(feature_importance)"
      ]
    },
    {
      "cell_type": "markdown",
      "metadata": {
        "id": "07hw5oDL_auQ"
      },
      "source": [
        "## Model 11 - XGBoost() - zestaw  4"
      ]
    },
    {
      "cell_type": "code",
      "execution_count": null,
      "metadata": {
        "id": "0sVSTcEU_tsl"
      },
      "outputs": [],
      "source": [
        "categorical_transformer = Pipeline_imb(steps=[\n",
        "    ('ohe', preprocessing.OneHotEncoder())\n",
        "])\n",
        "\n",
        "ordinal_transformer = Pipeline_imb(steps=[\n",
        "    ('label_encoder', LabelEncoderTransformer())\n",
        "])\n",
        "\n",
        "numeric_transformer = Pipeline_imb(steps=[\n",
        "    ('scaler', StandardScaler())\n",
        "])\n",
        "\n",
        "xgb_pipeline_4 = Pipeline_imb([\n",
        "    ('preprocessor', ColumnTransformer(transformers=[\n",
        "        ('categorical_transformer', categorical_transformer, cat_feat_4),\n",
        "        ('ordinal_transformer', ordinal_transformer, ord_feat_4),\n",
        "        ('numeric_transformer', numeric_transformer, num_feat_4)\n",
        "    ])),\n",
        "    ('smote', SMOTE(random_state=seed)),\n",
        "    ('xgb_model_4', XGBClassifier(verbosity=0))\n",
        "])\n",
        "\n",
        "xgb_param_grid_4 = {\n",
        "    'smote__sampling_strategy': [0.8],\n",
        "    'smote__k_neighbors': [5],\n",
        "    'xgb_model_4__n_estimators': [100],\n",
        "    'xgb_model_4__max_depth': [6],\n",
        "    'xgb_model_4__learning_rate': [0.01],\n",
        "    'xgb_model_4__gamma': [0.01]\n",
        "}\n",
        "\n",
        "xgb_search_4 = HalvingGridSearchCV(xgb_pipeline_4,\n",
        "                                 xgb_param_grid_4,\n",
        "                                 scoring='f1_weighted',\n",
        "                                 cv=10,\n",
        "                                 verbose=1,\n",
        "                                 n_jobs=-1,\n",
        "                                 random_state=seed)\n",
        "\n",
        "xgb_search_4.fit(X_train_4, y_train_4)\n",
        "\n",
        "print('\\nBest hyperparameters:', xgb_search_4.best_params_)\n",
        "\n",
        "xgb_model_4 = xgb_search_4.best_estimator_\n",
        "\n",
        "X_test_data = X_test_4\n",
        "y_test_data = y_test_4\n",
        "\n",
        "sns.set(rc={\"figure.figsize\":(10, 5)})\n",
        "calculation_metrics(xgb_model_4, 'Model 11 - XGBoost() - dataset_4')"
      ]
    },
    {
      "cell_type": "code",
      "execution_count": null,
      "metadata": {
        "id": "zrtsSce9AS3d"
      },
      "outputs": [],
      "source": [
        "feature_importance = calculate_and_print_feature_importance_2(xgb_model_4, X_test_4 , y_test_4)\n",
        "print(feature_importance)"
      ]
    },
    {
      "cell_type": "markdown",
      "metadata": {
        "id": "vkJYHWcC2uG7"
      },
      "source": [
        "## Model 12 - Logistic Regression zestaw danych 5"
      ]
    },
    {
      "cell_type": "code",
      "source": [
        "data_5.head()"
      ],
      "metadata": {
        "id": "BG7GEuka45ot"
      },
      "execution_count": null,
      "outputs": []
    },
    {
      "cell_type": "code",
      "execution_count": null,
      "metadata": {
        "id": "wNCu8UsP1zrM"
      },
      "outputs": [],
      "source": [
        "categorical_transformer = Pipeline_imb(steps=[\n",
        "    ('ohe', preprocessing.OneHotEncoder())\n",
        "])\n",
        "\n",
        "ordinal_transformer = Pipeline_imb(steps=[\n",
        "    ('label_encoder', LabelEncoderTransformer())\n",
        "])\n",
        "\n",
        "numeric_transformer = Pipeline_imb(steps=[\n",
        "    ('scaler', StandardScaler())\n",
        "])\n",
        "\n",
        "preprocessor = ColumnTransformer(\n",
        "    transformers=[\n",
        "        ('categorical_transformer', categorical_transformer, cat_feat_5),\n",
        "        ('ordinal_transformer', ordinal_transformer, ord_feat_5),\n",
        "        ('numeric_transformer', numeric_transformer, num_feat_5)\n",
        "    ]\n",
        ")\n",
        "\n",
        "lr_pipeline_5 = Pipeline_imb(steps=[('preprocessor', preprocessor),\n",
        "                              ('smote', SMOTE(random_state=seed)),\n",
        "                              ('lr_model_5', LogisticRegression(random_state=seed))])"
      ]
    },
    {
      "cell_type": "code",
      "execution_count": null,
      "metadata": {
        "id": "f3SGrXQe2FWm"
      },
      "outputs": [],
      "source": [
        "lr_param_grid_5 = {\n",
        "    'smote__sampling_strategy': ['minority', 'all', 0.3, 0.5, 0.8],\n",
        "    'smote__k_neighbors': [3, 4, 5],\n",
        "    'lr_model_5__C': [0.001, 0.01, 0.1],\n",
        "    'lr_model_5__penalty': [ 'l1', 'l2', 'none'],\n",
        "    'lr_model_5__max_iter': [25, 50, 100],\n",
        "}"
      ]
    },
    {
      "cell_type": "code",
      "execution_count": null,
      "metadata": {
        "id": "we3VZ_CL2J0T"
      },
      "outputs": [],
      "source": [
        "lr_model_5_gridsearch = HalvingGridSearchCV(estimator = lr_pipeline_5,\n",
        "                                       param_grid = lr_param_grid_5,\n",
        "                                       scoring='f1_weighted',\n",
        "                                       cv=10,\n",
        "                                       verbose=1,\n",
        "                                       n_jobs=-1,\n",
        "                                       random_state=seed,\n",
        "                                       refit=True)\n",
        "\n",
        "lr_model_5_gridsearch.fit(X_train_5, y_train_5)"
      ]
    },
    {
      "cell_type": "code",
      "execution_count": null,
      "metadata": {
        "id": "sZ90nRZ32xyp"
      },
      "outputs": [],
      "source": [
        "lr_model_5 = lr_model_5_gridsearch.best_estimator_"
      ]
    },
    {
      "cell_type": "code",
      "execution_count": null,
      "metadata": {
        "id": "4xS-pnZF2_Lv"
      },
      "outputs": [],
      "source": [
        "X_test_data = X_test_5\n",
        "y_test_data = y_test_5"
      ]
    },
    {
      "cell_type": "code",
      "execution_count": null,
      "metadata": {
        "id": "YB3IrGvD25Lm"
      },
      "outputs": [],
      "source": [
        "sns.set(rc={\"figure.figsize\":(10, 5)})\n",
        "calculation_metrics(lr_model_5, 'Model 12 - Logistic Regression - dataset 5')"
      ]
    },
    {
      "cell_type": "markdown",
      "metadata": {
        "id": "Ie7bP6493DAV"
      },
      "source": [
        "## Model 13 - Support Vector Classifier - zestaw 5"
      ]
    },
    {
      "cell_type": "code",
      "execution_count": null,
      "metadata": {
        "id": "f0sYWK0H3TvO"
      },
      "outputs": [],
      "source": [
        "categorical_transformer = Pipeline_imb(steps=[\n",
        "    ('ohe', preprocessing.OneHotEncoder())\n",
        "])\n",
        "\n",
        "ordinal_transformer = Pipeline_imb(steps=[\n",
        "    ('label_encoder', LabelEncoderTransformer())\n",
        "])\n",
        "\n",
        "numeric_transformer = Pipeline_imb(steps=[\n",
        "    ('scaler', StandardScaler())\n",
        "])\n",
        "\n",
        "svm_pipeline_5 = Pipeline_imb([\n",
        "    ('preprocessor', ColumnTransformer(transformers=[\n",
        "        ('categorical_transformer', categorical_transformer, cat_feat_5),\n",
        "        ('ordinal_transformer', ordinal_transformer, ord_feat_5),\n",
        "        ('numeric_transformer', numeric_transformer, num_feat_5)\n",
        "    ])),\n",
        "    ('smote', SMOTE(random_state=seed)),\n",
        "    ('svm_model_5', svm.SVC(probability=True, class_weight='balanced'))\n",
        "])"
      ]
    },
    {
      "cell_type": "code",
      "execution_count": null,
      "metadata": {
        "id": "zeVGicGH3ZEE"
      },
      "outputs": [],
      "source": [
        "svm_param_grid_5 = {\n",
        "    'smote__sampling_strategy': ['minority', 'all', 0.3, 0.5, 0.8],\n",
        "    'smote__k_neighbors': [ 4, 7, 12],\n",
        "    'svm_model_5__C': [0.001, 0.01, 0.1, 1],\n",
        "    'svm_model_5__kernel': ['linear', 'rbf', 'poly'],\n",
        "    'svm_model_5__gamma':  ['scale', 0.1, 0.3, 0.5]\n",
        "}"
      ]
    },
    {
      "cell_type": "code",
      "execution_count": null,
      "metadata": {
        "id": "qDee4Uql3T8m"
      },
      "outputs": [],
      "source": [
        "svm_search_5 = HalvingGridSearchCV(svm_pipeline_5,\n",
        "                                 svm_param_grid_5,\n",
        "                                 scoring='f1_weighted',\n",
        "                                 cv=10,\n",
        "                                 verbose=1,\n",
        "                                 n_jobs=-1,\n",
        "                                 random_state=seed)\n",
        "\n",
        "svm_search_5.fit(X_train_5, y_train_5)"
      ]
    },
    {
      "cell_type": "code",
      "execution_count": null,
      "metadata": {
        "id": "y50VsiAx3T_b"
      },
      "outputs": [],
      "source": [
        "print('\\nBest hyperparameter:', svm_search_5.best_params_)"
      ]
    },
    {
      "cell_type": "code",
      "execution_count": null,
      "metadata": {
        "id": "yrdFxqDr3UCF"
      },
      "outputs": [],
      "source": [
        "svm_model_5 = svm_search_5.best_estimator_"
      ]
    },
    {
      "cell_type": "code",
      "execution_count": null,
      "metadata": {
        "id": "-hsymeFD3fwk"
      },
      "outputs": [],
      "source": [
        "X_test_data = X_test_5\n",
        "y_test_data = y_test_5"
      ]
    },
    {
      "cell_type": "code",
      "execution_count": null,
      "metadata": {
        "id": "cVJ-AqTP3UFA"
      },
      "outputs": [],
      "source": [
        "sns.set(rc={\"figure.figsize\":(10, 5)})\n",
        "calculation_metrics(svm_model_5, 'Model 13 - Support Vector Classiffier - dataset 5')"
      ]
    },
    {
      "cell_type": "markdown",
      "metadata": {
        "id": "vspYJ-m74iNQ"
      },
      "source": [
        "## Model 14 - XGBoost() - zestaw 5"
      ]
    },
    {
      "cell_type": "code",
      "execution_count": null,
      "metadata": {
        "id": "0Hb72zAA3UKd"
      },
      "outputs": [],
      "source": [
        "categorical_transformer = Pipeline_imb(steps=[\n",
        "    ('ohe', preprocessing.OneHotEncoder())\n",
        "])\n",
        "\n",
        "ordinal_transformer = Pipeline_imb(steps=[\n",
        "    ('label_encoder', LabelEncoderTransformer())\n",
        "])\n",
        "\n",
        "\n",
        "xgb_pipeline_5 = Pipeline_imb([\n",
        "    ('preprocessor', ColumnTransformer(transformers=[\n",
        "        ('categorical_transformer', categorical_transformer, cat_feat_5),\n",
        "        ('ordinal_transformer', ordinal_transformer, ord_feat_5)\n",
        "    ])),\n",
        "    ('smote', SMOTE(random_state=seed)),\n",
        "    ('xgb_model_5', XGBClassifier(verbosity=0))\n",
        "])\n"
      ]
    },
    {
      "cell_type": "code",
      "execution_count": null,
      "metadata": {
        "id": "1pd0zOkw4kWc"
      },
      "outputs": [],
      "source": [
        "xgb_param_grid_5 = {\n",
        "    'smote__sampling_strategy': ['all'],\n",
        "    'smote__k_neighbors': [7],\n",
        "    'xgb_model_5__n_estimators': [100],\n",
        "    'xgb_model_5__max_depth': [25],\n",
        "    'xgb_model_5__learning_rate': [0.1],\n",
        "    'xgb_model_5__gamma': [0.001]\n",
        "}"
      ]
    },
    {
      "cell_type": "code",
      "execution_count": null,
      "metadata": {
        "id": "tjKTJG1m4mTu"
      },
      "outputs": [],
      "source": [
        "xgb_search_5 = HalvingGridSearchCV(xgb_pipeline_5,\n",
        "                                 xgb_param_grid_5,\n",
        "                                 scoring='f1_weighted',\n",
        "                                 cv=10,\n",
        "                                 verbose=1,\n",
        "                                 n_jobs=-1,\n",
        "                                 random_state=seed)\n",
        "\n",
        "xgb_search_5.fit(X_train_5, y_train_5)"
      ]
    },
    {
      "cell_type": "code",
      "execution_count": null,
      "metadata": {
        "id": "yaTM3ytO4n5L"
      },
      "outputs": [],
      "source": [
        "print('\\nBest hyperparameters:', xgb_search_5.best_params_)"
      ]
    },
    {
      "cell_type": "code",
      "execution_count": null,
      "metadata": {
        "id": "bf0lU0i44pP2"
      },
      "outputs": [],
      "source": [
        "xgb_model_5 = xgb_search_5.best_estimator_"
      ]
    },
    {
      "cell_type": "code",
      "execution_count": null,
      "metadata": {
        "id": "k7erB98E4sVi"
      },
      "outputs": [],
      "source": [
        "X_test_data = X_test_5\n",
        "y_test_data = y_test_5"
      ]
    },
    {
      "cell_type": "code",
      "execution_count": null,
      "metadata": {
        "id": "4qyxnR4n4qzs"
      },
      "outputs": [],
      "source": [
        "sns.set(rc={\"figure.figsize\":(10, 5)})\n",
        "calculation_metrics(xgb_model_5, 'Model 14 - XGBoost() - dataset_5')"
      ]
    },
    {
      "cell_type": "markdown",
      "metadata": {
        "id": "ylwuxxsnr9jy"
      },
      "source": [
        "# Wyniki zbiorcze"
      ]
    },
    {
      "cell_type": "code",
      "execution_count": null,
      "metadata": {
        "id": "RxxsoALCsAHD"
      },
      "outputs": [],
      "source": [
        "top_5_auc_models = metrics_dataframe.sort_values(by='AUC', ascending=False).head(5)\n",
        "top_5_auc_models"
      ]
    },
    {
      "cell_type": "code",
      "source": [
        "# top_5_auc_models.drop(top_5_auc_models.index, inplace=True)"
      ],
      "metadata": {
        "id": "Dm1ig6XM0KLQ"
      },
      "execution_count": null,
      "outputs": []
    },
    {
      "cell_type": "code",
      "source": [
        "# top_5_auc_models"
      ],
      "metadata": {
        "id": "VQEmT7N10hG6"
      },
      "execution_count": null,
      "outputs": []
    },
    {
      "cell_type": "code",
      "execution_count": null,
      "metadata": {
        "id": "sm7DY3fddzNy"
      },
      "outputs": [],
      "source": [
        "stop"
      ]
    },
    {
      "cell_type": "code",
      "source": [],
      "metadata": {
        "id": "9CITaXujgxTG"
      },
      "execution_count": null,
      "outputs": []
    },
    {
      "cell_type": "code",
      "execution_count": null,
      "metadata": {
        "id": "5zSLkqRm1v_7"
      },
      "outputs": [],
      "source": [
        "models = [xgb_model_5, lr_model_3, svm_model_3, lr_model]\n",
        "model_names = top_5_auc_models['Model']\n",
        "\n",
        "X_test_data_end = [X_test_5, X_test_3, X_test_3, X_test]\n",
        "y_test_data_end = [y_test_5, y_test_3, y_test_3, y_test]"
      ]
    },
    {
      "cell_type": "code",
      "execution_count": null,
      "metadata": {
        "id": "Bx-dE1QGtKB_"
      },
      "outputs": [],
      "source": [
        "# plt.figure(figsize=(10, 6))\n",
        "\n",
        "# for model, model_name, X_test, y_test in zip(models, model_names, X_test_data, y_test_data):\n",
        "#     predictions_proba = model.predict_proba(X_test)\n",
        "#     fpr, tpr, _ = roc_curve(y_test, predictions_proba[:, 1])\n",
        "#     auc_score = auc(fpr, tpr)\n",
        "#     plt.plot(fpr, tpr, label=f'{model_name} - AUC = {auc_score:.2f}')\n",
        "\n",
        "# plt.plot([0, 1], [0, 1], 'k--')\n",
        "# plt.xlabel('False Positive Rate')\n",
        "# plt.ylabel('True Positive Rate')\n",
        "# plt.title('ROC Curve - Top 5 models')\n",
        "# plt.legend()\n",
        "# plt.show()"
      ]
    },
    {
      "cell_type": "code",
      "execution_count": null,
      "metadata": {
        "id": "rXp4x-6zz0im"
      },
      "outputs": [],
      "source": [
        "plt.figure(figsize=(10, 6))\n",
        "\n",
        "for model, model_name, X_testing, y_testing in zip(models, model_names, X_test_data_end, y_test_data_end):\n",
        "    try:\n",
        "        predictions_proba = model.predict_proba(X_testing)\n",
        "        fpr, tpr, _ = roc_curve(y_testing, predictions_proba[:, 1])\n",
        "        auc_score = auc(fpr, tpr)\n",
        "        plt.plot(fpr, tpr, label=f'{model_name} - AUC = {auc_score:.2f}')\n",
        "    except Exception as e:\n",
        "        print(f\"An error occurred for model {model_name}: {str(e)}\")\n",
        "\n",
        "plt.plot([0, 1], [0, 1], 'k--')\n",
        "plt.xlabel('False Positive Rate')\n",
        "plt.ylabel('True Positive Rate')\n",
        "plt.title('ROC Curve - Top 5 models')\n",
        "plt.legend()\n",
        "plt.show()\n",
        "\n"
      ]
    },
    {
      "cell_type": "code",
      "execution_count": null,
      "metadata": {
        "id": "yh4Oo8e4z0on"
      },
      "outputs": [],
      "source": []
    },
    {
      "cell_type": "markdown",
      "metadata": {
        "id": "Hm6K2bYOXv3E"
      },
      "source": []
    },
    {
      "cell_type": "markdown",
      "metadata": {
        "id": "Irx_9IQXtS0Y"
      },
      "source": []
    }
  ],
  "metadata": {
    "accelerator": "TPU",
    "colab": {
      "toc_visible": true,
      "provenance": [],
      "include_colab_link": true
    },
    "kernelspec": {
      "display_name": "Python 3",
      "name": "python3"
    },
    "language_info": {
      "name": "python"
    }
  },
  "nbformat": 4,
  "nbformat_minor": 0
}