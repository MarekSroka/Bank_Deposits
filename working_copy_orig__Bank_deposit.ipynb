{
  "cells": [
    {
      "cell_type": "markdown",
      "metadata": {
        "id": "view-in-github",
        "colab_type": "text"
      },
      "source": [
        "<a href=\"https://colab.research.google.com/github/MarekSroka/Bank_Deposits/blob/main/working_copy_orig__Bank_deposit.ipynb\" target=\"_parent\"><img src=\"https://colab.research.google.com/assets/colab-badge.svg\" alt=\"Open In Colab\"/></a>"
      ]
    },
    {
      "cell_type": "markdown",
      "metadata": {
        "id": "fRN2Rqxxx8OE"
      },
      "source": [
        "# **TREŚĆ ZADANIA**\n",
        "\n",
        "W pliku Bank Marketing data.csv znajdują się dane charakteryzujące klientów pewnego banku oraz kampanie marketingowe skierowane do tych klientów. Dołączone są ponadto wskaźniki społeczne i ekonomiczne. Na podstawie tych danych należy zbudować model prognozujący szansę, że klient w wyniku prowadzonej kampanii założy lokatę terminową. Szczegółowy opis danych znajduje się w pliku Description.txt (opis jest w języku angielskim). Proszę się z nim zapoznać, gdyż zawiera ważne z punktu widzenia modelowania informacje.\n",
        "Proszę o przesłanie raportu w którym opisana zostanie budowa modelu. Proszę zawrzeć w raporcie opis poszczególnych kroków prowadzących do powstania modelu.\n",
        "Format pliku: pdf, word\n",
        "Język raportu: polski lub angielski (nie ma to znaczenia dla oceny)"
      ]
    },
    {
      "cell_type": "markdown",
      "metadata": {
        "id": "7HbTcZ0jy_ww"
      },
      "source": [
        "Title: Bank Marketing data (with social/economic context)\n",
        "\n",
        "3. Time range: from May 3008 to November 2010\n",
        "\n",
        "3. Attribute information:\n",
        "\n",
        "   Input variables:\n",
        "   # Bank client data:\n",
        "\n",
        "   1 - age (numeric)\n",
        "\n",
        "   2 - job : type of job (categorical: \"admin.\",\"blue-collar\",\"entrepreneur\",\"housemaid\",\"management\",\"retired\",\"self-employed\",\"services\",\"student\",\"technician\",\"unemployed\",\"unknown\")\n",
        "\n",
        "   3 - marital : marital status (categorical: \"divorced\",\"married\",\"single\",\"unknown\"; note: \"divorced\" means divorced or widowed)\n",
        "\n",
        "   4 - education (categorical: \"basic.4y\",\"basic.6y\",\"basic.9y\",\"high.school\",\"illiterate\",\"professional.course\",\"university.degree\",\"unknown\")\n",
        "\n",
        "   5 - default: has credit in default? (categorical: \"no\",\"yes\",\"unknown\")\n",
        "\n",
        "   6 - housing: has housing loan? (categorical: \"no\",\"yes\",\"unknown\")\n",
        "\n",
        "   7 - loan: has personal loan? (categorical: \"no\",\"yes\",\"unknown\")\n",
        "\n",
        "   # Related with the last contact of the current campaign:\n",
        "\n",
        "   8 - contact: contact communication type (categorical: \"cellular\",\"telephone\")\n",
        "\n",
        "   9 - month: last contact month of year (categorical: \"jan\", \"feb\", \"mar\", ..., \"nov\", \"dec\")\n",
        "\n",
        "  10 - day_of_week: last contact day of the week (categorical: \"mon\",\"tue\",\"wed\",\"thu\",\"fri\")\n",
        "\n",
        "  11 - duration: last contact duration, in seconds (numeric). Important note:  this attribute highly affects the output target (e.g., if duration=0 then y=\"no\"). Yet, the duration is not known before a call is performed. Also, after the end of the call y is obviously known. Thus, this input should only be included for benchmark purposes and should be discarded if the intention is to have a realistic predictive model.\n",
        "\n",
        "   # Other attributes:\n",
        "  12 - campaign: number of contacts performed during this campaign and for this client (numeric, includes last contact)\n",
        "\n",
        "  13 - pdays: number of days that passed by after the client was last contacted from a previous campaign (numeric; 999 means client was not previously contacted)\n",
        "\n",
        "  14 - previous: number of contacts performed before this campaign and for this client (numeric)\n",
        "\n",
        "  15 - poutcome: outcome of the previous marketing campaign (categorical: \"failure\",\"nonexistent\",\"success\")\n",
        "\n",
        "   # Social and economic context attributes\n",
        "\n",
        "  16 - emp.var.rate: employment variation rate - quarterly indicator (numeric)\n",
        "\n",
        "  17 - cons.price.idx: consumer price index - monthly indicator (numeric)\n",
        "     \n",
        "  18 - cons.conf.idx: consumer confidence index - monthly indicator (numeric)\n",
        "     \n",
        "  19 - euribor3m: euribor 3 month rate - daily indicator (numeric)\n",
        "\n",
        "  20 - nr.employed: number of employees - quarterly indicator (numeric)\n",
        "\n",
        "  Output variable (desired target):\n",
        "  21 - y - has the client subscribed a term deposit? (binary: \"yes\",\"no\")\n",
        "\n",
        "\n",
        "4. Missing Attribute Values: There are several missing values in some categorical attributes, all coded with the \"unknown\" label.\n",
        "\n",
        "\n",
        "5. The goal is to assess the probability that the client will subscribe a bank term deposit (variable y)."
      ]
    },
    {
      "cell_type": "markdown",
      "metadata": {
        "id": "ck08kgowRwVE"
      },
      "source": [
        "# Import and install libraries \\ notebook settings"
      ]
    },
    {
      "cell_type": "code",
      "execution_count": 1,
      "metadata": {
        "colab": {
          "base_uri": "https://localhost:8080/"
        },
        "id": "6JX2qbaYSCif",
        "outputId": "741e557d-156d-4234-9a12-5ad79d6675a4"
      },
      "outputs": [
        {
          "output_type": "stream",
          "name": "stdout",
          "text": [
            "Mounted at /content/gdrive\n"
          ]
        }
      ],
      "source": [
        "from google.colab import drive\n",
        "drive.mount(\"/content/gdrive\")"
      ]
    },
    {
      "cell_type": "code",
      "execution_count": null,
      "metadata": {
        "colab": {
          "base_uri": "https://localhost:8080/"
        },
        "id": "Hfrnb8U33EAN",
        "outputId": "3c5c5ac4-f25b-435a-e12d-4e1135db2d52"
      },
      "outputs": [
        {
          "output_type": "stream",
          "name": "stdout",
          "text": [
            "Collecting sweetviz\n",
            "  Downloading sweetviz-2.2.1-py3-none-any.whl (15.1 MB)\n",
            "\u001b[2K     \u001b[90m━━━━━━━━━━━━━━━━━━━━━━━━━━━━━━━━━━━━━━━━\u001b[0m \u001b[32m15.1/15.1 MB\u001b[0m \u001b[31m45.9 MB/s\u001b[0m eta \u001b[36m0:00:00\u001b[0m\n",
            "\u001b[?25hRequirement already satisfied: pandas!=1.0.0,!=1.0.1,!=1.0.2,>=0.25.3 in /usr/local/lib/python3.10/dist-packages (from sweetviz) (1.5.3)\n",
            "Requirement already satisfied: numpy>=1.16.0 in /usr/local/lib/python3.10/dist-packages (from sweetviz) (1.23.5)\n",
            "Requirement already satisfied: matplotlib>=3.1.3 in /usr/local/lib/python3.10/dist-packages (from sweetviz) (3.7.1)\n",
            "Requirement already satisfied: tqdm>=4.43.0 in /usr/local/lib/python3.10/dist-packages (from sweetviz) (4.66.1)\n",
            "Requirement already satisfied: scipy>=1.3.2 in /usr/local/lib/python3.10/dist-packages (from sweetviz) (1.11.3)\n",
            "Requirement already satisfied: jinja2>=2.11.1 in /usr/local/lib/python3.10/dist-packages (from sweetviz) (3.1.2)\n",
            "Requirement already satisfied: importlib-resources>=1.2.0 in /usr/local/lib/python3.10/dist-packages (from sweetviz) (6.1.0)\n",
            "Requirement already satisfied: MarkupSafe>=2.0 in /usr/local/lib/python3.10/dist-packages (from jinja2>=2.11.1->sweetviz) (2.1.3)\n",
            "Requirement already satisfied: contourpy>=1.0.1 in /usr/local/lib/python3.10/dist-packages (from matplotlib>=3.1.3->sweetviz) (1.1.1)\n",
            "Requirement already satisfied: cycler>=0.10 in /usr/local/lib/python3.10/dist-packages (from matplotlib>=3.1.3->sweetviz) (0.12.1)\n",
            "Requirement already satisfied: fonttools>=4.22.0 in /usr/local/lib/python3.10/dist-packages (from matplotlib>=3.1.3->sweetviz) (4.43.1)\n",
            "Requirement already satisfied: kiwisolver>=1.0.1 in /usr/local/lib/python3.10/dist-packages (from matplotlib>=3.1.3->sweetviz) (1.4.5)\n",
            "Requirement already satisfied: packaging>=20.0 in /usr/local/lib/python3.10/dist-packages (from matplotlib>=3.1.3->sweetviz) (23.2)\n",
            "Requirement already satisfied: pillow>=6.2.0 in /usr/local/lib/python3.10/dist-packages (from matplotlib>=3.1.3->sweetviz) (9.4.0)\n",
            "Requirement already satisfied: pyparsing>=2.3.1 in /usr/local/lib/python3.10/dist-packages (from matplotlib>=3.1.3->sweetviz) (3.1.1)\n",
            "Requirement already satisfied: python-dateutil>=2.7 in /usr/local/lib/python3.10/dist-packages (from matplotlib>=3.1.3->sweetviz) (2.8.2)\n",
            "Requirement already satisfied: pytz>=2020.1 in /usr/local/lib/python3.10/dist-packages (from pandas!=1.0.0,!=1.0.1,!=1.0.2,>=0.25.3->sweetviz) (2023.3.post1)\n",
            "Requirement already satisfied: six>=1.5 in /usr/local/lib/python3.10/dist-packages (from python-dateutil>=2.7->matplotlib>=3.1.3->sweetviz) (1.16.0)\n"
          ]
        }
      ],
      "source": [
        "# pip install --upgrade pip\n",
        "!pip install sweetviz\n",
        "!pip install dtale\n",
        "!pip install plotly\n",
        "!pip install ppscore\n",
        "!pip install eli5"
      ]
    },
    {
      "cell_type": "code",
      "execution_count": null,
      "metadata": {
        "id": "5v2FtYifyWZH"
      },
      "outputs": [],
      "source": [
        "import pandas as pd\n",
        "import numpy as np\n",
        "import seaborn as sns\n",
        "import matplotlib.pyplot as plt\n",
        "import scipy.stats as sts\n",
        "import plotly.graph_objects as go\n",
        "\n",
        "from google.colab import data_table\n",
        "from datetime import datetime\n",
        "import warnings\n",
        "warnings.filterwarnings(\"ignore\")\n",
        "\n",
        "from sklearn.preprocessing import OneHotEncoder\n",
        "from sklearn.compose import ColumnTransformer\n",
        "from sklearn.pipeline import Pipeline\n",
        "from sklearn import preprocessing\n",
        "from sklearn.model_selection import ParameterGrid\n",
        "# from sklearn.impute import SimpleImputer\n",
        "from sklearn.model_selection import train_test_split\n",
        "from sklearn.tree import DecisionTreeClassifier\n",
        "from sklearn.preprocessing import LabelEncoder\n",
        "from sklearn.ensemble import RandomForestClassifier\n",
        "from sklearn.preprocessing import StandardScaler\n",
        "from sklearn.linear_model import LogisticRegression\n",
        "from imblearn.over_sampling import SMOTE\n",
        "from sklearn.experimental import enable_halving_search_cv\n",
        "from sklearn.model_selection import HalvingGridSearchCV\n",
        "from imblearn.pipeline import Pipeline as Pipeline_imb\n",
        "from sklearn import svm\n",
        "\n",
        "from sklearn.base import is_classifier\n",
        "from sklearn.metrics import roc_auc_score\n",
        "from sklearn.metrics import roc_curve, auc\n",
        "from sklearn.metrics import confusion_matrix\n",
        "from sklearn. metrics import classification_report\n",
        "from sklearn.metrics import accuracy_score, precision_score, recall_score, f1_score\n",
        "from xgboost import XGBClassifier\n",
        "import xgboost as xgb\n",
        "from scipy import stats\n",
        "# from sklearn.dummy import DummyClassifier\n",
        "\n",
        "import eli5\n",
        "from eli5.sklearn import PermutationImportance\n",
        "\n",
        "#installed libraries\n",
        "import sweetviz as sw\n",
        "import dtale\n",
        "import dtale.app as dtale_app\n",
        "import plotly.graph_objs as go\n",
        "import ppscore as pps\n"
      ]
    },
    {
      "cell_type": "code",
      "execution_count": null,
      "metadata": {
        "id": "CyWYxUF30Opa"
      },
      "outputs": [],
      "source": [
        "# !pip list"
      ]
    },
    {
      "cell_type": "code",
      "execution_count": null,
      "metadata": {
        "id": "bVKwiDDC1YHJ"
      },
      "outputs": [],
      "source": [
        "pd.set_option('display.max_columns', None)\n",
        "data_table.enable_dataframe_formatter()"
      ]
    },
    {
      "cell_type": "markdown",
      "metadata": {
        "id": "YU5Nyj3iSOCt"
      },
      "source": [
        "# Functions"
      ]
    },
    {
      "cell_type": "code",
      "execution_count": null,
      "metadata": {
        "id": "6xXnoTWSYvBZ"
      },
      "outputs": [],
      "source": [
        "# funkcja sprawedzjąca feature importance - dla modeli, dla których jest dostęp do klasyfikatora\n",
        "\n",
        "def calculate_and_print_feature_importance(model, feature_names):\n",
        "    if isinstance(model, Pipeline_imb):\n",
        "        # Find the classifier step in the pipeline\n",
        "        classifier_step = None\n",
        "        for step_name, step in model.named_steps.items():\n",
        "            if is_classifier(step):\n",
        "                classifier_step = step\n",
        "                break\n",
        "\n",
        "        if classifier_step is not None:\n",
        "            # Extract the coefficients from the classifier\n",
        "            coefficients = classifier_step.coef_[0] if hasattr(classifier_step, 'coef_') else None\n",
        "\n",
        "            if coefficients is not None:\n",
        "                # Calculate the absolute values of the coefficients as feature importances\n",
        "                feature_importances = np.abs(coefficients)\n",
        "\n",
        "                # Combine feature names with their importances\n",
        "                feature_importance_dict = dict(zip(feature_names, feature_importances))\n",
        "\n",
        "                # Sort features by importance in descending order\n",
        "                sorted_feature_importance = sorted(feature_importance_dict.items(), key=lambda x: x[1], reverse=True)\n",
        "\n",
        "                # Print or analyze the feature importances\n",
        "                for feature, importance in sorted_feature_importance:\n",
        "                    print(f\"Feature: {feature}, Importance: {importance}\")\n",
        "            else:\n",
        "                print(\"Coefficient information not available for the classifier.\")\n",
        "        else:\n",
        "            print(\"Classifier not found in the pipeline.\")\n",
        "    elif hasattr(model, 'coef_'):\n",
        "        # Extract the coefficients from the LogisticRegression model\n",
        "        coefficients = model.coef_[0]\n",
        "\n",
        "        # Calculate the absolute values of the coefficients as feature importances\n",
        "        feature_importances = np.abs(coefficients)\n",
        "\n",
        "        # Combine feature names with their importances\n",
        "        feature_importance_dict = dict(zip(feature_names, feature_importances))\n",
        "\n",
        "        # Sort features by importance in descending order\n",
        "        sorted_feature_importance = sorted(feature_importance_dict.items(), key=lambda x: x[1], reverse=True)\n",
        "\n",
        "        # Print or analyze the feature importances\n",
        "        for feature, importance in sorted_feature_importance:\n",
        "            print(f\"Feature: {feature}, Importance: {importance}\")\n",
        "    else:\n",
        "        print(\"Coefficient information not available for the model.\")"
      ]
    },
    {
      "cell_type": "code",
      "execution_count": null,
      "metadata": {
        "id": "r5-6436KZFzk"
      },
      "outputs": [],
      "source": [
        "# funkcja sprawedzjąca feature importance - dla modeli, dla nie ma dostępu do klasyfikatora\n",
        "\n",
        "def calculate_and_print_feature_importance_2(model, X, y):\n",
        "    # Utwórz obiekt PermutationImportance\n",
        "    perm = PermutationImportance(model, random_state=seed)\n",
        "    # Dopasuj model do danych\n",
        "    perm.fit(X, y)\n",
        "\n",
        "    # Wyświetl znaczenie cech\n",
        "    feature_importance = eli5.explain_weights(perm, feature_names=X.columns.tolist(), top=None, target_names=[\"Outcome\"])\n",
        "    print(eli5.format_as_text(feature_importance))"
      ]
    },
    {
      "cell_type": "code",
      "execution_count": null,
      "metadata": {
        "id": "UXGvAi-FHLNq"
      },
      "outputs": [],
      "source": [
        "# support functions for Using Label Encoder in the Pipeline\n",
        "\n",
        "class LabelEncoderTransformer:\n",
        "    def fit(self, X, y=None):\n",
        "        return self\n",
        "\n",
        "    def transform(self, X):\n",
        "        X_copy = X.copy()\n",
        "        for column in X_copy.columns:\n",
        "            le = LabelEncoder()\n",
        "            X_copy[column] = le.fit_transform(X_copy[column])\n",
        "        return X_copy"
      ]
    },
    {
      "cell_type": "code",
      "execution_count": null,
      "metadata": {
        "id": "bfmKENrvTMzX"
      },
      "outputs": [],
      "source": [
        "# bez plotowania AUC roc na 1 wykresie\n",
        "\n",
        "metrics_dataframe = pd.DataFrame(columns=['Model', 'F1_score', 'AUC'])\n",
        "\n",
        "models = []\n",
        "\n",
        "def calculation_metrics(model, model_name):\n",
        "    global metrics_dataframe\n",
        "\n",
        "    predictions = model.predict(X_test_data)\n",
        "    predictions_proba = model.predict_proba(X_test_data)\n",
        "\n",
        "    # Precision, Recall, F1\n",
        "    print(classification_report(y_test_data, predictions))\n",
        "\n",
        "    # ROC curve\n",
        "    plt.plot([0, 1], [0, 1], 'k--')\n",
        "    fpr, tpr, thresholds = roc_curve(y_test_data, predictions_proba[:, 1])\n",
        "    plt.plot(fpr, tpr, label=model_name)\n",
        "\n",
        "    plt.xlabel('False Positive Rate')\n",
        "    plt.ylabel('True Positive Rate')\n",
        "\n",
        "    plt.title('ROC Curve')\n",
        "    plt.legend()\n",
        "    plt.show()\n",
        "\n",
        "    print('======' * 20)\n",
        "\n",
        "    # Confusion matrix\n",
        "    plt.figure()\n",
        "    cm = confusion_matrix(y_test_data, predictions)\n",
        "    ax = sns.heatmap(cm, annot=True, cmap='Blues', fmt='.0f')\n",
        "    plt.xlabel('Predicted values')\n",
        "    plt.ylabel('Actual values')\n",
        "    plt.title(f'\\nConfusion matrix for {model_name}\\n')\n",
        "    plt.show()\n",
        "\n",
        "    # AUC and F1 score\n",
        "\n",
        "    f1score = f1_score(y_test_data, predictions)\n",
        "    auc = roc_auc_score(y_test_data, predictions_proba[:, 1])\n",
        "\n",
        "    metrics_dataframe = metrics_dataframe.append({'Model': model_name, 'F1_score': f1score, 'AUC': auc},\n",
        "                                                 ignore_index=True)\n",
        "\n",
        "    return metrics_dataframe\n",
        "\n",
        "\n",
        "\n",
        "# Now, metrics_dataframe contains the metrics for all the models.\n"
      ]
    },
    {
      "cell_type": "markdown",
      "metadata": {
        "id": "NP9C-n6mSFZ3"
      },
      "source": [
        "# Loading data"
      ]
    },
    {
      "cell_type": "code",
      "execution_count": null,
      "metadata": {
        "id": "LFAbPHCXyWb4"
      },
      "outputs": [],
      "source": [
        "df = pd.read_csv('/content/gdrive/MyDrive/000.Projekt_KRD/Bank Marketing data.csv', delimiter=';', na_values=['unknown'])"
      ]
    },
    {
      "cell_type": "markdown",
      "metadata": {
        "id": "1K-39z2r4mRp"
      },
      "source": [
        "# EDA\n"
      ]
    },
    {
      "cell_type": "markdown",
      "metadata": {
        "id": "m2xuV1ZR4VEf"
      },
      "source": [
        "### Sweetviz library for EDA"
      ]
    },
    {
      "cell_type": "code",
      "execution_count": null,
      "metadata": {
        "id": "joA-updswq7U"
      },
      "outputs": [],
      "source": [
        "# analyse_report = sw.analyze(df)"
      ]
    },
    {
      "cell_type": "code",
      "execution_count": null,
      "metadata": {
        "id": "Kl0lK-gh4bdG"
      },
      "outputs": [],
      "source": [
        "# analyse_report.show_html('df_start.html', open_browser=True)"
      ]
    },
    {
      "cell_type": "code",
      "execution_count": null,
      "metadata": {
        "id": "YLOp9qW5wu5F"
      },
      "outputs": [],
      "source": [
        "# current_datetime = str(datetime.now().strftime(\"%Y_%m_%d_%H%M\"))\n",
        "# raport = analyse_report.show_html('total_df_' + current_datetime +'.html', open_browser=True)"
      ]
    },
    {
      "cell_type": "markdown",
      "metadata": {
        "id": "h3UMAVCI5MZE"
      },
      "source": [
        "### dtale library for EDA"
      ]
    },
    {
      "cell_type": "code",
      "execution_count": null,
      "metadata": {
        "id": "9ki_7a0R5Hve"
      },
      "outputs": [],
      "source": [
        "# dtale_app.USE_COLAB = True\n",
        "\n",
        "# dtale.show(df_oversampled)"
      ]
    },
    {
      "cell_type": "code",
      "execution_count": null,
      "metadata": {
        "id": "kXtMK4rikgFZ"
      },
      "outputs": [],
      "source": [
        "# dtale.instances()"
      ]
    },
    {
      "cell_type": "code",
      "execution_count": null,
      "metadata": {
        "id": "d3TZHjWmxDK4"
      },
      "outputs": [],
      "source": [
        "# dtale.get_instance(1).kill()"
      ]
    },
    {
      "cell_type": "markdown",
      "metadata": {
        "id": "M_6q1Y2oWCPP"
      },
      "source": [
        "## Basic information and statistics"
      ]
    },
    {
      "cell_type": "code",
      "execution_count": null,
      "metadata": {
        "id": "p0yaDKiUyTho"
      },
      "outputs": [],
      "source": [
        "df.info()"
      ]
    },
    {
      "cell_type": "code",
      "execution_count": null,
      "metadata": {
        "id": "xxe-h0uYhZWR"
      },
      "outputs": [],
      "source": [
        "df.describe()"
      ]
    },
    {
      "cell_type": "code",
      "execution_count": null,
      "metadata": {
        "id": "F6b1VqEc9XG5"
      },
      "outputs": [],
      "source": [
        "#ilość wierszy z wartością null w DF\n",
        "df.isnull().sum()"
      ]
    },
    {
      "cell_type": "markdown",
      "metadata": {
        "id": "zguKoJXDruMl"
      },
      "source": [
        "##Columns Review"
      ]
    },
    {
      "cell_type": "code",
      "execution_count": null,
      "metadata": {
        "id": "Ck1-bfCzx3o8"
      },
      "outputs": [],
      "source": [
        "# age\n",
        "\n",
        "if isinstance(df, (pd.DatetimeIndex, pd.MultiIndex)):\n",
        "\tdf = df.to_frame(index=False)\n",
        "\n",
        "# remove any pre-existing indices for ease of use in the D-Tale code, but this is not required\n",
        "df = df.reset_index().drop('index', axis=1, errors='ignore')\n",
        "df.columns = [str(c) for c in df.columns]  # update columns to strings in case they are numbers\n",
        "\n",
        "s = df[~pd.isnull(df['age'])][['age']]\n",
        "chart, labels = np.histogram(s['age'], bins=15)\n",
        "\n",
        "kde = sts.gaussian_kde(s['age'])\n",
        "kde_data = kde.pdf(np.linspace(labels.min(), labels.max()))\n",
        "# main statistics\n",
        "stats = df['age'].describe().to_frame().T\n",
        "charts = [\n",
        "\tgo.Bar(x=labels[1:], y=chart, name='Histogram'),\n",
        "\tgo.Scatter(\n",
        "\t\tx=list(range(len(kde_data))), y=kde_data, name='KDE',\t\tyaxis='y2', xaxis='x2',\t\tline={'shape': 'spline', 'smoothing': 0.3}, mode='lines'\n",
        "\t)\n",
        "]\n",
        "figure = go.Figure(data=charts, layout=go.Layout({\n",
        "    'barmode': 'group',\n",
        "    'legend': {'orientation': 'h'},\n",
        "    'title': {'text': 'age Histogram (bins: 25) w/ KDE'},\n",
        "    'xaxis2': {'anchor': 'y', 'overlaying': 'x', 'side': 'top'},\n",
        "    'yaxis': {'side': 'left', 'title': {'text': 'Frequency'}},\n",
        "    'yaxis2': {'overlaying': 'y', 'side': 'right', 'title': {'text': 'KDE'}}\n",
        "}))\n",
        "\n",
        "\n",
        "figure.show()"
      ]
    },
    {
      "cell_type": "code",
      "execution_count": null,
      "metadata": {
        "id": "NLF0cNZ6yxj-"
      },
      "outputs": [],
      "source": [
        "#transform month and day of week into categorical data\n",
        "\n",
        "month_order = ['jan', 'feb', 'mar', \"apr\", \"may\", \"jun\", \"jul\", \"aug\", \"sep\", \"oct\", \"nov\", \"dec\"]\n",
        "\n",
        "df['month'] = pd.Categorical(df['month'], categories=month_order, ordered=True)\n",
        "\n",
        "day_order = [\"mon\",\"tue\",\"wed\",\"thu\",\"fri\"]\n",
        "\n",
        "df['day_of_week'] = pd.Categorical(df['day_of_week'], categories=day_order, ordered=True)"
      ]
    },
    {
      "cell_type": "code",
      "execution_count": null,
      "metadata": {
        "id": "wmuqX_e_iTuZ"
      },
      "outputs": [],
      "source": [
        "plt.figure(figsize=(12, 4))\n",
        "plt.subplot(1, 2, 1)\n",
        "\n",
        "sns.countplot(x='month', hue='y', data=df)\n",
        "plt.title('month by Target')\n",
        "\n",
        "plt.subplot(1, 2, 2)\n",
        "sns.countplot(x='day_of_week', hue='y', data=df)\n",
        "plt.title('day of week by Target')\n",
        "\n",
        "plt.tight_layout()\n",
        "plt.show()"
      ]
    },
    {
      "cell_type": "code",
      "execution_count": null,
      "metadata": {
        "id": "IuFUhgegiU60"
      },
      "outputs": [],
      "source": [
        "# groupby month, day of week with target variable\n",
        "\n",
        "df_agg = df.groupby(['month', 'day_of_week', 'y']).size().reset_index(name='count')"
      ]
    },
    {
      "cell_type": "code",
      "execution_count": null,
      "metadata": {
        "id": "1X869i5IKcqa"
      },
      "outputs": [],
      "source": [
        "df_agg.head()"
      ]
    },
    {
      "cell_type": "code",
      "execution_count": null,
      "metadata": {
        "id": "nPksv1n77hF4"
      },
      "outputs": [],
      "source": [
        "fig = go.Figure()\n",
        "\n",
        "for day in df_agg['day_of_week'].unique():\n",
        "    data = df_agg[df_agg['day_of_week'] == day]\n",
        "    fig.add_trace(go.Bar(x=data['month'], y=data['count'], name=day))\n",
        "\n",
        "fig.update_layout(\n",
        "    barmode='group',\n",
        "    xaxis=dict(title='Month'),\n",
        "    yaxis=dict(title='Count'),\n",
        "    title='Grouped Bar Chart of Month and Day of Week vs. Target (y)'\n",
        ")\n",
        "\n",
        "fig.show()"
      ]
    },
    {
      "cell_type": "markdown",
      "metadata": {
        "id": "gXqFhEM4Bx8U"
      },
      "source": [
        "Duration column -"
      ]
    },
    {
      "cell_type": "code",
      "execution_count": null,
      "metadata": {
        "id": "d3QKZbb2BxVk"
      },
      "outputs": [],
      "source": [
        "print(df.groupby('y')['duration'].describe())"
      ]
    },
    {
      "cell_type": "code",
      "execution_count": null,
      "metadata": {
        "id": "K3vvPT_2FtFl"
      },
      "outputs": [],
      "source": [
        "plt.figure(figsize=(8, 6))\n",
        "sns.boxplot(x='y', y='duration', data=df)\n",
        "plt.title('Duration by Target')\n",
        "plt.xlabel('Target')\n",
        "plt.ylabel('Duration (seconds)')\n",
        "plt.show()"
      ]
    },
    {
      "cell_type": "code",
      "execution_count": null,
      "metadata": {
        "id": "YIW1FWsX4pPD"
      },
      "outputs": [],
      "source": [
        "from scipy import stats\n",
        "\n",
        "duration_yes = df[df['y'] == 'yes']['duration']\n",
        "duration_no = df[df['y'] == 'no']['duration']\n",
        "t_stat, p_value = stats.ttest_ind(duration_yes, duration_no)\n",
        "\n",
        "print(f'T-test statistic: {t_stat}')\n",
        "print(f'P-value: {p_value}')\n",
        "\n",
        "# Check the significance level (usually 0.05)\n",
        "alpha = 0.05\n",
        "print(\"There is a significant difference between 'yes' and ' no' groups.\") if p_value < alpha else print(\"There is no significant difference between 'yes' and 'no' groups.\")"
      ]
    },
    {
      "cell_type": "code",
      "execution_count": null,
      "metadata": {
        "id": "5aH_XI8L91Mk"
      },
      "outputs": [],
      "source": [
        "num_bins = 15 # You can adjust the number of bins as needed\n",
        "df['duration_category'] = pd.qcut(df['duration'], q=num_bins, labels=False)\n",
        "\n",
        "# contingency_table = pd.crosstab(df['y'], df['duration_category'])\n",
        "# chi2, p, _, _= chi2_contingency(contingency_table)\n",
        "\n",
        "# print(f'Chi-squared statistic: {chi2}')\n",
        "# print(f'P-value: {p}')\n",
        "\n",
        "# alpha = 0.05\n",
        "# print(\"There is a significant relationship between 'y' and 'duration_category'.\") if p < alpha else print(\"There is no significant relationship between 'y' and 'duration_category'.\")"
      ]
    },
    {
      "cell_type": "code",
      "execution_count": null,
      "metadata": {
        "id": "A_kCjpt579f7"
      },
      "outputs": [],
      "source": [
        "# cancel the duration column after benchmarking !!!"
      ]
    },
    {
      "cell_type": "code",
      "execution_count": null,
      "metadata": {
        "id": "YiRR5OmqSEz4"
      },
      "outputs": [],
      "source": [
        "df['duration_category']"
      ]
    },
    {
      "cell_type": "markdown",
      "metadata": {
        "id": "ZLVouiAwUvuR"
      },
      "source": [
        "Campaign column"
      ]
    },
    {
      "cell_type": "code",
      "execution_count": null,
      "metadata": {
        "id": "gAibVD7iNqRp"
      },
      "outputs": [],
      "source": [
        "plt.figure(figsize=(6, 4))\n",
        "sns.boxplot(x='y', y='campaign', data=df)\n",
        "plt.title(f'campaign by Target')\n",
        "plt.xlabel('Target (y)')\n",
        "plt.ylabel('Number of contacts')\n",
        "plt.show()"
      ]
    },
    {
      "cell_type": "code",
      "execution_count": null,
      "metadata": {
        "id": "gXlYJ1WiN-wS"
      },
      "outputs": [],
      "source": [
        "num_feat_01 = ['pdays', 'previous']\n",
        "\n",
        "for f in num_feat_01:\n",
        "  plt.figure(figsize=(6, 4))\n",
        "  sns.boxplot(x=df['y'], y=df[f])\n",
        "  plt.show()"
      ]
    },
    {
      "cell_type": "code",
      "execution_count": null,
      "metadata": {
        "id": "MukS9s57ilDr"
      },
      "outputs": [],
      "source": [
        "df.month.value_counts()"
      ]
    },
    {
      "cell_type": "code",
      "execution_count": null,
      "metadata": {
        "id": "7WsyfwRXG__Z"
      },
      "outputs": [],
      "source": [
        "df['y_numeric'] = df['y'].map({'yes': 1, 'no': 0}).astype('int')\n",
        "df['month_numeric'] = df['month'].map({'jan': 1, 'feb': 2, 'mar': 3, 'apr': 4, 'may': 5, 'jun': 6, 'jul': 7, 'aug': 8, 'sep': 9, 'oct': 10, 'nov':11, 'dec': 12 }).astype('int')"
      ]
    },
    {
      "cell_type": "code",
      "execution_count": null,
      "metadata": {
        "id": "sRhgN0SdnPj0"
      },
      "outputs": [],
      "source": [
        "df['month_numeric']"
      ]
    },
    {
      "cell_type": "markdown",
      "metadata": {
        "id": "mXPtdrkf598_"
      },
      "source": [
        "## Pairplot - financial coeff"
      ]
    },
    {
      "cell_type": "code",
      "execution_count": null,
      "metadata": {
        "id": "ae1HSzyTQX_s"
      },
      "outputs": [],
      "source": [
        "# sns.set(rc={\"figure.figsize\":(32, 12)})\n",
        "\n",
        "# data_coeffs = ['month_numeric', 'emp.var.rate', 'cons.price.idx',  'cons.conf.idx', 'euribor3m', 'nr.employed', 'y']\n",
        "\n",
        "# sns.pairplot(df[data_coeffs], hue=\"y\")\n",
        "\n",
        "# plt.show()"
      ]
    },
    {
      "cell_type": "markdown",
      "metadata": {
        "id": "jizRliN8eKyG"
      },
      "source": [
        "## Relacje pomiędzy zmiennymi w Data Frame"
      ]
    },
    {
      "cell_type": "markdown",
      "metadata": {
        "id": "7H1ruYZ5CRd1"
      },
      "source": [
        "### Wartości numeryczne między sobą"
      ]
    },
    {
      "cell_type": "code",
      "execution_count": null,
      "metadata": {
        "id": "JHNZbtzLelve"
      },
      "outputs": [],
      "source": [
        "numerical_features=[col for col in df.select_dtypes(include=['integer', 'float']).columns if col != 'y_numeric']\n",
        "print(numerical_features)\n",
        "print(len(numerical_features))\n",
        "print(type(numerical_features))"
      ]
    },
    {
      "cell_type": "code",
      "execution_count": null,
      "metadata": {
        "id": "x4Axk2UpeJcn"
      },
      "outputs": [],
      "source": [
        "correlations=df[numerical_features].corr()\n",
        "plt.figure(figsize=(10,8))\n",
        "\n",
        "sns.heatmap(data=correlations,square=True,annot = True, cmap=\"YlGnBu\")\n",
        "\n",
        "plt.yticks(rotation=0)\n",
        "plt.xticks(rotation=90)"
      ]
    },
    {
      "cell_type": "code",
      "execution_count": null,
      "metadata": {
        "id": "75Bp_GvkmIux"
      },
      "outputs": [],
      "source": [
        "# Calculate and display PPS scores for all pairs of numeric variables\n",
        "for var1 in numerical_features:\n",
        "    for var2 in numerical_features:\n",
        "        if var1 != var2:\n",
        "            pps_score = pps.score(df, var1, var2)['ppscore']\n",
        "            print(f'PPS Score between {var1} and {var2}: {pps_score:.2f}')"
      ]
    },
    {
      "cell_type": "markdown",
      "metadata": {
        "id": "5dbVp495CWLt"
      },
      "source": [
        "### Wartości numeryczne vs target column"
      ]
    },
    {
      "cell_type": "code",
      "execution_count": null,
      "metadata": {
        "id": "3GYOR1bsgNoo"
      },
      "outputs": [],
      "source": [
        "df_copy = df.copy()"
      ]
    },
    {
      "cell_type": "code",
      "execution_count": null,
      "metadata": {
        "id": "xtr_85Zv67Ug"
      },
      "outputs": [],
      "source": [
        "df_copy.head()"
      ]
    },
    {
      "cell_type": "code",
      "execution_count": null,
      "metadata": {
        "id": "kq-078r4DYXQ"
      },
      "outputs": [],
      "source": [
        "y_numeric = df_copy.pop('y_numeric')"
      ]
    },
    {
      "cell_type": "code",
      "execution_count": null,
      "metadata": {
        "id": "wYy70XvqAO1x"
      },
      "outputs": [],
      "source": [
        "X = df_copy\n",
        "X.head()"
      ]
    },
    {
      "cell_type": "code",
      "execution_count": null,
      "metadata": {
        "id": "UvHKPoAdA7DR"
      },
      "outputs": [],
      "source": [
        "X[numerical_features].info()"
      ]
    },
    {
      "cell_type": "code",
      "execution_count": null,
      "metadata": {
        "id": "latUvmODEVRH"
      },
      "outputs": [],
      "source": [
        "y_numeric.info()"
      ]
    },
    {
      "cell_type": "code",
      "execution_count": null,
      "metadata": {
        "id": "RRkbtgeyRwVR"
      },
      "outputs": [],
      "source": [
        "X"
      ]
    },
    {
      "cell_type": "code",
      "execution_count": null,
      "metadata": {
        "id": "K1aoyxBOa0HD"
      },
      "outputs": [],
      "source": [
        "# sprawdzenie korelacji między zmiennymi numerycznymi a targetem ('y_numeric')\n",
        "for f in numerical_features:\n",
        "  print(f'\\nFeature: {f}')\n",
        "  print(stats.pointbiserialr(X[f], y_numeric))"
      ]
    },
    {
      "cell_type": "markdown",
      "metadata": {
        "id": "EBbXftsfKn-K"
      },
      "source": [
        "Wszsytkie zmienne mają wpływ (o róznym stopniu)  na z,ienna objaśnianą i jest onstatystycznie istotny."
      ]
    },
    {
      "cell_type": "markdown",
      "metadata": {
        "id": "Wkd7zDT5lgoK"
      },
      "source": [
        "## Wizualizacja danych kategorycznych"
      ]
    },
    {
      "cell_type": "code",
      "execution_count": null,
      "metadata": {
        "id": "tHV_3ot4ETet"
      },
      "outputs": [],
      "source": [
        "categorical_features = [col for col in df.select_dtypes(include=['object', 'category']).columns if col != 'y']\n",
        "print(categorical_features)\n",
        "print(len(categorical_features))\n",
        "print(type(categorical_features))"
      ]
    },
    {
      "cell_type": "code",
      "execution_count": null,
      "metadata": {
        "id": "2UPDw6RWF7EX"
      },
      "outputs": [],
      "source": [
        "plt.figure(figsize=(17, 80), facecolor='white')\n",
        "plotnumber = 1\n",
        "for categorical_feature in categorical_features:\n",
        "    ax = plt.subplot(4, 3, plotnumber)\n",
        "    sns.countplot(y=categorical_feature, data=df)\n",
        "    plt.xlabel(categorical_feature)\n",
        "    plt.title(categorical_feature)\n",
        "    plotnumber += 1\n",
        "plt.show()"
      ]
    },
    {
      "cell_type": "markdown",
      "metadata": {
        "id": "-LD9lyN0zbzH"
      },
      "source": [
        "### Sprawdzenie relacji między zmiennymi kategorycznymi oraz targetem za pomconą Information gain w decision tree"
      ]
    },
    {
      "cell_type": "code",
      "execution_count": null,
      "metadata": {
        "id": "b_zlHQW-hq70"
      },
      "outputs": [],
      "source": [
        "from sklearn.tree import DecisionTreeClassifier\n",
        "from sklearn.model_selection import train_test_split\n",
        "\n",
        "target_col = 'y'\n",
        "target = df[target_col]\n",
        "\n",
        "df_cat_feat = df[categorical_features]\n",
        "\n",
        "df_encoded = pd.get_dummies(df_cat_feat, columns=categorical_features, drop_first=True)\n",
        "\n",
        "X_train, X_test, y_train, y_test = train_test_split(df_encoded, target, test_size=0.3, random_state=42)\n",
        "\n",
        "clf = DecisionTreeClassifier(criterion='entropy')  # Information Gain criterion\n",
        "clf.fit(X_train, y_train)\n",
        "\n",
        "# Get feature importances (information gain)\n",
        "feature_importance = clf.feature_importances_\n",
        "\n",
        "# Create a dictionary mapping features to their importance\n",
        "feature_importance_dict = dict(zip(df_encoded.columns, feature_importance))\n",
        "\n",
        "# Sort the feature-importance dictionary by information gain\n",
        "sorted_feature_importance = dict(sorted(feature_importance_dict.items(), key=lambda x: x[1], reverse=True))\n",
        "\n",
        "# Print the sorted feature-importance pairs\n",
        "for feature, info_gain in sorted_feature_importance.items():\n",
        "    print(f\"Feature: {feature}, Information Gain: {info_gain:.4f}\")"
      ]
    },
    {
      "cell_type": "markdown",
      "metadata": {
        "id": "IMzUUGA_610E"
      },
      "source": [
        "In summary, the results suggest that 'poutcome_success',  certain day-of-the-week, housing-related, loan features are the most influential in predicting the target variable 'y'.It is possible to use this information to prioritize feature selection or further investigate the relationships between these features and the target variable in your dataset."
      ]
    },
    {
      "cell_type": "code",
      "execution_count": null,
      "metadata": {
        "id": "tUm_WzsO5C-T"
      },
      "outputs": [],
      "source": [
        "cat_features_vis = ['default', 'poutcome', 'housing', 'loan', 'day_of_week']\n",
        "\n",
        "for f in cat_features_vis:\n",
        "  plt.figure(figsize=(6, 4), facecolor='white')\n",
        "  sns.countplot(x=f, hue='y', data=df)\n",
        "  print()\n",
        "  plt.title(f'{f} by target')"
      ]
    },
    {
      "cell_type": "markdown",
      "metadata": {
        "id": "Z1eG1N8rk_my"
      },
      "source": [
        "## analiza współczynników społecznych / ekonomicznych emp.var.rate', 'cons.price.idx',  'cons.conf.idx', 'euribor3m', 'nr.employed' - dodanie zmiennej year"
      ]
    },
    {
      "cell_type": "markdown",
      "metadata": {
        "id": "6Lizz2g2zwM4"
      },
      "source": [
        "zmiana wartości euribor na koszyki"
      ]
    },
    {
      "cell_type": "code",
      "execution_count": null,
      "metadata": {
        "id": "eM-NCOo7zSlh"
      },
      "outputs": [],
      "source": [
        "# Calculate the minimum and maximum values from the DataFrame\n",
        "min_value_eur = df['euribor3m'].min()\n",
        "max_value_eur = df['euribor3m'].max()\n",
        "\n",
        "# Define the bin width\n",
        "bin_width = 0.5\n",
        "\n",
        "# # Create a list of bin edges (start, stop, and step)\n",
        "# bins = [x for x in range(int(min_value_eur), int(max_value_eur) + 1, int(bin_width))]\n",
        "\n",
        "# # Create a new column with the bin labels\n",
        "# df['euribor3m_binned'] = pd.cut(df['euribor3m'], bins=bins, labels=bins[:-1])\n",
        "\n",
        "# Create a list of bin edges (start, stop, and step) using numpy.arange\n",
        "bins = np.arange(int(min_value_eur), int(max_value_eur) + bin_width, bin_width)\n",
        "\n",
        "bins = np.linspace(int(min_value_eur), max_value_eur, num_bins + 1)\n",
        "\n",
        "# Create a new column with the bin labels\n",
        "df['euribor3m_binned'] = pd.cut(df['euribor3m'], bins=bins, labels=bins[:-1])"
      ]
    },
    {
      "cell_type": "code",
      "execution_count": null,
      "metadata": {
        "id": "NyCRRHGH2ZKa"
      },
      "outputs": [],
      "source": [
        "print(df['euribor3m_binned'])\n",
        "print(df['euribor3m'])"
      ]
    },
    {
      "cell_type": "code",
      "execution_count": null,
      "metadata": {
        "id": "fhvv0l-73TAT"
      },
      "outputs": [],
      "source": [
        "len(df['euribor3m_binned'].unique())"
      ]
    },
    {
      "cell_type": "code",
      "execution_count": null,
      "metadata": {
        "id": "tSlRXuvH3lUY"
      },
      "outputs": [],
      "source": [
        "numerical_features.append('euribor3m_binned')"
      ]
    },
    {
      "cell_type": "markdown",
      "metadata": {
        "id": "uuRApDCjQRVT"
      },
      "source": []
    },
    {
      "cell_type": "code",
      "execution_count": null,
      "metadata": {
        "id": "ao9N91sbrRc5"
      },
      "outputs": [],
      "source": [
        "for column in df[numerical_features]:\n",
        "    unique_values = df[column].unique()\n",
        "    print(f\"Unique values in column {column}: {', '.join(map(str, unique_values))}\")"
      ]
    },
    {
      "cell_type": "code",
      "execution_count": null,
      "metadata": {
        "id": "_2oihpKiuQFF"
      },
      "outputs": [],
      "source": [
        "columns_coeff = ['emp.var.rate', 'cons.price.idx',  'cons.conf.idx', 'euribor3m', 'nr.employed', 'euribor3m_binned']\n",
        "\n",
        "value_mappings = {}\n",
        "\n",
        "for column in df[columns_coeff]:\n",
        "    unique_values = df[column].unique()\n",
        "    value_mapping = {value: i + 1 for i, value in enumerate(unique_values)}\n",
        "    value_mappings[column] = value_mapping\n",
        "\n",
        "for column in df[columns_coeff]:\n",
        "    new_column_name = f\"{column}_updated\"\n",
        "    df[new_column_name] = df[column].map(value_mappings[column])\n",
        "\n",
        "print(df)"
      ]
    },
    {
      "cell_type": "code",
      "execution_count": null,
      "metadata": {
        "id": "eTIob1nyAqMi"
      },
      "outputs": [],
      "source": [
        "# przyporządkowanie roku wierszom na bazie innych danych - 'euribor3m' oraz kolumny 'month' i reszty istniejących kolumn"
      ]
    },
    {
      "cell_type": "code",
      "execution_count": null,
      "metadata": {
        "id": "YgNKFizJH8-a"
      },
      "outputs": [],
      "source": [
        "df['year'] = pd.np.where(df['euribor3m'] > 2.892, '2008', pd.np.where(df['euribor3m'] > 1.05, '2009' , 'others'))"
      ]
    },
    {
      "cell_type": "code",
      "execution_count": null,
      "metadata": {
        "id": "Z5Ak0aEmMkiG"
      },
      "outputs": [],
      "source": [
        "conditions = [\n",
        "    (df['euribor3m'] > 2.892),\n",
        "    (df['euribor3m'] > 1.05),\n",
        "    (df['month_numeric'] == 12),\n",
        "    ((df['month_numeric'] >= 3) & (df['month_numeric'] <= 6)),\n",
        "    ((df['month_numeric'] == 7) & (df['nr.employed_updated'] == 7)), # wybieramy lipiec 2009 z wszystkich danych lipcowych\n",
        "    ((df['month_numeric'] == 8) & (df['nr.employed_updated'] == 7)),\n",
        "    ((df['month_numeric'] == 9) & (df['nr.employed_updated'] == 9)),\n",
        "    ((df['month_numeric'] == 10) & (df['nr.employed_updated'] == 9)),\n",
        "    ((df['month_numeric'] == 11) & (df['nr.employed_updated'] == 9))\n",
        "]\n",
        "choices = ['2008', '2009', '2009', '2010', '2009', '2009','2009', '2009', '2009']\n",
        "\n",
        "df['year'] = pd.np.select(conditions, choices, default='2010')"
      ]
    },
    {
      "cell_type": "code",
      "execution_count": null,
      "metadata": {
        "id": "WRkrt42kM7-K"
      },
      "outputs": [],
      "source": [
        "# dtale.show(df)"
      ]
    },
    {
      "cell_type": "markdown",
      "metadata": {
        "id": "JpR4GiEp9Ug8"
      },
      "source": [
        "### visualization column results for variable 'y' (0/1 binary column) with distribution in month (feature) and year (feature) on 1 chart."
      ]
    },
    {
      "cell_type": "code",
      "execution_count": null,
      "metadata": {
        "id": "bRMQgv22-9VI"
      },
      "outputs": [],
      "source": [
        "df.groupby(['year', 'month_numeric'])['y_numeric'].count().unstack()"
      ]
    },
    {
      "cell_type": "code",
      "execution_count": null,
      "metadata": {
        "id": "anDor12T9um_"
      },
      "outputs": [],
      "source": [
        "result = df.groupby(['year', 'month_numeric'])['y'].count().unstack(fill_value=0)\n",
        "\n",
        "# Plot the results as a bar chart\n",
        "result.plot(kind='bar', figsize=(12, 6))\n",
        "plt.title('Distribution of y by Month and Year')\n",
        "plt.xlabel('Year-Month')\n",
        "plt.ylabel('Count of y')\n",
        "plt.legend(title='month_numeric')\n",
        "plt.xticks(rotation=0)\n",
        "plt.show()\n"
      ]
    },
    {
      "cell_type": "code",
      "execution_count": null,
      "metadata": {
        "id": "zY07XQoSBn3x"
      },
      "outputs": [],
      "source": [
        "result = df.groupby(['year', 'y'])['y'].count().unstack(fill_value=0)\n",
        "result"
      ]
    },
    {
      "cell_type": "code",
      "execution_count": null,
      "metadata": {
        "id": "8JwrRuV3obnq"
      },
      "outputs": [],
      "source": [
        "result = df.groupby(['year', 'y'])['y'].count().unstack(fill_value=0)\n",
        "\n",
        "# Create a list of labels with year below each group of months\n",
        "x_labels = [f\"{year}\" for (year) in result.index]\n",
        "\n",
        "# Plot the results as a bar chart\n",
        "fig, ax = plt.subplots(figsize=(8, 5))  # Extend the width of the chart\n",
        "result.plot(kind='bar', ax=ax)\n",
        "\n",
        "# Set x-axis labels (grouping months by year)\n",
        "ax.set_xticks(range(len(x_labels)))\n",
        "ax.set_xticklabels(x_labels)\n",
        "\n",
        "plt.title('Distribution of y by Year')\n",
        "plt.xlabel('Year')\n",
        "plt.ylabel('Count of y')\n",
        "plt.legend(title='y')\n",
        "plt.xticks(rotation=45)\n",
        "plt.show()"
      ]
    },
    {
      "cell_type": "markdown",
      "metadata": {
        "id": "nUgScfjgovo-"
      },
      "source": []
    },
    {
      "cell_type": "code",
      "execution_count": null,
      "metadata": {
        "id": "CNSdjlyQDqtX"
      },
      "outputs": [],
      "source": [
        "result = df.groupby(['year', 'month_numeric', 'y'])['y'].count().unstack(fill_value=0)\n",
        "\n",
        "# Create a list of labels with year below each group of months\n",
        "x_labels = [f\"{month}-{year}\" for (year, month) in result.index]\n",
        "\n",
        "# Plot the results as a bar chart\n",
        "fig, ax = plt.subplots(figsize=(16, 6))  # Extend the width of the chart\n",
        "result.plot(kind='bar', ax=ax)\n",
        "\n",
        "# Set x-axis labels (grouping months by year)\n",
        "ax.set_xticks(range(len(x_labels)))\n",
        "ax.set_xticklabels(x_labels)\n",
        "\n",
        "plt.title('Distribution of y by Month and Year')\n",
        "plt.xlabel('Year-Month')\n",
        "plt.ylabel('Count of y')\n",
        "plt.legend(title='y')\n",
        "plt.xticks(rotation=45)\n",
        "plt.show()"
      ]
    },
    {
      "cell_type": "markdown",
      "metadata": {
        "id": "zZfU2COOowV5"
      },
      "source": [
        "Widzimy, że zmienna y jest zupełnie odmniennie rozłożona w poszczególnych latach przy różnej ilości próbek w każdym z lat."
      ]
    },
    {
      "cell_type": "code",
      "execution_count": null,
      "metadata": {
        "id": "O2xRouVBQiDO"
      },
      "outputs": [],
      "source": [
        "df['month_object'] = df['month'].astype(str)"
      ]
    },
    {
      "cell_type": "code",
      "execution_count": null,
      "metadata": {
        "id": "HHKlXESYYErh"
      },
      "outputs": [],
      "source": [
        "df.head()"
      ]
    },
    {
      "cell_type": "code",
      "execution_count": null,
      "metadata": {
        "id": "hr_p4k6GOSh5"
      },
      "outputs": [],
      "source": [
        "# łączenie kolumn month and w jedną kolumnę\n",
        "df['month_year'] = df['month_object'] + '_' + df['year'].astype('str')\n",
        "df['month_year'] = df['month_year'].astype('category')"
      ]
    },
    {
      "cell_type": "code",
      "execution_count": null,
      "metadata": {
        "id": "I1lD2IEJYVdP"
      },
      "outputs": [],
      "source": [
        "df.head()"
      ]
    },
    {
      "cell_type": "markdown",
      "metadata": {
        "id": "H695cTI1nu9k"
      },
      "source": [
        "# Data Preprocessing"
      ]
    },
    {
      "cell_type": "markdown",
      "metadata": {
        "id": "pYvykJlSn4dv"
      },
      "source": [
        "## Wartości null"
      ]
    },
    {
      "cell_type": "code",
      "execution_count": null,
      "metadata": {
        "id": "0LSwEmfmoJDY"
      },
      "outputs": [],
      "source": [
        "# Łącznie mamy 1029 wierszy z wartościami null (niektóre w kilku kolumnach)\n",
        "# Dla 5 kolumn kategorycznych  wartości nulls są zdecydowaną mniejszością (od 1% od 4% wierszy) - dla nich uzupełnię nulle wartością najczęście spotykaną\n",
        "# dla Kolumny 'default' aż 803 rekordy (19%) stanowią wartości null - z uwagi na to, przekształcę nulls jako odrębną wartość ('unknown'), kolumna ze względu na strukturę"
      ]
    },
    {
      "cell_type": "code",
      "execution_count": null,
      "metadata": {
        "id": "PQ3AFjCCoeNw"
      },
      "outputs": [],
      "source": [
        "df['job'].fillna(df['job'].mode()[0], inplace=True)\n",
        "df['marital'].fillna(df['marital'].mode()[0], inplace=True)\n",
        "df['education'].fillna(df['education'].mode()[0], inplace=True)\n",
        "df['housing'].fillna(df['housing'].mode()[0], inplace=True)\n",
        "df['loan'].fillna(df['loan'].mode()[0], inplace=True)"
      ]
    },
    {
      "cell_type": "code",
      "execution_count": null,
      "metadata": {
        "id": "fwUYRPT4odgG"
      },
      "outputs": [],
      "source": [
        "df.isnull().sum()"
      ]
    },
    {
      "cell_type": "markdown",
      "metadata": {
        "id": "3y5njbz_FG12"
      },
      "source": [
        "Strukura kolumny 'default', nie pozwala jej wziąć do modelowania"
      ]
    },
    {
      "cell_type": "code",
      "execution_count": null,
      "metadata": {
        "id": "DHJBmHrWrJhQ"
      },
      "outputs": [],
      "source": [
        "df['default'].value_counts()"
      ]
    },
    {
      "cell_type": "code",
      "execution_count": null,
      "metadata": {
        "id": "93VHL4OJ6GHo"
      },
      "outputs": [],
      "source": [
        "df.info()"
      ]
    },
    {
      "cell_type": "markdown",
      "metadata": {
        "id": "7kGPSE7RDtym"
      },
      "source": [
        "## Podział danych na zbiór treningowy i testowy"
      ]
    },
    {
      "cell_type": "code",
      "execution_count": null,
      "metadata": {
        "id": "YsbT7vCpEQ06"
      },
      "outputs": [],
      "source": [
        "df.head()"
      ]
    },
    {
      "cell_type": "code",
      "execution_count": null,
      "metadata": {
        "id": "N-L6_wbbDZa8"
      },
      "outputs": [],
      "source": [
        "# # kopia zestawu danych\n",
        "# data = df.copy()\n",
        "# data.head()"
      ]
    },
    {
      "cell_type": "markdown",
      "metadata": {
        "id": "ZMeaOwJuhUAO"
      },
      "source": [
        "* bez kolumny 'default',\n",
        "* w liście zapisane zmienne zmienne do modelowania"
      ]
    },
    {
      "cell_type": "markdown",
      "metadata": {
        "id": "BRvYPJiJGFJW"
      },
      "source": [
        "## Zestaw danych nr 1"
      ]
    },
    {
      "cell_type": "markdown",
      "metadata": {
        "id": "lF6P8JnNxjei"
      },
      "source": [
        "Wszystkie zmienne początkowe\n"
      ]
    },
    {
      "cell_type": "code",
      "execution_count": null,
      "metadata": {
        "id": "vZA3mX9iHC9j"
      },
      "outputs": [],
      "source": [
        "model_columns = ['age', 'job', 'marital', 'education', 'housing', 'loan',\n",
        "       'contact', 'month', 'day_of_week', 'campaign', 'pdays',\n",
        "       'previous', 'poutcome',\n",
        "       'emp.var.rate', 'cons.price.idx', 'cons.conf.idx', 'euribor3m', 'nr.employed',\n",
        "      'y_numeric']\n",
        "\n",
        "print(len(model_columns))\n",
        "print(model_columns)"
      ]
    },
    {
      "cell_type": "code",
      "execution_count": null,
      "metadata": {
        "id": "TFaKbbn7H_7J"
      },
      "outputs": [],
      "source": [
        "data = df[model_columns]\n",
        "y = data.pop('y_numeric')\n",
        "y"
      ]
    },
    {
      "cell_type": "code",
      "execution_count": null,
      "metadata": {
        "id": "-Tw7CyXRIMk0"
      },
      "outputs": [],
      "source": [
        "X = data\n",
        "X.head()"
      ]
    },
    {
      "cell_type": "code",
      "execution_count": null,
      "metadata": {
        "id": "ptuDwAW6LYdk"
      },
      "outputs": [],
      "source": [
        "X.info()"
      ]
    },
    {
      "cell_type": "markdown",
      "metadata": {
        "id": "isq0adPZ2QBk"
      },
      "source": [
        "Przy liście zmiennych pomijamy zmienną 'duration' - specyfika tej zmiennej jest taka, nie będziemy wiedzieli przed wykonaniem konaktu, jak długo potrwa (nie będzie dostępna w danych produkcyjnych)"
      ]
    },
    {
      "cell_type": "code",
      "execution_count": null,
      "metadata": {
        "id": "NZ_wkoxnLVjJ"
      },
      "outputs": [],
      "source": [
        "num_feat = [col for col in df[model_columns].select_dtypes(include=['integer', 'float']).columns if col != 'y_numeric']\n",
        "\n",
        "cat_feat = [col for col in df[model_columns].select_dtypes(include=['object']).columns if col != 'y']\n",
        "\n",
        "ord_feat = [col for col in df[model_columns].select_dtypes(include=['category']).columns if col != 'y']\n",
        "\n",
        "print(f'No. of numerical features: {len(num_feat)}')\n",
        "print(num_feat)\n",
        "print()\n",
        "print(f'No. of categorical features: {len(cat_feat)}')\n",
        "print(cat_feat)\n",
        "print()\n",
        "print(f'No. of ordinal features: {len(ord_feat)}')\n",
        "print(ord_feat)"
      ]
    },
    {
      "cell_type": "code",
      "execution_count": null,
      "metadata": {
        "id": "XjGBBLRrCvEc"
      },
      "outputs": [],
      "source": [
        "seed = 23"
      ]
    },
    {
      "cell_type": "code",
      "execution_count": null,
      "metadata": {
        "id": "5oSEQh3_AHSC"
      },
      "outputs": [],
      "source": [
        "X_train, X_test, y_train, y_test = train_test_split(X, y, test_size=0.2, random_state=seed, stratify=y)"
      ]
    },
    {
      "cell_type": "code",
      "execution_count": null,
      "metadata": {
        "id": "NIkL-fONITAx"
      },
      "outputs": [],
      "source": [
        "X_train.shape, y_train.shape, X_test.shape, y_test.shape"
      ]
    },
    {
      "cell_type": "code",
      "execution_count": null,
      "metadata": {
        "id": "zSf07V-Q4rZS"
      },
      "outputs": [],
      "source": [
        "y_train.value_counts()"
      ]
    },
    {
      "cell_type": "code",
      "execution_count": null,
      "metadata": {
        "id": "q9s-AU4SC4r1"
      },
      "outputs": [],
      "source": [
        "361 / (2934+361)"
      ]
    },
    {
      "cell_type": "code",
      "execution_count": null,
      "metadata": {
        "id": "SMXscD-kORls"
      },
      "outputs": [],
      "source": [
        "y_test.value_counts()"
      ]
    },
    {
      "cell_type": "markdown",
      "metadata": {
        "id": "YRiyaoNLJjH6"
      },
      "source": [
        "### Feature Importance - RandomForestClassifier() - Zestaw danych nr 1"
      ]
    },
    {
      "cell_type": "code",
      "execution_count": null,
      "metadata": {
        "id": "v8A-fftuJY36"
      },
      "outputs": [],
      "source": [
        "categorical_transformer = Pipeline(steps=[\n",
        "    ('ohe', preprocessing.OneHotEncoder())\n",
        "])\n",
        "\n",
        "ordinal_transformer = Pipeline(steps=[\n",
        "    ('label_encoder', LabelEncoderTransformer())\n",
        "])\n",
        "\n",
        "preprocessor = ColumnTransformer(\n",
        "    transformers=[\n",
        "        ('categorical', categorical_transformer, cat_feat),\n",
        "        ('ordinal', ordinal_transformer, ord_feat)\n",
        "    ]\n",
        ")\n",
        "\n",
        "rfc_pipeline = Pipeline(steps=[('preprocessor', preprocessor),\n",
        "                              ('rfc_model', RandomForestClassifier(random_state=seed))])"
      ]
    },
    {
      "cell_type": "code",
      "execution_count": null,
      "metadata": {
        "id": "UCuF6FLyIHM1"
      },
      "outputs": [],
      "source": [
        "rfc_pipeline.fit(X_train, y_train)"
      ]
    },
    {
      "cell_type": "code",
      "execution_count": null,
      "metadata": {
        "id": "TUOE8EVkbH30"
      },
      "outputs": [],
      "source": [
        "feature_importance = rfc_pipeline.steps[-1][1].feature_importances_\n",
        "all_column_names = X_train.columns\n",
        "\n",
        "importance_tuples = [(col, imp) for col, imp in zip(all_column_names, feature_importance)]\n",
        "\n",
        "# Sort the list by feature importance in descending order\n",
        "rfc_pre_sorted_importance = sorted(importance_tuples, key=lambda x: x[1], reverse=True)\n",
        "\n",
        "# Print feature importance values for each column in descending order\n",
        "print('Random Forest Feature Importance: \\n')\n",
        "for column, importance in rfc_pre_sorted_importance:\n",
        "    print(f\" {column}: {importance}\")"
      ]
    },
    {
      "cell_type": "markdown",
      "metadata": {
        "id": "SG28rpPs1y42"
      },
      "source": [
        "## Zestaw danych nr 2"
      ]
    },
    {
      "cell_type": "markdown",
      "metadata": {
        "id": "XMdB0IFI_qiy"
      },
      "source": [
        "z nowo stworzoną zmienną month_year oraz wybranym 1 z 5 wskaźników finansowych  wuagi na ich wysoką kolerację i wspólne zależności (ppsscore) )"
      ]
    },
    {
      "cell_type": "code",
      "execution_count": null,
      "metadata": {
        "id": "sQpzX5D-F11V"
      },
      "outputs": [],
      "source": [
        "model_columns_2 = ['age', 'job', 'marital', 'education', 'housing', 'loan',\n",
        "       'contact', 'day_of_week', 'campaign', 'pdays',\n",
        "       'previous', 'poutcome',\n",
        "       'month_year', 'y_numeric']\n",
        "\n",
        "print(len(model_columns_2))\n",
        "print(model_columns_2)"
      ]
    },
    {
      "cell_type": "code",
      "execution_count": null,
      "metadata": {
        "id": "dy2x8K87JbO4"
      },
      "outputs": [],
      "source": [
        "data_2 = df[model_columns_2]"
      ]
    },
    {
      "cell_type": "code",
      "execution_count": null,
      "metadata": {
        "id": "fVp0mFyFJYrL"
      },
      "outputs": [],
      "source": [
        "y_2 = data_2.pop('y_numeric')\n",
        "y_2"
      ]
    },
    {
      "cell_type": "code",
      "execution_count": null,
      "metadata": {
        "id": "TyH3dtrBI0aF"
      },
      "outputs": [],
      "source": [
        "X_2 = data_2\n",
        "X_2.head()"
      ]
    },
    {
      "cell_type": "code",
      "execution_count": null,
      "metadata": {
        "id": "64a5NyXNJCT7"
      },
      "outputs": [],
      "source": [
        "num_feat_2 = [col for col in df[model_columns_2].select_dtypes(include=['integer', 'float']).columns if col != 'y_numeric']\n",
        "cat_feat_2 = [col for col in df[model_columns_2].select_dtypes(include=['object']).columns if col != 'y']\n",
        "ord_feat_2 = [col for col in df[model_columns_2].select_dtypes(include=['category']).columns if col != 'y']\n",
        "print(f'No. of numerical features: {len(num_feat_2)}')\n",
        "print(num_feat_2)\n",
        "print()\n",
        "print(f'No. of categorical features: {len(cat_feat_2)}')\n",
        "print(cat_feat_2)\n",
        "print()\n",
        "print(f'No. of ordinal features: {len(ord_feat_2)}')\n",
        "print(ord_feat_2)"
      ]
    },
    {
      "cell_type": "code",
      "execution_count": null,
      "metadata": {
        "id": "w_rMRf69Jwvn"
      },
      "outputs": [],
      "source": [
        "X_train_2, X_test_2, y_train_2, y_test_2 = train_test_split(X_2, y_2, test_size=0.2, random_state=seed, stratify=y)"
      ]
    },
    {
      "cell_type": "code",
      "execution_count": null,
      "metadata": {
        "id": "XeY-16GCJ4Ae"
      },
      "outputs": [],
      "source": [
        "X_train_2.shape, y_train_2.shape, X_test_2.shape, y_test_2.shape"
      ]
    },
    {
      "cell_type": "code",
      "execution_count": null,
      "metadata": {
        "id": "4W-C4fhzJ6Ox"
      },
      "outputs": [],
      "source": [
        "y_train_2.value_counts()"
      ]
    },
    {
      "cell_type": "code",
      "execution_count": null,
      "metadata": {
        "id": "WvLqS-pGN7KD"
      },
      "outputs": [],
      "source": [
        "361 / (2934+361)"
      ]
    },
    {
      "cell_type": "code",
      "execution_count": null,
      "metadata": {
        "id": "nk9BedpTKHak"
      },
      "outputs": [],
      "source": [
        "y_test_2.value_counts()"
      ]
    },
    {
      "cell_type": "code",
      "execution_count": null,
      "metadata": {
        "id": "JAOmWwHBN6nf"
      },
      "outputs": [],
      "source": [
        "90 / (734+90)"
      ]
    },
    {
      "cell_type": "markdown",
      "metadata": {
        "id": "b964BdcpRlox"
      },
      "source": [
        "### Feature Importance - RandomForestClassifier() - Zestaw danych nr 2"
      ]
    },
    {
      "cell_type": "code",
      "execution_count": null,
      "metadata": {
        "id": "EzTE8ungSHcd"
      },
      "outputs": [],
      "source": [
        "categorical_transformer = Pipeline(steps=[\n",
        "    ('ohe', preprocessing.OneHotEncoder())\n",
        "])\n",
        "\n",
        "ordinal_transformer = Pipeline(steps=[\n",
        "    ('label_encoder', LabelEncoderTransformer())\n",
        "])\n",
        "\n",
        "preprocessor = ColumnTransformer(\n",
        "    transformers=[\n",
        "        ('categorical', categorical_transformer, cat_feat_2),\n",
        "        ('ordinal', ordinal_transformer, ord_feat_2)\n",
        "    ]\n",
        ")\n",
        "\n",
        "rfc_pipeline_2 = Pipeline(steps=[('preprocessor', preprocessor),\n",
        "                              ('rfc_model_2', RandomForestClassifier(random_state=seed))])"
      ]
    },
    {
      "cell_type": "code",
      "execution_count": null,
      "metadata": {
        "colab": {
          "background_save": true
        },
        "id": "DQA03pbjSOvb"
      },
      "outputs": [],
      "source": [
        "rfc_pipeline_2.fit(X_train_2, y_train_2)"
      ]
    },
    {
      "cell_type": "code",
      "execution_count": null,
      "metadata": {
        "colab": {
          "background_save": true
        },
        "id": "UE0fFBLCSjyc"
      },
      "outputs": [],
      "source": [
        "feature_importance = rfc_pipeline_2.steps[-1][1].feature_importances_\n",
        "all_column_names = X_train_2.columns\n",
        "\n",
        "importance_tuples = [(col, imp) for col, imp in zip(all_column_names, feature_importance)]\n",
        "\n",
        "# Sort the list by feature importance in descending order\n",
        "rfc_pre_sorted_importance = sorted(importance_tuples, key=lambda x: x[1], reverse=True)\n",
        "\n",
        "# Print feature importance values for each column in descending order\n",
        "print('Random Forest Feature Importance - zestaw danych 2: \\n')\n",
        "for column, importance in rfc_pre_sorted_importance:\n",
        "    print(f\" {column}: {importance}\")"
      ]
    },
    {
      "cell_type": "code",
      "execution_count": null,
      "metadata": {
        "colab": {
          "background_save": true
        },
        "id": "Bpooy_Bv5JDR"
      },
      "outputs": [],
      "source": [
        "# stop"
      ]
    },
    {
      "cell_type": "markdown",
      "metadata": {
        "id": "ra6bWTjEO4LZ"
      },
      "source": [
        "## Zestaw danych 3"
      ]
    },
    {
      "cell_type": "markdown",
      "metadata": {
        "id": "49SGJG9Im9vG"
      },
      "source": [
        "-  pozostawiono 2 zmienne społeczono - ekonomiczne wybrane ze względu na ich istotnoś"
      ]
    },
    {
      "cell_type": "code",
      "execution_count": null,
      "metadata": {
        "colab": {
          "background_save": true
        },
        "id": "5M4YKQoCGZYL"
      },
      "outputs": [],
      "source": [
        "df.head()"
      ]
    },
    {
      "cell_type": "code",
      "execution_count": null,
      "metadata": {
        "colab": {
          "background_save": true
        },
        "id": "Cu7W4ATLP_Ls"
      },
      "outputs": [],
      "source": [
        "model_columns_3 = ['age', 'job', 'marital', 'education', 'housing', 'loan',\n",
        "       'contact', 'day_of_week', 'campaign', 'pdays',\n",
        "       'previous', 'poutcome', 'cons.price.idx', 'emp.var.rate',\n",
        "        'y_numeric']\n",
        "\n",
        "print(len(model_columns_3))\n",
        "print(model_columns_3)"
      ]
    },
    {
      "cell_type": "code",
      "execution_count": null,
      "metadata": {
        "colab": {
          "background_save": true
        },
        "id": "2BNuE4X6QlsP"
      },
      "outputs": [],
      "source": [
        "data_3 = df[model_columns_3]\n",
        "\n",
        "y_3 = data_3.pop('y_numeric')\n",
        "y_3"
      ]
    },
    {
      "cell_type": "code",
      "execution_count": null,
      "metadata": {
        "colab": {
          "background_save": true
        },
        "id": "H4xLyIfuQrDR"
      },
      "outputs": [],
      "source": [
        "X_3 = data_3\n",
        "X_3.head()"
      ]
    },
    {
      "cell_type": "code",
      "execution_count": null,
      "metadata": {
        "colab": {
          "background_save": true
        },
        "id": "GcMQP7QtQsvt"
      },
      "outputs": [],
      "source": [
        "num_feat_3 = [col for col in df[model_columns_3].select_dtypes(include=['integer', 'float']).columns if col != 'y_numeric']\n",
        "cat_feat_3 = [col for col in df[model_columns_3].select_dtypes(include=['object']).columns if col != 'y']\n",
        "ord_feat_3 = [col for col in df[model_columns_3].select_dtypes(include=['category']).columns if col != 'y']\n",
        "print(f'No. of numerical features: {len(num_feat_3)}')\n",
        "print(num_feat_3)\n",
        "print()\n",
        "print(f'No. of categorical features: {len(cat_feat_3)}')\n",
        "print(cat_feat_3)\n",
        "print()\n",
        "print(f'No. of ordinal features: {len(ord_feat_3)}')\n",
        "print(ord_feat_3)"
      ]
    },
    {
      "cell_type": "code",
      "execution_count": null,
      "metadata": {
        "colab": {
          "background_save": true
        },
        "id": "C5ATJsN4Qu1f"
      },
      "outputs": [],
      "source": [
        "X_train_3, X_test_3, y_train_3, y_test_3 = train_test_split(X_3, y_3, test_size=0.2, random_state=seed, stratify=y)\n",
        "\n",
        "X_train_3.shape, y_train_3.shape, X_test_3.shape, y_test_3.shape"
      ]
    },
    {
      "cell_type": "code",
      "execution_count": null,
      "metadata": {
        "colab": {
          "background_save": true
        },
        "id": "Bbnmw4NSQ5Lc"
      },
      "outputs": [],
      "source": [
        "print(y_train_3.value_counts())"
      ]
    },
    {
      "cell_type": "code",
      "execution_count": null,
      "metadata": {
        "colab": {
          "background_save": true
        },
        "id": "co6YUbUBRBDt"
      },
      "outputs": [],
      "source": [
        "print(y_test_3.value_counts())"
      ]
    },
    {
      "cell_type": "markdown",
      "metadata": {
        "id": "mZ6I5AnYS5de"
      },
      "source": [
        "### Feature Importance - RandomForestClassifier() - Zestaw danych nr 3"
      ]
    },
    {
      "cell_type": "code",
      "execution_count": null,
      "metadata": {
        "colab": {
          "background_save": true
        },
        "id": "yaLdSf4eTHqM"
      },
      "outputs": [],
      "source": [
        "categorical_transformer = Pipeline(steps=[\n",
        "    ('ohe', preprocessing.OneHotEncoder())\n",
        "])\n",
        "\n",
        "ordinal_transformer = Pipeline(steps=[\n",
        "    ('label_encoder', LabelEncoderTransformer())\n",
        "])\n",
        "\n",
        "preprocessor = ColumnTransformer(\n",
        "    transformers=[\n",
        "        ('categorical', categorical_transformer, cat_feat_3),\n",
        "        ('ordinal', ordinal_transformer, ord_feat_3)\n",
        "    ]\n",
        ")\n",
        "\n",
        "rfc_pipeline_3 = Pipeline(steps=[('preprocessor', preprocessor),\n",
        "                              ('rfc_model_3', RandomForestClassifier(random_state=seed))])"
      ]
    },
    {
      "cell_type": "code",
      "execution_count": null,
      "metadata": {
        "colab": {
          "background_save": true
        },
        "id": "5iTcaP9STOZ-"
      },
      "outputs": [],
      "source": [
        "rfc_pipeline_3.fit(X_train_3, y_train_3)"
      ]
    },
    {
      "cell_type": "code",
      "execution_count": null,
      "metadata": {
        "colab": {
          "background_save": true
        },
        "id": "SGHyLCPzTTUa"
      },
      "outputs": [],
      "source": [
        "feature_importance = rfc_pipeline_3.steps[-1][1].feature_importances_\n",
        "all_column_names = X_train_3.columns\n",
        "\n",
        "importance_tuples = [(col, imp) for col, imp in zip(all_column_names, feature_importance)]\n",
        "\n",
        "# Sort the list by feature importance in descending order\n",
        "rfc_pre_sorted_importance = sorted(importance_tuples, key=lambda x: x[1], reverse=True)\n",
        "\n",
        "# Print feature importance values for each column in descending order\n",
        "print('Random Forest Feature Importance - zestaw danych 3: \\n')\n",
        "for column, importance in rfc_pre_sorted_importance:\n",
        "    print(f\" {column}: {importance}\")"
      ]
    },
    {
      "cell_type": "markdown",
      "metadata": {
        "id": "ytFmKmswmswg"
      },
      "source": [
        "## Zestaw danych 4"
      ]
    },
    {
      "cell_type": "markdown",
      "metadata": {
        "id": "MxGVkbJBnA8T"
      },
      "source": [
        "- mix 2 i 3 zestawu - month_year zostawiony +  pozostawiono 2 zmienne społeczono - ekonomiczne wybrane ze względu na ich istotność"
      ]
    },
    {
      "cell_type": "code",
      "execution_count": null,
      "metadata": {
        "colab": {
          "background_save": true
        },
        "id": "jiHm1cMynBtw"
      },
      "outputs": [],
      "source": [
        "model_columns_4 = ['age', 'job', 'marital', 'education', 'housing', 'loan',\n",
        "       'contact', 'day_of_week', 'campaign', 'pdays', 'previous', 'poutcome',\n",
        "       'cons.price.idx', 'emp.var.rate', 'month_year',\n",
        "        'y_numeric']\n",
        "\n",
        "print(len(model_columns_4))\n",
        "print(model_columns_4)"
      ]
    },
    {
      "cell_type": "code",
      "execution_count": null,
      "metadata": {
        "colab": {
          "background_save": true
        },
        "id": "Q_yRn9W60udj"
      },
      "outputs": [],
      "source": [
        "data_4 = df[model_columns_4]\n"
      ]
    },
    {
      "cell_type": "code",
      "execution_count": null,
      "metadata": {
        "colab": {
          "background_save": true
        },
        "id": "zNpZBSKp0vgp"
      },
      "outputs": [],
      "source": [
        "y_4 = data_4.pop('y_numeric')"
      ]
    },
    {
      "cell_type": "code",
      "execution_count": null,
      "metadata": {
        "colab": {
          "background_save": true
        },
        "id": "NW44Wm_w0wvF"
      },
      "outputs": [],
      "source": [
        "X_4 = data_4"
      ]
    },
    {
      "cell_type": "code",
      "execution_count": null,
      "metadata": {
        "colab": {
          "background_save": true
        },
        "id": "5Qtx_Rnz0tVJ"
      },
      "outputs": [],
      "source": [
        "num_feat_4 = [col for col in df[model_columns_4].select_dtypes(include=['integer', 'float']).columns if col != 'y_numeric']\n",
        "cat_feat_4 = [col for col in df[model_columns_4].select_dtypes(include=['object']).columns if col != 'y']\n",
        "ord_feat_4 = [col for col in df[model_columns_4].select_dtypes(include=['category']).columns if col != 'y']\n",
        "\n",
        "print(f'No. of numerical features: {len(num_feat_4)}')\n",
        "print(num_feat_4)\n",
        "print()\n",
        "print(f'No. of categorical features: {len(cat_feat_4)}')\n",
        "print(cat_feat_4)\n",
        "print()\n",
        "print(f'No. of ordinal features: {len(ord_feat_4)}')\n",
        "print(ord_feat_4)"
      ]
    },
    {
      "cell_type": "code",
      "execution_count": null,
      "metadata": {
        "colab": {
          "background_save": true
        },
        "id": "uZfzvmHw00Pz"
      },
      "outputs": [],
      "source": [
        "X_train_4, X_test_4, y_train_4, y_test_4 = train_test_split(X_4, y_4, test_size=0.2, random_state=seed, stratify=y)"
      ]
    },
    {
      "cell_type": "code",
      "execution_count": null,
      "metadata": {
        "colab": {
          "background_save": true
        },
        "id": "upg0hLqL01ca"
      },
      "outputs": [],
      "source": [
        "print()\n",
        "\n",
        "print(X_train_4.shape, y_train_4.shape, X_test_4.shape, y_test_4.shape)\n",
        "\n",
        "y_train_4.value_counts()\n",
        "\n",
        "y_test_4.value_counts()"
      ]
    },
    {
      "cell_type": "markdown",
      "metadata": {
        "id": "SyMVeDBep8dY"
      },
      "source": [
        "### Feature Importance - RandomForestClassifier() - Zestaw danych nr 4"
      ]
    },
    {
      "cell_type": "code",
      "execution_count": null,
      "metadata": {
        "colab": {
          "background_save": true
        },
        "id": "KYWJG0rqqAcE"
      },
      "outputs": [],
      "source": [
        "categorical_transformer = Pipeline(steps=[\n",
        "    ('ohe', preprocessing.OneHotEncoder())\n",
        "])\n",
        "\n",
        "ordinal_transformer = Pipeline(steps=[\n",
        "    ('label_encoder', LabelEncoderTransformer())\n",
        "])\n",
        "\n",
        "preprocessor = ColumnTransformer(\n",
        "    transformers=[\n",
        "        ('categorical', categorical_transformer, cat_feat_3),\n",
        "        ('ordinal', ordinal_transformer, ord_feat_3)\n",
        "    ]\n",
        ")\n",
        "\n",
        "rfc_pipeline_4 = Pipeline(steps=[('preprocessor', preprocessor),\n",
        "                              ('rfc_model_4', RandomForestClassifier(random_state=seed))])"
      ]
    },
    {
      "cell_type": "code",
      "execution_count": null,
      "metadata": {
        "colab": {
          "background_save": true
        },
        "id": "T2edppXAqED9"
      },
      "outputs": [],
      "source": [
        "rfc_pipeline_4.fit(X_train_4, y_train_4)"
      ]
    },
    {
      "cell_type": "code",
      "execution_count": null,
      "metadata": {
        "colab": {
          "background_save": true
        },
        "id": "BwrtSLG_qIPy"
      },
      "outputs": [],
      "source": [
        "feature_importance = rfc_pipeline_4.steps[-1][1].feature_importances_\n",
        "all_column_names = X_train_4.columns\n",
        "\n",
        "importance_tuples = [(col, imp) for col, imp in zip(all_column_names, feature_importance)]\n",
        "\n",
        "# Sort the list by feature importance in descending order\n",
        "rfc_pre_sorted_importance = sorted(importance_tuples, key=lambda x: x[1], reverse=True)\n",
        "\n",
        "# Print feature importance values for each column in descending order\n",
        "print('Random Forest Feature Importance - zestaw danych 4: \\n')\n",
        "for column, importance in rfc_pre_sorted_importance:\n",
        "    print(f\" {column}: {importance}\")"
      ]
    },
    {
      "cell_type": "code",
      "execution_count": null,
      "metadata": {
        "colab": {
          "background_save": true
        },
        "id": "rg4_JK74-K-T"
      },
      "outputs": [],
      "source": [
        "# stop"
      ]
    },
    {
      "cell_type": "markdown",
      "metadata": {
        "id": "JZ3MrtslrFbY"
      },
      "source": [
        "## Zestaw danych 5 - oversampling\n",
        "\n",
        "*   na bazie podziału na nowo utworzonej kolumnie 'year', zrobimy oversampling dla danych z 2009 i 2010r. (2008 bez zmian) dal wszsytkich danych zaliczonych do datatype (poza 'year')\n",
        "\n",
        "\n"
      ]
    },
    {
      "cell_type": "code",
      "execution_count": null,
      "metadata": {
        "colab": {
          "background_save": true
        },
        "id": "Edvii-q8AmmO"
      },
      "outputs": [],
      "source": [
        "model_columns_sampling = ['age', 'job', 'marital', 'education', 'housing', 'loan',\n",
        "       'contact', 'day_of_week', 'campaign', 'pdays', 'previous', 'poutcome',\n",
        "       'cons.price.idx', 'emp.var.rate', 'month', 'year',\n",
        "      'y_numeric']\n",
        "\n",
        "print(len(model_columns_sampling))\n",
        "print(model_columns_sampling)"
      ]
    },
    {
      "cell_type": "code",
      "execution_count": null,
      "metadata": {
        "colab": {
          "background_save": true
        },
        "id": "CGx9iOx6-Fy9"
      },
      "outputs": [],
      "source": [
        "df_sampling = df[model_columns_sampling]\n",
        "df_sampling.shape"
      ]
    },
    {
      "cell_type": "code",
      "execution_count": null,
      "metadata": {
        "colab": {
          "background_save": true
        },
        "id": "nLssBx7DV9U2"
      },
      "outputs": [],
      "source": [
        "df_sampling['year'] = df_sampling['year'].astype('int')"
      ]
    },
    {
      "cell_type": "code",
      "execution_count": null,
      "metadata": {
        "colab": {
          "background_save": true
        },
        "id": "vn2BkoRsWF8b"
      },
      "outputs": [],
      "source": [
        "df_sampling.info()"
      ]
    },
    {
      "cell_type": "code",
      "execution_count": null,
      "metadata": {
        "colab": {
          "background_save": true
        },
        "id": "uERGSleU734D"
      },
      "outputs": [],
      "source": [
        "cat_feat_sampling = [col for col in df_sampling.select_dtypes(include=['object', 'category']).columns]\n",
        "cat_feat_sampling"
      ]
    },
    {
      "cell_type": "code",
      "execution_count": null,
      "metadata": {
        "colab": {
          "background_save": true
        },
        "id": "vKmPwTv68E5I"
      },
      "outputs": [],
      "source": [
        "df_encoded = pd.get_dummies(df_sampling, columns=cat_feat_sampling)\n",
        "\n",
        "df_encoded.shape"
      ]
    },
    {
      "cell_type": "code",
      "execution_count": null,
      "metadata": {
        "colab": {
          "background_save": true
        },
        "id": "mz_ivIv3g7DD"
      },
      "outputs": [],
      "source": [
        "df_encoded.info()"
      ]
    },
    {
      "cell_type": "code",
      "execution_count": null,
      "metadata": {
        "colab": {
          "background_save": true
        },
        "id": "EOMKzVxFLRHD"
      },
      "outputs": [],
      "source": [
        "df_2008 = df_encoded[df_sampling['year'] == 2008]\n",
        "print(df_2008.shape)\n",
        "df_2009_2010 = df_encoded[df_sampling['year'].isin([2009, 2010])]\n",
        "print(df_2009_2010.shape)"
      ]
    },
    {
      "cell_type": "code",
      "execution_count": null,
      "metadata": {
        "colab": {
          "background_save": true
        },
        "id": "1ic1aFIgCYtz"
      },
      "outputs": [],
      "source": [
        "from imblearn.over_sampling import RandomOverSampler\n",
        "\n",
        "X_2009_2010 = df_2009_2010.drop(columns=['y_numeric'])\n",
        "y_2009_2010 = df_2009_2010['y_numeric']\n",
        "\n",
        "# Inicjalizacja RandomOverSampler\n",
        "ros = RandomOverSampler(sampling_strategy={0: 1025*2, 1: 317*2}, random_state=seed) # podniesienie ilości obserwacji dwurkotnie z zachowaniem proprocji między etykietami\n",
        "\n",
        "# Zastosowanie RandomOverSampler do X i y\n",
        "X_resampled, y_resampled = ros.fit_resample(X_2009_2010, y_2009_2010)\n",
        "\n",
        "df_resampled = pd.DataFrame(data=X_resampled, columns=X_2009_2010.columns)\n",
        "df_resampled['y_numeric'] = y_resampled\n",
        "\n",
        "df_oversampled = pd.concat([df_2008, df_resampled], ignore_index=True)"
      ]
    },
    {
      "cell_type": "code",
      "execution_count": null,
      "metadata": {
        "colab": {
          "background_save": true
        },
        "id": "UorKig2lTi9l"
      },
      "outputs": [],
      "source": [
        "df_2008.info()"
      ]
    },
    {
      "cell_type": "code",
      "execution_count": null,
      "metadata": {
        "colab": {
          "background_save": true
        },
        "id": "CN06GwhbSGnp"
      },
      "outputs": [],
      "source": [
        "df_resampled.info()"
      ]
    },
    {
      "cell_type": "code",
      "execution_count": null,
      "metadata": {
        "colab": {
          "background_save": true
        },
        "id": "TEpQCW84-YmV"
      },
      "outputs": [],
      "source": [
        "df_oversampled.info()"
      ]
    },
    {
      "cell_type": "code",
      "execution_count": null,
      "metadata": {
        "colab": {
          "background_save": true
        },
        "id": "H5Tc3ZiPHI5k"
      },
      "outputs": [],
      "source": [
        "df.groupby(['year', 'y_numeric'])['y_numeric'].count().unstack(fill_value=0)"
      ]
    },
    {
      "cell_type": "code",
      "execution_count": null,
      "metadata": {
        "colab": {
          "background_save": true
        },
        "id": "iQBFZvJjHD44"
      },
      "outputs": [],
      "source": [
        "df_resampled.groupby(['year', 'y_numeric'])['y_numeric'].count().unstack(fill_value=0)"
      ]
    },
    {
      "cell_type": "code",
      "execution_count": null,
      "metadata": {
        "colab": {
          "background_save": true
        },
        "id": "MQ2Z3UbBB7Yh"
      },
      "outputs": [],
      "source": [
        "df_oversampled.groupby(['year', 'y_numeric'])['y_numeric'].count().unstack(fill_value=0)"
      ]
    },
    {
      "cell_type": "code",
      "execution_count": null,
      "metadata": {
        "colab": {
          "background_save": true
        },
        "id": "6hve3yxsBwiR"
      },
      "outputs": [],
      "source": [
        "# x_labels = [f\"{month}\" for (year) in result.index]\n",
        "\n",
        "# # Plot the results as a bar chart\n",
        "# fig, ax = plt.subplots(figsize=(8, 5))  # Extend the width of the chart\n",
        "# result.plot(kind='bar', ax=ax)\n",
        "\n",
        "# # Set x-axis labels (grouping months by year)\n",
        "# ax.set_xticks(range(len(x_labels)))\n",
        "# ax.set_xticklabels(x_labels)\n",
        "\n",
        "# plt.title('Distribution of y by Year')\n",
        "# plt.xlabel('Year')\n",
        "# plt.ylabel('Count of y')\n",
        "# plt.legend(title='y')\n",
        "# plt.xticks(rotation=45)\n",
        "# plt.show()"
      ]
    },
    {
      "cell_type": "code",
      "execution_count": null,
      "metadata": {
        "colab": {
          "background_save": true
        },
        "id": "uCdM2ZeGNaEH"
      },
      "outputs": [],
      "source": [
        "df_oversampled.info()"
      ]
    },
    {
      "cell_type": "code",
      "execution_count": null,
      "metadata": {
        "colab": {
          "background_save": true
        },
        "id": "5ZG0taopG3Wg"
      },
      "outputs": [],
      "source": [
        "cat_feat_sampling"
      ]
    },
    {
      "cell_type": "code",
      "execution_count": null,
      "metadata": {
        "colab": {
          "background_save": true
        },
        "id": "fQX8N_FhG3Y6"
      },
      "outputs": [],
      "source": [
        "# for cat in cat_feat_sampling:\n",
        "#   categories = df[cat].unique().tolist()"
      ]
    },
    {
      "cell_type": "code",
      "execution_count": null,
      "metadata": {
        "colab": {
          "background_save": true
        },
        "id": "gY-jNG8hXFZQ"
      },
      "outputs": [],
      "source": [
        "\n",
        "# category = []\n",
        "\n",
        "# for column in cat_feat_sampling:\n",
        "#     unique_category = df[column].stack().unique()\n",
        "\n",
        "#     # Dla każdej unikalnej kategorii przypisz ją jako nazwę zmiennej\n",
        "#     for category in unique_category:\n",
        "#         variable = f\"{column}_{category}\"\n",
        "#         category.append(variable)"
      ]
    },
    {
      "cell_type": "code",
      "execution_count": null,
      "metadata": {
        "colab": {
          "background_save": true
        },
        "id": "GS2hd8yEZOmt"
      },
      "outputs": [],
      "source": [
        "# job_category = df_oversampled['job'].unique().tolist()\n",
        "# job_category"
      ]
    },
    {
      "cell_type": "code",
      "execution_count": null,
      "metadata": {
        "colab": {
          "background_save": true
        },
        "id": "yflbJsA9V_g2"
      },
      "outputs": [],
      "source": [
        "# marital_category = df['marital'].unique().tolist()\n",
        "# marital_category"
      ]
    },
    {
      "cell_type": "code",
      "execution_count": null,
      "metadata": {
        "colab": {
          "background_save": true
        },
        "id": "GZU90gSwWB8h"
      },
      "outputs": [],
      "source": [
        "# education_category = df['education'].unique().tolist()\n",
        "# education_category"
      ]
    },
    {
      "cell_type": "code",
      "execution_count": null,
      "metadata": {
        "colab": {
          "background_save": true
        },
        "id": "qIAABUVcWJ12"
      },
      "outputs": [],
      "source": [
        "# housing_category = df['housing'].unique().tolist()\n",
        "# housing_category"
      ]
    },
    {
      "cell_type": "code",
      "execution_count": null,
      "metadata": {
        "colab": {
          "background_save": true
        },
        "id": "wtRAJPi7WPwU"
      },
      "outputs": [],
      "source": [
        "# contact_category = df['contact'].unique().tolist()\n",
        "# contact_category"
      ]
    },
    {
      "cell_type": "code",
      "execution_count": null,
      "metadata": {
        "colab": {
          "background_save": true
        },
        "id": "gZ4YJKZHWYJq"
      },
      "outputs": [],
      "source": [
        "# loan_category = df['loan'].unique().tolist()\n",
        "# loan_category"
      ]
    },
    {
      "cell_type": "code",
      "execution_count": null,
      "metadata": {
        "colab": {
          "background_save": true
        },
        "id": "rj_HasYXWkzb"
      },
      "outputs": [],
      "source": [
        "# day_of_week_category = df['day_of_week'].unique().tolist()\n",
        "# day_of_week_category"
      ]
    },
    {
      "cell_type": "code",
      "execution_count": null,
      "metadata": {
        "colab": {
          "background_save": true
        },
        "id": "3KE9u6TeXibA"
      },
      "outputs": [],
      "source": [
        "# poutcome_category = df['poutcome'].unique().tolist()\n",
        "# poutcome_category"
      ]
    },
    {
      "cell_type": "code",
      "execution_count": null,
      "metadata": {
        "colab": {
          "background_save": true
        },
        "id": "n2_W5LqmXoRf"
      },
      "outputs": [],
      "source": [
        "# month_category = df['month'].unique().tolist()\n",
        "# month_category"
      ]
    },
    {
      "cell_type": "code",
      "execution_count": null,
      "metadata": {
        "colab": {
          "background_save": true
        },
        "id": "p_iVIP5_aBAu"
      },
      "outputs": [],
      "source": [
        "categories = []\n",
        "\n",
        "for column in df_oversampled.columns:\n",
        "\n",
        "    patterns = [\"job_\", \"marital_\", \"housing_\", \"education_\", \"contact_\", \"loan_\", \"day_of_week_\", \"poutcome_\", \"month_\"]\n",
        "\n",
        "    for pattern in patterns:\n",
        "        if pattern in column:\n",
        "            categories.append(column)"
      ]
    },
    {
      "cell_type": "code",
      "execution_count": null,
      "metadata": {
        "colab": {
          "background_save": true
        },
        "id": "Gh-Fq-hdskTq"
      },
      "outputs": [],
      "source": [
        "patterns = [\"job_\", \"marital_\", \"housing_\", 'education_', 'contact_', 'loan_', 'day_of_week_', 'poutcome_', 'month_']"
      ]
    },
    {
      "cell_type": "code",
      "execution_count": null,
      "metadata": {
        "colab": {
          "background_save": true
        },
        "id": "ZlfzrXwsmrex"
      },
      "outputs": [],
      "source": [
        "categories"
      ]
    },
    {
      "cell_type": "code",
      "execution_count": null,
      "metadata": {
        "colab": {
          "background_save": true
        },
        "id": "dIxZoiEQsbvY"
      },
      "outputs": [],
      "source": [
        "job_categories = []\n",
        "marital_categories = []\n",
        "housing_categories = []\n",
        "education_categories = []\n",
        "contact_categories = []\n",
        "loan_categories = []\n",
        "day_of_week_categories = []\n",
        "poutcome_categories = []\n",
        "month_categories = []\n",
        "\n",
        "# Iteruj przez 'categories' i podziel na kategorie na podstawie wzorców\n",
        "for category in categories:\n",
        "    for pattern in patterns:\n",
        "        if category.startswith(pattern):\n",
        "            if pattern == \"job_\":\n",
        "                job_categories.append(category)\n",
        "            elif pattern == \"marital_\":\n",
        "                marital_categories.append(category)\n",
        "            elif pattern == \"housing_\":\n",
        "                housing_categories.append(category)\n",
        "            elif pattern == \"education_\":\n",
        "                education_categories.append(category)\n",
        "            elif pattern == \"contact_\":\n",
        "                contact_categories.append(category)\n",
        "            elif pattern == \"loan_\":\n",
        "                loan_categories.append(category)\n",
        "            elif pattern == \"day_of_week_\":\n",
        "                day_of_week_categories.append(category)\n",
        "            elif pattern == \"poutcome_\":\n",
        "                poutcome_categories.append(category)\n",
        "            elif pattern == \"month_\":\n",
        "                month_categories.append(category)\n"
      ]
    },
    {
      "cell_type": "code",
      "execution_count": null,
      "metadata": {
        "colab": {
          "background_save": true
        },
        "id": "t-SvSR28sn5j"
      },
      "outputs": [],
      "source": [
        "print(contact_categories)\n",
        "print(loan_categories)"
      ]
    },
    {
      "cell_type": "code",
      "execution_count": null,
      "metadata": {
        "colab": {
          "background_save": true
        },
        "id": "XYxRwCBYsn8i"
      },
      "outputs": [],
      "source": [
        "print(month_categories)"
      ]
    },
    {
      "cell_type": "code",
      "execution_count": null,
      "metadata": {
        "colab": {
          "background_save": true
        },
        "id": "e1grihYAaEmK"
      },
      "outputs": [],
      "source": [
        "# job_category_df_oversampled"
      ]
    },
    {
      "cell_type": "code",
      "execution_count": null,
      "metadata": {
        "colab": {
          "background_save": true
        },
        "id": "27SZ8Jq3YIpW"
      },
      "outputs": [],
      "source": [
        "# Odtwórz oryginalne kategorie na podstawie kolumn numerycznych\n",
        "df_oversampled['job'] = df_oversampled[job_categories].idxmax(axis=1)\n",
        "df_oversampled['marital'] = df_oversampled[marital_categories].idxmax(axis=1)\n",
        "df_oversampled['housing'] = df_oversampled[housing_categories].idxmax(axis=1)\n",
        "df_oversampled['education'] = df_oversampled[education_categories].idxmax(axis=1)\n",
        "df_oversampled['contact'] = df_oversampled[contact_categories].idxmax(axis=1)\n",
        "df_oversampled['loan'] = df_oversampled[loan_categories].idxmax(axis=1)\n",
        "df_oversampled['day_of_week'] = df_oversampled[day_of_week_categories].idxmax(axis=1)\n",
        "df_oversampled['poutcome'] = df_oversampled[poutcome_categories].idxmax(axis=1)\n",
        "df_oversampled['month'] = df_oversampled[month_categories].idxmax(axis=1)\n",
        "# Odtwórz pozostałe oryginalne kategorie\n",
        "\n",
        "\n",
        "df_oversampled['marital'] = df_oversampled[marital_categories].idxmax(axis=1)\n",
        "df_oversampled['housing'] = df_oversampled[housing_categories].idxmax(axis=1)\n",
        "df_oversampled['education'] = df_oversampled[education_categories].idxmax(axis=1)\n",
        "df_oversampled['contact'] = df_oversampled[contact_categories].idxmax(axis=1)\n",
        "df_oversampled['loan'] = df_oversampled[loan_categories].idxmax(axis=1)\n",
        "df_oversampled['day_of_week'] = df_oversampled[day_of_week_categories].idxmax(axis=1)\n",
        "df_oversampled['poutcome'] = df_oversampled[poutcome_categories].idxmax(axis=1)\n",
        "df_oversampled['month'] = df_oversampled[month_categories].idxmax(axis=1)\n",
        "\n",
        "# # Usuń kolumny numeryczne\n",
        "df_oversampled = df_oversampled.drop(columns=job_categories)\n",
        "df_oversampled = df_oversampled.drop(columns=marital_categories)\n",
        "df_oversampled = df_oversampled.drop(columns=housing_categories)\n",
        "df_oversampled = df_oversampled.drop(columns=education_categories)\n",
        "df_oversampled = df_oversampled.drop(columns=contact_categories)\n",
        "df_oversampled = df_oversampled.drop(columns=loan_categories)\n",
        "df_oversampled = df_oversampled.drop(columns=day_of_week_categories)\n",
        "df_oversampled = df_oversampled.drop(columns=poutcome_categories)\n",
        "df_oversampled = df_oversampled.drop(columns=month_categories)\n",
        "# Usuń pozostałe kolumny numeryczne\n",
        "\n",
        "# Teraz DataFrame df_oversampled ma oryginalne kategorie\n",
        "df_oversampled.info()"
      ]
    },
    {
      "cell_type": "code",
      "execution_count": null,
      "metadata": {
        "colab": {
          "background_save": true
        },
        "id": "FnQhafxXkzir"
      },
      "outputs": [],
      "source": [
        "df_oversampled[cat_feat_sampling]"
      ]
    },
    {
      "cell_type": "code",
      "execution_count": null,
      "metadata": {
        "colab": {
          "background_save": true
        },
        "id": "k-KqHolbky79"
      },
      "outputs": [],
      "source": [
        "df_oversampled['job'] = df_oversampled['job'].str.replace('job_', '')\n",
        "df_oversampled['job']"
      ]
    },
    {
      "cell_type": "code",
      "execution_count": null,
      "metadata": {
        "colab": {
          "background_save": true
        },
        "id": "NDzAbUr9j097"
      },
      "outputs": [],
      "source": [
        "df_oversampled['marital'] = df_oversampled['marital'].str.replace('marital_', '')\n",
        "df_oversampled['marital']"
      ]
    },
    {
      "cell_type": "code",
      "execution_count": null,
      "metadata": {
        "colab": {
          "background_save": true
        },
        "id": "YeKwsp3lj9h9"
      },
      "outputs": [],
      "source": [
        "df_oversampled['housing'] = df_oversampled['housing'].str.replace('housing_', '')\n",
        "df_oversampled['housing']"
      ]
    },
    {
      "cell_type": "code",
      "execution_count": null,
      "metadata": {
        "colab": {
          "background_save": true
        },
        "id": "hwX9X8YYlSZU"
      },
      "outputs": [],
      "source": [
        "df_oversampled['education'] = df_oversampled['education'].str.replace('education_', '')\n",
        "df_oversampled['education']"
      ]
    },
    {
      "cell_type": "code",
      "execution_count": null,
      "metadata": {
        "colab": {
          "background_save": true
        },
        "id": "1-JstYJ3lSe2"
      },
      "outputs": [],
      "source": [
        "df_oversampled['contact'] = df_oversampled['contact'].str.replace('contact_', '')\n",
        "df_oversampled['contact']\n"
      ]
    },
    {
      "cell_type": "code",
      "execution_count": null,
      "metadata": {
        "colab": {
          "background_save": true
        },
        "id": "UG_fnvnJlSib"
      },
      "outputs": [],
      "source": [
        "df_oversampled['loan'] = df_oversampled['loan'].str.replace('loan_', '')\n",
        "df_oversampled['loan']"
      ]
    },
    {
      "cell_type": "code",
      "execution_count": null,
      "metadata": {
        "colab": {
          "background_save": true
        },
        "id": "WIjJa5zTlSlt"
      },
      "outputs": [],
      "source": [
        "df_oversampled['month'] = df_oversampled['month'].str.replace('month_', '')\n",
        "df_oversampled['month']"
      ]
    },
    {
      "cell_type": "code",
      "execution_count": null,
      "metadata": {
        "colab": {
          "background_save": true
        },
        "id": "UMPBL227lSoW"
      },
      "outputs": [],
      "source": [
        "df_oversampled['day_of_week'] = df_oversampled['day_of_week'].str.replace('day_of_week_', '')\n",
        "df_oversampled['day_of_week']"
      ]
    },
    {
      "cell_type": "code",
      "execution_count": null,
      "metadata": {
        "colab": {
          "background_save": true
        },
        "id": "UeFswqZSuC1j"
      },
      "outputs": [],
      "source": [
        "df_oversampled['month_year'] = df_oversampled['month'] + '_' + df_oversampled['year'].astype('str')"
      ]
    },
    {
      "cell_type": "code",
      "execution_count": null,
      "metadata": {
        "colab": {
          "background_save": true
        },
        "id": "5Of-8ZLh75hF"
      },
      "outputs": [],
      "source": [
        "df_oversampled.info()"
      ]
    },
    {
      "cell_type": "code",
      "execution_count": null,
      "metadata": {
        "colab": {
          "background_save": true
        },
        "id": "7CRgPoBX79rE"
      },
      "outputs": [],
      "source": [
        "df_oversampled.drop(columns='month', inplace=True)"
      ]
    },
    {
      "cell_type": "code",
      "execution_count": null,
      "metadata": {
        "colab": {
          "background_save": true
        },
        "id": "y_Gz9AmybldO"
      },
      "outputs": [],
      "source": [
        "df_oversampled['month_year'] = df_oversampled['month_year'].astype('category')\n",
        "df_oversampled['day_of_week'] = df_oversampled['day_of_week'].astype('category')"
      ]
    },
    {
      "cell_type": "code",
      "execution_count": null,
      "metadata": {
        "colab": {
          "background_save": true
        },
        "id": "mMd_3WcybQjB"
      },
      "outputs": [],
      "source": [
        "df_oversampled.info()"
      ]
    },
    {
      "cell_type": "markdown",
      "metadata": {
        "id": "QC6TvkMCzHxU"
      },
      "source": [
        "### Przygotowanie do modelowania"
      ]
    },
    {
      "cell_type": "code",
      "execution_count": null,
      "metadata": {
        "colab": {
          "background_save": true
        },
        "id": "Pnzi_GjK8bEk"
      },
      "outputs": [],
      "source": [
        "model_columns_5 = ['age', 'job', 'marital', 'education', 'housing', 'loan',\n",
        "       'contact', 'day_of_week', 'campaign', 'pdays', 'previous', 'poutcome',\n",
        "       'cons.price.idx', 'emp.var.rate', 'month_year',\n",
        "      'y_numeric']\n",
        "\n",
        "print(len(model_columns_5))\n",
        "print(model_columns_5)"
      ]
    },
    {
      "cell_type": "code",
      "execution_count": null,
      "metadata": {
        "colab": {
          "background_save": true
        },
        "id": "BoIx4aNVaGnC"
      },
      "outputs": [],
      "source": [
        "data_5 = df_oversampled[model_columns_5]"
      ]
    },
    {
      "cell_type": "code",
      "execution_count": null,
      "metadata": {
        "colab": {
          "background_save": true
        },
        "id": "QwFDVkJzaa06"
      },
      "outputs": [],
      "source": [
        "y_5 = data_5.pop('y_numeric')\n",
        "X_5 = data_5"
      ]
    },
    {
      "cell_type": "code",
      "execution_count": null,
      "metadata": {
        "colab": {
          "background_save": true
        },
        "id": "6_GKJyIsWHRC"
      },
      "outputs": [],
      "source": [
        "y_5.shape"
      ]
    },
    {
      "cell_type": "code",
      "execution_count": null,
      "metadata": {
        "colab": {
          "background_save": true
        },
        "id": "zZIIscqIb8dK"
      },
      "outputs": [],
      "source": [
        "X_5.shape"
      ]
    },
    {
      "cell_type": "code",
      "execution_count": null,
      "metadata": {
        "colab": {
          "background_save": true
        },
        "id": "NqMQoxDcaeHJ"
      },
      "outputs": [],
      "source": [
        "num_feat_5 = [col for col in df_oversampled[model_columns_5].select_dtypes(include=['integer', 'float']).columns if col != 'y_numeric']\n",
        "cat_feat_5 = [col for col in df_oversampled[model_columns_5].select_dtypes(include=['object']).columns if col != 'y']\n",
        "ord_feat_5 = [col for col in df_oversampled[model_columns_5].select_dtypes(include=['category']).columns if col != 'y']\n",
        "\n",
        "print(f'No. of numerical features: {len(num_feat_5)}')\n",
        "print(num_feat_5)\n",
        "print()\n",
        "print(f'No. of categorical features: {len(cat_feat_5)}')\n",
        "print(cat_feat_5)\n",
        "print()\n",
        "print(f'No. of ordinal features: {len(ord_feat_5)}')\n",
        "print(ord_feat_5)"
      ]
    },
    {
      "cell_type": "code",
      "execution_count": null,
      "metadata": {
        "colab": {
          "background_save": true
        },
        "id": "JHwAaMssagQA"
      },
      "outputs": [],
      "source": [
        "X_train_5, X_test_5, y_train_5, y_test_5 = train_test_split(X_5, y_5, test_size=0.2, random_state=seed, stratify=y_5)"
      ]
    },
    {
      "cell_type": "code",
      "execution_count": null,
      "metadata": {
        "colab": {
          "background_save": true
        },
        "id": "1Qq4_n_DaklQ"
      },
      "outputs": [],
      "source": [
        "print(X_train_5.shape, y_train_5.shape, X_test_5.shape, y_test_5.shape)"
      ]
    },
    {
      "cell_type": "code",
      "execution_count": null,
      "metadata": {
        "colab": {
          "background_save": true
        },
        "id": "PsJOlTLdaluQ"
      },
      "outputs": [],
      "source": [
        "y_train_5.value_counts()"
      ]
    },
    {
      "cell_type": "code",
      "execution_count": null,
      "metadata": {
        "colab": {
          "background_save": true
        },
        "id": "-cSnMQO11h_K"
      },
      "outputs": [],
      "source": [
        "614 / (3754+614)"
      ]
    },
    {
      "cell_type": "code",
      "execution_count": null,
      "metadata": {
        "colab": {
          "background_save": true
        },
        "id": "hUay_4XKanog"
      },
      "outputs": [],
      "source": [
        "y_test_5.value_counts()"
      ]
    },
    {
      "cell_type": "code",
      "execution_count": null,
      "metadata": {
        "colab": {
          "background_save": true
        },
        "id": "lnhnzRkZ1olW"
      },
      "outputs": [],
      "source": [
        "154 / (939 + 154)"
      ]
    },
    {
      "cell_type": "markdown",
      "metadata": {
        "id": "yn6qk7bRmoqs"
      },
      "source": []
    },
    {
      "cell_type": "markdown",
      "metadata": {
        "id": "3aWGpAPY56Xl"
      },
      "source": [
        "#Modelowanie"
      ]
    },
    {
      "cell_type": "markdown",
      "metadata": {
        "id": "pDC5lmHm5AGa"
      },
      "source": [
        "Realtywnie największy wpływ przy każdym sprawdzeniu mają mają kolumny:\n",
        "\n",
        "*"
      ]
    },
    {
      "cell_type": "markdown",
      "metadata": {
        "id": "c_vDk19NXniH"
      },
      "source": [
        "## Baseline Random Forest Classifier - zestaw 1"
      ]
    },
    {
      "cell_type": "markdown",
      "metadata": {
        "id": "-3RN9U5Sb5qc"
      },
      "source": [
        "Komentarz do baseline"
      ]
    },
    {
      "cell_type": "code",
      "execution_count": null,
      "metadata": {
        "colab": {
          "background_save": true
        },
        "id": "GxnU6eQOcD2h"
      },
      "outputs": [],
      "source": [
        "X_test_data = X_test\n",
        "y_test_data = y_test"
      ]
    },
    {
      "cell_type": "code",
      "execution_count": null,
      "metadata": {
        "colab": {
          "background_save": true
        },
        "id": "nsmXI8aaUsL3"
      },
      "outputs": [],
      "source": [
        "sns.set(rc={\"figure.figsize\":(8, 6)})\n",
        "calculation_metrics(rfc_pipeline, 'Model 0 - Baseline RFC')"
      ]
    },
    {
      "cell_type": "code",
      "execution_count": null,
      "metadata": {
        "colab": {
          "background_save": true
        },
        "id": "YHzYXebJoPPd"
      },
      "outputs": [],
      "source": [
        "# # test\n",
        "\n",
        "# model_names = metrics_dataframe['Model']w\n",
        "# auc_scores = metrics_dataframe['AUC']\n",
        "\n",
        "# # Create a plot for AUC ROC\n",
        "# plt.figure(figsize=(10, 6))\n",
        "# for model_name, auc_score in zip(model_names, auc_scores):\n",
        "#     # You need to replace the following lines with the actual data and models\n",
        "#     fpr, tpr, thresholds = roc_curve(y_test_data, predictions_proba)  # Replace with actual data\n",
        "#     plt.plot(fpr, tpr, label=f'{model_name} (AUC = {auc_score:.2f})')\n",
        "\n",
        "# plt.plot([0, 1], [0, 1], 'k--')\n",
        "# plt.xlabel('False Positive Rate')\n",
        "# plt.ylabel('True Positive Rate')\n",
        "# plt.title('ROC Curve')\n",
        "# plt.legend()\n",
        "# plt.show()"
      ]
    },
    {
      "cell_type": "code",
      "execution_count": null,
      "metadata": {
        "colab": {
          "background_save": true
        },
        "id": "OHFEYyCbkvRC"
      },
      "outputs": [],
      "source": [
        "# stop"
      ]
    },
    {
      "cell_type": "markdown",
      "metadata": {
        "id": "h9nsS87rb9MA"
      },
      "source": [
        "## Model 1 - Logistic Regression zestaw danych 1"
      ]
    },
    {
      "cell_type": "markdown",
      "metadata": {
        "id": "RLHj05V5coFq"
      },
      "source": [
        "\n",
        "* z użyciem zestawu danych nr 1 wraz SMOTE (oversampling danych - przeciwdziałanie niezbalansowaniu - widoczny słabe wyniki prognozy w mniej licznej klasie) - dodanie również StandardScaler() - celem jest sprawdzenie feature importance dla wskaźników finansowych\n"
      ]
    },
    {
      "cell_type": "code",
      "execution_count": null,
      "metadata": {
        "colab": {
          "background_save": true
        },
        "id": "fWbHG7oeb8DG"
      },
      "outputs": [],
      "source": [
        "categorical_transformer = Pipeline_imb(steps=[\n",
        "    ('ohe', preprocessing.OneHotEncoder())\n",
        "])\n",
        "\n",
        "ordinal_transformer = Pipeline_imb(steps=[\n",
        "    ('label_encoder', LabelEncoderTransformer())\n",
        "])\n",
        "\n",
        "numeric_transformer = Pipeline_imb(steps=[\n",
        "    ('scaler', StandardScaler())\n",
        "])\n",
        "\n",
        "preprocessor = ColumnTransformer(\n",
        "    transformers=[\n",
        "        ('categorical_transformer', categorical_transformer, cat_feat),\n",
        "        ('ordinal_transformer', ordinal_transformer, ord_feat),\n",
        "        ('numeric_transformer', numeric_transformer, num_feat)\n",
        "    ]\n",
        ")\n",
        "\n",
        "lr_pipeline = Pipeline_imb(steps=[('preprocessor', preprocessor),\n",
        "                              ('smote', SMOTE(random_state=seed)),\n",
        "                              ('lr_model', LogisticRegression(random_state=seed))])"
      ]
    },
    {
      "cell_type": "code",
      "execution_count": null,
      "metadata": {
        "colab": {
          "background_save": true
        },
        "id": "4OuyTJ58jwfn"
      },
      "outputs": [],
      "source": [
        "lr_param_grid = {\n",
        "    'smote__sampling_strategy': [0.3],\n",
        "    'smote__k_neighbors': [4],\n",
        "    'lr_model__C': [ 0.01],\n",
        "    'lr_model__penalty': ['l2'],\n",
        "    'lr_model__max_iter': [15],\n",
        "}"
      ]
    },
    {
      "cell_type": "code",
      "execution_count": null,
      "metadata": {
        "colab": {
          "background_save": true
        },
        "id": "ABACxCR0hZDx"
      },
      "outputs": [],
      "source": [
        "lr_model_gridsearch = HalvingGridSearchCV(estimator = lr_pipeline,\n",
        "                                       param_grid = lr_param_grid,\n",
        "                                       scoring='f1_weighted',\n",
        "                                      #  error_score='raise',\n",
        "                                       cv=10,\n",
        "                                       verbose=1,\n",
        "                                       n_jobs=-1,\n",
        "                                       random_state=seed,\n",
        "                                       refit=True)\n",
        "\n",
        "lr_model_gridsearch.fit(X_train, y_train)"
      ]
    },
    {
      "cell_type": "code",
      "execution_count": null,
      "metadata": {
        "colab": {
          "background_save": true
        },
        "id": "pEb2In24Clg0"
      },
      "outputs": [],
      "source": [
        "print('\\nBest hyperparameter:', lr_model_gridsearch.best_params_)"
      ]
    },
    {
      "cell_type": "code",
      "execution_count": null,
      "metadata": {
        "colab": {
          "background_save": true
        },
        "id": "4uAXJJ6_NKGG"
      },
      "outputs": [],
      "source": [
        "lr_model = lr_model_gridsearch.best_estimator_"
      ]
    },
    {
      "cell_type": "code",
      "execution_count": null,
      "metadata": {
        "colab": {
          "background_save": true
        },
        "id": "XcZmw88KKzCb"
      },
      "outputs": [],
      "source": [
        "X_test_data = X_test\n",
        "y_test_data = y_test"
      ]
    },
    {
      "cell_type": "code",
      "execution_count": null,
      "metadata": {
        "colab": {
          "background_save": true
        },
        "id": "gauYETgAB9M_"
      },
      "outputs": [],
      "source": [
        "sns.set(rc={\"figure.figsize\":(10, 5)})\n",
        "calculation_metrics(lr_model, 'Model 1 - Logistic Regression - dataset 1')"
      ]
    },
    {
      "cell_type": "code",
      "execution_count": null,
      "metadata": {
        "colab": {
          "background_save": true
        },
        "id": "daxkszgqbHNS"
      },
      "outputs": [],
      "source": [
        "# stop"
      ]
    },
    {
      "cell_type": "markdown",
      "metadata": {
        "id": "gn_eTKAmeZQU"
      },
      "source": [
        "### Sprawdzenie istotności cech na bazie Regresji Logistycznej - zestaw 1"
      ]
    },
    {
      "cell_type": "code",
      "execution_count": null,
      "metadata": {
        "colab": {
          "background_save": true
        },
        "id": "EawWqcdFV60Z"
      },
      "outputs": [],
      "source": [
        "training_features = list(model_columns)\n",
        "training_features.remove('y_numeric')"
      ]
    },
    {
      "cell_type": "code",
      "execution_count": null,
      "metadata": {
        "colab": {
          "background_save": true
        },
        "id": "dYe6kSa9W4s2"
      },
      "outputs": [],
      "source": [
        "training_features"
      ]
    },
    {
      "cell_type": "code",
      "execution_count": null,
      "metadata": {
        "colab": {
          "background_save": true
        },
        "id": "6EAnia1z33HQ"
      },
      "outputs": [],
      "source": [
        "calculate_and_print_feature_importance(lr_model, training_features)"
      ]
    },
    {
      "cell_type": "code",
      "execution_count": null,
      "metadata": {
        "colab": {
          "background_save": true
        },
        "id": "gz49O-O819WN"
      },
      "outputs": [],
      "source": [
        "# stop"
      ]
    },
    {
      "cell_type": "markdown",
      "metadata": {
        "id": "dZgrCWb5lLlv"
      },
      "source": [
        "## Model 1_b Logistic Regression zestaw 1 - bez SMOTE dla porównania"
      ]
    },
    {
      "cell_type": "code",
      "execution_count": null,
      "metadata": {
        "colab": {
          "background_save": true
        },
        "id": "aGbtxcDyllfz"
      },
      "outputs": [],
      "source": [
        "categorical_transformer = Pipeline_imb(steps=[\n",
        "    ('ohe', preprocessing.OneHotEncoder())\n",
        "])\n",
        "\n",
        "ordinal_transformer = Pipeline_imb(steps=[\n",
        "    ('label_encoder', LabelEncoderTransformer())\n",
        "])\n",
        "\n",
        "numeric_transformer = Pipeline_imb(steps=[\n",
        "    ('scaler', StandardScaler())\n",
        "])\n",
        "\n",
        "preprocessor = ColumnTransformer(\n",
        "    transformers=[\n",
        "        ('categorical_transformer', categorical_transformer, cat_feat),\n",
        "        ('ordinal_transformer', ordinal_transformer, ord_feat),\n",
        "        ('numeric_transformer', numeric_transformer, num_feat)\n",
        "    ]\n",
        ")\n",
        "\n",
        "lr_pipeline_1a = Pipeline_imb(steps=[('preprocessor', preprocessor),\n",
        "                              ('lr_model', LogisticRegression(random_state=seed))])"
      ]
    },
    {
      "cell_type": "code",
      "execution_count": null,
      "metadata": {
        "colab": {
          "background_save": true
        },
        "id": "Lh1Qc6zclnnO"
      },
      "outputs": [],
      "source": [
        "lr_param_grid_1a = {\n",
        "    'lr_model__C': [0.001, 0.01, 0.1],\n",
        "    'lr_model__penalty': ['l1', 'l2', 'none'],\n",
        "    'lr_model__max_iter': [15, 25, 50],\n",
        "}"
      ]
    },
    {
      "cell_type": "code",
      "execution_count": null,
      "metadata": {
        "colab": {
          "background_save": true
        },
        "id": "PvDEzBRslspR"
      },
      "outputs": [],
      "source": [
        "lr_model_gridsearch_1a = HalvingGridSearchCV(estimator = lr_pipeline_1a,\n",
        "                                       param_grid = lr_param_grid_1a,\n",
        "                                       scoring='f1_weighted',\n",
        "                                      #  error_score='raise',\n",
        "                                       cv=10,\n",
        "                                       verbose=1,\n",
        "                                       n_jobs=-1,\n",
        "                                       random_state=seed,\n",
        "                                       refit=True)\n",
        "\n",
        "lr_model_gridsearch_1a.fit(X_train, y_train)"
      ]
    },
    {
      "cell_type": "code",
      "execution_count": null,
      "metadata": {
        "colab": {
          "background_save": true
        },
        "id": "gKO2fZQ2lz-6"
      },
      "outputs": [],
      "source": [
        "print('\\nBest hyperparameter:', lr_model_gridsearch_1a.best_params_)"
      ]
    },
    {
      "cell_type": "code",
      "execution_count": null,
      "metadata": {
        "colab": {
          "background_save": true
        },
        "id": "e1__VIahl1sh"
      },
      "outputs": [],
      "source": [
        "lr_model_1a = lr_model_gridsearch_1a.best_estimator_"
      ]
    },
    {
      "cell_type": "code",
      "execution_count": null,
      "metadata": {
        "colab": {
          "background_save": true
        },
        "id": "Jlq_3uFpl278"
      },
      "outputs": [],
      "source": [
        "X_test_data = X_test\n",
        "y_test_data = y_test"
      ]
    },
    {
      "cell_type": "code",
      "execution_count": null,
      "metadata": {
        "colab": {
          "background_save": true
        },
        "id": "GN4h8Dxel4Zq"
      },
      "outputs": [],
      "source": [
        "sns.set(rc={\"figure.figsize\":(10, 5)})\n",
        "calculation_metrics(lr_model_1a, 'Model 1_A - Logistic Regression - dataset 1')"
      ]
    },
    {
      "cell_type": "markdown",
      "metadata": {
        "id": "L05oEelMmyW9"
      },
      "source": [
        "Widać, że predykcja jest o wiele słabsza dla mniejszej klasy w 'y_numeric' bez użycia SMOTE"
      ]
    },
    {
      "cell_type": "markdown",
      "metadata": {
        "id": "7P5cyL7HDA1B"
      },
      "source": []
    },
    {
      "cell_type": "code",
      "execution_count": null,
      "metadata": {
        "colab": {
          "background_save": true
        },
        "id": "fXQ6qLjkbJst"
      },
      "outputs": [],
      "source": [
        "# Model 2 - Logistic Regression zestaw 2\n",
        "\n",
        "# * z kolumną year oraz wybranym najważniejszym"
      ]
    },
    {
      "cell_type": "markdown",
      "metadata": {
        "id": "W6Amv5avZp8T"
      },
      "source": []
    },
    {
      "cell_type": "markdown",
      "metadata": {
        "id": "haCPhw4W0JaI"
      },
      "source": [
        "## Model 2 - Logistic Regression zestaw danych 2"
      ]
    },
    {
      "cell_type": "code",
      "execution_count": null,
      "metadata": {
        "colab": {
          "background_save": true
        },
        "id": "B11EbW6uPpw1"
      },
      "outputs": [],
      "source": [
        "categorical_transformer = Pipeline_imb(steps=[\n",
        "    ('ohe', preprocessing.OneHotEncoder())\n",
        "])\n",
        "\n",
        "ordinal_transformer = Pipeline_imb(steps=[\n",
        "    ('label_encoder', LabelEncoderTransformer())\n",
        "])\n",
        "\n",
        "numeric_transformer = Pipeline_imb(steps=[\n",
        "    ('scaler', StandardScaler())\n",
        "])\n",
        "\n",
        "preprocessor = ColumnTransformer(\n",
        "    transformers=[\n",
        "        ('categorical_transformer', categorical_transformer, cat_feat_2),\n",
        "        ('ordinal_transformer', ordinal_transformer, ord_feat_2),\n",
        "        ('numeric_transformer', numeric_transformer, num_feat_2)\n",
        "    ]\n",
        ")\n",
        "\n",
        "lr_pipeline_2 = Pipeline_imb(steps=[('preprocessor', preprocessor),\n",
        "                              ('smote', SMOTE(random_state=seed)),\n",
        "                              ('lr_model_2', LogisticRegression(random_state=seed))])"
      ]
    },
    {
      "cell_type": "code",
      "execution_count": null,
      "metadata": {
        "colab": {
          "background_save": true
        },
        "id": "qutfbWoRSRiY"
      },
      "outputs": [],
      "source": [
        "lr_param_grid_2 = {\n",
        "    'smote__sampling_strategy': [0.3,],\n",
        "    'smote__k_neighbors': [4],\n",
        "    'lr_model_2__C': [ 0.01,],\n",
        "    'lr_model_2__penalty': ['l2'],\n",
        "    'lr_model_2__max_iter': [15,],\n",
        "}"
      ]
    },
    {
      "cell_type": "code",
      "execution_count": null,
      "metadata": {
        "colab": {
          "background_save": true
        },
        "id": "3IOEkBcnROgH"
      },
      "outputs": [],
      "source": [
        "lr_model_2_gridsearch = HalvingGridSearchCV(estimator = lr_pipeline_2,\n",
        "                                       param_grid = lr_param_grid_2,\n",
        "                                       scoring='f1_weighted',\n",
        "                                       cv=10,\n",
        "                                       verbose=1,\n",
        "                                       n_jobs=-1,\n",
        "                                       random_state=seed,\n",
        "                                       refit=True)\n",
        "\n",
        "lr_model_2_gridsearch.fit(X_train_2, y_train_2)"
      ]
    },
    {
      "cell_type": "code",
      "execution_count": null,
      "metadata": {
        "colab": {
          "background_save": true
        },
        "id": "NBuvKCtETKmY"
      },
      "outputs": [],
      "source": [
        "print('\\nBest hyperparameter:', lr_model_2_gridsearch.best_params_)"
      ]
    },
    {
      "cell_type": "code",
      "execution_count": null,
      "metadata": {
        "colab": {
          "background_save": true
        },
        "id": "28--QekhTOiP"
      },
      "outputs": [],
      "source": [
        "lr_model_2 = lr_model_2_gridsearch.best_estimator_"
      ]
    },
    {
      "cell_type": "code",
      "execution_count": null,
      "metadata": {
        "colab": {
          "background_save": true
        },
        "id": "UZArDeegiVYl"
      },
      "outputs": [],
      "source": []
    },
    {
      "cell_type": "code",
      "execution_count": null,
      "metadata": {
        "colab": {
          "background_save": true
        },
        "id": "eCyXvOfGWuAc"
      },
      "outputs": [],
      "source": [
        "X_test_data = X_test_2\n",
        "y_test_data = y_test_2"
      ]
    },
    {
      "cell_type": "code",
      "execution_count": null,
      "metadata": {
        "colab": {
          "background_save": true
        },
        "id": "KVDh1P6PTQz_"
      },
      "outputs": [],
      "source": [
        "sns.set(rc={\"figure.figsize\":(10, 5)})\n",
        "calculation_metrics(lr_model_2, 'Model 2 - Logistic Regression - dataset 2')"
      ]
    },
    {
      "cell_type": "markdown",
      "metadata": {
        "id": "1bS6Jyr9b8yq"
      },
      "source": [
        "### Istotność cech Logistic Regression zestaw danych 2"
      ]
    },
    {
      "cell_type": "code",
      "execution_count": null,
      "metadata": {
        "colab": {
          "background_save": true
        },
        "id": "Q0qtu7hhcerK"
      },
      "outputs": [],
      "source": [
        "training_features_2 = list(model_columns_2)\n",
        "training_features_2.remove('y_numeric')\n",
        "training_features_2"
      ]
    },
    {
      "cell_type": "code",
      "execution_count": null,
      "metadata": {
        "colab": {
          "background_save": true
        },
        "id": "z7k-WvJQZcNI"
      },
      "outputs": [],
      "source": [
        "calculate_and_print_feature_importance(lr_model_2, training_features_2)"
      ]
    },
    {
      "cell_type": "code",
      "execution_count": null,
      "metadata": {
        "colab": {
          "background_save": true
        },
        "id": "H4VGQW2HBLcV"
      },
      "outputs": [],
      "source": [
        "# stop"
      ]
    },
    {
      "cell_type": "markdown",
      "metadata": {
        "id": "uSBKcd70XAtS"
      },
      "source": [
        "## Model 3 - Logistic Regression zestaw danych 3"
      ]
    },
    {
      "cell_type": "code",
      "execution_count": null,
      "metadata": {
        "colab": {
          "background_save": true
        },
        "id": "BpBMj_AoXAtj"
      },
      "outputs": [],
      "source": [
        "categorical_transformer = Pipeline_imb(steps=[\n",
        "    ('ohe', preprocessing.OneHotEncoder())\n",
        "])\n",
        "\n",
        "ordinal_transformer = Pipeline_imb(steps=[\n",
        "    ('label_encoder', LabelEncoderTransformer())\n",
        "])\n",
        "\n",
        "numeric_transformer = Pipeline_imb(steps=[\n",
        "    ('scaler', StandardScaler())\n",
        "])\n",
        "\n",
        "preprocessor = ColumnTransformer(\n",
        "    transformers=[\n",
        "        ('categorical_transformer', categorical_transformer, cat_feat_3),\n",
        "        ('ordinal_transformer', ordinal_transformer, ord_feat_3),\n",
        "        ('numeric_transformer', numeric_transformer, num_feat_3)\n",
        "    ]\n",
        ")\n",
        "\n",
        "lr_pipeline_3 = Pipeline_imb(steps=[('preprocessor', preprocessor),\n",
        "                              ('smote', SMOTE(random_state=seed)),\n",
        "                              ('lr_model_3', LogisticRegression(random_state=seed))])"
      ]
    },
    {
      "cell_type": "code",
      "execution_count": null,
      "metadata": {
        "colab": {
          "background_save": true
        },
        "id": "Uy3IKjhWXAtk"
      },
      "outputs": [],
      "source": [
        "lr_param_grid_3 = {\n",
        "    'smote__sampling_strategy': [0.8],\n",
        "    'smote__k_neighbors': [5],\n",
        "    # 'lr_model__solver': ['liblinear', 'lbfgs', 'newton-cholesky'], wynik był lepszy w wersji z automatycznym 'lbfgs'\n",
        "    'lr_model_3__C': [0.01],\n",
        "    'lr_model_3__penalty': [ 'l2'],\n",
        "    'lr_model_3__max_iter': [15],\n",
        "}"
      ]
    },
    {
      "cell_type": "code",
      "execution_count": null,
      "metadata": {
        "colab": {
          "background_save": true
        },
        "id": "ijLz7xZxXAtk"
      },
      "outputs": [],
      "source": [
        "lr_model_3_gridsearch = HalvingGridSearchCV(estimator = lr_pipeline_3,\n",
        "                                       param_grid = lr_param_grid_3,\n",
        "                                       scoring='f1_weighted',\n",
        "                                       cv=10,\n",
        "                                       verbose=1,\n",
        "                                       n_jobs=-1,\n",
        "                                       random_state=seed,\n",
        "                                       refit=True)\n",
        "\n",
        "lr_model_3_gridsearch.fit(X_train_3, y_train_3)"
      ]
    },
    {
      "cell_type": "code",
      "execution_count": null,
      "metadata": {
        "colab": {
          "background_save": true
        },
        "id": "37tnstoDXAtk"
      },
      "outputs": [],
      "source": [
        "print('\\nBest hyperparameter:', lr_model_3_gridsearch.best_params_)"
      ]
    },
    {
      "cell_type": "code",
      "execution_count": null,
      "metadata": {
        "colab": {
          "background_save": true
        },
        "id": "H5SjhxH2XAtk"
      },
      "outputs": [],
      "source": [
        "lr_model_3 = lr_model_3_gridsearch.best_estimator_"
      ]
    },
    {
      "cell_type": "code",
      "execution_count": null,
      "metadata": {
        "colab": {
          "background_save": true
        },
        "id": "Hg5oSyi0bWn1"
      },
      "outputs": [],
      "source": [
        "# X_test_data\n",
        "# y_test_data"
      ]
    },
    {
      "cell_type": "code",
      "execution_count": null,
      "metadata": {
        "colab": {
          "background_save": true
        },
        "id": "ST4wUhT5XAtk"
      },
      "outputs": [],
      "source": [
        "X_test_data = X_test_3\n",
        "y_test_data = y_test_3"
      ]
    },
    {
      "cell_type": "code",
      "execution_count": null,
      "metadata": {
        "colab": {
          "background_save": true
        },
        "id": "552M0DaJXAtk"
      },
      "outputs": [],
      "source": [
        "sns.set(rc={\"figure.figsize\":(10, 5)})\n",
        "calculation_metrics(lr_model_3, 'Model 3 - Logistic Regression - dataset 3')"
      ]
    },
    {
      "cell_type": "code",
      "execution_count": null,
      "metadata": {
        "colab": {
          "background_save": true
        },
        "id": "UVgyLZSmXAtk"
      },
      "outputs": [],
      "source": [
        "# stop"
      ]
    },
    {
      "cell_type": "markdown",
      "metadata": {
        "id": "KbwtVKuKXAtl"
      },
      "source": [
        "### Istotność cech Logistic Regression zestaw 3"
      ]
    },
    {
      "cell_type": "code",
      "execution_count": null,
      "metadata": {
        "colab": {
          "background_save": true
        },
        "id": "beZv4oH_XAtl"
      },
      "outputs": [],
      "source": [
        "training_features_3 = list(model_columns_3)\n",
        "training_features_3.remove('y_numeric')\n",
        "training_features_3"
      ]
    },
    {
      "cell_type": "code",
      "execution_count": null,
      "metadata": {
        "colab": {
          "background_save": true
        },
        "id": "TPZJaxlQ2sxR"
      },
      "outputs": [],
      "source": [
        "calculate_and_print_feature_importance(lr_model_3, training_features_3)"
      ]
    },
    {
      "cell_type": "markdown",
      "metadata": {
        "id": "604WLPRan7xF"
      },
      "source": [
        "## Model 4 - Support Vector Machines() - zestaw 1"
      ]
    },
    {
      "cell_type": "code",
      "execution_count": null,
      "metadata": {
        "colab": {
          "background_save": true
        },
        "id": "ofRbeIfeBmNq"
      },
      "outputs": [],
      "source": [
        "data.head()"
      ]
    },
    {
      "cell_type": "code",
      "execution_count": null,
      "metadata": {
        "colab": {
          "background_save": true
        },
        "id": "llLEWp5XoDXj"
      },
      "outputs": [],
      "source": [
        "categorical_transformer = Pipeline_imb(steps=[\n",
        "    ('ohe', preprocessing.OneHotEncoder())\n",
        "])\n",
        "\n",
        "ordinal_transformer = Pipeline_imb(steps=[\n",
        "    ('label_encoder', LabelEncoderTransformer())\n",
        "])\n",
        "\n",
        "numeric_transformer = Pipeline_imb(steps=[\n",
        "    ('scaler', StandardScaler())\n",
        "])\n",
        "\n",
        "svm_pipeline = Pipeline_imb([\n",
        "    ('preprocessor', ColumnTransformer(transformers=[\n",
        "        ('categorical_transformer', categorical_transformer, cat_feat),\n",
        "        ('ordinal_transformer', ordinal_transformer, ord_feat),\n",
        "        ('numeric_transformer', numeric_transformer, num_feat)\n",
        "    ])),\n",
        "    ('smote', SMOTE(random_state=seed)),\n",
        "    ('svm_model', svm.SVC(probability=True))\n",
        "])\n",
        "\n"
      ]
    },
    {
      "cell_type": "code",
      "execution_count": null,
      "metadata": {
        "colab": {
          "background_save": true
        },
        "id": "KfHs1qB3p6v4"
      },
      "outputs": [],
      "source": [
        "svm_param_grid = {\n",
        "    'smote__sampling_strategy': [0.8],\n",
        "    'smote__k_neighbors': [5],\n",
        "    'svm_model__C': [0.1],\n",
        "    'svm_model__kernel': ['rbf'],\n",
        "    'svm_model__gamma':  [0.01]\n",
        "}"
      ]
    },
    {
      "cell_type": "code",
      "execution_count": null,
      "metadata": {
        "colab": {
          "background_save": true
        },
        "id": "zDB36y2rswSl"
      },
      "outputs": [],
      "source": [
        "# dobrane hiperamametry dla svm\n",
        "\n",
        "# svm_param_grid = {\n",
        "#     'smote__sampling_strategy': [0.8],\n",
        "#     'smote__k_neighbors': [5],\n",
        "#     'svm_model__C': [0.01, 0.1, 1, 10],\n",
        "#     'svm_model__kernel': ['linear', 'rbf', 'poly'],\n",
        "#     'svm_model__gamma': ['scale', 'auto', 0.001, 0.01, 0.1, 1]\n",
        "# }"
      ]
    },
    {
      "cell_type": "code",
      "execution_count": null,
      "metadata": {
        "colab": {
          "background_save": true
        },
        "id": "thLc3PE-p6IG"
      },
      "outputs": [],
      "source": [
        "svm_search = HalvingGridSearchCV(svm_pipeline,\n",
        "                                 svm_param_grid,\n",
        "                                 scoring='precision',\n",
        "                                 cv=10,\n",
        "                                 verbose=1,\n",
        "                                 n_jobs=-1,\n",
        "                                 random_state=seed)\n",
        "\n",
        "svm_search.fit(X_train, y_train)"
      ]
    },
    {
      "cell_type": "code",
      "execution_count": null,
      "metadata": {
        "colab": {
          "background_save": true
        },
        "id": "JzNfe9XUoG-0"
      },
      "outputs": [],
      "source": [
        "print('\\nBest hyperparameter:', svm_search.best_params_)"
      ]
    },
    {
      "cell_type": "code",
      "execution_count": null,
      "metadata": {
        "colab": {
          "background_save": true
        },
        "id": "RqECJ6IstLNH"
      },
      "outputs": [],
      "source": [
        "svm_model = svm_search.best_estimator_"
      ]
    },
    {
      "cell_type": "code",
      "execution_count": null,
      "metadata": {
        "colab": {
          "background_save": true
        },
        "id": "BHulRGwKtW2B"
      },
      "outputs": [],
      "source": [
        "X_test_data = X_test\n",
        "y_test_data = y_test"
      ]
    },
    {
      "cell_type": "code",
      "execution_count": null,
      "metadata": {
        "colab": {
          "background_save": true
        },
        "id": "1n7Duyx_tYgj"
      },
      "outputs": [],
      "source": [
        "sns.set(rc={\"figure.figsize\":(10, 5)})\n",
        "calculation_metrics(svm_model, 'Model 4 - Support Vector Classiffier - dataset 1')"
      ]
    },
    {
      "cell_type": "code",
      "execution_count": null,
      "metadata": {
        "colab": {
          "background_save": true
        },
        "id": "HOg9rjVKbkpp"
      },
      "outputs": [],
      "source": [
        "feature_importance = calculate_and_print_feature_importance_2(svm_model, X_test, y_test)\n",
        "print(feature_importance)"
      ]
    },
    {
      "cell_type": "code",
      "execution_count": null,
      "metadata": {
        "colab": {
          "background_save": true
        },
        "id": "SjoJ9yGsYPZU"
      },
      "outputs": [],
      "source": [
        "# stop"
      ]
    },
    {
      "cell_type": "markdown",
      "metadata": {
        "id": "n3dWTRXteaeX"
      },
      "source": [
        "## Model 5 - Support Vector Machines() - zestaw 2"
      ]
    },
    {
      "cell_type": "code",
      "execution_count": null,
      "metadata": {
        "colab": {
          "background_save": true
        },
        "id": "PmvBLE0ABu0v"
      },
      "outputs": [],
      "source": [
        "data_2.head()"
      ]
    },
    {
      "cell_type": "code",
      "execution_count": null,
      "metadata": {
        "colab": {
          "background_save": true
        },
        "id": "19euAqOLfS_o"
      },
      "outputs": [],
      "source": [
        "categorical_transformer = Pipeline_imb(steps=[\n",
        "    ('ohe', preprocessing.OneHotEncoder())\n",
        "])\n",
        "\n",
        "ordinal_transformer = Pipeline_imb(steps=[\n",
        "    ('label_encoder', LabelEncoderTransformer())\n",
        "])\n",
        "\n",
        "numeric_transformer = Pipeline_imb(steps=[\n",
        "    ('scaler', StandardScaler())\n",
        "])\n",
        "\n",
        "svm_pipeline_2 = Pipeline_imb([\n",
        "    ('preprocessor', ColumnTransformer(transformers=[\n",
        "        ('categorical_transformer', categorical_transformer, cat_feat_2),\n",
        "        ('ordinal_transformer', ordinal_transformer, ord_feat_2),\n",
        "        ('numeric_transformer', numeric_transformer, num_feat_2)\n",
        "    ])),\n",
        "    ('smote', SMOTE(random_state=seed)),\n",
        "    ('svm_model_2', svm.SVC(probability=True))\n",
        "])"
      ]
    },
    {
      "cell_type": "code",
      "execution_count": null,
      "metadata": {
        "colab": {
          "background_save": true
        },
        "id": "9oBaYcdVfbis"
      },
      "outputs": [],
      "source": [
        "svm_param_grid_2 = {\n",
        "    'smote__sampling_strategy': [0.8],\n",
        "    'smote__k_neighbors': [5],\n",
        "    'svm_model_2__C': [0.1],\n",
        "    'svm_model_2__kernel': ['rbf'],\n",
        "    'svm_model_2__gamma':  [0.01]\n",
        "}"
      ]
    },
    {
      "cell_type": "code",
      "execution_count": null,
      "metadata": {
        "colab": {
          "background_save": true
        },
        "id": "2vC1o1XIffw7"
      },
      "outputs": [],
      "source": [
        "svm_search_2 = HalvingGridSearchCV(svm_pipeline_2,\n",
        "                                 svm_param_grid_2,\n",
        "                                 scoring='f1_weighted',\n",
        "                                 cv=10,\n",
        "                                 verbose=1,\n",
        "                                 n_jobs=-1,\n",
        "                                 random_state=seed)\n",
        "\n",
        "svm_search_2.fit(X_train_2, y_train_2)"
      ]
    },
    {
      "cell_type": "code",
      "execution_count": null,
      "metadata": {
        "colab": {
          "background_save": true
        },
        "id": "fUuRO57rfqKn"
      },
      "outputs": [],
      "source": [
        "print('\\nBest hyperparameter:', svm_search_2.best_params_)"
      ]
    },
    {
      "cell_type": "code",
      "execution_count": null,
      "metadata": {
        "colab": {
          "background_save": true
        },
        "id": "p6C5o7QrgBbI"
      },
      "outputs": [],
      "source": [
        "svm_model_2 = svm_search_2.best_estimator_"
      ]
    },
    {
      "cell_type": "code",
      "execution_count": null,
      "metadata": {
        "colab": {
          "background_save": true
        },
        "id": "KqHTVyp0gLy8"
      },
      "outputs": [],
      "source": [
        "X_test_data = X_test_2\n",
        "y_test_data = y_test_2"
      ]
    },
    {
      "cell_type": "code",
      "execution_count": null,
      "metadata": {
        "colab": {
          "background_save": true
        },
        "id": "3Q7ftwMlgWqF"
      },
      "outputs": [],
      "source": [
        "sns.set(rc={\"figure.figsize\":(10, 5)})\n",
        "calculation_metrics(svm_model_2, 'Model 5 - Support Vector Classiffier - dataset 2')"
      ]
    },
    {
      "cell_type": "code",
      "execution_count": null,
      "metadata": {
        "colab": {
          "background_save": true
        },
        "id": "i6KlP1V2iOQU"
      },
      "outputs": [],
      "source": [
        "feature_importance = calculate_and_print_feature_importance_2(svm_model_2, X_test_2, y_test_2)\n",
        "print(feature_importance)"
      ]
    },
    {
      "cell_type": "markdown",
      "metadata": {
        "id": "6B4MxVSLjfu4"
      },
      "source": [
        "## Model 6 - Support Vector Machines() - zestaw 3"
      ]
    },
    {
      "cell_type": "code",
      "execution_count": null,
      "metadata": {
        "colab": {
          "background_save": true
        },
        "id": "RmbP-TQ4B2rs"
      },
      "outputs": [],
      "source": [
        "data_3.head()"
      ]
    },
    {
      "cell_type": "code",
      "execution_count": null,
      "metadata": {
        "colab": {
          "background_save": true
        },
        "id": "C7CyB2HtiSCZ"
      },
      "outputs": [],
      "source": [
        "categorical_transformer = Pipeline_imb(steps=[\n",
        "    ('ohe', preprocessing.OneHotEncoder())\n",
        "])\n",
        "\n",
        "ordinal_transformer = Pipeline_imb(steps=[\n",
        "    ('label_encoder', LabelEncoderTransformer())\n",
        "])\n",
        "\n",
        "numeric_transformer = Pipeline_imb(steps=[\n",
        "    ('scaler', StandardScaler())\n",
        "])\n",
        "\n",
        "svm_pipeline_3 = Pipeline_imb([\n",
        "    ('preprocessor', ColumnTransformer(transformers=[\n",
        "        ('categorical_transformer', categorical_transformer, cat_feat_3),\n",
        "        ('ordinal_transformer', ordinal_transformer, ord_feat_3),\n",
        "        ('numeric_transformer', numeric_transformer, num_feat_3)\n",
        "    ])),\n",
        "    ('smote', SMOTE(random_state=seed)),\n",
        "    ('svm_model_3', svm.SVC(probability=True))\n",
        "])"
      ]
    },
    {
      "cell_type": "code",
      "execution_count": null,
      "metadata": {
        "colab": {
          "background_save": true
        },
        "id": "pR2JGsGajpEC"
      },
      "outputs": [],
      "source": [
        "svm_param_grid_3 = {\n",
        "    'smote__sampling_strategy': [0.8],\n",
        "    'smote__k_neighbors': [5],\n",
        "    'svm_model_3__C': [0.1],\n",
        "    'svm_model_3__kernel': ['rbf'],\n",
        "    'svm_model_3__gamma':  [0.01]\n",
        "}"
      ]
    },
    {
      "cell_type": "code",
      "execution_count": null,
      "metadata": {
        "colab": {
          "background_save": true
        },
        "id": "_3vxb-5DkLxn"
      },
      "outputs": [],
      "source": [
        "svm_search_3 = HalvingGridSearchCV(svm_pipeline_3,\n",
        "                                 svm_param_grid_3,\n",
        "                                 scoring='f1_weighted',\n",
        "                                 cv=10,\n",
        "                                 verbose=1,\n",
        "                                 n_jobs=-1,\n",
        "                                 random_state=seed)\n",
        "\n",
        "svm_search_3.fit(X_train_3, y_train_3)"
      ]
    },
    {
      "cell_type": "code",
      "execution_count": null,
      "metadata": {
        "colab": {
          "background_save": true
        },
        "id": "GBS7IY_2kVuE"
      },
      "outputs": [],
      "source": [
        "print('\\nBest hyperparameter:', svm_search_3.best_params_)"
      ]
    },
    {
      "cell_type": "code",
      "execution_count": null,
      "metadata": {
        "colab": {
          "background_save": true
        },
        "id": "UQdltmOnkZUQ"
      },
      "outputs": [],
      "source": [
        "svm_model_3 = svm_search_3.best_estimator_"
      ]
    },
    {
      "cell_type": "code",
      "execution_count": null,
      "metadata": {
        "colab": {
          "background_save": true
        },
        "id": "3IHhXKfdkdrx"
      },
      "outputs": [],
      "source": [
        "X_test_data = X_test_3\n",
        "y_test_data = y_test_3"
      ]
    },
    {
      "cell_type": "code",
      "execution_count": null,
      "metadata": {
        "colab": {
          "background_save": true
        },
        "id": "bvQcrEgXkheT"
      },
      "outputs": [],
      "source": [
        "sns.set(rc={\"figure.figsize\":(10, 5)})\n",
        "calculation_metrics(svm_model_3, 'Model 6 - Support Vector Classiffier - dataset 3')"
      ]
    },
    {
      "cell_type": "code",
      "execution_count": null,
      "metadata": {
        "colab": {
          "background_save": true
        },
        "id": "dPR74UKWl9Uj"
      },
      "outputs": [],
      "source": [
        "feature_importance = calculate_and_print_feature_importance_2(svm_model_3, X_test_3, y_test_3)\n",
        "print(feature_importance)"
      ]
    },
    {
      "cell_type": "markdown",
      "metadata": {
        "id": "hrYO8poPnR6E"
      },
      "source": [
        "## Model 7 - Support Vector Classifier - zestaw 4"
      ]
    },
    {
      "cell_type": "code",
      "execution_count": null,
      "metadata": {
        "colab": {
          "background_save": true
        },
        "id": "weM6Pu4xB58b"
      },
      "outputs": [],
      "source": [
        "data_4.head()"
      ]
    },
    {
      "cell_type": "code",
      "execution_count": null,
      "metadata": {
        "colab": {
          "background_save": true
        },
        "id": "9bE7wKRPnZwL"
      },
      "outputs": [],
      "source": [
        "categorical_transformer = Pipeline_imb(steps=[\n",
        "    ('ohe', preprocessing.OneHotEncoder())\n",
        "])\n",
        "\n",
        "ordinal_transformer = Pipeline_imb(steps=[\n",
        "    ('label_encoder', LabelEncoderTransformer())\n",
        "])\n",
        "\n",
        "numeric_transformer = Pipeline_imb(steps=[\n",
        "    ('scaler', StandardScaler())\n",
        "])\n",
        "\n",
        "svm_pipeline_4 = Pipeline_imb([\n",
        "    ('preprocessor', ColumnTransformer(transformers=[\n",
        "        ('categorical_transformer', categorical_transformer, cat_feat_4),\n",
        "        ('ordinal_transformer', ordinal_transformer, ord_feat_4),\n",
        "        ('numeric_transformer', numeric_transformer, num_feat_4)\n",
        "    ])),\n",
        "    ('smote', SMOTE(random_state=seed)),\n",
        "    ('svm_model_4', svm.SVC(probability=True))\n",
        "])\n",
        "\n",
        "svm_param_grid_4 = {\n",
        "    'smote__sampling_strategy': [0.8],\n",
        "    'smote__k_neighbors': [5],\n",
        "    'svm_model_4__C': [0.1],\n",
        "    'svm_model_4__kernel': ['rbf'],\n",
        "    'svm_model_4__gamma':  [0.01]\n",
        "}\n",
        "\n",
        "svm_search_4 = HalvingGridSearchCV(svm_pipeline_4,\n",
        "                                 svm_param_grid_4,\n",
        "                                 scoring='f1_weighted',\n",
        "                                 cv=10,\n",
        "                                 verbose=1,\n",
        "                                 n_jobs=-1,\n",
        "                                 random_state=seed)\n",
        "\n",
        "svm_search_4.fit(X_train_4, y_train_4)\n",
        "\n",
        "\n",
        "print('\\nBest hyperparameter:', svm_search_4.best_params_)\n",
        "\n",
        "svm_model_4 = svm_search_4.best_estimator_\n",
        "\n",
        "X_test_data = X_test_4\n",
        "y_test_data = y_test_4\n",
        "\n",
        "sns.set(rc={\"figure.figsize\":(10, 5)})\n",
        "calculation_metrics(svm_model_4, 'Model 7 - Support Vector Classiffier - dataset 4')"
      ]
    },
    {
      "cell_type": "code",
      "execution_count": null,
      "metadata": {
        "colab": {
          "background_save": true
        },
        "id": "06iXxceHqm5N"
      },
      "outputs": [],
      "source": [
        "feature_importance = calculate_and_print_feature_importance_2(svm_model_4, X_test_4, y_test_4)\n",
        "print(feature_importance)"
      ]
    },
    {
      "cell_type": "markdown",
      "metadata": {
        "id": "fmEm2EF9taR6"
      },
      "source": [
        "## Model 8 - XGBoost() - zestaw 1"
      ]
    },
    {
      "cell_type": "code",
      "execution_count": null,
      "metadata": {
        "colab": {
          "background_save": true
        },
        "id": "qUYyKtapCFDl"
      },
      "outputs": [],
      "source": [
        "data.head()"
      ]
    },
    {
      "cell_type": "code",
      "execution_count": null,
      "metadata": {
        "colab": {
          "background_save": true
        },
        "id": "YWk0HBwktb5o"
      },
      "outputs": [],
      "source": [
        "categorical_transformer = Pipeline_imb(steps=[\n",
        "    ('ohe', preprocessing.OneHotEncoder())\n",
        "])\n",
        "\n",
        "ordinal_transformer = Pipeline_imb(steps=[\n",
        "    ('label_encoder', LabelEncoderTransformer())\n",
        "])\n",
        "\n",
        "numeric_transformer = Pipeline_imb(steps=[\n",
        "    ('scaler', StandardScaler())\n",
        "])\n",
        "\n",
        "xgb_pipeline = Pipeline_imb([\n",
        "    ('preprocessor', ColumnTransformer(transformers=[\n",
        "        ('categorical_transformer', categorical_transformer, cat_feat),\n",
        "        ('ordinal_transformer', ordinal_transformer, ord_feat),\n",
        "        ('numeric_transformer', numeric_transformer, num_feat)\n",
        "    ])),\n",
        "    ('smote', SMOTE(random_state=seed)),\n",
        "    ('xgb_model', XGBClassifier(verbosity=0))\n",
        "])\n",
        "\n",
        "xgb_param_grid = {\n",
        "    'smote__sampling_strategy': [0.8],\n",
        "    'smote__k_neighbors': [5],\n",
        "    'xgb_model__n_estimators': [100],  # You can adjust the number of estimators\n",
        "    'xgb_model__max_depth': [12],  # You can configure the max depth\n",
        "    'xgb_model__learning_rate': [0.01],  # You can configure the learning rate\n",
        "    'xgb_model__gamma': [0.01]\n",
        "}\n",
        "\n",
        "xgb_search = HalvingGridSearchCV(xgb_pipeline,\n",
        "                                 xgb_param_grid,\n",
        "                                 scoring='f1_weighted',\n",
        "                                 cv=10,\n",
        "                                 verbose=1,\n",
        "                                 n_jobs=-1,\n",
        "                                 random_state=seed)\n",
        "\n",
        "xgb_search.fit(X_train, y_train)\n",
        "\n",
        "print('\\nBest hyperparameters:', xgb_search.best_params_)\n",
        "\n",
        "xgb_model = xgb_search.best_estimator_\n",
        "\n",
        "X_test_data = X_test\n",
        "y_test_data = y_test\n",
        "\n",
        "sns.set(rc={\"figure.figsize\":(10, 5)})\n",
        "calculation_metrics(xgb_model, 'Model 8 - XGBoost() - dataset 1')"
      ]
    },
    {
      "cell_type": "code",
      "execution_count": null,
      "metadata": {
        "colab": {
          "background_save": true
        },
        "id": "nSvSpQUGuMPK"
      },
      "outputs": [],
      "source": [
        "feature_importance = calculate_and_print_feature_importance_2(xgb_model, X_test , y_test )\n",
        "print(feature_importance)"
      ]
    },
    {
      "cell_type": "markdown",
      "metadata": {
        "id": "v2aTN4lnu7Bg"
      },
      "source": [
        "## Model 9 - XGBoost() - zestaw 2"
      ]
    },
    {
      "cell_type": "code",
      "execution_count": null,
      "metadata": {
        "colab": {
          "background_save": true
        },
        "id": "EJfX3kj4u6WZ"
      },
      "outputs": [],
      "source": [
        "import xgboost as xgb\n",
        "from xgboost import XGBClassifier\n",
        "\n",
        "categorical_transformer = Pipeline_imb(steps=[\n",
        "    ('ohe', preprocessing.OneHotEncoder())\n",
        "])\n",
        "\n",
        "ordinal_transformer = Pipeline_imb(steps=[\n",
        "    ('label_encoder', LabelEncoderTransformer())\n",
        "])\n",
        "\n",
        "numeric_transformer = Pipeline_imb(steps=[\n",
        "    ('scaler', StandardScaler())\n",
        "])\n",
        "\n",
        "xgb_pipeline_2 = Pipeline_imb([\n",
        "    ('preprocessor', ColumnTransformer(transformers=[\n",
        "        ('categorical_transformer', categorical_transformer, cat_feat_2),\n",
        "        ('ordinal_transformer', ordinal_transformer, ord_feat_2),\n",
        "        ('numeric_transformer', numeric_transformer, num_feat_2)\n",
        "    ])),\n",
        "    ('smote', SMOTE(random_state=seed)),\n",
        "    ('xgb_model_2', XGBClassifier(verbosity=0))\n",
        "])\n",
        "\n",
        "xgb_param_grid_2 = {\n",
        "    'smote__sampling_strategy': [0.8],\n",
        "    'smote__k_neighbors': [5],\n",
        "    'xgb_model_2__n_estimators': [100],\n",
        "    'xgb_model_2__max_depth': [6],\n",
        "    'xgb_model_2__learning_rate': [0.01],\n",
        "    'xgb_model_2__gamma': [0.01]\n",
        "}\n",
        "\n",
        "xgb_search_2 = HalvingGridSearchCV(xgb_pipeline_2,\n",
        "                                 xgb_param_grid_2,\n",
        "                                 scoring='f1_weighted',\n",
        "                                 cv=10,\n",
        "                                 verbose=1,\n",
        "                                 n_jobs=-1,\n",
        "                                 random_state=seed)\n",
        "\n",
        "xgb_search_2.fit(X_train_2, y_train_2)\n",
        "\n",
        "print('\\nBest hyperparameters:', xgb_search_2.best_params_)\n",
        "\n",
        "xgb_model_2 = xgb_search_2.best_estimator_\n",
        "\n",
        "X_test_data = X_test_2\n",
        "y_test_data = y_test_2\n",
        "\n",
        "sns.set(rc={\"figure.figsize\":(10, 5)})\n",
        "calculation_metrics(xgb_model_2, 'Model 9 - XGBoost() - dataset 2')"
      ]
    },
    {
      "cell_type": "code",
      "execution_count": null,
      "metadata": {
        "colab": {
          "background_save": true
        },
        "id": "lsKgZCAkxhvy"
      },
      "outputs": [],
      "source": [
        "feature_importance = calculate_and_print_feature_importance_2(xgb_model_2, X_test_2 , y_test_2 )\n",
        "print(feature_importance)"
      ]
    },
    {
      "cell_type": "markdown",
      "metadata": {
        "id": "XOTZyTyKxGON"
      },
      "source": [
        "## Model 10 - XGBoost() - zestaw 3"
      ]
    },
    {
      "cell_type": "code",
      "execution_count": null,
      "metadata": {
        "colab": {
          "background_save": true
        },
        "id": "ONMFXJY2CrTX"
      },
      "outputs": [],
      "source": [
        "data_3.head()"
      ]
    },
    {
      "cell_type": "code",
      "execution_count": null,
      "metadata": {
        "colab": {
          "background_save": true
        },
        "id": "kS4xJmP8xFhQ"
      },
      "outputs": [],
      "source": [
        "categorical_transformer = Pipeline_imb(steps=[\n",
        "    ('ohe', preprocessing.OneHotEncoder())\n",
        "])\n",
        "\n",
        "ordinal_transformer = Pipeline_imb(steps=[\n",
        "    ('label_encoder', LabelEncoderTransformer())\n",
        "])\n",
        "\n",
        "numeric_transformer = Pipeline_imb(steps=[\n",
        "    ('scaler', StandardScaler())\n",
        "])\n",
        "\n",
        "xgb_pipeline_3 = Pipeline_imb([\n",
        "    ('preprocessor', ColumnTransformer(transformers=[\n",
        "        ('categorical_transformer', categorical_transformer, cat_feat_3),\n",
        "        ('ordinal_transformer', ordinal_transformer, ord_feat_3),\n",
        "        ('numeric_transformer', numeric_transformer, num_feat_3)\n",
        "    ])),\n",
        "    ('smote', SMOTE(random_state=seed)),\n",
        "    ('xgb_model_3', XGBClassifier(verbosity=0))\n",
        "])\n",
        "\n",
        "xgb_param_grid_3 = {\n",
        "    'smote__sampling_strategy': [0.8],\n",
        "    'smote__k_neighbors': [5],\n",
        "    'xgb_model_3__n_estimators': [100],\n",
        "    'xgb_model_3__max_depth': [6],\n",
        "    'xgb_model_3__learning_rate': [0.1],\n",
        "    'xgb_model_3__gamma': [0.01]\n",
        "}\n",
        "\n",
        "xgb_search_3 = HalvingGridSearchCV(xgb_pipeline_3,\n",
        "                                 xgb_param_grid_3,\n",
        "                                 scoring='f1_weighted',\n",
        "                                 cv=10,\n",
        "                                 verbose=1,\n",
        "                                 n_jobs=-1,\n",
        "                                 random_state=seed)\n",
        "\n",
        "xgb_search_3.fit(X_train_3, y_train_3)\n",
        "\n",
        "print('\\nBest hyperparameters:', xgb_search_3.best_params_)\n",
        "\n",
        "xgb_model_3 = xgb_search_3.best_estimator_\n",
        "\n",
        "X_test_data = X_test_3\n",
        "y_test_data = y_test_3\n",
        "\n",
        "sns.set(rc={\"figure.figsize\":(10, 5)})\n",
        "calculation_metrics(xgb_model_3, 'Model 10 - XGBoost() - dataset 3')"
      ]
    },
    {
      "cell_type": "code",
      "execution_count": null,
      "metadata": {
        "colab": {
          "background_save": true
        },
        "id": "wMIa8QFIxFml"
      },
      "outputs": [],
      "source": [
        "feature_importance = calculate_and_print_feature_importance_2(xgb_model_3, X_test_3 , y_test_3)\n",
        "print(feature_importance)"
      ]
    },
    {
      "cell_type": "markdown",
      "metadata": {
        "id": "07hw5oDL_auQ"
      },
      "source": [
        "## Model 11 - XGBoost() - zestaw  4"
      ]
    },
    {
      "cell_type": "code",
      "execution_count": null,
      "metadata": {
        "colab": {
          "background_save": true
        },
        "id": "0sVSTcEU_tsl"
      },
      "outputs": [],
      "source": [
        "categorical_transformer = Pipeline_imb(steps=[\n",
        "    ('ohe', preprocessing.OneHotEncoder())\n",
        "])\n",
        "\n",
        "ordinal_transformer = Pipeline_imb(steps=[\n",
        "    ('label_encoder', LabelEncoderTransformer())\n",
        "])\n",
        "\n",
        "numeric_transformer = Pipeline_imb(steps=[\n",
        "    ('scaler', StandardScaler())\n",
        "])\n",
        "\n",
        "xgb_pipeline_4 = Pipeline_imb([\n",
        "    ('preprocessor', ColumnTransformer(transformers=[\n",
        "        ('categorical_transformer', categorical_transformer, cat_feat_4),\n",
        "        ('ordinal_transformer', ordinal_transformer, ord_feat_4),\n",
        "        ('numeric_transformer', numeric_transformer, num_feat_4)\n",
        "    ])),\n",
        "    ('smote', SMOTE(random_state=seed)),\n",
        "    ('xgb_model_4', XGBClassifier(verbosity=0))\n",
        "])\n",
        "\n",
        "xgb_param_grid_4 = {\n",
        "    'smote__sampling_strategy': [0.8],\n",
        "    'smote__k_neighbors': [5],\n",
        "    'xgb_model_4__n_estimators': [100],\n",
        "    'xgb_model_4__max_depth': [6],\n",
        "    'xgb_model_4__learning_rate': [0.01],\n",
        "    'xgb_model_4__gamma': [0.01]\n",
        "}\n",
        "\n",
        "xgb_search_4 = HalvingGridSearchCV(xgb_pipeline_4,\n",
        "                                 xgb_param_grid_4,\n",
        "                                 scoring='f1_weighted',\n",
        "                                 cv=10,\n",
        "                                 verbose=1,\n",
        "                                 n_jobs=-1,\n",
        "                                 random_state=seed)\n",
        "\n",
        "xgb_search_4.fit(X_train_4, y_train_4)\n",
        "\n",
        "print('\\nBest hyperparameters:', xgb_search_4.best_params_)\n",
        "\n",
        "xgb_model_4 = xgb_search_4.best_estimator_\n",
        "\n",
        "X_test_data = X_test_4\n",
        "y_test_data = y_test_4\n",
        "\n",
        "sns.set(rc={\"figure.figsize\":(10, 5)})\n",
        "calculation_metrics(xgb_model_4, 'Model 11 - XGBoost() - dataset_4')"
      ]
    },
    {
      "cell_type": "code",
      "execution_count": null,
      "metadata": {
        "colab": {
          "background_save": true
        },
        "id": "zrtsSce9AS3d"
      },
      "outputs": [],
      "source": [
        "feature_importance = calculate_and_print_feature_importance_2(xgb_model_4, X_test_4 , y_test_4)\n",
        "print(feature_importance)"
      ]
    },
    {
      "cell_type": "markdown",
      "metadata": {
        "id": "vkJYHWcC2uG7"
      },
      "source": [
        "## Model 12 - Logistic Regression zestaw danych 5"
      ]
    },
    {
      "cell_type": "markdown",
      "metadata": {
        "id": "1W8B31_j2pmT"
      },
      "source": []
    },
    {
      "cell_type": "code",
      "execution_count": null,
      "metadata": {
        "colab": {
          "background_save": true
        },
        "id": "wNCu8UsP1zrM"
      },
      "outputs": [],
      "source": [
        "categorical_transformer = Pipeline_imb(steps=[\n",
        "    ('ohe', preprocessing.OneHotEncoder())\n",
        "])\n",
        "\n",
        "ordinal_transformer = Pipeline_imb(steps=[\n",
        "    ('label_encoder', LabelEncoderTransformer())\n",
        "])\n",
        "\n",
        "numeric_transformer = Pipeline_imb(steps=[\n",
        "    ('scaler', StandardScaler())\n",
        "])\n",
        "\n",
        "preprocessor = ColumnTransformer(\n",
        "    transformers=[\n",
        "        ('categorical_transformer', categorical_transformer, cat_feat_5),\n",
        "        ('ordinal_transformer', ordinal_transformer, ord_feat_5),\n",
        "        ('numeric_transformer', numeric_transformer, num_feat_5)\n",
        "    ]\n",
        ")\n",
        "\n",
        "lr_pipeline_5 = Pipeline_imb(steps=[('preprocessor', preprocessor),\n",
        "                              ('smote', SMOTE(random_state=seed)),\n",
        "                              ('lr_model_5', LogisticRegression(random_state=seed))])"
      ]
    },
    {
      "cell_type": "code",
      "execution_count": null,
      "metadata": {
        "colab": {
          "background_save": true
        },
        "id": "f3SGrXQe2FWm"
      },
      "outputs": [],
      "source": [
        "lr_param_grid_5 = {\n",
        "    'smote__sampling_strategy': [0.8],\n",
        "    'smote__k_neighbors': [5],\n",
        "    # 'lr_model__solver': ['liblinear', 'lbfgs', 'newton-cholesky'], wynik był lepszy w wersji z automatycznym 'lbfgs'\n",
        "    'lr_model_5__C': [0.01],\n",
        "    'lr_model_5__penalty': [ 'l2'],\n",
        "    'lr_model_5__max_iter': [15],\n",
        "}"
      ]
    },
    {
      "cell_type": "code",
      "execution_count": null,
      "metadata": {
        "colab": {
          "background_save": true
        },
        "id": "we3VZ_CL2J0T"
      },
      "outputs": [],
      "source": [
        "lr_model_5_gridsearch = HalvingGridSearchCV(estimator = lr_pipeline_5,\n",
        "                                       param_grid = lr_param_grid_5,\n",
        "                                       scoring='f1_weighted',\n",
        "                                       cv=10,\n",
        "                                       verbose=1,\n",
        "                                       n_jobs=-1,\n",
        "                                       random_state=seed,\n",
        "                                       refit=True)\n",
        "\n",
        "lr_model_5_gridsearch.fit(X_train_5, y_train_5)"
      ]
    },
    {
      "cell_type": "code",
      "execution_count": null,
      "metadata": {
        "colab": {
          "background_save": true
        },
        "id": "sZ90nRZ32xyp"
      },
      "outputs": [],
      "source": [
        "lr_model_5 = lr_model_5_gridsearch.best_estimator_"
      ]
    },
    {
      "cell_type": "code",
      "execution_count": null,
      "metadata": {
        "colab": {
          "background_save": true
        },
        "id": "4xS-pnZF2_Lv"
      },
      "outputs": [],
      "source": [
        "X_test_data = X_test_5\n",
        "y_test_data = y_test_5"
      ]
    },
    {
      "cell_type": "code",
      "execution_count": null,
      "metadata": {
        "colab": {
          "background_save": true
        },
        "id": "YB3IrGvD25Lm"
      },
      "outputs": [],
      "source": [
        "sns.set(rc={\"figure.figsize\":(10, 5)})\n",
        "calculation_metrics(lr_model_4, 'Model 12 - Logistic Regression - dataset 5')"
      ]
    },
    {
      "cell_type": "code",
      "execution_count": null,
      "metadata": {
        "colab": {
          "background_save": true
        },
        "id": "OT7CCBHy3CkJ"
      },
      "outputs": [],
      "source": []
    },
    {
      "cell_type": "markdown",
      "metadata": {
        "id": "Ie7bP6493DAV"
      },
      "source": [
        "## Model 13 - Support Vector Classifier - zestaw 5"
      ]
    },
    {
      "cell_type": "code",
      "execution_count": null,
      "metadata": {
        "colab": {
          "background_save": true
        },
        "id": "f0sYWK0H3TvO"
      },
      "outputs": [],
      "source": [
        "categorical_transformer = Pipeline_imb(steps=[\n",
        "    ('ohe', preprocessing.OneHotEncoder())\n",
        "])\n",
        "\n",
        "ordinal_transformer = Pipeline_imb(steps=[\n",
        "    ('label_encoder', LabelEncoderTransformer())\n",
        "])\n",
        "\n",
        "numeric_transformer = Pipeline_imb(steps=[\n",
        "    ('scaler', StandardScaler())\n",
        "])\n",
        "\n",
        "svm_pipeline_5 = Pipeline_imb([\n",
        "    ('preprocessor', ColumnTransformer(transformers=[\n",
        "        ('categorical_transformer', categorical_transformer, cat_feat_5),\n",
        "        ('ordinal_transformer', ordinal_transformer, ord_feat_5),\n",
        "        ('numeric_transformer', numeric_transformer, num_feat_5)\n",
        "    ])),\n",
        "    ('smote', SMOTE(random_state=seed)),\n",
        "    ('svm_model_5', svm.SVC(probability=True))\n",
        "])"
      ]
    },
    {
      "cell_type": "code",
      "execution_count": null,
      "metadata": {
        "colab": {
          "background_save": true
        },
        "id": "zeVGicGH3ZEE"
      },
      "outputs": [],
      "source": [
        "svm_param_grid_5 = {\n",
        "    'smote__sampling_strategy': [0.8],\n",
        "    'smote__k_neighbors': [5],\n",
        "    'svm_model_5__C': [0.1],\n",
        "    'svm_model_5__kernel': ['rbf'],\n",
        "    'svm_model_5__gamma':  [0.01]\n",
        "}"
      ]
    },
    {
      "cell_type": "code",
      "execution_count": null,
      "metadata": {
        "colab": {
          "background_save": true
        },
        "id": "qDee4Uql3T8m"
      },
      "outputs": [],
      "source": [
        "svm_search_5 = HalvingGridSearchCV(svm_pipeline_5,\n",
        "                                 svm_param_grid_5,\n",
        "                                 scoring='f1_weighted',\n",
        "                                 cv=10,\n",
        "                                 verbose=1,\n",
        "                                 n_jobs=-1,\n",
        "                                 random_state=seed)\n",
        "\n",
        "svm_search_5.fit(X_train_5, y_train_5)"
      ]
    },
    {
      "cell_type": "code",
      "execution_count": null,
      "metadata": {
        "colab": {
          "background_save": true
        },
        "id": "y50VsiAx3T_b"
      },
      "outputs": [],
      "source": [
        "print('\\nBest hyperparameter:', svm_search_5.best_params_)\n"
      ]
    },
    {
      "cell_type": "code",
      "execution_count": null,
      "metadata": {
        "colab": {
          "background_save": true
        },
        "id": "yrdFxqDr3UCF"
      },
      "outputs": [],
      "source": [
        "svm_model_5 = svm_search_5.best_estimator_"
      ]
    },
    {
      "cell_type": "code",
      "execution_count": null,
      "metadata": {
        "colab": {
          "background_save": true
        },
        "id": "-hsymeFD3fwk"
      },
      "outputs": [],
      "source": [
        "X_test_data = X_test_5\n",
        "y_test_data = y_test_5"
      ]
    },
    {
      "cell_type": "code",
      "execution_count": null,
      "metadata": {
        "colab": {
          "background_save": true
        },
        "id": "cVJ-AqTP3UFA"
      },
      "outputs": [],
      "source": [
        "sns.set(rc={\"figure.figsize\":(10, 5)})\n",
        "calculation_metrics(svm_model_5, 'Model 13 - Support Vector Classiffier - dataset 5')"
      ]
    },
    {
      "cell_type": "markdown",
      "metadata": {
        "id": "vspYJ-m74iNQ"
      },
      "source": []
    },
    {
      "cell_type": "code",
      "execution_count": null,
      "metadata": {
        "colab": {
          "background_save": true
        },
        "id": "0Hb72zAA3UKd"
      },
      "outputs": [],
      "source": [
        "categorical_transformer = Pipeline_imb(steps=[\n",
        "    ('ohe', preprocessing.OneHotEncoder())\n",
        "])\n",
        "\n",
        "ordinal_transformer = Pipeline_imb(steps=[\n",
        "    ('label_encoder', LabelEncoderTransformer())\n",
        "])\n",
        "\n",
        "numeric_transformer = Pipeline_imb(steps=[\n",
        "    ('scaler', StandardScaler())\n",
        "])\n",
        "\n",
        "xgb_pipeline_5 = Pipeline_imb([\n",
        "    ('preprocessor', ColumnTransformer(transformers=[\n",
        "        ('categorical_transformer', categorical_transformer, cat_feat_5),\n",
        "        ('ordinal_transformer', ordinal_transformer, ord_feat_5),\n",
        "        ('numeric_transformer', numeric_transformer, num_feat_5)\n",
        "    ])),\n",
        "    ('smote', SMOTE(random_state=seed)),\n",
        "    ('xgb_model_5', XGBClassifier(verbosity=0))\n",
        "])\n"
      ]
    },
    {
      "cell_type": "code",
      "execution_count": null,
      "metadata": {
        "colab": {
          "background_save": true
        },
        "id": "1pd0zOkw4kWc"
      },
      "outputs": [],
      "source": [
        "xgb_param_grid_5 = {\n",
        "    'smote__sampling_strategy': [0.8],\n",
        "    'smote__k_neighbors': [5],\n",
        "    'xgb_model_5__n_estimators': [50, 100, 150],  # You can adjust the number of estimators\n",
        "    'xgb_model_5__max_depth': [3,6,12],  # You can configure the max depth\n",
        "    'xgb_model_5__learning_rate': [0.1, 0.01, 0.001],  # You can configure the learning rate\n",
        "    'xgb_model_5__gamma': [0.01]\n",
        "}"
      ]
    },
    {
      "cell_type": "code",
      "execution_count": null,
      "metadata": {
        "colab": {
          "background_save": true
        },
        "id": "tjKTJG1m4mTu"
      },
      "outputs": [],
      "source": [
        "xgb_search_5 = HalvingGridSearchCV(xgb_pipeline_5,\n",
        "                                 xgb_param_grid_5,\n",
        "                                 scoring='f1_weighted',\n",
        "                                 cv=10,\n",
        "                                 verbose=1,\n",
        "                                 n_jobs=-1,\n",
        "                                 random_state=seed)\n",
        "\n",
        "xgb_search_5.fit(X_train_5, y_train_5)"
      ]
    },
    {
      "cell_type": "code",
      "execution_count": null,
      "metadata": {
        "colab": {
          "background_save": true
        },
        "id": "yaTM3ytO4n5L"
      },
      "outputs": [],
      "source": [
        "print('\\nBest hyperparameters:', xgb_search_5.best_params_)"
      ]
    },
    {
      "cell_type": "code",
      "execution_count": null,
      "metadata": {
        "colab": {
          "background_save": true
        },
        "id": "bf0lU0i44pP2"
      },
      "outputs": [],
      "source": [
        "xgb_model_5 = xgb_search_5.best_estimator_"
      ]
    },
    {
      "cell_type": "code",
      "execution_count": null,
      "metadata": {
        "colab": {
          "background_save": true
        },
        "id": "k7erB98E4sVi"
      },
      "outputs": [],
      "source": [
        "X_test_data = X_test_5\n",
        "y_test_data = y_test_5"
      ]
    },
    {
      "cell_type": "code",
      "execution_count": null,
      "metadata": {
        "colab": {
          "background_save": true
        },
        "id": "4qyxnR4n4qzs"
      },
      "outputs": [],
      "source": [
        "sns.set(rc={\"figure.figsize\":(10, 5)})\n",
        "calculation_metrics(xgb_model_5, 'Model 14 - XGBoost() - dataset_5')"
      ]
    },
    {
      "cell_type": "markdown",
      "metadata": {
        "id": "ylwuxxsnr9jy"
      },
      "source": [
        "# Wyniki zbiorcze"
      ]
    },
    {
      "cell_type": "code",
      "execution_count": null,
      "metadata": {
        "colab": {
          "background_save": true
        },
        "id": "RxxsoALCsAHD"
      },
      "outputs": [],
      "source": [
        "top_5_auc_models = metrics_dataframe.sort_values(by='AUC', ascending=False).head(5)\n",
        "top_5_auc_models"
      ]
    },
    {
      "cell_type": "code",
      "execution_count": null,
      "metadata": {
        "colab": {
          "background_save": true
        },
        "id": "sm7DY3fddzNy"
      },
      "outputs": [],
      "source": [
        "stop"
      ]
    },
    {
      "cell_type": "code",
      "execution_count": null,
      "metadata": {
        "colab": {
          "background_save": true
        },
        "id": "5zSLkqRm1v_7"
      },
      "outputs": [],
      "source": [
        "models = [lr_model_3, svm_model_3, lr_model_1a, lr_model, svm_model]\n",
        "model_names = top_5_auc_models['Model']\n",
        "\n",
        "X_test_data_end = [X_test_3, X_test_3, X_test, X_test, X_test]\n",
        "y_test_data_end = [y_test_3, y_test_3, y_test, y_test, y_test]"
      ]
    },
    {
      "cell_type": "code",
      "execution_count": null,
      "metadata": {
        "colab": {
          "background_save": true
        },
        "id": "Bx-dE1QGtKB_"
      },
      "outputs": [],
      "source": [
        "# plt.figure(figsize=(10, 6))\n",
        "\n",
        "# for model, model_name, X_test, y_test in zip(models, model_names, X_test_data, y_test_data):\n",
        "#     predictions_proba = model.predict_proba(X_test)\n",
        "#     fpr, tpr, _ = roc_curve(y_test, predictions_proba[:, 1])\n",
        "#     auc_score = auc(fpr, tpr)\n",
        "#     plt.plot(fpr, tpr, label=f'{model_name} - AUC = {auc_score:.2f}')\n",
        "\n",
        "# plt.plot([0, 1], [0, 1], 'k--')\n",
        "# plt.xlabel('False Positive Rate')\n",
        "# plt.ylabel('True Positive Rate')\n",
        "# plt.title('ROC Curve - Top 5 models')\n",
        "# plt.legend()\n",
        "# plt.show()"
      ]
    },
    {
      "cell_type": "code",
      "execution_count": null,
      "metadata": {
        "colab": {
          "background_save": true
        },
        "id": "rXp4x-6zz0im"
      },
      "outputs": [],
      "source": [
        "plt.figure(figsize=(10, 6))\n",
        "\n",
        "for model, model_name, X_testing, y_testing in zip(models, model_names, X_test_data_end, y_test_data_end):\n",
        "    try:\n",
        "        predictions_proba = model.predict_proba(X_testing)\n",
        "        fpr, tpr, _ = roc_curve(y_testing, predictions_proba[:, 1])\n",
        "        auc_score = auc(fpr, tpr)\n",
        "        plt.plot(fpr, tpr, label=f'{model_name} - AUC = {auc_score:.2f}')\n",
        "    except Exception as e:\n",
        "        print(f\"An error occurred for model {model_name}: {str(e)}\")\n",
        "\n",
        "plt.plot([0, 1], [0, 1], 'k--')\n",
        "plt.xlabel('False Positive Rate')\n",
        "plt.ylabel('True Positive Rate')\n",
        "plt.title('ROC Curve - Top 5 models')\n",
        "plt.legend()\n",
        "plt.show()\n",
        "\n"
      ]
    },
    {
      "cell_type": "code",
      "execution_count": null,
      "metadata": {
        "colab": {
          "background_save": true
        },
        "id": "yh4Oo8e4z0on"
      },
      "outputs": [],
      "source": []
    },
    {
      "cell_type": "markdown",
      "metadata": {
        "id": "Hm6K2bYOXv3E"
      },
      "source": []
    },
    {
      "cell_type": "markdown",
      "metadata": {
        "id": "Irx_9IQXtS0Y"
      },
      "source": []
    }
  ],
  "metadata": {
    "accelerator": "TPU",
    "colab": {
      "toc_visible": true,
      "provenance": [],
      "mount_file_id": "1R9PhatQeH8lr_59Ph0Vi5pcHN_nAGbI8",
      "authorship_tag": "ABX9TyPo9yUw0n4A+ceVPW5Rs48b",
      "include_colab_link": true
    },
    "kernelspec": {
      "display_name": "Python 3",
      "name": "python3"
    },
    "language_info": {
      "name": "python"
    }
  },
  "nbformat": 4,
  "nbformat_minor": 0
}